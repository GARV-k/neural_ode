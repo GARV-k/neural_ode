{
 "cells": [
  {
   "cell_type": "code",
   "execution_count": 1,
   "id": "5b20c5b2",
   "metadata": {},
   "outputs": [
    {
     "name": "stderr",
     "output_type": "stream",
     "text": [
      "WARNING: replacing module Delhi.\n"
     ]
    },
    {
     "data": {
      "text/plain": [
       "plot_extrapolation (generic function with 1 method)"
      ]
     },
     "metadata": {},
     "output_type": "display_data"
    }
   ],
   "source": [
    "using Random\n",
    "using Dates\n",
    "using Optimization\n",
    "using Lux\n",
    "using DiffEqFlux: NeuralODE, ADAMW, swish\n",
    "using DifferentialEquations\n",
    "using ComponentArrays\n",
    "using BSON: @save, @load\n",
    "\n",
    "include(joinpath(\"..\", \"src\", \"delhi.jl\"))\n",
    "include(joinpath(\"..\", \"src\", \"figures.jl\"))\n"
   ]
  },
  {
   "cell_type": "code",
   "execution_count": 2,
   "id": "9bb5151e",
   "metadata": {},
   "outputs": [
    {
     "data": {
      "text/plain": [
       "ResidualBlock"
      ]
     },
     "metadata": {},
     "output_type": "display_data"
    }
   ],
   "source": [
    "\n",
    "\n",
    "# Define a custom residual block\n",
    "mutable struct ResidualBlock\n",
    "    inner_layer::Chain\n",
    "end\n",
    "\n",
    "function ResidualBlock(input_dim, hidden_dim)\n",
    "    return ResidualBlock(Chain(\n",
    "        Dense(input_dim, hidden_dim, swish),\n",
    "        Dense(hidden_dim, input_dim)\n",
    "    ))\n",
    "end\n",
    "\n",
    "# Define your neural network with residual blocks\n",
    "#data_dim = 10  # Adjust this to your input data dimension\n",
    "#swish(x) = x * σ.(x)\n",
    "\n",
    "# To forward pass through the network, just call model(x) where x is your input data.\n"
   ]
  },
  {
   "cell_type": "code",
   "execution_count": 3,
   "id": "d495e272",
   "metadata": {},
   "outputs": [
    {
     "data": {
      "text/plain": [
       "neural_ode (generic function with 1 method)"
      ]
     },
     "metadata": {},
     "output_type": "display_data"
    }
   ],
   "source": [
    "function neural_ode(t, data_dim)\n",
    "    f = Lux.Chain(\n",
    "            Lux.Dense(data_dim, 256, swish),\n",
    "            Lux.Dense(256, 128, swish),\n",
    "            Lux.Dense(128,64,swish),\n",
    "            Lux.Dense(64, 32, swish),\n",
    "            Lux.Dense(32, data_dim)\n",
    "        )\n",
    "\n",
    "    node = NeuralODE(\n",
    "        f, extrema(t), Tsit5(),\n",
    "        saveat=t,\n",
    "        abstol=1e-9, reltol=1e-9\n",
    "    )\n",
    "    \n",
    "    rng = Random.default_rng()\n",
    "    p, state = Lux.setup(rng, f)\n",
    "\n",
    "    return node, ComponentArray(p), state\n",
    "end"
   ]
  },
  {
   "cell_type": "code",
   "execution_count": 4,
   "id": "a80c6f85",
   "metadata": {},
   "outputs": [
    {
     "data": {
      "text/plain": [
       "train_one_round (generic function with 2 methods)"
      ]
     },
     "metadata": {},
     "output_type": "display_data"
    }
   ],
   "source": [
    "function train_one_round(node, θ, state, y, opt, maxiters, rng, y0=y[:, 1]; kwargs...)\n",
    "    predict(θ) = Array(node(y0, θ, state)[1])\n",
    "    loss(θ) = sum(abs2, predict(θ) .- y)\n",
    "    \n",
    "    adtype = Optimization.AutoZygote()\n",
    "    optf = OptimizationFunction((θ, p) -> loss(θ), adtype)\n",
    "    optprob = OptimizationProblem(optf, θ)\n",
    "    res = solve(optprob, opt, maxiters=maxiters; kwargs...)\n",
    "    res.minimizer, state\n",
    "end\n"
   ]
  },
  {
   "cell_type": "code",
   "execution_count": 5,
   "id": "fba37566",
   "metadata": {},
   "outputs": [
    {
     "data": {
      "text/plain": [
       "train (generic function with 3 methods)"
      ]
     },
     "metadata": {},
     "output_type": "display_data"
    }
   ],
   "source": [
    "function train(t, y, obs_grid, maxiters, lr, rng, θ=nothing, state=nothing; kwargs...)\n",
    "    log_results(θs, losses) =\n",
    "        (θ, loss) -> begin\n",
    "        push!(θs, copy(θ))\n",
    "        push!(losses, loss)\n",
    "        false\n",
    "    end\n",
    "\n",
    "    θs, losses = ComponentArray[], Float32[]\n",
    "    for k in obs_grid\n",
    "        node, θ_new, state_new = neural_ode(t, size(y, 1))\n",
    "        if θ === nothing θ = θ_new end\n",
    "        if state === nothing state = state_new end\n",
    "\n",
    "        θ, state = train_one_round(\n",
    "            node, θ, state, y, ADAMW(lr), maxiters, rng;\n",
    "            callback=log_results(θs, losses),\n",
    "            kwargs...\n",
    "        )\n",
    "    end\n",
    "    final_loss=0\n",
    "    θs, state, losses, final_loss\n",
    " \n",
    "end\n",
    "\n"
   ]
  },
  {
   "cell_type": "code",
   "execution_count": 6,
   "id": "5e18d5d2",
   "metadata": {},
   "outputs": [
    {
     "name": "stderr",
     "output_type": "stream",
     "text": [
      "┌ Info: Fitting model...\n",
      "└ @ Main c:\\Users\\SpOoKyJaRvIs\\Desktop\\CSO211 project\\neural-ode-weather-forecast\\scripts\\heavy2.ipynb:1\n"
     ]
    },
    {
     "data": {
      "text/plain": [
       "\"c:\\\\Users\\\\SpOoKyJaRvIs\\\\Desktop\\\\CSO211 project\\\\neural-ode-weather-forecast\\\\scripts\\\\plots\\\\zoomed_pressure.svg\""
      ]
     },
     "metadata": {},
     "output_type": "display_data"
    }
   ],
   "source": [
    "@info \"Fitting model...\"\n",
    "rng = MersenneTwister(123)\n",
    "df = Delhi.load()\n",
    "plt_features = Delhi.plot_features(df)\n",
    "savefig(plt_features, joinpath(\"plots\", \"features.svg\"))\n",
    "\n",
    "df_2016 = filter(x -> x.date < Date(2016, 1, 1), df)\n",
    "plt_2016 = plot(\n",
    "    df_2016.date,\n",
    "    df_2016.meanpressure,\n",
    "    title = \"Mean pressure, before 2016\",\n",
    "    ylabel = Delhi.units[4],\n",
    "    xlabel = \"Time\",\n",
    "    color = 4,\n",
    "    size = (600, 300),\n",
    "    label = nothing,\n",
    "    right_margin=5Plots.mm\n",
    ")\n",
    "savefig(plt_2016, joinpath(\"plots\", \"zoomed_pressure.svg\"))\n"
   ]
  },
  {
   "cell_type": "code",
   "execution_count": 7,
   "id": "7595d719",
   "metadata": {},
   "outputs": [
    {
     "data": {
      "text/plain": [
       "([-1.60579308398432, -1.4367622330383107, -1.267731382092763, -1.0987005311472149, -0.9296696802012057, -0.7606388292556577, -0.5916079783101097, -0.4225771273641006, -0.2535462764185526, -0.08451542547300459, 0.08451542547300459, 0.2535462764185526, 0.4225771273641006, 0.5916079783101097, 0.7606388292556577, 0.9296696802012057, 1.0987005311472149, 1.267731382092763, 1.4367622330383107, 1.60579308398432], [-1.763925125632563 -1.1235556296843154 … 0.9028695693184288 0.8197374527372693; 0.7428026273433367 0.6737312549046214 … 0.09770117510549325 0.007224485672476749; -1.2549872329391258 0.1484330904176096 … 0.17740293507960775 0.2501049921257615; 1.3575622301481491 1.1122878498059419 … -1.1776132360481055 -0.8698951253162611], [1.774823934929868, 1.943854785875416, 2.1128856368214253, 2.2819164877669733, 2.450947338712521, 2.6199781896585304, 2.7890090406040784, 2.9580398915496264, 3.1270707424956354, 3.2961015934411835  …  5.493502655735152, 5.662533506681161, 5.831564357626709, 6.000595208572257, 6.169626059518266, 6.338656910463814, 6.507687761409362, 6.676718612355371, 6.845749463300919, 7.014780314246467], [0.5993503684676721 0.16298266490255592 … -0.20348342992971324 0.7317806567121532; 0.13187113236250197 -0.13998567041267365 … -0.8422665838983205 -1.9573986619710841; 0.4571916301460007 -1.7045417244468233 … 0.8980938434368024 1.0278275757923792; -0.3884420348396531 0.5432510751435583 … 0.4059779413164457 -0.35559069742876687], ([2013.875;;], [0.49300664859163934;;]), ([25.27671416254674; 61.30422906824019; 7.194851184048889; 1007.321897943855;;], [7.484413247165987; 15.784237081943546; 1.8812446147951691; 7.75348347013801;;]))"
      ]
     },
     "metadata": {},
     "output_type": "display_data"
    }
   ],
   "source": [
    "t_train, y_train, t_test, y_test, (t_mean, t_scale), (y_mean, y_scale) = Delhi.preprocess(df)"
   ]
  },
  {
   "cell_type": "code",
   "execution_count": 8,
   "id": "f9a37c57",
   "metadata": {},
   "outputs": [
    {
     "data": {
      "text/plain": [
       "\"c:\\\\Users\\\\SpOoKyJaRvIs\\\\Desktop\\\\CSO211 project\\\\neural-ode-weather-forecast\\\\scripts\\\\plots\\\\train_test_split.svg\""
      ]
     },
     "metadata": {},
     "output_type": "display_data"
    }
   ],
   "source": [
    "plt_split = plot(\n",
    "    reshape(t_train, :), y_train',\n",
    "    linewidth = 3, colors = 1:4,\n",
    "    xlabel = \"Normalized time\", ylabel = \"Normalized values\",\n",
    "    label = nothing, title = \"Pre-processed data\"\n",
    ")\n",
    "plot!(\n",
    "    plt_split, reshape(t_test, :), y_test',\n",
    "    linewidth = 3, linestyle = :dash,\n",
    "    color = [1 2 3 4], label = nothing\n",
    ")\n",
    "\n",
    "plot!(\n",
    "    plt_split, [0], [0], linewidth = 0,\n",
    "    label = \"Train\", color = 1\n",
    ")\n",
    "plot!(\n",
    "    plt_split, [0], [0], linewidth = 0,\n",
    "    linestyle = :dash, label = \"Test\",\n",
    "    color = 1\n",
    ")\n",
    "savefig(plt_split, joinpath(\"plots\", \"train_test_split.svg\"))\n"
   ]
  },
  {
   "cell_type": "code",
   "execution_count": 9,
   "id": "63ce4bd2",
   "metadata": {},
   "outputs": [
    {
     "name": "stderr",
     "output_type": "stream",
     "text": [
      "\r\u001b[32mloss: 146:   1%|█                                       |  ETA: 0:02:23\u001b[39m\u001b[K"
     ]
    },
    {
     "name": "stderr",
     "output_type": "stream",
     "text": [
      "\r\u001b[32mloss: 110:   2%|█                                       |  ETA: 0:02:43\u001b[39m\u001b[K"
     ]
    },
    {
     "name": "stderr",
     "output_type": "stream",
     "text": [
      "\r\u001b[32mloss: 92.3:   3%|██                                     |  ETA: 0:02:52\u001b[39m\u001b[K"
     ]
    },
    {
     "name": "stderr",
     "output_type": "stream",
     "text": [
      "\r\u001b[32mloss: 82.5:   3%|██                                     |  ETA: 0:02:42\u001b[39m\u001b[K"
     ]
    },
    {
     "name": "stderr",
     "output_type": "stream",
     "text": [
      "\r\u001b[32mloss: 76.1:   4%|██                                     |  ETA: 0:02:39\u001b[39m\u001b[K"
     ]
    },
    {
     "name": "stderr",
     "output_type": "stream",
     "text": [
      "\r\u001b[32mloss: 71.7:   5%|██                                     |  ETA: 0:02:38\u001b[39m\u001b[K"
     ]
    },
    {
     "name": "stderr",
     "output_type": "stream",
     "text": [
      "\r\u001b[32mloss: 68.9:   5%|███                                    |  ETA: 0:02:35\u001b[39m\u001b[K"
     ]
    },
    {
     "name": "stderr",
     "output_type": "stream",
     "text": [
      "\r\u001b[32mloss: 67.4:   6%|███                                    |  ETA: 0:02:37\u001b[39m\u001b[K"
     ]
    },
    {
     "name": "stderr",
     "output_type": "stream",
     "text": [
      "\r\u001b[32mloss: 66.8:   7%|███                                    |  ETA: 0:02:51\u001b[39m\u001b[K"
     ]
    },
    {
     "name": "stderr",
     "output_type": "stream",
     "text": [
      "\r\u001b[32mloss: 66.9:   7%|███                                    |  ETA: 0:02:54\u001b[39m\u001b[K"
     ]
    },
    {
     "name": "stderr",
     "output_type": "stream",
     "text": [
      "\r\u001b[32mloss: 67.3:   8%|████                                   |  ETA: 0:03:00\u001b[39m\u001b[K"
     ]
    },
    {
     "name": "stderr",
     "output_type": "stream",
     "text": [
      "\r\u001b[32mloss: 67.6:   9%|████                                   |  ETA: 0:03:04\u001b[39m\u001b[K"
     ]
    },
    {
     "name": "stderr",
     "output_type": "stream",
     "text": [
      "\r\u001b[32mloss: 67.7:   9%|████                                   |  ETA: 0:03:15\u001b[39m"
     ]
    },
    {
     "name": "stderr",
     "output_type": "stream",
     "text": [
      "\u001b[K"
     ]
    },
    {
     "name": "stderr",
     "output_type": "stream",
     "text": [
      "\r\u001b[32mloss: 67.8:  10%|████                                   |  ETA: 0:03:23\u001b[39m\u001b[K"
     ]
    },
    {
     "name": "stderr",
     "output_type": "stream",
     "text": [
      "\r\u001b[32mloss: 67.9:  11%|█████                                  |  ETA: 0:03:36\u001b[39m\u001b[K"
     ]
    },
    {
     "name": "stderr",
     "output_type": "stream",
     "text": [
      "\r\u001b[32mloss: 68.1:  11%|█████                                  |  ETA: 0:03:40\u001b[39m\u001b[K"
     ]
    },
    {
     "name": "stderr",
     "output_type": "stream",
     "text": [
      "\r\u001b[32mloss: 68.2:  12%|█████                                  |  ETA: 0:03:43\u001b[39m\u001b[K"
     ]
    },
    {
     "name": "stderr",
     "output_type": "stream",
     "text": [
      "\r\u001b[32mloss: 68.2:  13%|█████                                  |  ETA: 0:03:47\u001b[39m\u001b[K"
     ]
    },
    {
     "name": "stderr",
     "output_type": "stream",
     "text": [
      "\r\u001b[32mloss: 68.2:  13%|██████                                 |  ETA: 0:03:47\u001b[39m\u001b[K"
     ]
    },
    {
     "name": "stderr",
     "output_type": "stream",
     "text": [
      "\r\u001b[32mloss: 68.2:  14%|██████                                 |  ETA: 0:03:48\u001b[39m\u001b[K"
     ]
    },
    {
     "name": "stderr",
     "output_type": "stream",
     "text": [
      "\r\u001b[32mloss: 68.2:  15%|██████                                 |  ETA: 0:03:51\u001b[39m\u001b[K"
     ]
    },
    {
     "name": "stderr",
     "output_type": "stream",
     "text": [
      "\r\u001b[32mloss: 68.2:  15%|██████                                 |  ETA: 0:03:51\u001b[39m\u001b[K"
     ]
    },
    {
     "name": "stderr",
     "output_type": "stream",
     "text": [
      "\r\u001b[32mloss: 68.2:  16%|███████                                |  ETA: 0:03:53\u001b[39m\u001b[K"
     ]
    },
    {
     "name": "stderr",
     "output_type": "stream",
     "text": [
      "\r\u001b[32mloss: 68.2:  17%|███████                                |  ETA: 0:03:56\u001b[39m\u001b[K"
     ]
    },
    {
     "name": "stderr",
     "output_type": "stream",
     "text": [
      "\r\u001b[32mloss: 68.2:  17%|███████                                |  ETA: 0:04:03\u001b[39m\u001b[K"
     ]
    },
    {
     "name": "stderr",
     "output_type": "stream",
     "text": [
      "\r\u001b[32mloss: 68.1:  18%|████████                               |  ETA: 0:04:09\u001b[39m\u001b[K"
     ]
    },
    {
     "name": "stderr",
     "output_type": "stream",
     "text": [
      "\r\u001b[32mloss: 68.1:  19%|████████                               |  ETA: 0:04:17\u001b[39m\u001b[K"
     ]
    },
    {
     "name": "stderr",
     "output_type": "stream",
     "text": [
      "\r\u001b[32mloss: 68.1:  19%|████████                               |  ETA: 0:04:19\u001b[39m\u001b[K"
     ]
    },
    {
     "name": "stderr",
     "output_type": "stream",
     "text": [
      "\r\u001b[32mloss: 68.1:  20%|████████                               |  ETA: 0:04:21\u001b[39m\u001b[K"
     ]
    },
    {
     "name": "stderr",
     "output_type": "stream",
     "text": [
      "\r\u001b[32mloss: 68.1:  21%|█████████                              |  ETA: 0:04:23\u001b[39m\u001b[K"
     ]
    },
    {
     "name": "stderr",
     "output_type": "stream",
     "text": [
      "\r\u001b[32mloss: 68.1:  21%|█████████                              |  ETA: 0:04:24\u001b[39m\u001b[K"
     ]
    },
    {
     "name": "stderr",
     "output_type": "stream",
     "text": [
      "\r\u001b[32mloss: 68.1:  22%|█████████                              |  ETA: 0:04:24\u001b[39m\u001b[K"
     ]
    },
    {
     "name": "stderr",
     "output_type": "stream",
     "text": [
      "\r\u001b[32mloss: 68.1:  23%|█████████                              |  ETA: 0:04:27\u001b[39m\u001b[K"
     ]
    },
    {
     "name": "stderr",
     "output_type": "stream",
     "text": [
      "\r\u001b[32mloss: 68.1:  23%|██████████                             |  ETA: 0:04:30\u001b[39m\u001b[K"
     ]
    },
    {
     "name": "stderr",
     "output_type": "stream",
     "text": [
      "\r\u001b[32mloss: 68.1:  24%|██████████                             |  ETA: 0:04:32\u001b[39m\u001b[K"
     ]
    },
    {
     "name": "stderr",
     "output_type": "stream",
     "text": [
      "\r\u001b[32mloss: 68.1:  25%|██████████                             |  ETA: 0:04:32\u001b[39m\u001b[K"
     ]
    },
    {
     "name": "stderr",
     "output_type": "stream",
     "text": [
      "\r\u001b[32mloss: 68.1:  25%|██████████                             |  ETA: 0:04:31\u001b[39m\u001b[K"
     ]
    },
    {
     "name": "stderr",
     "output_type": "stream",
     "text": [
      "\r\u001b[32mloss: 68.1:  26%|███████████                            |  ETA: 0:04:30\u001b[39m\u001b[K"
     ]
    },
    {
     "name": "stderr",
     "output_type": "stream",
     "text": [
      "\r\u001b[32mloss: 68.1:  27%|███████████                            |  ETA: 0:04:29\u001b[39m\u001b[K"
     ]
    },
    {
     "name": "stderr",
     "output_type": "stream",
     "text": [
      "\r\u001b[32mloss: 68.1:  27%|███████████                            |  ETA: 0:04:27\u001b[39m\u001b[K"
     ]
    },
    {
     "name": "stderr",
     "output_type": "stream",
     "text": [
      "\r\u001b[32mloss: 68:  28%|████████████                             |  ETA: 0:04:24\u001b[39m\u001b[K"
     ]
    },
    {
     "name": "stderr",
     "output_type": "stream",
     "text": [
      "\r\u001b[32mloss: 68:  29%|████████████                             |  ETA: 0:04:23\u001b[39m\u001b[K"
     ]
    },
    {
     "name": "stderr",
     "output_type": "stream",
     "text": [
      "\r\u001b[32mloss: 68:  29%|█████████████                            |  ETA: 0:04:20\u001b[39m\u001b[K"
     ]
    },
    {
     "name": "stderr",
     "output_type": "stream",
     "text": [
      "\r\u001b[32mloss: 68:  30%|█████████████                            |  ETA: 0:04:18\u001b[39m\u001b[K"
     ]
    },
    {
     "name": "stderr",
     "output_type": "stream",
     "text": [
      "\r\u001b[32mloss: 68:  31%|█████████████                            |  ETA: 0:04:17\u001b[39m\u001b[K"
     ]
    },
    {
     "name": "stderr",
     "output_type": "stream",
     "text": [
      "\r\u001b[32mloss: 68:  31%|█████████████                            |  ETA: 0:04:15\u001b[39m\u001b[K"
     ]
    },
    {
     "name": "stderr",
     "output_type": "stream",
     "text": [
      "\r\u001b[32mloss: 68:  32%|██████████████                           |  ETA: 0:04:14\u001b[39m\u001b[K"
     ]
    },
    {
     "name": "stderr",
     "output_type": "stream",
     "text": [
      "\r\u001b[32mloss: 67.9:  33%|█████████████                          |  ETA: 0:04:13\u001b[39m\u001b[K"
     ]
    },
    {
     "name": "stderr",
     "output_type": "stream",
     "text": [
      "\r\u001b[32mloss: 67.9:  33%|█████████████                          |  ETA: 0:04:11\u001b[39m\u001b[K"
     ]
    },
    {
     "name": "stderr",
     "output_type": "stream",
     "text": [
      "\r\u001b[32mloss: 67.9:  34%|██████████████                         |  ETA: 0:04:08\u001b[39m\u001b[K"
     ]
    },
    {
     "name": "stderr",
     "output_type": "stream",
     "text": [
      "\r\u001b[32mloss: 67.9:  35%|██████████████                         |  ETA: 0:04:08\u001b[39m\u001b[K"
     ]
    },
    {
     "name": "stderr",
     "output_type": "stream",
     "text": [
      "\r\u001b[32mloss: 67.8:  35%|██████████████                         |  ETA: 0:04:07\u001b[39m\u001b[K"
     ]
    },
    {
     "name": "stderr",
     "output_type": "stream",
     "text": [
      "\r\u001b[32mloss: 67.8:  36%|███████████████                        |  ETA: 0:04:07\u001b[39m\u001b[K"
     ]
    },
    {
     "name": "stderr",
     "output_type": "stream",
     "text": [
      "\r\u001b[32mloss: 67.8:  37%|███████████████                        |  ETA: 0:04:06\u001b[39m\u001b[K"
     ]
    },
    {
     "name": "stderr",
     "output_type": "stream",
     "text": [
      "\r\u001b[32mloss: 67.7:  37%|███████████████                        |  ETA: 0:04:03\u001b[39m\u001b[K"
     ]
    },
    {
     "name": "stderr",
     "output_type": "stream",
     "text": [
      "\r\u001b[32mloss: 67.7:  38%|███████████████                        |  ETA: 0:04:00\u001b[39m\u001b[K"
     ]
    },
    {
     "name": "stderr",
     "output_type": "stream",
     "text": [
      "\r\u001b[32mloss: 67.6:  39%|████████████████                       |  ETA: 0:03:58\u001b[39m\u001b[K"
     ]
    },
    {
     "name": "stderr",
     "output_type": "stream",
     "text": [
      "\r\u001b[32mloss: 67.6:  39%|████████████████                       |  ETA: 0:03:56\u001b[39m\u001b[K"
     ]
    },
    {
     "name": "stderr",
     "output_type": "stream",
     "text": [
      "\r\u001b[32mloss: 67.5:  40%|████████████████                       |  ETA: 0:03:53\u001b[39m\u001b[K"
     ]
    },
    {
     "name": "stderr",
     "output_type": "stream",
     "text": [
      "\r\u001b[32mloss: 67.4:  41%|████████████████                       |  ETA: 0:03:51\u001b[39m\u001b[K"
     ]
    },
    {
     "name": "stderr",
     "output_type": "stream",
     "text": [
      "\r\u001b[32mloss: 67.4:  41%|█████████████████                      |  ETA: 0:03:47\u001b[39m\u001b[K"
     ]
    },
    {
     "name": "stderr",
     "output_type": "stream",
     "text": [
      "\r\u001b[32mloss: 67.3:  42%|█████████████████                      |  ETA: 0:03:44\u001b[39m\u001b[K"
     ]
    },
    {
     "name": "stderr",
     "output_type": "stream",
     "text": [
      "\r\u001b[32mloss: 67.2:  43%|█████████████████                      |  ETA: 0:03:42\u001b[39m\u001b[K"
     ]
    },
    {
     "name": "stderr",
     "output_type": "stream",
     "text": [
      "\r\u001b[32mloss: 67:  43%|██████████████████                       |  ETA: 0:03:38\u001b[39m\u001b[K"
     ]
    },
    {
     "name": "stderr",
     "output_type": "stream",
     "text": [
      "\r\u001b[32mloss: 66.9:  44%|██████████████████                     |  ETA: 0:03:35\u001b[39m\u001b[K"
     ]
    },
    {
     "name": "stderr",
     "output_type": "stream",
     "text": [
      "\r\u001b[32mloss: 66.8:  45%|██████████████████                     |  ETA: 0:03:33\u001b[39m\u001b[K"
     ]
    },
    {
     "name": "stderr",
     "output_type": "stream",
     "text": [
      "\r\u001b[32mloss: 66.6:  45%|██████████████████                     |  ETA: 0:03:30\u001b[39m\u001b[K"
     ]
    },
    {
     "name": "stderr",
     "output_type": "stream",
     "text": [
      "\r\u001b[32mloss: 66.4:  46%|██████████████████                     |  ETA: 0:03:27\u001b[39m\u001b[K"
     ]
    },
    {
     "name": "stderr",
     "output_type": "stream",
     "text": [
      "\r\u001b[32mloss: 66.3:  47%|███████████████████                    |  ETA: 0:03:24\u001b[39m\u001b[K"
     ]
    },
    {
     "name": "stderr",
     "output_type": "stream",
     "text": [
      "\r\u001b[32mloss: 66.1:  47%|███████████████████                    |  ETA: 0:03:21\u001b[39m\u001b[K"
     ]
    },
    {
     "name": "stderr",
     "output_type": "stream",
     "text": [
      "\r\u001b[32mloss: 65.9:  48%|███████████████████                    |  ETA: 0:03:18\u001b[39m\u001b[K"
     ]
    },
    {
     "name": "stderr",
     "output_type": "stream",
     "text": [
      "\r\u001b[32mloss: 65.8:  49%|███████████████████                    |  ETA: 0:03:17\u001b[39m\u001b[K"
     ]
    },
    {
     "name": "stderr",
     "output_type": "stream",
     "text": [
      "\r\u001b[32mloss: 65.7:  49%|████████████████████                   |  ETA: 0:03:14\u001b[39m\u001b[K"
     ]
    },
    {
     "name": "stderr",
     "output_type": "stream",
     "text": [
      "\r\u001b[32mloss: 65.7:  50%|████████████████████                   |  ETA: 0:03:11\u001b[39m\u001b[K"
     ]
    },
    {
     "name": "stderr",
     "output_type": "stream",
     "text": [
      "\r\u001b[32mloss: 65.8:  51%|████████████████████                   |  ETA: 0:03:08\u001b[39m\u001b[K"
     ]
    },
    {
     "name": "stderr",
     "output_type": "stream",
     "text": [
      "\r\u001b[32mloss: 65.9:  51%|█████████████████████                  |  ETA: 0:03:05\u001b[39m\u001b[K"
     ]
    },
    {
     "name": "stderr",
     "output_type": "stream",
     "text": [
      "\r\u001b[32mloss: 65.9:  52%|█████████████████████                  |  ETA: 0:03:03\u001b[39m\u001b[K"
     ]
    },
    {
     "name": "stderr",
     "output_type": "stream",
     "text": [
      "\r\u001b[32mloss: 65.9:  53%|█████████████████████                  |  ETA: 0:03:01\u001b[39m\u001b[K"
     ]
    },
    {
     "name": "stderr",
     "output_type": "stream",
     "text": [
      "\r\u001b[32mloss: 65.8:  53%|█████████████████████                  |  ETA: 0:02:57\u001b[39m\u001b[K"
     ]
    },
    {
     "name": "stderr",
     "output_type": "stream",
     "text": [
      "\r\u001b[32mloss: 65.7:  54%|██████████████████████                 |  ETA: 0:02:54\u001b[39m\u001b[K\r\u001b[32mloss: 65.6:  55%|██████████████████████                 |  ETA: 0:02:51\u001b[39m\u001b[K"
     ]
    },
    {
     "name": "stderr",
     "output_type": "stream",
     "text": [
      "\r\u001b[32mloss: 65.5:  55%|██████████████████████                 |  ETA: 0:02:48\u001b[39m\u001b[K"
     ]
    },
    {
     "name": "stderr",
     "output_type": "stream",
     "text": [
      "\r\u001b[32mloss: 65.5:  56%|██████████████████████                 |  ETA: 0:02:44\u001b[39m\u001b[K"
     ]
    },
    {
     "name": "stderr",
     "output_type": "stream",
     "text": [
      "\r\u001b[32mloss: 65.5:  57%|███████████████████████                |  ETA: 0:02:42\u001b[39m\u001b[K"
     ]
    },
    {
     "name": "stderr",
     "output_type": "stream",
     "text": [
      "\r\u001b[32mloss: 65.5:  57%|███████████████████████                |  ETA: 0:02:38\u001b[39m\u001b[K"
     ]
    },
    {
     "name": "stderr",
     "output_type": "stream",
     "text": [
      "\r\u001b[32mloss: 65.5:  58%|███████████████████████                |  ETA: 0:02:35\u001b[39m\u001b[K"
     ]
    },
    {
     "name": "stderr",
     "output_type": "stream",
     "text": [
      "\r\u001b[32mloss: 65.5:  59%|███████████████████████                |  ETA: 0:02:33\u001b[39m\u001b[K"
     ]
    },
    {
     "name": "stderr",
     "output_type": "stream",
     "text": [
      "\r\u001b[32mloss: 65.5:  59%|████████████████████████               |  ETA: 0:02:30\u001b[39m\u001b[K"
     ]
    },
    {
     "name": "stderr",
     "output_type": "stream",
     "text": [
      "\r\u001b[32mloss: 65.5:  60%|████████████████████████               |  ETA: 0:02:27\u001b[39m\u001b[K"
     ]
    },
    {
     "name": "stderr",
     "output_type": "stream",
     "text": [
      "\r\u001b[32mloss: 65.4:  61%|████████████████████████               |  ETA: 0:02:26\u001b[39m\u001b[K"
     ]
    },
    {
     "name": "stderr",
     "output_type": "stream",
     "text": [
      "\r\u001b[32mloss: 65.4:  61%|████████████████████████               |  ETA: 0:02:23\u001b[39m\u001b[K"
     ]
    },
    {
     "name": "stderr",
     "output_type": "stream",
     "text": [
      "\r\u001b[32mloss: 65.3:  62%|█████████████████████████              |  ETA: 0:02:20\u001b[39m\u001b[K"
     ]
    },
    {
     "name": "stderr",
     "output_type": "stream",
     "text": [
      "\r\u001b[32mloss: 65.3:  63%|█████████████████████████              |  ETA: 0:02:17\u001b[39m\u001b[K"
     ]
    },
    {
     "name": "stderr",
     "output_type": "stream",
     "text": [
      "\r\u001b[32mloss: 65.2:  63%|█████████████████████████              |  ETA: 0:02:15\u001b[39m\u001b[K"
     ]
    },
    {
     "name": "stderr",
     "output_type": "stream",
     "text": [
      "\r\u001b[32mloss: 65.2:  64%|█████████████████████████              |  ETA: 0:02:12\u001b[39m\u001b[K"
     ]
    },
    {
     "name": "stderr",
     "output_type": "stream",
     "text": [
      "\r\u001b[32mloss: 65.2:  65%|██████████████████████████             |  ETA: 0:02:09\u001b[39m\u001b[K"
     ]
    },
    {
     "name": "stderr",
     "output_type": "stream",
     "text": [
      "\r\u001b[32mloss: 65.1:  65%|██████████████████████████             |  ETA: 0:02:06\u001b[39m\u001b[K"
     ]
    },
    {
     "name": "stderr",
     "output_type": "stream",
     "text": [
      "\r\u001b[32mloss: 65.1:  66%|██████████████████████████             |  ETA: 0:02:04\u001b[39m\u001b[K"
     ]
    },
    {
     "name": "stderr",
     "output_type": "stream",
     "text": [
      "\r\u001b[32mloss: 65.1:  67%|██████████████████████████             |  ETA: 0:02:01\u001b[39m\u001b[K"
     ]
    },
    {
     "name": "stderr",
     "output_type": "stream",
     "text": [
      "\r\u001b[32mloss: 65:  67%|████████████████████████████             |  ETA: 0:01:59\u001b[39m\u001b[K"
     ]
    },
    {
     "name": "stderr",
     "output_type": "stream",
     "text": [
      "\r\u001b[32mloss: 65:  68%|████████████████████████████             |  ETA: 0:01:56\u001b[39m\u001b[K"
     ]
    },
    {
     "name": "stderr",
     "output_type": "stream",
     "text": [
      "\r\u001b[32mloss: 64.9:  69%|███████████████████████████            |  ETA: 0:01:54\u001b[39m\u001b[K"
     ]
    },
    {
     "name": "stderr",
     "output_type": "stream",
     "text": [
      "\r\u001b[32mloss: 64.8:  69%|████████████████████████████           |  ETA: 0:01:51\u001b[39m\u001b[K"
     ]
    },
    {
     "name": "stderr",
     "output_type": "stream",
     "text": [
      "\r\u001b[32mloss: 64.8:  70%|████████████████████████████           |  ETA: 0:01:48\u001b[39m\u001b[K"
     ]
    },
    {
     "name": "stderr",
     "output_type": "stream",
     "text": [
      "\r\u001b[32mloss: 64.7:  71%|████████████████████████████           |  ETA: 0:01:46\u001b[39m\u001b[K"
     ]
    },
    {
     "name": "stderr",
     "output_type": "stream",
     "text": [
      "\r\u001b[32mloss: 64.6:  71%|████████████████████████████           |  ETA: 0:01:43\u001b[39m\u001b[K"
     ]
    },
    {
     "name": "stderr",
     "output_type": "stream",
     "text": [
      "\r\u001b[32mloss: 64.5:  72%|█████████████████████████████          |  ETA: 0:01:40\u001b[39m\u001b[K"
     ]
    },
    {
     "name": "stderr",
     "output_type": "stream",
     "text": [
      "\r\u001b[32mloss: 64.4:  73%|█████████████████████████████          |  ETA: 0:01:38\u001b[39m\u001b[K"
     ]
    },
    {
     "name": "stderr",
     "output_type": "stream",
     "text": [
      "\r\u001b[32mloss: 64.2:  73%|█████████████████████████████          |  ETA: 0:01:36\u001b[39m\u001b[K"
     ]
    },
    {
     "name": "stderr",
     "output_type": "stream",
     "text": [
      "\r\u001b[32mloss: 64:  74%|███████████████████████████████          |  ETA: 0:01:33\u001b[39m\u001b[K"
     ]
    },
    {
     "name": "stderr",
     "output_type": "stream",
     "text": [
      "\r\u001b[32mloss: 63.9:  75%|██████████████████████████████         |  ETA: 0:01:31\u001b[39m\u001b[K"
     ]
    },
    {
     "name": "stderr",
     "output_type": "stream",
     "text": [
      "\r\u001b[32mloss: 63.6:  75%|██████████████████████████████         |  ETA: 0:01:28\u001b[39m\u001b[K"
     ]
    },
    {
     "name": "stderr",
     "output_type": "stream",
     "text": [
      "\r\u001b[32mloss: 63.4:  76%|██████████████████████████████         |  ETA: 0:01:26\u001b[39m\u001b[K"
     ]
    },
    {
     "name": "stderr",
     "output_type": "stream",
     "text": [
      "\r\u001b[32mloss: 63.2:  77%|██████████████████████████████         |  ETA: 0:01:24\u001b[39m\u001b[K"
     ]
    },
    {
     "name": "stderr",
     "output_type": "stream",
     "text": [
      "\r\u001b[32mloss: 62.9:  77%|███████████████████████████████        |  ETA: 0:01:21\u001b[39m\u001b[K"
     ]
    },
    {
     "name": "stderr",
     "output_type": "stream",
     "text": [
      "\r\u001b[32mloss: 62.6:  78%|███████████████████████████████        |  ETA: 0:01:19\u001b[39m\u001b[K"
     ]
    },
    {
     "name": "stderr",
     "output_type": "stream",
     "text": [
      "\r\u001b[32mloss: 62.3:  79%|███████████████████████████████        |  ETA: 0:01:16\u001b[39m\u001b[K"
     ]
    },
    {
     "name": "stderr",
     "output_type": "stream",
     "text": [
      "\r\u001b[32mloss: 61.9:  79%|███████████████████████████████        |  ETA: 0:01:14\u001b[39m\u001b[K"
     ]
    },
    {
     "name": "stderr",
     "output_type": "stream",
     "text": [
      "\r\u001b[32mloss: 61.5:  80%|████████████████████████████████       |  ETA: 0:01:11\u001b[39m\u001b[K"
     ]
    },
    {
     "name": "stderr",
     "output_type": "stream",
     "text": [
      "\r\u001b[32mloss: 61:  81%|██████████████████████████████████       |  ETA: 0:01:09\u001b[39m\u001b[K"
     ]
    },
    {
     "name": "stderr",
     "output_type": "stream",
     "text": [
      "\r\u001b[32mloss: 60.3:  81%|████████████████████████████████       |  ETA: 0:01:07\u001b[39m\u001b[K"
     ]
    },
    {
     "name": "stderr",
     "output_type": "stream",
     "text": [
      "\r\u001b[32mloss: 59.5:  82%|████████████████████████████████       |  ETA: 0:01:04\u001b[39m\u001b[K"
     ]
    },
    {
     "name": "stderr",
     "output_type": "stream",
     "text": [
      "\r\u001b[32mloss: 58.5:  83%|█████████████████████████████████      |  ETA: 0:01:02\u001b[39m\u001b[K"
     ]
    },
    {
     "name": "stderr",
     "output_type": "stream",
     "text": [
      "\r\u001b[32mloss: 57.3:  83%|█████████████████████████████████      |  ETA: 0:01:00\u001b[39m\u001b[K"
     ]
    },
    {
     "name": "stderr",
     "output_type": "stream",
     "text": [
      "\r\u001b[32mloss: 56.1:  84%|█████████████████████████████████      |  ETA: 0:00:58\u001b[39m\u001b[K"
     ]
    },
    {
     "name": "stderr",
     "output_type": "stream",
     "text": [
      "\r\u001b[32mloss: 55.2:  85%|█████████████████████████████████      |  ETA: 0:00:55\u001b[39m\u001b[K"
     ]
    },
    {
     "name": "stderr",
     "output_type": "stream",
     "text": [
      "\r\u001b[32mloss: 60:  85%|███████████████████████████████████      |  ETA: 0:00:53\u001b[39m\u001b[K"
     ]
    },
    {
     "name": "stderr",
     "output_type": "stream",
     "text": [
      "\r\u001b[32mloss: 61.3:  86%|██████████████████████████████████     |  ETA: 0:00:51\u001b[39m\u001b[K"
     ]
    },
    {
     "name": "stderr",
     "output_type": "stream",
     "text": [
      "\r\u001b[32mloss: 65.5:  87%|██████████████████████████████████     |  ETA: 0:00:49\u001b[39m\u001b[K"
     ]
    },
    {
     "name": "stderr",
     "output_type": "stream",
     "text": [
      "\r\u001b[32mloss: 66.4:  87%|███████████████████████████████████    |  ETA: 0:00:46\u001b[39m\u001b[K"
     ]
    },
    {
     "name": "stderr",
     "output_type": "stream",
     "text": [
      "\r\u001b[32mloss: 66.5:  88%|███████████████████████████████████    |  ETA: 0:00:44\u001b[39m\u001b[K"
     ]
    },
    {
     "name": "stderr",
     "output_type": "stream",
     "text": [
      "\r\u001b[32mloss: 66.6:  89%|███████████████████████████████████    |  ETA: 0:00:41\u001b[39m\u001b[K"
     ]
    },
    {
     "name": "stderr",
     "output_type": "stream",
     "text": [
      "\r\u001b[32mloss: 66.6:  89%|███████████████████████████████████    |  ETA: 0:00:39\u001b[39m\u001b[K"
     ]
    },
    {
     "name": "stderr",
     "output_type": "stream",
     "text": [
      "\r\u001b[32mloss: 66.3:  90%|████████████████████████████████████   |  ETA: 0:00:36\u001b[39m\u001b[K"
     ]
    },
    {
     "name": "stderr",
     "output_type": "stream",
     "text": [
      "\r\u001b[32mloss: 65.8:  91%|████████████████████████████████████   |  ETA: 0:00:34\u001b[39m\u001b[K"
     ]
    },
    {
     "name": "stderr",
     "output_type": "stream",
     "text": [
      "\r\u001b[32mloss: 65.5:  91%|████████████████████████████████████   |  ETA: 0:00:32\u001b[39m\u001b[K"
     ]
    },
    {
     "name": "stderr",
     "output_type": "stream",
     "text": [
      "\r\u001b[32mloss: 65.5:  92%|████████████████████████████████████   |  ETA: 0:00:29\u001b[39m\u001b[K"
     ]
    },
    {
     "name": "stderr",
     "output_type": "stream",
     "text": [
      "\r\u001b[32mloss: 65.4:  93%|█████████████████████████████████████  |  ETA: 0:00:27\u001b[39m\u001b[K"
     ]
    },
    {
     "name": "stderr",
     "output_type": "stream",
     "text": [
      "\r\u001b[32mloss: 65.2:  93%|█████████████████████████████████████  |  ETA: 0:00:25\u001b[39m\u001b[K"
     ]
    },
    {
     "name": "stderr",
     "output_type": "stream",
     "text": [
      "\r\u001b[32mloss: 64.8:  94%|█████████████████████████████████████  |  ETA: 0:00:22\u001b[39m\u001b[K"
     ]
    },
    {
     "name": "stderr",
     "output_type": "stream",
     "text": [
      "\r\u001b[32mloss: 64.7:  95%|█████████████████████████████████████  |  ETA: 0:00:20\u001b[39m\u001b[K"
     ]
    },
    {
     "name": "stderr",
     "output_type": "stream",
     "text": [
      "\r\u001b[32mloss: 64.6:  95%|██████████████████████████████████████ |  ETA: 0:00:17\u001b[39m\u001b[K"
     ]
    },
    {
     "name": "stderr",
     "output_type": "stream",
     "text": [
      "\r\u001b[32mloss: 64.4:  96%|██████████████████████████████████████ |  ETA: 0:00:15\u001b[39m\u001b[K"
     ]
    },
    {
     "name": "stderr",
     "output_type": "stream",
     "text": [
      "\r\u001b[32mloss: 64.1:  97%|██████████████████████████████████████ |  ETA: 0:00:12\u001b[39m\u001b[K"
     ]
    },
    {
     "name": "stderr",
     "output_type": "stream",
     "text": [
      "\r\u001b[32mloss: 63.7:  97%|██████████████████████████████████████ |  ETA: 0:00:10\u001b[39m\u001b[K"
     ]
    },
    {
     "name": "stderr",
     "output_type": "stream",
     "text": [
      "\r\u001b[32mloss: 63.4:  98%|███████████████████████████████████████|  ETA: 0:00:07\u001b[39m\u001b[K"
     ]
    },
    {
     "name": "stderr",
     "output_type": "stream",
     "text": [
      "\r\u001b[32mloss: 63:  99%|█████████████████████████████████████████|  ETA: 0:00:05\u001b[39m\u001b[K"
     ]
    },
    {
     "name": "stderr",
     "output_type": "stream",
     "text": [
      "\r\u001b[32mloss: 62.5:  99%|███████████████████████████████████████|  ETA: 0:00:03\u001b[39m\u001b[K"
     ]
    },
    {
     "name": "stderr",
     "output_type": "stream",
     "text": [
      "\r\u001b[32mloss: 61.8: 100%|███████████████████████████████████████| Time: 0:06:05\u001b[39m\u001b[K\n"
     ]
    },
    {
     "name": "stderr",
     "output_type": "stream",
     "text": [
      "\r\u001b[32mloss: 862:   1%|█                                       |  ETA: 0:09:35\u001b[39m\u001b[K"
     ]
    },
    {
     "name": "stderr",
     "output_type": "stream",
     "text": [
      "\r\u001b[32mloss: 62.7:   2%|█                                      |  ETA: 0:09:13\u001b[39m\u001b[K"
     ]
    },
    {
     "name": "stderr",
     "output_type": "stream",
     "text": [
      "\r\u001b[32mloss: 61:   3%|██                                       |  ETA: 0:08:59\u001b[39m\u001b[K"
     ]
    },
    {
     "name": "stderr",
     "output_type": "stream",
     "text": [
      "\r\u001b[32mloss: 62.4:   3%|██                                     |  ETA: 0:08:30\u001b[39m\u001b[K"
     ]
    },
    {
     "name": "stderr",
     "output_type": "stream",
     "text": [
      "\r\u001b[32mloss: 63.6:   4%|██                                     |  ETA: 0:08:12\u001b[39m\u001b[K"
     ]
    },
    {
     "name": "stderr",
     "output_type": "stream",
     "text": [
      "\r\u001b[32mloss: 64.6:   5%|██                                     |  ETA: 0:08:08\u001b[39m\u001b[K"
     ]
    },
    {
     "name": "stderr",
     "output_type": "stream",
     "text": [
      "\r\u001b[32mloss: 65.4:   5%|███                                    |  ETA: 0:07:51\u001b[39m\u001b[K"
     ]
    },
    {
     "name": "stderr",
     "output_type": "stream",
     "text": [
      "\r\u001b[32mloss: 66.1:   6%|███                                    |  ETA: 0:07:42\u001b[39m\u001b[K"
     ]
    },
    {
     "name": "stderr",
     "output_type": "stream",
     "text": [
      "\r\u001b[32mloss: 66.7:   7%|███                                    |  ETA: 0:07:39\u001b[39m\u001b[K"
     ]
    },
    {
     "name": "stderr",
     "output_type": "stream",
     "text": [
      "\r\u001b[32mloss: 67.1:   7%|███                                    |  ETA: 0:07:29\u001b[39m\u001b[K"
     ]
    },
    {
     "name": "stderr",
     "output_type": "stream",
     "text": [
      "\r\u001b[32mloss: 67.4:   8%|████                                   |  ETA: 0:07:21\u001b[39m\u001b[K"
     ]
    },
    {
     "name": "stderr",
     "output_type": "stream",
     "text": [
      "\r\u001b[32mloss: 67.6:   9%|████                                   |  ETA: 0:07:20\u001b[39m\u001b[K"
     ]
    },
    {
     "name": "stderr",
     "output_type": "stream",
     "text": [
      "\r\u001b[32mloss: 67.7:   9%|████                                   |  ETA: 0:07:14\u001b[39m\u001b[K"
     ]
    },
    {
     "name": "stderr",
     "output_type": "stream",
     "text": [
      "\r\u001b[32mloss: 67.7:  10%|████                                   |  ETA: 0:07:08\u001b[39m\u001b[K"
     ]
    },
    {
     "name": "stderr",
     "output_type": "stream",
     "text": [
      "\r\u001b[32mloss: 67.7:  11%|█████                                  |  ETA: 0:07:13\u001b[39m\u001b[K"
     ]
    },
    {
     "name": "stderr",
     "output_type": "stream",
     "text": [
      "\r\u001b[32mloss: 67.6:  11%|█████                                  |  ETA: 0:07:05\u001b[39m\u001b[K"
     ]
    },
    {
     "name": "stderr",
     "output_type": "stream",
     "text": [
      "\r\u001b[32mloss: 67.5:  12%|█████                                  |  ETA: 0:06:57\u001b[39m\u001b[K"
     ]
    },
    {
     "name": "stderr",
     "output_type": "stream",
     "text": [
      "\r\u001b[32mloss: 67.4:  13%|█████                                  |  ETA: 0:06:52\u001b[39m\u001b[K"
     ]
    },
    {
     "name": "stderr",
     "output_type": "stream",
     "text": [
      "\r\u001b[32mloss: 67.3:  13%|██████                                 |  ETA: 0:06:44\u001b[39m\u001b[K"
     ]
    },
    {
     "name": "stderr",
     "output_type": "stream",
     "text": [
      "\r\u001b[32mloss: 67.2:  14%|██████                                 |  ETA: 0:06:40\u001b[39m\u001b[K"
     ]
    },
    {
     "name": "stderr",
     "output_type": "stream",
     "text": [
      "\r\u001b[32mloss: 67.1:  15%|██████                                 |  ETA: 0:06:44\u001b[39m\u001b[K"
     ]
    },
    {
     "name": "stderr",
     "output_type": "stream",
     "text": [
      "\r\u001b[32mloss: 67.1:  15%|██████                                 |  ETA: 0:06:43\u001b[39m\u001b[K"
     ]
    },
    {
     "name": "stderr",
     "output_type": "stream",
     "text": [
      "\r\u001b[32mloss: 67:  16%|███████                                  |  ETA: 0:06:43\u001b[39m\u001b[K"
     ]
    },
    {
     "name": "stderr",
     "output_type": "stream",
     "text": [
      "\r\u001b[32mloss: 67:  17%|███████                                  |  ETA: 0:06:42\u001b[39m\u001b[K"
     ]
    },
    {
     "name": "stderr",
     "output_type": "stream",
     "text": [
      "\r\u001b[32mloss: 66.9:  17%|███████                                |  ETA: 0:06:38\u001b[39m\u001b[K"
     ]
    },
    {
     "name": "stderr",
     "output_type": "stream",
     "text": [
      "\r\u001b[32mloss: 66.9:  18%|████████                               |  ETA: 0:06:36\u001b[39m\u001b[K"
     ]
    },
    {
     "name": "stderr",
     "output_type": "stream",
     "text": [
      "\r\u001b[32mloss: 66.9:  19%|████████                               |  ETA: 0:06:38\u001b[39m\u001b[K"
     ]
    },
    {
     "name": "stderr",
     "output_type": "stream",
     "text": [
      "\r\u001b[32mloss: 66.9:  19%|████████                               |  ETA: 0:06:33\u001b[39m\u001b[K"
     ]
    },
    {
     "name": "stderr",
     "output_type": "stream",
     "text": [
      "\r\u001b[32mloss: 66.9:  20%|████████                               |  ETA: 0:06:27\u001b[39m\u001b[K"
     ]
    },
    {
     "name": "stderr",
     "output_type": "stream",
     "text": [
      "\r\u001b[32mloss: 66.9:  21%|█████████                              |  ETA: 0:06:23\u001b[39m\u001b[K"
     ]
    },
    {
     "name": "stderr",
     "output_type": "stream",
     "text": [
      "\r\u001b[32mloss: 66.8:  21%|█████████                              |  ETA: 0:06:17\u001b[39m\u001b[K"
     ]
    },
    {
     "name": "stderr",
     "output_type": "stream",
     "text": [
      "\r\u001b[32mloss: 66.8:  22%|█████████                              |  ETA: 0:06:11\u001b[39m\u001b[K"
     ]
    },
    {
     "name": "stderr",
     "output_type": "stream",
     "text": [
      "\r\u001b[32mloss: 66.8:  23%|█████████                              |  ETA: 0:06:12\u001b[39m\u001b[K"
     ]
    },
    {
     "name": "stderr",
     "output_type": "stream",
     "text": [
      "\r\u001b[32mloss: 66.7:  23%|██████████                             |  ETA: 0:06:12\u001b[39m\u001b[K"
     ]
    },
    {
     "name": "stderr",
     "output_type": "stream",
     "text": [
      "\r\u001b[32mloss: 66.6:  24%|██████████                             |  ETA: 0:06:09\u001b[39m\u001b[K"
     ]
    },
    {
     "name": "stderr",
     "output_type": "stream",
     "text": [
      "\r\u001b[32mloss: 66.6:  25%|██████████                             |  ETA: 0:06:08\u001b[39m\u001b[K"
     ]
    },
    {
     "name": "stderr",
     "output_type": "stream",
     "text": [
      "\r\u001b[32mloss: 66.5:  25%|██████████                             |  ETA: 0:06:06\u001b[39m\u001b[K"
     ]
    },
    {
     "name": "stderr",
     "output_type": "stream",
     "text": [
      "\r\u001b[32mloss: 66.5:  26%|███████████                            |  ETA: 0:06:01\u001b[39m\u001b[K"
     ]
    },
    {
     "name": "stderr",
     "output_type": "stream",
     "text": [
      "\r\u001b[32mloss: 66.4:  27%|███████████                            |  ETA: 0:05:58\u001b[39m\u001b[K"
     ]
    },
    {
     "name": "stderr",
     "output_type": "stream",
     "text": [
      "\r\u001b[32mloss: 66.4:  27%|███████████                            |  ETA: 0:05:52\u001b[39m\u001b[K"
     ]
    },
    {
     "name": "stderr",
     "output_type": "stream",
     "text": [
      "\r\u001b[32mloss: 66.3:  28%|███████████                            |  ETA: 0:05:48\u001b[39m\u001b[K"
     ]
    },
    {
     "name": "stderr",
     "output_type": "stream",
     "text": [
      "\r\u001b[32mloss: 66.3:  29%|████████████                           |  ETA: 0:05:44\u001b[39m\u001b[K"
     ]
    },
    {
     "name": "stderr",
     "output_type": "stream",
     "text": [
      "\r\u001b[32mloss: 66.3:  29%|████████████                           |  ETA: 0:05:39\u001b[39m\u001b[K"
     ]
    },
    {
     "name": "stderr",
     "output_type": "stream",
     "text": [
      "\r\u001b[32mloss: 66.2:  30%|████████████                           |  ETA: 0:05:35\u001b[39m\u001b[K"
     ]
    },
    {
     "name": "stderr",
     "output_type": "stream",
     "text": [
      "\r\u001b[32mloss: 66.2:  31%|████████████                           |  ETA: 0:05:31\u001b[39m\u001b[K"
     ]
    },
    {
     "name": "stderr",
     "output_type": "stream",
     "text": [
      "\r\u001b[32mloss: 66.2:  31%|█████████████                          |  ETA: 0:05:27\u001b[39m\u001b[K"
     ]
    },
    {
     "name": "stderr",
     "output_type": "stream",
     "text": [
      "\r\u001b[32mloss: 66.1:  32%|█████████████                          |  ETA: 0:05:22\u001b[39m\u001b[K"
     ]
    },
    {
     "name": "stderr",
     "output_type": "stream",
     "text": [
      "\r\u001b[32mloss: 66.1:  33%|█████████████                          |  ETA: 0:05:19\u001b[39m\u001b[K"
     ]
    },
    {
     "name": "stderr",
     "output_type": "stream",
     "text": [
      "\r\u001b[32mloss: 66.1:  33%|█████████████                          |  ETA: 0:05:14\u001b[39m\u001b[K"
     ]
    },
    {
     "name": "stderr",
     "output_type": "stream",
     "text": [
      "\r\u001b[32mloss: 66:  34%|██████████████                           |  ETA: 0:05:10\u001b[39m\u001b[K"
     ]
    },
    {
     "name": "stderr",
     "output_type": "stream",
     "text": [
      "\r\u001b[32mloss: 66:  35%|███████████████                          |  ETA: 0:05:07\u001b[39m\u001b[K"
     ]
    },
    {
     "name": "stderr",
     "output_type": "stream",
     "text": [
      "\r\u001b[32mloss: 65.9:  35%|██████████████                         |  ETA: 0:05:02\u001b[39m\u001b[K"
     ]
    },
    {
     "name": "stderr",
     "output_type": "stream",
     "text": [
      "\r\u001b[32mloss: 65.9:  36%|███████████████                        |  ETA: 0:04:58\u001b[39m\u001b[K"
     ]
    },
    {
     "name": "stderr",
     "output_type": "stream",
     "text": [
      "\r\u001b[32mloss: 65.8:  37%|███████████████                        |  ETA: 0:04:55\u001b[39m\u001b[K"
     ]
    },
    {
     "name": "stderr",
     "output_type": "stream",
     "text": [
      "\r\u001b[32mloss: 65.8:  37%|███████████████                        |  ETA: 0:04:50\u001b[39m\u001b[K"
     ]
    },
    {
     "name": "stderr",
     "output_type": "stream",
     "text": [
      "\r\u001b[32mloss: 65.7:  38%|███████████████                        |  ETA: 0:04:46\u001b[39m\u001b[K"
     ]
    },
    {
     "name": "stderr",
     "output_type": "stream",
     "text": [
      "\r\u001b[32mloss: 65.7:  39%|████████████████                       |  ETA: 0:04:43\u001b[39m\u001b[K"
     ]
    },
    {
     "name": "stderr",
     "output_type": "stream",
     "text": [
      "\r\u001b[32mloss: 65.7:  39%|████████████████                       |  ETA: 0:04:39\u001b[39m\u001b[K"
     ]
    },
    {
     "name": "stderr",
     "output_type": "stream",
     "text": [
      "\r\u001b[32mloss: 65.6:  40%|████████████████                       |  ETA: 0:04:35\u001b[39m\u001b[K"
     ]
    },
    {
     "name": "stderr",
     "output_type": "stream",
     "text": [
      "\r\u001b[32mloss: 65.6:  41%|████████████████                       |  ETA: 0:04:32\u001b[39m\u001b[K"
     ]
    },
    {
     "name": "stderr",
     "output_type": "stream",
     "text": [
      "\r\u001b[32mloss: 65.5:  41%|█████████████████                      |  ETA: 0:04:28\u001b[39m\u001b[K"
     ]
    },
    {
     "name": "stderr",
     "output_type": "stream",
     "text": [
      "\r\u001b[32mloss: 65.4:  42%|█████████████████                      |  ETA: 0:04:24\u001b[39m\u001b[K"
     ]
    },
    {
     "name": "stderr",
     "output_type": "stream",
     "text": [
      "\r\u001b[32mloss: 65.4:  43%|█████████████████                      |  ETA: 0:04:20\u001b[39m\u001b[K"
     ]
    },
    {
     "name": "stderr",
     "output_type": "stream",
     "text": [
      "\r\u001b[32mloss: 65.3:  43%|█████████████████                      |  ETA: 0:04:16\u001b[39m\u001b[K"
     ]
    },
    {
     "name": "stderr",
     "output_type": "stream",
     "text": [
      "\r\u001b[32mloss: 65.3:  44%|██████████████████                     |  ETA: 0:04:13\u001b[39m\u001b[K"
     ]
    },
    {
     "name": "stderr",
     "output_type": "stream",
     "text": [
      "\r\u001b[32mloss: 65.2:  45%|██████████████████                     |  ETA: 0:04:09\u001b[39m\u001b[K"
     ]
    },
    {
     "name": "stderr",
     "output_type": "stream",
     "text": [
      "\r\u001b[32mloss: 65.1:  45%|██████████████████                     |  ETA: 0:04:05\u001b[39m\u001b[K"
     ]
    },
    {
     "name": "stderr",
     "output_type": "stream",
     "text": [
      "\r\u001b[32mloss: 65.1:  46%|██████████████████                     |  ETA: 0:04:01\u001b[39m\u001b[K"
     ]
    },
    {
     "name": "stderr",
     "output_type": "stream",
     "text": [
      "\r\u001b[32mloss: 65:  47%|████████████████████                     |  ETA: 0:03:59\u001b[39m\u001b[K"
     ]
    },
    {
     "name": "stderr",
     "output_type": "stream",
     "text": [
      "\r\u001b[32mloss: 64.9:  47%|███████████████████                    |  ETA: 0:03:55\u001b[39m\u001b[K"
     ]
    },
    {
     "name": "stderr",
     "output_type": "stream",
     "text": [
      "\r\u001b[32mloss: 64.9:  48%|███████████████████                    |  ETA: 0:03:51\u001b[39m\u001b[K"
     ]
    },
    {
     "name": "stderr",
     "output_type": "stream",
     "text": [
      "\r\u001b[32mloss: 64.8:  49%|███████████████████                    |  ETA: 0:03:48\u001b[39m\u001b[K"
     ]
    },
    {
     "name": "stderr",
     "output_type": "stream",
     "text": [
      "\r\u001b[32mloss: 64.7:  49%|████████████████████                   |  ETA: 0:03:44\u001b[39m\u001b[K"
     ]
    },
    {
     "name": "stderr",
     "output_type": "stream",
     "text": [
      "\r\u001b[32mloss: 64.6:  50%|████████████████████                   |  ETA: 0:03:41\u001b[39m\u001b[K"
     ]
    },
    {
     "name": "stderr",
     "output_type": "stream",
     "text": [
      "\r\u001b[32mloss: 64.5:  51%|████████████████████                   |  ETA: 0:03:38\u001b[39m\u001b[K"
     ]
    },
    {
     "name": "stderr",
     "output_type": "stream",
     "text": [
      "\r\u001b[32mloss: 64.4:  51%|█████████████████████                  |  ETA: 0:03:34\u001b[39m\u001b[K"
     ]
    },
    {
     "name": "stderr",
     "output_type": "stream",
     "text": [
      "\r\u001b[32mloss: 64.4:  52%|█████████████████████                  |  ETA: 0:03:30\u001b[39m\u001b[K"
     ]
    },
    {
     "name": "stderr",
     "output_type": "stream",
     "text": [
      "\r\u001b[32mloss: 64.3:  53%|█████████████████████                  |  ETA: 0:03:29\u001b[39m\u001b[K"
     ]
    },
    {
     "name": "stderr",
     "output_type": "stream",
     "text": [
      "\r\u001b[32mloss: 64.2:  53%|█████████████████████                  |  ETA: 0:03:36\u001b[39m\u001b[K"
     ]
    },
    {
     "name": "stderr",
     "output_type": "stream",
     "text": [
      "\r\u001b[32mloss: 64.1:  54%|██████████████████████                 |  ETA: 0:03:32\u001b[39m\u001b[K"
     ]
    },
    {
     "name": "stderr",
     "output_type": "stream",
     "text": [
      "\r\u001b[32mloss: 64:  55%|███████████████████████                  |  ETA: 0:03:29\u001b[39m\u001b[K"
     ]
    },
    {
     "name": "stderr",
     "output_type": "stream",
     "text": [
      "\r\u001b[32mloss: 63.8:  55%|██████████████████████                 |  ETA: 0:03:26\u001b[39m\u001b[K"
     ]
    },
    {
     "name": "stderr",
     "output_type": "stream",
     "text": [
      "\r\u001b[32mloss: 63.7:  56%|██████████████████████                 |  ETA: 0:03:22\u001b[39m\u001b[K"
     ]
    },
    {
     "name": "stderr",
     "output_type": "stream",
     "text": [
      "\r\u001b[32mloss: 63.6:  57%|███████████████████████                |  ETA: 0:03:19\u001b[39m\u001b[K"
     ]
    },
    {
     "name": "stderr",
     "output_type": "stream",
     "text": [
      "\r\u001b[32mloss: 63.5:  57%|███████████████████████                |  ETA: 0:03:15\u001b[39m\u001b[K"
     ]
    },
    {
     "name": "stderr",
     "output_type": "stream",
     "text": [
      "\r\u001b[32mloss: 63.4:  58%|███████████████████████                |  ETA: 0:03:11\u001b[39m\u001b[K"
     ]
    },
    {
     "name": "stderr",
     "output_type": "stream",
     "text": [
      "\r\u001b[32mloss: 63.2:  59%|███████████████████████                |  ETA: 0:03:08\u001b[39m\u001b[K"
     ]
    },
    {
     "name": "stderr",
     "output_type": "stream",
     "text": [
      "\r\u001b[32mloss: 63.1:  59%|████████████████████████               |  ETA: 0:03:04\u001b[39m\u001b[K"
     ]
    },
    {
     "name": "stderr",
     "output_type": "stream",
     "text": [
      "\r\u001b[32mloss: 62.9:  60%|████████████████████████               |  ETA: 0:03:00\u001b[39m\u001b[K"
     ]
    },
    {
     "name": "stderr",
     "output_type": "stream",
     "text": [
      "\r\u001b[32mloss: 62.8:  61%|████████████████████████               |  ETA: 0:02:57\u001b[39m\u001b[K"
     ]
    },
    {
     "name": "stderr",
     "output_type": "stream",
     "text": [
      "\r\u001b[32mloss: 62.6:  61%|████████████████████████               |  ETA: 0:02:53\u001b[39m\u001b[K"
     ]
    },
    {
     "name": "stderr",
     "output_type": "stream",
     "text": [
      "\r\u001b[32mloss: 62.5:  62%|█████████████████████████              |  ETA: 0:02:49\u001b[39m\u001b[K"
     ]
    },
    {
     "name": "stderr",
     "output_type": "stream",
     "text": [
      "\r\u001b[32mloss: 62.3:  63%|█████████████████████████              |  ETA: 0:02:46\u001b[39m\u001b[K"
     ]
    },
    {
     "name": "stderr",
     "output_type": "stream",
     "text": [
      "\r\u001b[32mloss: 62.1:  63%|█████████████████████████              |  ETA: 0:02:42\u001b[39m\u001b[K"
     ]
    },
    {
     "name": "stderr",
     "output_type": "stream",
     "text": [
      "\r\u001b[32mloss: 61.8:  64%|█████████████████████████              |  ETA: 0:02:39\u001b[39m\u001b[K"
     ]
    },
    {
     "name": "stderr",
     "output_type": "stream",
     "text": [
      "\r\u001b[32mloss: 61.6:  65%|██████████████████████████             |  ETA: 0:02:36\u001b[39m\u001b[K"
     ]
    },
    {
     "name": "stderr",
     "output_type": "stream",
     "text": [
      "\r\u001b[32mloss: 61.3:  65%|██████████████████████████             |  ETA: 0:02:32\u001b[39m\u001b[K"
     ]
    },
    {
     "name": "stderr",
     "output_type": "stream",
     "text": [
      "\r\u001b[32mloss: 60.9:  66%|██████████████████████████             |  ETA: 0:02:29\u001b[39m\u001b[K"
     ]
    },
    {
     "name": "stderr",
     "output_type": "stream",
     "text": [
      "\r\u001b[32mloss: 60.5:  67%|██████████████████████████             |  ETA: 0:02:26\u001b[39m\u001b[K"
     ]
    },
    {
     "name": "stderr",
     "output_type": "stream",
     "text": [
      "\r\u001b[32mloss: 60.1:  67%|███████████████████████████            |  ETA: 0:02:22\u001b[39m\u001b[K"
     ]
    },
    {
     "name": "stderr",
     "output_type": "stream",
     "text": [
      "\r\u001b[32mloss: 59.5:  68%|███████████████████████████            |  ETA: 0:02:18\u001b[39m\u001b[K"
     ]
    },
    {
     "name": "stderr",
     "output_type": "stream",
     "text": [
      "\r\u001b[32mloss: 58.7:  69%|███████████████████████████            |  ETA: 0:02:15\u001b[39m\u001b[K"
     ]
    },
    {
     "name": "stderr",
     "output_type": "stream",
     "text": [
      "\r\u001b[32mloss: 57.7:  69%|████████████████████████████           |  ETA: 0:02:12\u001b[39m\u001b[K"
     ]
    },
    {
     "name": "stderr",
     "output_type": "stream",
     "text": [
      "\r\u001b[32mloss: 55.6:  70%|████████████████████████████           |  ETA: 0:02:08\u001b[39m\u001b[K"
     ]
    },
    {
     "name": "stderr",
     "output_type": "stream",
     "text": [
      "\r\u001b[32mloss: 50.1:  71%|████████████████████████████           |  ETA: 0:02:05\u001b[39m\u001b[K"
     ]
    },
    {
     "name": "stderr",
     "output_type": "stream",
     "text": [
      "\r\u001b[32mloss: 53.4:  71%|████████████████████████████           |  ETA: 0:02:02\u001b[39m\u001b[K"
     ]
    },
    {
     "name": "stderr",
     "output_type": "stream",
     "text": [
      "\r\u001b[32mloss: 51.1:  72%|█████████████████████████████          |  ETA: 0:01:59\u001b[39m\u001b[K"
     ]
    },
    {
     "name": "stderr",
     "output_type": "stream",
     "text": [
      "\r\u001b[32mloss: 553:  73%|██████████████████████████████          |  ETA: 0:01:59\u001b[39m\u001b[K"
     ]
    },
    {
     "name": "stderr",
     "output_type": "stream",
     "text": [
      "\r\u001b[32mloss: 57.8:  73%|█████████████████████████████          |  ETA: 0:01:56\u001b[39m\u001b[K"
     ]
    },
    {
     "name": "stderr",
     "output_type": "stream",
     "text": [
      "\r\u001b[32mloss: 62.2:  74%|█████████████████████████████          |  ETA: 0:01:52\u001b[39m\u001b[K"
     ]
    },
    {
     "name": "stderr",
     "output_type": "stream",
     "text": [
      "\r\u001b[32mloss: 66.5:  75%|██████████████████████████████         |  ETA: 0:01:49\u001b[39m\u001b[K"
     ]
    },
    {
     "name": "stderr",
     "output_type": "stream",
     "text": [
      "\r\u001b[32mloss: 70.5:  75%|██████████████████████████████         |  ETA: 0:01:46\u001b[39m\u001b[K"
     ]
    },
    {
     "name": "stderr",
     "output_type": "stream",
     "text": [
      "\r\u001b[32mloss: 73.9:  76%|██████████████████████████████         |  ETA: 0:01:43\u001b[39m\u001b[K"
     ]
    },
    {
     "name": "stderr",
     "output_type": "stream",
     "text": [
      "\r\u001b[32mloss: 76.8:  77%|██████████████████████████████         |  ETA: 0:01:41\u001b[39m\u001b[K"
     ]
    },
    {
     "name": "stderr",
     "output_type": "stream",
     "text": [
      "\r\u001b[32mloss: 79.1:  77%|███████████████████████████████        |  ETA: 0:01:38\u001b[39m\u001b[K"
     ]
    },
    {
     "name": "stderr",
     "output_type": "stream",
     "text": [
      "\r\u001b[32mloss: 80.8:  78%|███████████████████████████████        |  ETA: 0:01:35\u001b[39m\u001b[K"
     ]
    },
    {
     "name": "stderr",
     "output_type": "stream",
     "text": [
      "\r\u001b[32mloss: 81.8:  79%|███████████████████████████████        |  ETA: 0:01:32\u001b[39m\u001b[K"
     ]
    },
    {
     "name": "stderr",
     "output_type": "stream",
     "text": [
      "\r\u001b[32mloss: 82.4:  79%|███████████████████████████████        |  ETA: 0:01:30\u001b[39m\u001b[K"
     ]
    },
    {
     "name": "stderr",
     "output_type": "stream",
     "text": [
      "\r\u001b[32mloss: 82.5:  80%|████████████████████████████████       |  ETA: 0:01:27\u001b[39m\u001b[K"
     ]
    },
    {
     "name": "stderr",
     "output_type": "stream",
     "text": [
      "\r\u001b[32mloss: 82.3:  81%|████████████████████████████████       |  ETA: 0:01:24\u001b[39m\u001b[K"
     ]
    },
    {
     "name": "stderr",
     "output_type": "stream",
     "text": [
      "\r\u001b[32mloss: 81.8:  81%|████████████████████████████████       |  ETA: 0:01:21\u001b[39m\u001b[K"
     ]
    },
    {
     "name": "stderr",
     "output_type": "stream",
     "text": [
      "\r\u001b[32mloss: 81.2:  82%|████████████████████████████████       |  ETA: 0:01:19\u001b[39m\u001b[K"
     ]
    },
    {
     "name": "stderr",
     "output_type": "stream",
     "text": [
      "\r\u001b[32mloss: 80.4:  83%|█████████████████████████████████      |  ETA: 0:01:17\u001b[39m\u001b[K"
     ]
    },
    {
     "name": "stderr",
     "output_type": "stream",
     "text": [
      "\r\u001b[32mloss: 79.6:  83%|█████████████████████████████████      |  ETA: 0:01:14\u001b[39m\u001b[K"
     ]
    },
    {
     "name": "stderr",
     "output_type": "stream",
     "text": [
      "\r\u001b[32mloss: 78.8:  84%|█████████████████████████████████      |  ETA: 0:01:11\u001b[39m\u001b[K"
     ]
    },
    {
     "name": "stderr",
     "output_type": "stream",
     "text": [
      "\r\u001b[32mloss: 78.1:  85%|█████████████████████████████████      |  ETA: 0:01:09\u001b[39m\u001b[K"
     ]
    },
    {
     "name": "stderr",
     "output_type": "stream",
     "text": [
      "\r\u001b[32mloss: 77.3:  85%|██████████████████████████████████     |  ETA: 0:01:06\u001b[39m\u001b[K"
     ]
    },
    {
     "name": "stderr",
     "output_type": "stream",
     "text": [
      "\r\u001b[32mloss: 76.6:  86%|██████████████████████████████████     |  ETA: 0:01:04\u001b[39m\u001b[K"
     ]
    },
    {
     "name": "stderr",
     "output_type": "stream",
     "text": [
      "\r\u001b[32mloss: 76:  87%|████████████████████████████████████     |  ETA: 0:01:01\u001b[39m\u001b[K"
     ]
    },
    {
     "name": "stderr",
     "output_type": "stream",
     "text": [
      "\r\u001b[32mloss: 75.5:  87%|███████████████████████████████████    |  ETA: 0:00:58\u001b[39m\u001b[K"
     ]
    },
    {
     "name": "stderr",
     "output_type": "stream",
     "text": [
      "\r\u001b[32mloss: 75:  88%|█████████████████████████████████████    |  ETA: 0:00:55\u001b[39m\u001b[K"
     ]
    },
    {
     "name": "stderr",
     "output_type": "stream",
     "text": [
      "\r\u001b[32mloss: 74.7:  89%|███████████████████████████████████    |  ETA: 0:00:53\u001b[39m\u001b[K"
     ]
    },
    {
     "name": "stderr",
     "output_type": "stream",
     "text": [
      "\r\u001b[32mloss: 74.3:  89%|███████████████████████████████████    |  ETA: 0:00:50\u001b[39m\u001b[K"
     ]
    },
    {
     "name": "stderr",
     "output_type": "stream",
     "text": [
      "\r\u001b[32mloss: 74:  90%|█████████████████████████████████████    |  ETA: 0:00:47\u001b[39m\u001b[K"
     ]
    },
    {
     "name": "stderr",
     "output_type": "stream",
     "text": [
      "\r\u001b[32mloss: 73.8:  91%|████████████████████████████████████   |  ETA: 0:00:44\u001b[39m\u001b[K"
     ]
    },
    {
     "name": "stderr",
     "output_type": "stream",
     "text": [
      "\r\u001b[32mloss: 73.6:  91%|████████████████████████████████████   |  ETA: 0:00:41\u001b[39m\u001b[K"
     ]
    },
    {
     "name": "stderr",
     "output_type": "stream",
     "text": [
      "\r\u001b[32mloss: 73.5:  92%|████████████████████████████████████   |  ETA: 0:00:38\u001b[39m\u001b[K"
     ]
    },
    {
     "name": "stderr",
     "output_type": "stream",
     "text": [
      "\r\u001b[32mloss: 73.3:  93%|█████████████████████████████████████  |  ETA: 0:00:35\u001b[39m\u001b[K"
     ]
    },
    {
     "name": "stderr",
     "output_type": "stream",
     "text": [
      "\r\u001b[32mloss: 73.2:  93%|█████████████████████████████████████  |  ETA: 0:00:32\u001b[39m\u001b[K"
     ]
    },
    {
     "name": "stderr",
     "output_type": "stream",
     "text": [
      "\r\u001b[32mloss: 73.1:  94%|█████████████████████████████████████  |  ETA: 0:00:29\u001b[39m\u001b[K"
     ]
    },
    {
     "name": "stderr",
     "output_type": "stream",
     "text": [
      "\r\u001b[32mloss: 73:  95%|███████████████████████████████████████  |  ETA: 0:00:26\u001b[39m\u001b[K"
     ]
    },
    {
     "name": "stderr",
     "output_type": "stream",
     "text": [
      "\r\u001b[32mloss: 73:  95%|████████████████████████████████████████ |  ETA: 0:00:23\u001b[39m\u001b[K"
     ]
    },
    {
     "name": "stderr",
     "output_type": "stream",
     "text": [
      "\r\u001b[32mloss: 72.9:  96%|██████████████████████████████████████ |  ETA: 0:00:20\u001b[39m\u001b[K"
     ]
    },
    {
     "name": "stderr",
     "output_type": "stream",
     "text": [
      "\r\u001b[32mloss: 72.9:  97%|██████████████████████████████████████ |  ETA: 0:00:17\u001b[39m\u001b[K"
     ]
    },
    {
     "name": "stderr",
     "output_type": "stream",
     "text": [
      "\r\u001b[32mloss: 72.8:  97%|██████████████████████████████████████ |  ETA: 0:00:13\u001b[39m\u001b[K"
     ]
    }
   ],
   "source": [
    "obs_grid = 4:4:length(t_train) # we train on an increasing amount of the first k obs\n",
    "maxiters = 150\n",
    "lr = 5e-3\n",
    "θs, state, losses, final_loss = train(t_train, y_train, obs_grid, maxiters, lr, rng, progress=true);\n",
    "@save \"artefacts/training_output.bson\" θs losses\n",
    "\n",
    "predict(y0, t, θ, state) = begin\n",
    "    node, _, _ = neural_ode(t, length(y0))\n",
    "    ŷ = Array(node(y0, θ, state)[1])\n",
    "end\n"
   ]
  },
  {
   "cell_type": "code",
   "execution_count": null,
   "id": "a34568d3",
   "metadata": {},
   "outputs": [],
   "source": [
    "function plot_pred(\n",
    "    t_train, y_train, t_grid,\n",
    "    rescale_t, rescale_y, num_iters, θ, state, loss, y0=y_train[:, 1]\n",
    ")\n",
    "    ŷ = predict(y0, t_grid, θ, state)\n",
    "    plt = plot_result(\n",
    "        rescale_t(t_train),\n",
    "        rescale_y(y_train),\n",
    "        rescale_t(t_grid),\n",
    "        rescale_y(ŷ),\n",
    "        loss,\n",
    "        num_iters\n",
    "    )\n",
    "end\n",
    "\n",
    "@info \"Generating training animation...\"\n",
    "num_iters = length(losses)\n",
    "t_train_grid = collect(range(extrema(t_train)..., length=500))\n",
    "rescale_t(x) = t_scale .* x .+ t_mean\n",
    "rescale_y(x) = y_scale .* x .+ y_mean\n",
    "plot_frame(t, y, θ, loss) = plot_pred(\n",
    "    t, y, t_train_grid, rescale_t, rescale_y, num_iters, θ, state, loss\n",
    ")\n",
    "anim = animate_training(plot_frame, t_train, y_train, θs, losses, obs_grid);\n",
    "gif(anim, \"plots/training.gif\")\n",
    "\n",
    "@info \"Generating extrapolation plot...\"\n",
    "t_grid = collect(range(minimum(t_train), maximum(t_test), length=500))\n",
    "ŷ = predict(y_train[:,1], t_grid, θs[end], state)\n",
    "plt_ext = plot_extrapolation(\n",
    "    rescale_t(t_train),\n",
    "    rescale_y(y_train),\n",
    "    rescale_t(t_test),\n",
    "    rescale_y(y_test),\n",
    "    rescale_t(t_grid),\n",
    "    rescale_y(ŷ)\n",
    ");\n",
    "savefig(plt_ext, \"plots/extrapolation.svg\")\n",
    "\n",
    "@info \"Done!\""
   ]
  },
  {
   "cell_type": "code",
   "execution_count": null,
   "id": "aecc358a",
   "metadata": {
    "scrolled": true
   },
   "outputs": [],
   "source": [
    "ŷ = predict(y_train[:,1], t_test, θs[end], state)"
   ]
  },
  {
   "cell_type": "code",
   "execution_count": null,
   "id": "481827fd",
   "metadata": {},
   "outputs": [],
   "source": [
    "function mean_squared_error(ŷ, y_test)\n",
    "    diff = ŷ - y_test\n",
    "    mse = sum(diff .^ 2) / length(diff)\n",
    "    return mse\n",
    "end"
   ]
  },
  {
   "cell_type": "code",
   "execution_count": null,
   "id": "7bca90c8",
   "metadata": {},
   "outputs": [],
   "source": [
    "mean_squared_error(ŷ, y_test)"
   ]
  },
  {
   "cell_type": "code",
   "execution_count": null,
   "id": "885c4ba5",
   "metadata": {},
   "outputs": [],
   "source": []
  }
 ],
 "metadata": {
  "kernelspec": {
   "display_name": "Julia 1.9.3",
   "language": "julia",
   "name": "julia-1.9"
  },
  "language_info": {
   "file_extension": ".jl",
   "mimetype": "application/julia",
   "name": "julia",
   "version": "1.9.3"
  }
 },
 "nbformat": 4,
 "nbformat_minor": 5
}
