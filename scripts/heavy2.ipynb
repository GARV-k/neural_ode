{
 "cells": [
  {
   "cell_type": "code",
   "execution_count": 1,
   "id": "5b20c5b2",
   "metadata": {},
   "outputs": [
    {
     "name": "stderr",
     "output_type": "stream",
     "text": [
      "WARNING: replacing module Delhi.\n"
     ]
    },
    {
     "data": {
      "text/plain": [
       "plot_extrapolation (generic function with 1 method)"
      ]
     },
     "metadata": {},
     "output_type": "display_data"
    }
   ],
   "source": [
    "using Random\n",
    "using Dates\n",
    "using Optimization\n",
    "using Lux\n",
    "using DiffEqFlux: NeuralODE, ADAMW, swish\n",
    "using DifferentialEquations\n",
    "using ComponentArrays\n",
    "using BSON: @save, @load\n",
    "\n",
    "include(joinpath(\"..\", \"src\", \"delhi.jl\"))\n",
    "include(joinpath(\"..\", \"src\", \"figures.jl\"))\n"
   ]
  },
  {
   "cell_type": "code",
   "execution_count": 2,
   "id": "9bb5151e",
   "metadata": {},
   "outputs": [
    {
     "data": {
      "text/plain": [
       "ResidualBlock"
      ]
     },
     "metadata": {},
     "output_type": "display_data"
    }
   ],
   "source": [
    "\n",
    "\n",
    "# Define a custom residual block\n",
    "mutable struct ResidualBlock\n",
    "    inner_layer::Chain\n",
    "end\n",
    "\n",
    "function ResidualBlock(input_dim, hidden_dim)\n",
    "    return ResidualBlock(Chain(\n",
    "        Dense(input_dim, hidden_dim, swish),\n",
    "        Dense(hidden_dim, input_dim)\n",
    "    ))\n",
    "end\n",
    "\n",
    "# Define your neural network with residual blocks\n",
    "#data_dim = 10  # Adjust this to your input data dimension\n",
    "#swish(x) = x * σ.(x)\n",
    "\n",
    "# To forward pass through the network, just call model(x) where x is your input data.\n"
   ]
  },
  {
   "cell_type": "code",
   "execution_count": 3,
   "id": "d495e272",
   "metadata": {},
   "outputs": [
    {
     "data": {
      "text/plain": [
       "neural_ode (generic function with 1 method)"
      ]
     },
     "metadata": {},
     "output_type": "display_data"
    }
   ],
   "source": [
    "function neural_ode(t, data_dim)\n",
    "    f = Lux.Chain(\n",
    "            Lux.Dense(data_dim, 256, swish),\n",
    "            Lux.Dense(256, 128, swish),\n",
    "            Lux.Dense(128,64,swish),\n",
    "            Lux.Dense(64, 32, swish),\n",
    "            Lux.Dense(32, data_dim)\n",
    "        )\n",
    "\n",
    "    node = NeuralODE(\n",
    "        f, extrema(t), Tsit5(),\n",
    "        saveat=t,\n",
    "        abstol=1e-9, reltol=1e-9\n",
    "    )\n",
    "    \n",
    "    rng = Random.default_rng()\n",
    "    p, state = Lux.setup(rng, f)\n",
    "\n",
    "    return node, ComponentArray(p), state\n",
    "end"
   ]
  },
  {
   "cell_type": "code",
   "execution_count": 4,
   "id": "a80c6f85",
   "metadata": {},
   "outputs": [
    {
     "data": {
      "text/plain": [
       "train_one_round (generic function with 2 methods)"
      ]
     },
     "metadata": {},
     "output_type": "display_data"
    }
   ],
   "source": [
    "function train_one_round(node, θ, state, y, opt, maxiters, rng, y0=y[:, 1]; kwargs...)\n",
    "    predict(θ) = Array(node(y0, θ, state)[1])\n",
    "    loss(θ) = sum(abs2, predict(θ) .- y)\n",
    "    \n",
    "    adtype = Optimization.AutoZygote()\n",
    "    optf = OptimizationFunction((θ, p) -> loss(θ), adtype)\n",
    "    optprob = OptimizationProblem(optf, θ)\n",
    "    res = solve(optprob, opt, maxiters=maxiters; kwargs...)\n",
    "    res.minimizer, state\n",
    "end\n"
   ]
  },
  {
   "cell_type": "code",
   "execution_count": 5,
   "id": "fba37566",
   "metadata": {},
   "outputs": [
    {
     "data": {
      "text/plain": [
       "train (generic function with 3 methods)"
      ]
     },
     "metadata": {},
     "output_type": "display_data"
    }
   ],
   "source": [
    "function train(t, y, obs_grid, maxiters, lr, rng, θ=nothing, state=nothing; kwargs...)\n",
    "    log_results(θs, losses) =\n",
    "        (θ, loss) -> begin\n",
    "        push!(θs, copy(θ))\n",
    "        push!(losses, loss)\n",
    "        false\n",
    "    end\n",
    "\n",
    "    θs, losses = ComponentArray[], Float32[]\n",
    "    for k in obs_grid\n",
    "        node, θ_new, state_new = neural_ode(t, size(y, 1))\n",
    "        if θ === nothing θ = θ_new end\n",
    "        if state === nothing state = state_new end\n",
    "\n",
    "        θ, state = train_one_round(\n",
    "            node, θ, state, y, ADAMW(lr), maxiters, rng;\n",
    "            callback=log_results(θs, losses),\n",
    "            kwargs...\n",
    "        )\n",
    "    end\n",
    "    final_loss=0\n",
    "    θs, state, losses, final_loss\n",
    " \n",
    "end\n",
    "\n"
   ]
  },
  {
   "cell_type": "code",
   "execution_count": 6,
   "id": "5e18d5d2",
   "metadata": {},
   "outputs": [
    {
     "name": "stderr",
     "output_type": "stream",
     "text": [
      "┌ Info: Fitting model...\n",
      "└ @ Main c:\\Users\\SpOoKyJaRvIs\\Desktop\\CSO211 project\\neural-ode-weather-forecast\\scripts\\heavy2 - Copy.ipynb:1\n"
     ]
    },
    {
     "data": {
      "text/plain": [
       "\"c:\\\\Users\\\\SpOoKyJaRvIs\\\\Desktop\\\\CSO211 project\\\\neural-ode-weather-forecast\\\\scripts\\\\plots\\\\zoomed_pressure.svg\""
      ]
     },
     "metadata": {},
     "output_type": "display_data"
    }
   ],
   "source": [
    "@info \"Fitting model...\"\n",
    "rng = MersenneTwister(123)\n",
    "df = Delhi.load()\n",
    "plt_features = Delhi.plot_features(df)\n",
    "savefig(plt_features, joinpath(\"plots\", \"features.svg\"))\n",
    "\n",
    "df_2016 = filter(x -> x.date < Date(2016, 1, 1), df)\n",
    "plt_2016 = plot(\n",
    "    df_2016.date,\n",
    "    df_2016.meanpressure,\n",
    "    title = \"Mean pressure, before 2016\",\n",
    "    ylabel = Delhi.units[4],\n",
    "    xlabel = \"Time\",\n",
    "    color = 4,\n",
    "    size = (600, 300),\n",
    "    label = nothing,\n",
    "    right_margin=5Plots.mm\n",
    ")\n",
    "savefig(plt_2016, joinpath(\"plots\", \"zoomed_pressure.svg\"))\n"
   ]
  },
  {
   "cell_type": "code",
   "execution_count": 7,
   "id": "7595d719",
   "metadata": {},
   "outputs": [
    {
     "data": {
      "text/plain": [
       "([-1.60579308398432, -1.4367622330383107, -1.267731382092763, -1.0987005311472149, -0.9296696802012057, -0.7606388292556577, -0.5916079783101097, -0.4225771273641006, -0.2535462764185526, -0.08451542547300459, 0.08451542547300459, 0.2535462764185526, 0.4225771273641006, 0.5916079783101097, 0.7606388292556577, 0.9296696802012057, 1.0987005311472149, 1.267731382092763, 1.4367622330383107, 1.60579308398432], [-1.763925125632563 -1.1235556296843154 … 0.9028695693184288 0.8197374527372693; 0.7428026273433367 0.6737312549046214 … 0.09770117510549325 0.007224485672476749; -1.2549872329391258 0.1484330904176096 … 0.17740293507960775 0.2501049921257615; 1.3575622301481491 1.1122878498059419 … -1.1776132360481055 -0.8698951253162611], [1.774823934929868, 1.943854785875416, 2.1128856368214253, 2.2819164877669733, 2.450947338712521, 2.6199781896585304, 2.7890090406040784, 2.9580398915496264, 3.1270707424956354, 3.2961015934411835  …  5.493502655735152, 5.662533506681161, 5.831564357626709, 6.000595208572257, 6.169626059518266, 6.338656910463814, 6.507687761409362, 6.676718612355371, 6.845749463300919, 7.014780314246467], [0.5993503684676721 0.16298266490255592 … -0.20348342992971324 0.7317806567121532; 0.13187113236250197 -0.13998567041267365 … -0.8422665838983205 -1.9573986619710841; 0.4571916301460007 -1.7045417244468233 … 0.8980938434368024 1.0278275757923792; -0.3884420348396531 0.5432510751435583 … 0.4059779413164457 -0.35559069742876687], ([2013.875;;], [0.49300664859163934;;]), ([25.27671416254674; 61.30422906824019; 7.194851184048889; 1007.321897943855;;], [7.484413247165987; 15.784237081943546; 1.8812446147951691; 7.75348347013801;;]))"
      ]
     },
     "metadata": {},
     "output_type": "display_data"
    }
   ],
   "source": [
    "t_train, y_train, t_test, y_test, (t_mean, t_scale), (y_mean, y_scale) = Delhi.preprocess(df)"
   ]
  },
  {
   "cell_type": "code",
   "execution_count": 8,
   "id": "f9a37c57",
   "metadata": {},
   "outputs": [
    {
     "data": {
      "text/plain": [
       "\"c:\\\\Users\\\\SpOoKyJaRvIs\\\\Desktop\\\\CSO211 project\\\\neural-ode-weather-forecast\\\\scripts\\\\plots\\\\train_test_split.svg\""
      ]
     },
     "metadata": {},
     "output_type": "display_data"
    }
   ],
   "source": [
    "plt_split = plot(\n",
    "    reshape(t_train, :), y_train',\n",
    "    linewidth = 3, colors = 1:4,\n",
    "    xlabel = \"Normalized time\", ylabel = \"Normalized values\",\n",
    "    label = nothing, title = \"Pre-processed data\"\n",
    ")\n",
    "plot!(\n",
    "    plt_split, reshape(t_test, :), y_test',\n",
    "    linewidth = 3, linestyle = :dash,\n",
    "    color = [1 2 3 4], label = nothing\n",
    ")\n",
    "\n",
    "plot!(\n",
    "    plt_split, [0], [0], linewidth = 0,\n",
    "    label = \"Train\", color = 1\n",
    ")\n",
    "plot!(\n",
    "    plt_split, [0], [0], linewidth = 0,\n",
    "    linestyle = :dash, label = \"Test\",\n",
    "    color = 1\n",
    ")\n",
    "savefig(plt_split, joinpath(\"plots\", \"train_test_split.svg\"))\n"
   ]
  },
  {
   "cell_type": "code",
   "execution_count": 9,
   "id": "63ce4bd2",
   "metadata": {},
   "outputs": [
    {
     "name": "stderr",
     "output_type": "stream",
     "text": [
      "\r\u001b[32mloss: 209:   2%|█                                       |  ETA: 0:03:36\u001b[39m\u001b[K"
     ]
    },
    {
     "name": "stderr",
     "output_type": "stream",
     "text": [
      "\r\u001b[32mloss: 208:   2%|█                                       |  ETA: 0:04:12\u001b[39m\u001b[K"
     ]
    },
    {
     "name": "stderr",
     "output_type": "stream",
     "text": [
      "\r\u001b[32mloss: 207:   2%|██                                      |  ETA: 0:04:31\u001b[39m\u001b[K"
     ]
    },
    {
     "name": "stderr",
     "output_type": "stream",
     "text": [
      "\r\u001b[32mloss: 206:   3%|██                                      |  ETA: 0:04:40\u001b[39m\u001b[K"
     ]
    },
    {
     "name": "stderr",
     "output_type": "stream",
     "text": [
      "\r\u001b[32mloss: 205:   4%|██                                      |  ETA: 0:04:49\u001b[39m\u001b[K"
     ]
    },
    {
     "name": "stderr",
     "output_type": "stream",
     "text": [
      "\r\u001b[32mloss: 204:   4%|██                                      |  ETA: 0:04:46\u001b[39m\u001b[K"
     ]
    },
    {
     "name": "stderr",
     "output_type": "stream",
     "text": [
      "\r\u001b[32mloss: 203:   4%|██                                      |  ETA: 0:05:06\u001b[39m\u001b[K"
     ]
    },
    {
     "name": "stderr",
     "output_type": "stream",
     "text": [
      "\r\u001b[32mloss: 202:   5%|███                                     |  ETA: 0:05:08\u001b[39m\u001b[K"
     ]
    },
    {
     "name": "stderr",
     "output_type": "stream",
     "text": [
      "\r\u001b[32mloss: 202:   6%|███                                     |  ETA: 0:04:58\u001b[39m\u001b[K"
     ]
    },
    {
     "name": "stderr",
     "output_type": "stream",
     "text": [
      "\r\u001b[32mloss: 201:   6%|███                                     |  ETA: 0:04:55\u001b[39m\u001b[K"
     ]
    },
    {
     "name": "stderr",
     "output_type": "stream",
     "text": [
      "\r\u001b[32mloss: 200:   6%|███                                     |  ETA: 0:04:52\u001b[39m\u001b[K"
     ]
    },
    {
     "name": "stderr",
     "output_type": "stream",
     "text": [
      "\r\u001b[32mloss: 199:   7%|███                                     |  ETA: 0:04:47\u001b[39m\u001b[K"
     ]
    },
    {
     "name": "stderr",
     "output_type": "stream",
     "text": [
      "\r\u001b[32mloss: 198:   8%|████                                    |  ETA: 0:04:43\u001b[39m\u001b[K"
     ]
    },
    {
     "name": "stderr",
     "output_type": "stream",
     "text": [
      "\r\u001b[32mloss: 197:   8%|████                                    |  ETA: 0:04:40\u001b[39m\u001b[K"
     ]
    },
    {
     "name": "stderr",
     "output_type": "stream",
     "text": [
      "\r\u001b[32mloss: 196:   8%|████                                    |  ETA: 0:04:35\u001b[39m\u001b[K"
     ]
    },
    {
     "name": "stderr",
     "output_type": "stream",
     "text": [
      "\r\u001b[32mloss: 195:   9%|████                                    |  ETA: 0:04:30\u001b[39m\u001b[K"
     ]
    },
    {
     "name": "stderr",
     "output_type": "stream",
     "text": [
      "\r\u001b[32mloss: 194:  10%|████                                    |  ETA: 0:04:26\u001b[39m\u001b[K"
     ]
    },
    {
     "name": "stderr",
     "output_type": "stream",
     "text": [
      "\r\u001b[32mloss: 194:  10%|█████                                   |  ETA: 0:04:21\u001b[39m\u001b[K"
     ]
    },
    {
     "name": "stderr",
     "output_type": "stream",
     "text": [
      "\r\u001b[32mloss: 193:  10%|█████                                   |  ETA: 0:04:17\u001b[39m\u001b[K"
     ]
    },
    {
     "name": "stderr",
     "output_type": "stream",
     "text": [
      "\r\u001b[32mloss: 192:  11%|█████                                   |  ETA: 0:04:15\u001b[39m\u001b[K"
     ]
    },
    {
     "name": "stderr",
     "output_type": "stream",
     "text": [
      "\r\u001b[32mloss: 191:  12%|█████                                   |  ETA: 0:04:15\u001b[39m\u001b[K"
     ]
    },
    {
     "name": "stderr",
     "output_type": "stream",
     "text": [
      "\r\u001b[32mloss: 190:  12%|█████                                   |  ETA: 0:04:11\u001b[39m\u001b[K"
     ]
    },
    {
     "name": "stderr",
     "output_type": "stream",
     "text": [
      "\r\u001b[32mloss: 189:  12%|██████                                  |  ETA: 0:04:12\u001b[39m\u001b[K"
     ]
    },
    {
     "name": "stderr",
     "output_type": "stream",
     "text": [
      "\r\u001b[32mloss: 189:  13%|██████                                  |  ETA: 0:04:16\u001b[39m\u001b[K"
     ]
    },
    {
     "name": "stderr",
     "output_type": "stream",
     "text": [
      "\r\u001b[32mloss: 188:  14%|██████                                  |  ETA: 0:04:15\u001b[39m\u001b[K"
     ]
    },
    {
     "name": "stderr",
     "output_type": "stream",
     "text": [
      "\r\u001b[32mloss: 187:  14%|██████                                  |  ETA: 0:04:12\u001b[39m\u001b[K"
     ]
    },
    {
     "name": "stderr",
     "output_type": "stream",
     "text": [
      "\r\u001b[32mloss: 186:  14%|██████                                  |  ETA: 0:04:08\u001b[39m\u001b[K"
     ]
    },
    {
     "name": "stderr",
     "output_type": "stream",
     "text": [
      "\r\u001b[32mloss: 185:  15%|███████                                 |  ETA: 0:04:04\u001b[39m\u001b[K"
     ]
    },
    {
     "name": "stderr",
     "output_type": "stream",
     "text": [
      "\r\u001b[32mloss: 184:  16%|███████                                 |  ETA: 0:04:00\u001b[39m\u001b[K"
     ]
    },
    {
     "name": "stderr",
     "output_type": "stream",
     "text": [
      "\r\u001b[32mloss: 184:  16%|███████                                 |  ETA: 0:03:57\u001b[39m\u001b[K"
     ]
    },
    {
     "name": "stderr",
     "output_type": "stream",
     "text": [
      "\r\u001b[32mloss: 183:  16%|███████                                 |  ETA: 0:03:54\u001b[39m\u001b[K"
     ]
    },
    {
     "name": "stderr",
     "output_type": "stream",
     "text": [
      "\r\u001b[32mloss: 182:  17%|███████                                 |  ETA: 0:03:50\u001b[39m\u001b[K"
     ]
    },
    {
     "name": "stderr",
     "output_type": "stream",
     "text": [
      "\r\u001b[32mloss: 181:  18%|████████                                |  ETA: 0:03:48\u001b[39m\u001b[K"
     ]
    },
    {
     "name": "stderr",
     "output_type": "stream",
     "text": [
      "\r\u001b[32mloss: 180:  18%|████████                                |  ETA: 0:03:46\u001b[39m\u001b[K"
     ]
    },
    {
     "name": "stderr",
     "output_type": "stream",
     "text": [
      "\r\u001b[32mloss: 180:  18%|████████                                |  ETA: 0:03:44\u001b[39m\u001b[K"
     ]
    },
    {
     "name": "stderr",
     "output_type": "stream",
     "text": [
      "\r\u001b[32mloss: 179:  19%|████████                                |  ETA: 0:03:42\u001b[39m\u001b[K"
     ]
    },
    {
     "name": "stderr",
     "output_type": "stream",
     "text": [
      "\r\u001b[32mloss: 178:  20%|████████                                |  ETA: 0:03:40\u001b[39m\u001b[K"
     ]
    },
    {
     "name": "stderr",
     "output_type": "stream",
     "text": [
      "\r\u001b[32mloss: 177:  20%|█████████                               |  ETA: 0:03:40\u001b[39m\u001b[K"
     ]
    },
    {
     "name": "stderr",
     "output_type": "stream",
     "text": [
      "\r\u001b[32mloss: 177:  20%|█████████                               |  ETA: 0:03:39\u001b[39m\u001b[K"
     ]
    },
    {
     "name": "stderr",
     "output_type": "stream",
     "text": [
      "\r\u001b[32mloss: 176:  21%|█████████                               |  ETA: 0:03:38\u001b[39m\u001b[K"
     ]
    },
    {
     "name": "stderr",
     "output_type": "stream",
     "text": [
      "\r\u001b[32mloss: 175:  22%|█████████                               |  ETA: 0:03:37\u001b[39m\u001b[K"
     ]
    },
    {
     "name": "stderr",
     "output_type": "stream",
     "text": [
      "\r\u001b[32mloss: 174:  22%|█████████                               |  ETA: 0:03:35\u001b[39m\u001b[K"
     ]
    },
    {
     "name": "stderr",
     "output_type": "stream",
     "text": [
      "\r\u001b[32mloss: 173:  22%|██████████                              |  ETA: 0:03:33\u001b[39m\u001b[K"
     ]
    },
    {
     "name": "stderr",
     "output_type": "stream",
     "text": [
      "\r\u001b[32mloss: 173:  23%|██████████                              |  ETA: 0:03:31\u001b[39m\u001b[K"
     ]
    },
    {
     "name": "stderr",
     "output_type": "stream",
     "text": [
      "\r\u001b[32mloss: 172:  24%|██████████                              |  ETA: 0:03:30\u001b[39m\u001b[K"
     ]
    },
    {
     "name": "stderr",
     "output_type": "stream",
     "text": [
      "\r\u001b[32mloss: 171:  24%|██████████                              |  ETA: 0:03:32\u001b[39m\u001b[K"
     ]
    },
    {
     "name": "stderr",
     "output_type": "stream",
     "text": [
      "\r\u001b[32mloss: 170:  24%|██████████                              |  ETA: 0:03:32\u001b[39m\u001b[K"
     ]
    },
    {
     "name": "stderr",
     "output_type": "stream",
     "text": [
      "\r\u001b[32mloss: 170:  25%|███████████                             |  ETA: 0:03:30\u001b[39m\u001b[K"
     ]
    },
    {
     "name": "stderr",
     "output_type": "stream",
     "text": [
      "\r\u001b[32mloss: 169:  26%|███████████                             |  ETA: 0:03:28\u001b[39m\u001b[K"
     ]
    },
    {
     "name": "stderr",
     "output_type": "stream",
     "text": [
      "\r\u001b[32mloss: 168:  26%|███████████                             |  ETA: 0:03:26\u001b[39m\u001b[K"
     ]
    },
    {
     "name": "stderr",
     "output_type": "stream",
     "text": [
      "\r\u001b[32mloss: 167:  26%|███████████                             |  ETA: 0:03:26\u001b[39m\u001b[K"
     ]
    },
    {
     "name": "stderr",
     "output_type": "stream",
     "text": [
      "\r\u001b[32mloss: 167:  27%|███████████                             |  ETA: 0:03:25\u001b[39m\u001b[K"
     ]
    },
    {
     "name": "stderr",
     "output_type": "stream",
     "text": [
      "\r\u001b[32mloss: 166:  28%|████████████                            |  ETA: 0:03:25\u001b[39m\u001b[K"
     ]
    },
    {
     "name": "stderr",
     "output_type": "stream",
     "text": [
      "\r\u001b[32mloss: 165:  28%|████████████                            |  ETA: 0:03:25\u001b[39m\u001b[K"
     ]
    },
    {
     "name": "stderr",
     "output_type": "stream",
     "text": [
      "\r\u001b[32mloss: 164:  28%|████████████                            |  ETA: 0:03:23\u001b[39m\u001b[K"
     ]
    },
    {
     "name": "stderr",
     "output_type": "stream",
     "text": [
      "\r\u001b[32mloss: 164:  29%|████████████                            |  ETA: 0:03:22\u001b[39m\u001b[K"
     ]
    },
    {
     "name": "stderr",
     "output_type": "stream",
     "text": [
      "\r\u001b[32mloss: 163:  30%|████████████                            |  ETA: 0:03:20\u001b[39m\u001b[K"
     ]
    },
    {
     "name": "stderr",
     "output_type": "stream",
     "text": [
      "\r\u001b[32mloss: 162:  30%|█████████████                           |  ETA: 0:03:18\u001b[39m\u001b[K"
     ]
    },
    {
     "name": "stderr",
     "output_type": "stream",
     "text": [
      "\r\u001b[32mloss: 162:  30%|█████████████                           |  ETA: 0:03:17\u001b[39m\u001b[K"
     ]
    },
    {
     "name": "stderr",
     "output_type": "stream",
     "text": [
      "\r\u001b[32mloss: 161:  31%|█████████████                           |  ETA: 0:03:16\u001b[39m\u001b[K"
     ]
    },
    {
     "name": "stderr",
     "output_type": "stream",
     "text": [
      "\r\u001b[32mloss: 160:  32%|█████████████                           |  ETA: 0:03:16\u001b[39m\u001b[K"
     ]
    },
    {
     "name": "stderr",
     "output_type": "stream",
     "text": [
      "\r\u001b[32mloss: 159:  32%|█████████████                           |  ETA: 0:03:14\u001b[39m\u001b[K"
     ]
    },
    {
     "name": "stderr",
     "output_type": "stream",
     "text": [
      "\r\u001b[32mloss: 159:  32%|██████████████                          |  ETA: 0:03:12\u001b[39m\u001b[K"
     ]
    },
    {
     "name": "stderr",
     "output_type": "stream",
     "text": [
      "\r\u001b[32mloss: 158:  33%|██████████████                          |  ETA: 0:03:10\u001b[39m\u001b[K"
     ]
    },
    {
     "name": "stderr",
     "output_type": "stream",
     "text": [
      "\r\u001b[32mloss: 157:  34%|██████████████                          |  ETA: 0:03:08\u001b[39m\u001b[K"
     ]
    },
    {
     "name": "stderr",
     "output_type": "stream",
     "text": [
      "\r\u001b[32mloss: 157:  34%|██████████████                          |  ETA: 0:03:06\u001b[39m\u001b[K"
     ]
    },
    {
     "name": "stderr",
     "output_type": "stream",
     "text": [
      "\r\u001b[32mloss: 156:  34%|██████████████                          |  ETA: 0:03:05\u001b[39m\u001b[K"
     ]
    },
    {
     "name": "stderr",
     "output_type": "stream",
     "text": [
      "\r\u001b[32mloss: 155:  35%|███████████████                         |  ETA: 0:03:04\u001b[39m\u001b[K"
     ]
    },
    {
     "name": "stderr",
     "output_type": "stream",
     "text": [
      "\r\u001b[32mloss: 154:  36%|███████████████                         |  ETA: 0:03:02\u001b[39m\u001b[K"
     ]
    },
    {
     "name": "stderr",
     "output_type": "stream",
     "text": [
      "\r\u001b[32mloss: 154:  36%|███████████████                         |  ETA: 0:03:00\u001b[39m\u001b[K"
     ]
    },
    {
     "name": "stderr",
     "output_type": "stream",
     "text": [
      "\r\u001b[32mloss: 153:  36%|███████████████                         |  ETA: 0:02:59\u001b[39m\u001b[K"
     ]
    },
    {
     "name": "stderr",
     "output_type": "stream",
     "text": [
      "\r\u001b[32mloss: 152:  37%|███████████████                         |  ETA: 0:02:57\u001b[39m\u001b[K"
     ]
    },
    {
     "name": "stderr",
     "output_type": "stream",
     "text": [
      "\r\u001b[32mloss: 152:  38%|████████████████                        |  ETA: 0:02:56\u001b[39m\u001b[K"
     ]
    },
    {
     "name": "stderr",
     "output_type": "stream",
     "text": [
      "\r\u001b[32mloss: 151:  38%|████████████████                        |  ETA: 0:02:54\u001b[39m\u001b[K"
     ]
    },
    {
     "name": "stderr",
     "output_type": "stream",
     "text": [
      "\r\u001b[32mloss: 150:  38%|████████████████                        |  ETA: 0:02:53\u001b[39m\u001b[K"
     ]
    },
    {
     "name": "stderr",
     "output_type": "stream",
     "text": [
      "\r\u001b[32mloss: 150:  39%|████████████████                        |  ETA: 0:02:53\u001b[39m\u001b[K"
     ]
    },
    {
     "name": "stderr",
     "output_type": "stream",
     "text": [
      "\r\u001b[32mloss: 149:  40%|████████████████                        |  ETA: 0:02:52\u001b[39m\u001b[K"
     ]
    },
    {
     "name": "stderr",
     "output_type": "stream",
     "text": [
      "\r\u001b[32mloss: 148:  40%|█████████████████                       |  ETA: 0:02:50\u001b[39m\u001b[K"
     ]
    },
    {
     "name": "stderr",
     "output_type": "stream",
     "text": [
      "\r\u001b[32mloss: 148:  40%|█████████████████                       |  ETA: 0:02:48\u001b[39m\u001b[K"
     ]
    },
    {
     "name": "stderr",
     "output_type": "stream",
     "text": [
      "\r\u001b[32mloss: 147:  41%|█████████████████                       |  ETA: 0:02:47\u001b[39m\u001b[K"
     ]
    },
    {
     "name": "stderr",
     "output_type": "stream",
     "text": [
      "\r\u001b[32mloss: 146:  42%|█████████████████                       |  ETA: 0:02:46\u001b[39m\u001b[K"
     ]
    },
    {
     "name": "stderr",
     "output_type": "stream",
     "text": [
      "\r\u001b[32mloss: 146:  42%|█████████████████                       |  ETA: 0:02:44\u001b[39m\u001b[K"
     ]
    },
    {
     "name": "stderr",
     "output_type": "stream",
     "text": [
      "\r\u001b[32mloss: 145:  42%|██████████████████                      |  ETA: 0:02:42\u001b[39m\u001b[K"
     ]
    },
    {
     "name": "stderr",
     "output_type": "stream",
     "text": [
      "\r\u001b[32mloss: 144:  43%|██████████████████                      |  ETA: 0:02:41\u001b[39m\u001b[K"
     ]
    },
    {
     "name": "stderr",
     "output_type": "stream",
     "text": [
      "\r\u001b[32mloss: 144:  44%|██████████████████                      |  ETA: 0:02:40\u001b[39m\u001b[K"
     ]
    },
    {
     "name": "stderr",
     "output_type": "stream",
     "text": [
      "\r\u001b[32mloss: 143:  44%|██████████████████                      |  ETA: 0:02:38\u001b[39m\u001b[K"
     ]
    },
    {
     "name": "stderr",
     "output_type": "stream",
     "text": [
      "\r\u001b[32mloss: 142:  44%|██████████████████                      |  ETA: 0:02:37\u001b[39m\u001b[K"
     ]
    },
    {
     "name": "stderr",
     "output_type": "stream",
     "text": [
      "\r\u001b[32mloss: 142:  45%|███████████████████                     |  ETA: 0:02:35\u001b[39m\u001b[K"
     ]
    },
    {
     "name": "stderr",
     "output_type": "stream",
     "text": [
      "\r\u001b[32mloss: 141:  46%|███████████████████                     |  ETA: 0:02:34\u001b[39m\u001b[K"
     ]
    },
    {
     "name": "stderr",
     "output_type": "stream",
     "text": [
      "\r\u001b[32mloss: 141:  46%|███████████████████                     |  ETA: 0:02:33\u001b[39m\u001b[K"
     ]
    },
    {
     "name": "stderr",
     "output_type": "stream",
     "text": [
      "\r\u001b[32mloss: 140:  46%|███████████████████                     |  ETA: 0:02:31\u001b[39m\u001b[K"
     ]
    },
    {
     "name": "stderr",
     "output_type": "stream",
     "text": [
      "\r\u001b[32mloss: 139:  47%|███████████████████                     |  ETA: 0:02:29\u001b[39m\u001b[K"
     ]
    },
    {
     "name": "stderr",
     "output_type": "stream",
     "text": [
      "\r\u001b[32mloss: 139:  48%|████████████████████                    |  ETA: 0:02:29\u001b[39m\u001b[K"
     ]
    },
    {
     "name": "stderr",
     "output_type": "stream",
     "text": [
      "\r\u001b[32mloss: 138:  48%|████████████████████                    |  ETA: 0:02:28\u001b[39m\u001b[K"
     ]
    },
    {
     "name": "stderr",
     "output_type": "stream",
     "text": [
      "\r\u001b[32mloss: 138:  48%|████████████████████                    |  ETA: 0:02:27\u001b[39m\u001b[K"
     ]
    },
    {
     "name": "stderr",
     "output_type": "stream",
     "text": [
      "\r\u001b[32mloss: 137:  49%|████████████████████                    |  ETA: 0:02:26\u001b[39m\u001b[K"
     ]
    },
    {
     "name": "stderr",
     "output_type": "stream",
     "text": [
      "\r\u001b[32mloss: 136:  50%|████████████████████                    |  ETA: 0:02:24\u001b[39m\u001b[K"
     ]
    },
    {
     "name": "stderr",
     "output_type": "stream",
     "text": [
      "\r\u001b[32mloss: 136:  50%|█████████████████████                   |  ETA: 0:02:23\u001b[39m\u001b[K"
     ]
    },
    {
     "name": "stderr",
     "output_type": "stream",
     "text": [
      "\r\u001b[32mloss: 135:  50%|█████████████████████                   |  ETA: 0:02:21\u001b[39m\u001b[K"
     ]
    },
    {
     "name": "stderr",
     "output_type": "stream",
     "text": [
      "\r\u001b[32mloss: 135:  51%|█████████████████████                   |  ETA: 0:02:20\u001b[39m\u001b[K"
     ]
    },
    {
     "name": "stderr",
     "output_type": "stream",
     "text": [
      "\r\u001b[32mloss: 134:  52%|█████████████████████                   |  ETA: 0:02:18\u001b[39m\u001b[K"
     ]
    },
    {
     "name": "stderr",
     "output_type": "stream",
     "text": [
      "\r\u001b[32mloss: 134:  52%|█████████████████████                   |  ETA: 0:02:17\u001b[39m\u001b[K"
     ]
    },
    {
     "name": "stderr",
     "output_type": "stream",
     "text": [
      "\r\u001b[32mloss: 133:  52%|██████████████████████                  |  ETA: 0:02:16\u001b[39m\u001b[K"
     ]
    },
    {
     "name": "stderr",
     "output_type": "stream",
     "text": [
      "\r\u001b[32mloss: 132:  53%|██████████████████████                  |  ETA: 0:02:14\u001b[39m\u001b[K"
     ]
    },
    {
     "name": "stderr",
     "output_type": "stream",
     "text": [
      "\r\u001b[32mloss: 132:  54%|██████████████████████                  |  ETA: 0:02:13\u001b[39m\u001b[K"
     ]
    },
    {
     "name": "stderr",
     "output_type": "stream",
     "text": [
      "\r\u001b[32mloss: 131:  54%|██████████████████████                  |  ETA: 0:02:11\u001b[39m\u001b[K"
     ]
    },
    {
     "name": "stderr",
     "output_type": "stream",
     "text": [
      "\r\u001b[32mloss: 131:  54%|██████████████████████                  |  ETA: 0:02:10\u001b[39m\u001b[K"
     ]
    },
    {
     "name": "stderr",
     "output_type": "stream",
     "text": [
      "\r\u001b[32mloss: 130:  55%|███████████████████████                 |  ETA: 0:02:09\u001b[39m\u001b[K"
     ]
    },
    {
     "name": "stderr",
     "output_type": "stream",
     "text": [
      "\r\u001b[32mloss: 130:  56%|███████████████████████                 |  ETA: 0:02:07\u001b[39m\u001b[K"
     ]
    },
    {
     "name": "stderr",
     "output_type": "stream",
     "text": [
      "\r\u001b[32mloss: 129:  56%|███████████████████████                 |  ETA: 0:02:06\u001b[39m\u001b[K"
     ]
    },
    {
     "name": "stderr",
     "output_type": "stream",
     "text": [
      "\r\u001b[32mloss: 129:  56%|███████████████████████                 |  ETA: 0:02:04\u001b[39m\u001b[K"
     ]
    },
    {
     "name": "stderr",
     "output_type": "stream",
     "text": [
      "\r\u001b[32mloss: 128:  57%|███████████████████████                 |  ETA: 0:02:03\u001b[39m\u001b[K"
     ]
    },
    {
     "name": "stderr",
     "output_type": "stream",
     "text": [
      "\r\u001b[32mloss: 128:  58%|████████████████████████                |  ETA: 0:02:02\u001b[39m\u001b[K"
     ]
    },
    {
     "name": "stderr",
     "output_type": "stream",
     "text": [
      "\r\u001b[32mloss: 127:  58%|████████████████████████                |  ETA: 0:02:00\u001b[39m\u001b[K"
     ]
    },
    {
     "name": "stderr",
     "output_type": "stream",
     "text": [
      "\r\u001b[32mloss: 127:  58%|████████████████████████                |  ETA: 0:01:59\u001b[39m\u001b[K"
     ]
    },
    {
     "name": "stderr",
     "output_type": "stream",
     "text": [
      "\r\u001b[32mloss: 126:  59%|████████████████████████                |  ETA: 0:01:58\u001b[39m\u001b[K"
     ]
    },
    {
     "name": "stderr",
     "output_type": "stream",
     "text": [
      "\r\u001b[32mloss: 126:  60%|████████████████████████                |  ETA: 0:01:56\u001b[39m\u001b[K"
     ]
    },
    {
     "name": "stderr",
     "output_type": "stream",
     "text": [
      "\r\u001b[32mloss: 125:  60%|█████████████████████████               |  ETA: 0:01:55\u001b[39m\u001b[K"
     ]
    },
    {
     "name": "stderr",
     "output_type": "stream",
     "text": [
      "\r\u001b[32mloss: 125:  60%|█████████████████████████               |  ETA: 0:01:53\u001b[39m\u001b[K"
     ]
    },
    {
     "name": "stderr",
     "output_type": "stream",
     "text": [
      "\r\u001b[32mloss: 124:  61%|█████████████████████████               |  ETA: 0:01:52\u001b[39m\u001b[K"
     ]
    },
    {
     "name": "stderr",
     "output_type": "stream",
     "text": [
      "\r\u001b[32mloss: 124:  62%|█████████████████████████               |  ETA: 0:01:50\u001b[39m\u001b[K"
     ]
    },
    {
     "name": "stderr",
     "output_type": "stream",
     "text": [
      "\r\u001b[32mloss: 123:  62%|█████████████████████████               |  ETA: 0:01:49\u001b[39m\u001b[K"
     ]
    },
    {
     "name": "stderr",
     "output_type": "stream",
     "text": [
      "\r\u001b[32mloss: 123:  62%|██████████████████████████              |  ETA: 0:01:47\u001b[39m\u001b[K"
     ]
    },
    {
     "name": "stderr",
     "output_type": "stream",
     "text": [
      "\r\u001b[32mloss: 122:  63%|██████████████████████████              |  ETA: 0:01:46\u001b[39m\u001b[K"
     ]
    },
    {
     "name": "stderr",
     "output_type": "stream",
     "text": [
      "\r\u001b[32mloss: 122:  64%|██████████████████████████              |  ETA: 0:01:44\u001b[39m\u001b[K"
     ]
    },
    {
     "name": "stderr",
     "output_type": "stream",
     "text": [
      "\r\u001b[32mloss: 121:  64%|██████████████████████████              |  ETA: 0:01:43\u001b[39m\u001b[K"
     ]
    },
    {
     "name": "stderr",
     "output_type": "stream",
     "text": [
      "\r\u001b[32mloss: 121:  64%|██████████████████████████              |  ETA: 0:01:41\u001b[39m\u001b[K"
     ]
    },
    {
     "name": "stderr",
     "output_type": "stream",
     "text": [
      "\r\u001b[32mloss: 120:  65%|███████████████████████████             |  ETA: 0:01:40\u001b[39m\u001b[K"
     ]
    },
    {
     "name": "stderr",
     "output_type": "stream",
     "text": [
      "\r\u001b[32mloss: 120:  66%|███████████████████████████             |  ETA: 0:01:39\u001b[39m\u001b[K"
     ]
    },
    {
     "name": "stderr",
     "output_type": "stream",
     "text": [
      "\r\u001b[32mloss: 119:  66%|███████████████████████████             |  ETA: 0:01:37\u001b[39m\u001b[K"
     ]
    },
    {
     "name": "stderr",
     "output_type": "stream",
     "text": [
      "\r\u001b[32mloss: 119:  66%|███████████████████████████             |  ETA: 0:01:36\u001b[39m\u001b[K"
     ]
    },
    {
     "name": "stderr",
     "output_type": "stream",
     "text": [
      "\r\u001b[32mloss: 119:  67%|███████████████████████████             |  ETA: 0:01:34\u001b[39m\u001b[K"
     ]
    },
    {
     "name": "stderr",
     "output_type": "stream",
     "text": [
      "\r\u001b[32mloss: 118:  68%|████████████████████████████            |  ETA: 0:01:33\u001b[39m\u001b[K"
     ]
    },
    {
     "name": "stderr",
     "output_type": "stream",
     "text": [
      "\r\u001b[32mloss: 118:  68%|████████████████████████████            |  ETA: 0:01:31\u001b[39m\u001b[K"
     ]
    },
    {
     "name": "stderr",
     "output_type": "stream",
     "text": [
      "\r\u001b[32mloss: 117:  68%|████████████████████████████            |  ETA: 0:01:30\u001b[39m\u001b[K"
     ]
    },
    {
     "name": "stderr",
     "output_type": "stream",
     "text": [
      "\r\u001b[32mloss: 117:  69%|████████████████████████████            |  ETA: 0:01:29\u001b[39m\u001b[K"
     ]
    },
    {
     "name": "stderr",
     "output_type": "stream",
     "text": [
      "\r\u001b[32mloss: 116:  70%|████████████████████████████            |  ETA: 0:01:27\u001b[39m\u001b[K"
     ]
    },
    {
     "name": "stderr",
     "output_type": "stream",
     "text": [
      "\r\u001b[32mloss: 116:  70%|█████████████████████████████           |  ETA: 0:01:26\u001b[39m\u001b[K"
     ]
    },
    {
     "name": "stderr",
     "output_type": "stream",
     "text": [
      "\r\u001b[32mloss: 116:  70%|█████████████████████████████           |  ETA: 0:01:24\u001b[39m\u001b[K"
     ]
    },
    {
     "name": "stderr",
     "output_type": "stream",
     "text": [
      "\r\u001b[32mloss: 115:  71%|█████████████████████████████           |  ETA: 0:01:23\u001b[39m\u001b[K"
     ]
    },
    {
     "name": "stderr",
     "output_type": "stream",
     "text": [
      "\r\u001b[32mloss: 115:  72%|█████████████████████████████           |  ETA: 0:01:21\u001b[39m\u001b[K"
     ]
    },
    {
     "name": "stderr",
     "output_type": "stream",
     "text": [
      "\r\u001b[32mloss: 114:  72%|█████████████████████████████           |  ETA: 0:01:20\u001b[39m\u001b[K"
     ]
    },
    {
     "name": "stderr",
     "output_type": "stream",
     "text": [
      "\r\u001b[32mloss: 114:  72%|██████████████████████████████          |  ETA: 0:01:18\u001b[39m\u001b[K"
     ]
    },
    {
     "name": "stderr",
     "output_type": "stream",
     "text": [
      "\r\u001b[32mloss: 114:  73%|██████████████████████████████          |  ETA: 0:01:17\u001b[39m\u001b[K"
     ]
    },
    {
     "name": "stderr",
     "output_type": "stream",
     "text": [
      "\r\u001b[32mloss: 113:  74%|██████████████████████████████          |  ETA: 0:01:16\u001b[39m\u001b[K"
     ]
    },
    {
     "name": "stderr",
     "output_type": "stream",
     "text": [
      "\r\u001b[32mloss: 113:  74%|██████████████████████████████          |  ETA: 0:01:14\u001b[39m\u001b[K"
     ]
    },
    {
     "name": "stderr",
     "output_type": "stream",
     "text": [
      "\r\u001b[32mloss: 113:  74%|██████████████████████████████          |  ETA: 0:01:13\u001b[39m\u001b[K"
     ]
    },
    {
     "name": "stderr",
     "output_type": "stream",
     "text": [
      "\r\u001b[32mloss: 112:  75%|███████████████████████████████         |  ETA: 0:01:11\u001b[39m\u001b[K"
     ]
    },
    {
     "name": "stderr",
     "output_type": "stream",
     "text": [
      "\r\u001b[32mloss: 112:  76%|███████████████████████████████         |  ETA: 0:01:10\u001b[39m\u001b[K"
     ]
    },
    {
     "name": "stderr",
     "output_type": "stream",
     "text": [
      "\r\u001b[32mloss: 112:  76%|███████████████████████████████         |  ETA: 0:01:09\u001b[39m\u001b[K"
     ]
    },
    {
     "name": "stderr",
     "output_type": "stream",
     "text": [
      "\r\u001b[32mloss: 111:  76%|███████████████████████████████         |  ETA: 0:01:07\u001b[39m\u001b[K"
     ]
    },
    {
     "name": "stderr",
     "output_type": "stream",
     "text": [
      "\r\u001b[32mloss: 111:  77%|███████████████████████████████         |  ETA: 0:01:06\u001b[39m\u001b[K"
     ]
    },
    {
     "name": "stderr",
     "output_type": "stream",
     "text": [
      "\r\u001b[32mloss: 110:  78%|████████████████████████████████        |  ETA: 0:01:04\u001b[39m\u001b[K"
     ]
    },
    {
     "name": "stderr",
     "output_type": "stream",
     "text": [
      "\r\u001b[32mloss: 110:  78%|████████████████████████████████        |  ETA: 0:01:03\u001b[39m\u001b[K"
     ]
    },
    {
     "name": "stderr",
     "output_type": "stream",
     "text": [
      "\r\u001b[32mloss: 110:  78%|████████████████████████████████        |  ETA: 0:01:01\u001b[39m\u001b[K"
     ]
    },
    {
     "name": "stderr",
     "output_type": "stream",
     "text": [
      "\r\u001b[32mloss: 109:  79%|████████████████████████████████        |  ETA: 0:01:00\u001b[39m\u001b[K"
     ]
    },
    {
     "name": "stderr",
     "output_type": "stream",
     "text": [
      "\r\u001b[32mloss: 109:  80%|████████████████████████████████        |  ETA: 0:00:58\u001b[39m\u001b[K"
     ]
    },
    {
     "name": "stderr",
     "output_type": "stream",
     "text": [
      "\r\u001b[32mloss: 109:  80%|█████████████████████████████████       |  ETA: 0:00:57\u001b[39m\u001b[K"
     ]
    },
    {
     "name": "stderr",
     "output_type": "stream",
     "text": [
      "\r\u001b[32mloss: 108:  80%|█████████████████████████████████       |  ETA: 0:00:55\u001b[39m\u001b[K"
     ]
    },
    {
     "name": "stderr",
     "output_type": "stream",
     "text": [
      "\r\u001b[32mloss: 108:  81%|█████████████████████████████████       |  ETA: 0:00:54\u001b[39m\u001b[K"
     ]
    },
    {
     "name": "stderr",
     "output_type": "stream",
     "text": [
      "\r\u001b[32mloss: 108:  82%|█████████████████████████████████       |  ETA: 0:00:52\u001b[39m\u001b[K"
     ]
    },
    {
     "name": "stderr",
     "output_type": "stream",
     "text": [
      "\r\u001b[32mloss: 108:  82%|█████████████████████████████████       |  ETA: 0:00:51\u001b[39m\u001b[K"
     ]
    },
    {
     "name": "stderr",
     "output_type": "stream",
     "text": [
      "\r\u001b[32mloss: 107:  82%|██████████████████████████████████      |  ETA: 0:00:49\u001b[39m\u001b[K"
     ]
    },
    {
     "name": "stderr",
     "output_type": "stream",
     "text": [
      "\r\u001b[32mloss: 107:  83%|██████████████████████████████████      |  ETA: 0:00:48\u001b[39m\u001b[K"
     ]
    },
    {
     "name": "stderr",
     "output_type": "stream",
     "text": [
      "\r\u001b[32mloss: 107:  84%|██████████████████████████████████      |  ETA: 0:00:47\u001b[39m\u001b[K"
     ]
    },
    {
     "name": "stderr",
     "output_type": "stream",
     "text": [
      "\r\u001b[32mloss: 106:  84%|██████████████████████████████████      |  ETA: 0:00:45\u001b[39m\u001b[K"
     ]
    },
    {
     "name": "stderr",
     "output_type": "stream",
     "text": [
      "\r\u001b[32mloss: 106:  84%|██████████████████████████████████      |  ETA: 0:00:44\u001b[39m\u001b[K"
     ]
    },
    {
     "name": "stderr",
     "output_type": "stream",
     "text": [
      "\r\u001b[32mloss: 106:  85%|███████████████████████████████████     |  ETA: 0:00:42\u001b[39m\u001b[K"
     ]
    },
    {
     "name": "stderr",
     "output_type": "stream",
     "text": [
      "\r\u001b[32mloss: 105:  86%|███████████████████████████████████     |  ETA: 0:00:41\u001b[39m\u001b[K"
     ]
    },
    {
     "name": "stderr",
     "output_type": "stream",
     "text": [
      "\r\u001b[32mloss: 105:  86%|███████████████████████████████████     |  ETA: 0:00:39\u001b[39m\u001b[K"
     ]
    },
    {
     "name": "stderr",
     "output_type": "stream",
     "text": [
      "\r\u001b[32mloss: 105:  86%|███████████████████████████████████     |  ETA: 0:00:38\u001b[39m\u001b[K"
     ]
    },
    {
     "name": "stderr",
     "output_type": "stream",
     "text": [
      "\r\u001b[32mloss: 105:  87%|███████████████████████████████████     |  ETA: 0:00:36\u001b[39m\u001b[K"
     ]
    },
    {
     "name": "stderr",
     "output_type": "stream",
     "text": [
      "\r\u001b[32mloss: 104:  88%|████████████████████████████████████    |  ETA: 0:00:35\u001b[39m\u001b[K"
     ]
    },
    {
     "name": "stderr",
     "output_type": "stream",
     "text": [
      "\r\u001b[32mloss: 104:  88%|████████████████████████████████████    |  ETA: 0:00:34\u001b[39m\u001b[K"
     ]
    },
    {
     "name": "stderr",
     "output_type": "stream",
     "text": [
      "\r\u001b[32mloss: 104:  88%|████████████████████████████████████    |  ETA: 0:00:32\u001b[39m\u001b[K"
     ]
    },
    {
     "name": "stderr",
     "output_type": "stream",
     "text": [
      "\r\u001b[32mloss: 104:  89%|████████████████████████████████████    |  ETA: 0:00:31\u001b[39m\u001b[K"
     ]
    },
    {
     "name": "stderr",
     "output_type": "stream",
     "text": [
      "\r\u001b[32mloss: 103:  90%|████████████████████████████████████    |  ETA: 0:00:30\u001b[39m\u001b[K"
     ]
    },
    {
     "name": "stderr",
     "output_type": "stream",
     "text": [
      "\r\u001b[32mloss: 103:  90%|█████████████████████████████████████   |  ETA: 0:00:28\u001b[39m\u001b[K"
     ]
    },
    {
     "name": "stderr",
     "output_type": "stream",
     "text": [
      "\r\u001b[32mloss: 103:  90%|█████████████████████████████████████   |  ETA: 0:00:27\u001b[39m\u001b[K"
     ]
    },
    {
     "name": "stderr",
     "output_type": "stream",
     "text": [
      "\r\u001b[32mloss: 102:  91%|█████████████████████████████████████   |  ETA: 0:00:25\u001b[39m\u001b[K"
     ]
    },
    {
     "name": "stderr",
     "output_type": "stream",
     "text": [
      "\r\u001b[32mloss: 102:  92%|█████████████████████████████████████   |  ETA: 0:00:24\u001b[39m\u001b[K"
     ]
    },
    {
     "name": "stderr",
     "output_type": "stream",
     "text": [
      "\r\u001b[32mloss: 102:  92%|█████████████████████████████████████   |  ETA: 0:00:23\u001b[39m\u001b[K"
     ]
    },
    {
     "name": "stderr",
     "output_type": "stream",
     "text": [
      "\r\u001b[32mloss: 102:  92%|██████████████████████████████████████  |  ETA: 0:00:21\u001b[39m\u001b[K"
     ]
    },
    {
     "name": "stderr",
     "output_type": "stream",
     "text": [
      "\r\u001b[32mloss: 101:  93%|██████████████████████████████████████  |  ETA: 0:00:20\u001b[39m\u001b[K"
     ]
    },
    {
     "name": "stderr",
     "output_type": "stream",
     "text": [
      "\r\u001b[32mloss: 101:  94%|██████████████████████████████████████  |  ETA: 0:00:18\u001b[39m\u001b[K"
     ]
    },
    {
     "name": "stderr",
     "output_type": "stream",
     "text": [
      "\r\u001b[32mloss: 101:  94%|██████████████████████████████████████  |  ETA: 0:00:17\u001b[39m\u001b[K"
     ]
    },
    {
     "name": "stderr",
     "output_type": "stream",
     "text": [
      "\r\u001b[32mloss: 101:  94%|██████████████████████████████████████  |  ETA: 0:00:16\u001b[39m\u001b[K"
     ]
    },
    {
     "name": "stderr",
     "output_type": "stream",
     "text": [
      "\r\u001b[32mloss: 101:  95%|███████████████████████████████████████ |  ETA: 0:00:14\u001b[39m\u001b[K"
     ]
    },
    {
     "name": "stderr",
     "output_type": "stream",
     "text": [
      "\r\u001b[32mloss: 100:  96%|███████████████████████████████████████ |  ETA: 0:00:13\u001b[39m\u001b[K"
     ]
    },
    {
     "name": "stderr",
     "output_type": "stream",
     "text": [
      "\r\u001b[32mloss: 100:  96%|███████████████████████████████████████ |  ETA: 0:00:11\u001b[39m\u001b[K"
     ]
    },
    {
     "name": "stderr",
     "output_type": "stream",
     "text": [
      "\r\u001b[32mloss: 99.8:  96%|██████████████████████████████████████ |  ETA: 0:00:10\u001b[39m\u001b[K"
     ]
    },
    {
     "name": "stderr",
     "output_type": "stream",
     "text": [
      "\r\u001b[32mloss: 99.6:  97%|██████████████████████████████████████ |  ETA: 0:00:08\u001b[39m\u001b[K"
     ]
    },
    {
     "name": "stderr",
     "output_type": "stream",
     "text": [
      "\r\u001b[32mloss: 99.4:  98%|███████████████████████████████████████|  ETA: 0:00:07\u001b[39m\u001b[K"
     ]
    },
    {
     "name": "stderr",
     "output_type": "stream",
     "text": [
      "\r\u001b[32mloss: 99.2:  98%|███████████████████████████████████████|  ETA: 0:00:06\u001b[39m\u001b[K"
     ]
    },
    {
     "name": "stderr",
     "output_type": "stream",
     "text": [
      "\r\u001b[32mloss: 98.9:  98%|███████████████████████████████████████|  ETA: 0:00:04\u001b[39m\u001b[K"
     ]
    },
    {
     "name": "stderr",
     "output_type": "stream",
     "text": [
      "\r\u001b[32mloss: 98.7:  99%|███████████████████████████████████████|  ETA: 0:00:03\u001b[39m\u001b[K"
     ]
    },
    {
     "name": "stderr",
     "output_type": "stream",
     "text": [
      "\r\u001b[32mloss: 98.5: 100%|███████████████████████████████████████|  ETA: 0:00:01\u001b[39m\u001b[K"
     ]
    },
    {
     "name": "stderr",
     "output_type": "stream",
     "text": [
      "\r\u001b[32mloss: 98.3: 100%|███████████████████████████████████████| Time: 0:04:41\u001b[39m"
     ]
    },
    {
     "name": "stderr",
     "output_type": "stream",
     "text": [
      "\u001b[K\n"
     ]
    },
    {
     "name": "stderr",
     "output_type": "stream",
     "text": [
      "\r\u001b[32mloss: 98:   1%|█                                        |  ETA: 0:02:05\u001b[39m\u001b[K"
     ]
    },
    {
     "name": "stderr",
     "output_type": "stream",
     "text": [
      "\r\u001b[32mloss: 97.6:   2%|█                                      |  ETA: 0:02:51\u001b[39m\u001b[K"
     ]
    },
    {
     "name": "stderr",
     "output_type": "stream",
     "text": [
      "\r\u001b[32mloss: 97.3:   2%|█                                      |  ETA: 0:02:57\u001b[39m\u001b[K"
     ]
    },
    {
     "name": "stderr",
     "output_type": "stream",
     "text": [
      "\r\u001b[32mloss: 97:   2%|██                                       |  ETA: 0:03:11\u001b[39m\u001b[K"
     ]
    },
    {
     "name": "stderr",
     "output_type": "stream",
     "text": [
      "\r\u001b[32mloss: 96.7:   3%|██                                     |  ETA: 0:03:21\u001b[39m\u001b[K"
     ]
    },
    {
     "name": "stderr",
     "output_type": "stream",
     "text": [
      "\r\u001b[32mloss: 96.4:   4%|██                                     |  ETA: 0:03:24\u001b[39m\u001b[K"
     ]
    },
    {
     "name": "stderr",
     "output_type": "stream",
     "text": [
      "\r\u001b[32mloss: 96.1:   4%|██                                     |  ETA: 0:03:31\u001b[39m\u001b[K"
     ]
    },
    {
     "name": "stderr",
     "output_type": "stream",
     "text": [
      "\r\u001b[32mloss: 95.8:   4%|██                                     |  ETA: 0:03:39\u001b[39m\u001b[K"
     ]
    },
    {
     "name": "stderr",
     "output_type": "stream",
     "text": [
      "\r\u001b[32mloss: 95.5:   5%|██                                     |  ETA: 0:03:52\u001b[39m\u001b[K"
     ]
    },
    {
     "name": "stderr",
     "output_type": "stream",
     "text": [
      "\r\u001b[32mloss: 95.2:   6%|███                                    |  ETA: 0:03:56\u001b[39m\u001b[K"
     ]
    },
    {
     "name": "stderr",
     "output_type": "stream",
     "text": [
      "\r\u001b[32mloss: 94.9:   6%|███                                    |  ETA: 0:03:59\u001b[39m\u001b[K"
     ]
    },
    {
     "name": "stderr",
     "output_type": "stream",
     "text": [
      "\r\u001b[32mloss: 94.6:   6%|███                                    |  ETA: 0:03:58\u001b[39m\u001b[K"
     ]
    },
    {
     "name": "stderr",
     "output_type": "stream",
     "text": [
      "\r\u001b[32mloss: 94.3:   7%|███                                    |  ETA: 0:03:59\u001b[39m\u001b[K"
     ]
    },
    {
     "name": "stderr",
     "output_type": "stream",
     "text": [
      "\r\u001b[32mloss: 94.1:   8%|███                                    |  ETA: 0:04:01\u001b[39m\u001b[K"
     ]
    },
    {
     "name": "stderr",
     "output_type": "stream",
     "text": [
      "\r\u001b[32mloss: 93.8:   8%|████                                   |  ETA: 0:04:01\u001b[39m\u001b[K"
     ]
    },
    {
     "name": "stderr",
     "output_type": "stream",
     "text": [
      "\r\u001b[32mloss: 93.5:   8%|████                                   |  ETA: 0:04:00\u001b[39m\u001b[K"
     ]
    },
    {
     "name": "stderr",
     "output_type": "stream",
     "text": [
      "\r\u001b[32mloss: 93.3:   9%|████                                   |  ETA: 0:03:59\u001b[39m\u001b[K"
     ]
    },
    {
     "name": "stderr",
     "output_type": "stream",
     "text": [
      "\r\u001b[32mloss: 93:  10%|████                                     |  ETA: 0:03:55\u001b[39m\u001b[K"
     ]
    },
    {
     "name": "stderr",
     "output_type": "stream",
     "text": [
      "\r\u001b[32mloss: 92.7:  10%|████                                   |  ETA: 0:03:54\u001b[39m\u001b[K"
     ]
    },
    {
     "name": "stderr",
     "output_type": "stream",
     "text": [
      "\r\u001b[32mloss: 92.5:  10%|█████                                  |  ETA: 0:03:50\u001b[39m\u001b[K"
     ]
    },
    {
     "name": "stderr",
     "output_type": "stream",
     "text": [
      "\r\u001b[32mloss: 92.2:  11%|█████                                  |  ETA: 0:03:50\u001b[39m\u001b[K"
     ]
    },
    {
     "name": "stderr",
     "output_type": "stream",
     "text": [
      "\r\u001b[32mloss: 92:  12%|█████                                    |  ETA: 0:03:48\u001b[39m\u001b[K"
     ]
    },
    {
     "name": "stderr",
     "output_type": "stream",
     "text": [
      "\r\u001b[32mloss: 91.8:  12%|█████                                  |  ETA: 0:03:48\u001b[39m\u001b[K"
     ]
    },
    {
     "name": "stderr",
     "output_type": "stream",
     "text": [
      "\r\u001b[32mloss: 91.5:  12%|█████                                  |  ETA: 0:03:46\u001b[39m\u001b[K"
     ]
    },
    {
     "name": "stderr",
     "output_type": "stream",
     "text": [
      "\r\u001b[32mloss: 91.3:  13%|██████                                 |  ETA: 0:03:46\u001b[39m\u001b[K"
     ]
    },
    {
     "name": "stderr",
     "output_type": "stream",
     "text": [
      "\r\u001b[32mloss: 91:  14%|██████                                   |  ETA: 0:03:44\u001b[39m\u001b[K"
     ]
    },
    {
     "name": "stderr",
     "output_type": "stream",
     "text": [
      "\r\u001b[32mloss: 90.8:  14%|██████                                 |  ETA: 0:03:46\u001b[39m\u001b[K"
     ]
    },
    {
     "name": "stderr",
     "output_type": "stream",
     "text": [
      "\r\u001b[32mloss: 90.6:  14%|██████                                 |  ETA: 0:03:44\u001b[39m\u001b[K"
     ]
    },
    {
     "name": "stderr",
     "output_type": "stream",
     "text": [
      "\r\u001b[32mloss: 90.4:  15%|██████                                 |  ETA: 0:03:43\u001b[39m\u001b[K"
     ]
    },
    {
     "name": "stderr",
     "output_type": "stream",
     "text": [
      "\r\u001b[32mloss: 90.1:  16%|███████                                |  ETA: 0:03:41\u001b[39m\u001b[K"
     ]
    },
    {
     "name": "stderr",
     "output_type": "stream",
     "text": [
      "\r\u001b[32mloss: 89.9:  16%|███████                                |  ETA: 0:03:42\u001b[39m\u001b[K"
     ]
    },
    {
     "name": "stderr",
     "output_type": "stream",
     "text": [
      "\r\u001b[32mloss: 89.7:  16%|███████                                |  ETA: 0:03:42\u001b[39m\u001b[K"
     ]
    },
    {
     "name": "stderr",
     "output_type": "stream",
     "text": [
      "\r\u001b[32mloss: 89.5:  17%|███████                                |  ETA: 0:03:42\u001b[39m\u001b[K"
     ]
    },
    {
     "name": "stderr",
     "output_type": "stream",
     "text": [
      "\r\u001b[32mloss: 89.3:  18%|███████                                |  ETA: 0:03:43\u001b[39m\u001b[K"
     ]
    },
    {
     "name": "stderr",
     "output_type": "stream",
     "text": [
      "\r\u001b[32mloss: 89.1:  18%|████████                               |  ETA: 0:04:40\u001b[39m\u001b[K"
     ]
    },
    {
     "name": "stderr",
     "output_type": "stream",
     "text": [
      "\r\u001b[32mloss: 88.9:  18%|████████                               |  ETA: 0:04:38\u001b[39m\u001b[K"
     ]
    },
    {
     "name": "stderr",
     "output_type": "stream",
     "text": [
      "\r\u001b[32mloss: 88.7:  19%|████████                               |  ETA: 0:04:35\u001b[39m\u001b[K"
     ]
    },
    {
     "name": "stderr",
     "output_type": "stream",
     "text": [
      "\r\u001b[32mloss: 88.5:  20%|████████                               |  ETA: 0:04:33\u001b[39m\u001b[K"
     ]
    },
    {
     "name": "stderr",
     "output_type": "stream",
     "text": [
      "\r\u001b[32mloss: 88.3:  20%|████████                               |  ETA: 0:04:30\u001b[39m\u001b[K"
     ]
    },
    {
     "name": "stderr",
     "output_type": "stream",
     "text": [
      "\r\u001b[32mloss: 88.1:  20%|████████                               |  ETA: 0:04:28\u001b[39m\u001b[K"
     ]
    },
    {
     "name": "stderr",
     "output_type": "stream",
     "text": [
      "\r\u001b[32mloss: 87.9:  21%|█████████                              |  ETA: 0:04:25\u001b[39m\u001b[K"
     ]
    },
    {
     "name": "stderr",
     "output_type": "stream",
     "text": [
      "\r\u001b[32mloss: 87.7:  22%|█████████                              |  ETA: 0:04:21\u001b[39m\u001b[K"
     ]
    },
    {
     "name": "stderr",
     "output_type": "stream",
     "text": [
      "\r\u001b[32mloss: 87.5:  22%|█████████                              |  ETA: 0:04:18\u001b[39m\u001b[K"
     ]
    },
    {
     "name": "stderr",
     "output_type": "stream",
     "text": [
      "\r\u001b[32mloss: 87.4:  22%|█████████                              |  ETA: 0:04:16\u001b[39m\u001b[K"
     ]
    },
    {
     "name": "stderr",
     "output_type": "stream",
     "text": [
      "\r\u001b[32mloss: 87.2:  23%|█████████                              |  ETA: 0:04:12\u001b[39m\u001b[K"
     ]
    },
    {
     "name": "stderr",
     "output_type": "stream",
     "text": [
      "\r\u001b[32mloss: 87:  24%|██████████                               |  ETA: 0:04:10\u001b[39m\u001b[K"
     ]
    },
    {
     "name": "stderr",
     "output_type": "stream",
     "text": [
      "\r\u001b[32mloss: 86.8:  24%|██████████                             |  ETA: 0:04:07\u001b[39m\u001b[K"
     ]
    },
    {
     "name": "stderr",
     "output_type": "stream",
     "text": [
      "\r\u001b[32mloss: 86.7:  24%|██████████                             |  ETA: 0:04:03\u001b[39m\u001b[K"
     ]
    },
    {
     "name": "stderr",
     "output_type": "stream",
     "text": [
      "\r\u001b[32mloss: 86.5:  25%|██████████                             |  ETA: 0:04:01\u001b[39m\u001b[K"
     ]
    },
    {
     "name": "stderr",
     "output_type": "stream",
     "text": [
      "\r\u001b[32mloss: 86.3:  26%|██████████                             |  ETA: 0:03:58\u001b[39m\u001b[K"
     ]
    },
    {
     "name": "stderr",
     "output_type": "stream",
     "text": [
      "\r\u001b[32mloss: 86.2:  26%|███████████                            |  ETA: 0:03:55\u001b[39m\u001b[K"
     ]
    },
    {
     "name": "stderr",
     "output_type": "stream",
     "text": [
      "\r\u001b[32mloss: 86:  26%|███████████                              |  ETA: 0:03:53\u001b[39m\u001b[K"
     ]
    },
    {
     "name": "stderr",
     "output_type": "stream",
     "text": [
      "\r\u001b[32mloss: 85.8:  27%|███████████                            |  ETA: 0:03:51\u001b[39m\u001b[K"
     ]
    },
    {
     "name": "stderr",
     "output_type": "stream",
     "text": [
      "\r\u001b[32mloss: 85.7:  28%|███████████                            |  ETA: 0:03:49\u001b[39m\u001b[K"
     ]
    },
    {
     "name": "stderr",
     "output_type": "stream",
     "text": [
      "\r\u001b[32mloss: 85.5:  28%|███████████                            |  ETA: 0:03:47\u001b[39m\u001b[K"
     ]
    },
    {
     "name": "stderr",
     "output_type": "stream",
     "text": [
      "\r\u001b[32mloss: 85.4:  28%|████████████                           |  ETA: 0:03:44\u001b[39m\u001b[K"
     ]
    },
    {
     "name": "stderr",
     "output_type": "stream",
     "text": [
      "\r\u001b[32mloss: 85.2:  29%|████████████                           |  ETA: 0:03:42\u001b[39m\u001b[K"
     ]
    },
    {
     "name": "stderr",
     "output_type": "stream",
     "text": [
      "\r\u001b[32mloss: 85.1:  30%|████████████                           |  ETA: 0:03:39\u001b[39m\u001b[K"
     ]
    },
    {
     "name": "stderr",
     "output_type": "stream",
     "text": [
      "\r\u001b[32mloss: 84.9:  30%|████████████                           |  ETA: 0:03:36\u001b[39m\u001b[K"
     ]
    },
    {
     "name": "stderr",
     "output_type": "stream",
     "text": [
      "\r\u001b[32mloss: 84.8:  30%|████████████                           |  ETA: 0:03:33\u001b[39m\u001b[K"
     ]
    },
    {
     "name": "stderr",
     "output_type": "stream",
     "text": [
      "\r\u001b[32mloss: 84.6:  31%|█████████████                          |  ETA: 0:03:31\u001b[39m\u001b[K"
     ]
    },
    {
     "name": "stderr",
     "output_type": "stream",
     "text": [
      "\r\u001b[32mloss: 84.5:  32%|█████████████                          |  ETA: 0:03:29\u001b[39m\u001b[K"
     ]
    },
    {
     "name": "stderr",
     "output_type": "stream",
     "text": [
      "\r\u001b[32mloss: 84.3:  32%|█████████████                          |  ETA: 0:03:27\u001b[39m\u001b[K"
     ]
    },
    {
     "name": "stderr",
     "output_type": "stream",
     "text": [
      "\r\u001b[32mloss: 84.2:  32%|█████████████                          |  ETA: 0:03:26\u001b[39m\u001b[K"
     ]
    },
    {
     "name": "stderr",
     "output_type": "stream",
     "text": [
      "\r\u001b[32mloss: 84:  33%|██████████████                           |  ETA: 0:03:24\u001b[39m\u001b[K"
     ]
    },
    {
     "name": "stderr",
     "output_type": "stream",
     "text": [
      "\r\u001b[32mloss: 83.9:  34%|██████████████                         |  ETA: 0:03:22\u001b[39m\u001b[K"
     ]
    },
    {
     "name": "stderr",
     "output_type": "stream",
     "text": [
      "\r\u001b[32mloss: 83.8:  34%|██████████████                         |  ETA: 0:03:19\u001b[39m\u001b[K"
     ]
    },
    {
     "name": "stderr",
     "output_type": "stream",
     "text": [
      "\r\u001b[32mloss: 83.6:  34%|██████████████                         |  ETA: 0:03:17\u001b[39m\u001b[K"
     ]
    },
    {
     "name": "stderr",
     "output_type": "stream",
     "text": [
      "\r\u001b[32mloss: 83.5:  35%|██████████████                         |  ETA: 0:03:16\u001b[39m\u001b[K"
     ]
    },
    {
     "name": "stderr",
     "output_type": "stream",
     "text": [
      "\r\u001b[32mloss: 83.4:  36%|██████████████                         |  ETA: 0:03:15\u001b[39m\u001b[K"
     ]
    },
    {
     "name": "stderr",
     "output_type": "stream",
     "text": [
      "\r\u001b[32mloss: 83.2:  36%|███████████████                        |  ETA: 0:03:13\u001b[39m\u001b[K"
     ]
    },
    {
     "name": "stderr",
     "output_type": "stream",
     "text": [
      "\r\u001b[32mloss: 83.1:  36%|███████████████                        |  ETA: 0:03:12\u001b[39m\u001b[K"
     ]
    },
    {
     "name": "stderr",
     "output_type": "stream",
     "text": [
      "\r\u001b[32mloss: 83:  37%|████████████████                         |  ETA: 0:03:10\u001b[39m\u001b[K"
     ]
    },
    {
     "name": "stderr",
     "output_type": "stream",
     "text": [
      "\r\u001b[32mloss: 82.8:  38%|███████████████                        |  ETA: 0:03:09\u001b[39m\u001b[K"
     ]
    },
    {
     "name": "stderr",
     "output_type": "stream",
     "text": [
      "\r\u001b[32mloss: 82.7:  38%|███████████████                        |  ETA: 0:03:07\u001b[39m\u001b[K"
     ]
    },
    {
     "name": "stderr",
     "output_type": "stream",
     "text": [
      "\r\u001b[32mloss: 82.6:  38%|████████████████                       |  ETA: 0:03:06\u001b[39m\u001b[K"
     ]
    },
    {
     "name": "stderr",
     "output_type": "stream",
     "text": [
      "\r\u001b[32mloss: 82.5:  39%|████████████████                       |  ETA: 0:03:04\u001b[39m\u001b[K"
     ]
    },
    {
     "name": "stderr",
     "output_type": "stream",
     "text": [
      "\r\u001b[32mloss: 82.3:  40%|████████████████                       |  ETA: 0:03:03\u001b[39m\u001b[K"
     ]
    },
    {
     "name": "stderr",
     "output_type": "stream",
     "text": [
      "\r\u001b[32mloss: 82.2:  40%|████████████████                       |  ETA: 0:03:01\u001b[39m\u001b[K"
     ]
    },
    {
     "name": "stderr",
     "output_type": "stream",
     "text": [
      "\r\u001b[32mloss: 82.1:  40%|████████████████                       |  ETA: 0:03:00\u001b[39m\u001b[K"
     ]
    },
    {
     "name": "stderr",
     "output_type": "stream",
     "text": [
      "\r\u001b[32mloss: 82:  41%|█████████████████                        |  ETA: 0:02:59\u001b[39m\u001b[K"
     ]
    },
    {
     "name": "stderr",
     "output_type": "stream",
     "text": [
      "\r\u001b[32mloss: 81.9:  42%|█████████████████                      |  ETA: 0:02:57\u001b[39m\u001b[K"
     ]
    },
    {
     "name": "stderr",
     "output_type": "stream",
     "text": [
      "\r\u001b[32mloss: 81.7:  42%|█████████████████                      |  ETA: 0:02:56\u001b[39m\u001b[K"
     ]
    },
    {
     "name": "stderr",
     "output_type": "stream",
     "text": [
      "\r\u001b[32mloss: 81.6:  42%|█████████████████                      |  ETA: 0:02:54\u001b[39m\u001b[K"
     ]
    },
    {
     "name": "stderr",
     "output_type": "stream",
     "text": [
      "\r\u001b[32mloss: 81.5:  43%|█████████████████                      |  ETA: 0:02:53\u001b[39m\u001b[K"
     ]
    },
    {
     "name": "stderr",
     "output_type": "stream",
     "text": [
      "\r\u001b[32mloss: 81.4:  44%|█████████████████                      |  ETA: 0:02:51\u001b[39m\u001b[K"
     ]
    },
    {
     "name": "stderr",
     "output_type": "stream",
     "text": [
      "\r\u001b[32mloss: 81.3:  44%|██████████████████                     |  ETA: 0:02:50\u001b[39m\u001b[K"
     ]
    },
    {
     "name": "stderr",
     "output_type": "stream",
     "text": [
      "\r\u001b[32mloss: 81.2:  44%|██████████████████                     |  ETA: 0:02:48\u001b[39m\u001b[K"
     ]
    },
    {
     "name": "stderr",
     "output_type": "stream",
     "text": [
      "\r\u001b[32mloss: 81.1:  45%|██████████████████                     |  ETA: 0:02:47\u001b[39m\u001b[K"
     ]
    },
    {
     "name": "stderr",
     "output_type": "stream",
     "text": [
      "\r\u001b[32mloss: 80.9:  46%|██████████████████                     |  ETA: 0:02:45\u001b[39m\u001b[K"
     ]
    },
    {
     "name": "stderr",
     "output_type": "stream",
     "text": [
      "\r\u001b[32mloss: 80.8:  46%|██████████████████                     |  ETA: 0:02:44\u001b[39m\u001b[K"
     ]
    },
    {
     "name": "stderr",
     "output_type": "stream",
     "text": [
      "\r\u001b[32mloss: 80.7:  46%|███████████████████                    |  ETA: 0:02:42\u001b[39m\u001b[K"
     ]
    },
    {
     "name": "stderr",
     "output_type": "stream",
     "text": [
      "\r\u001b[32mloss: 80.6:  47%|███████████████████                    |  ETA: 0:02:41\u001b[39m\u001b[K"
     ]
    },
    {
     "name": "stderr",
     "output_type": "stream",
     "text": [
      "\r\u001b[32mloss: 80.5:  48%|███████████████████                    |  ETA: 0:02:39\u001b[39m\u001b[K"
     ]
    },
    {
     "name": "stderr",
     "output_type": "stream",
     "text": [
      "\r\u001b[32mloss: 80.4:  48%|███████████████████                    |  ETA: 0:02:38\u001b[39m\u001b[K"
     ]
    },
    {
     "name": "stderr",
     "output_type": "stream",
     "text": [
      "\r\u001b[32mloss: 80.3:  48%|███████████████████                    |  ETA: 0:02:35\u001b[39m\u001b[K"
     ]
    },
    {
     "name": "stderr",
     "output_type": "stream",
     "text": [
      "\r\u001b[32mloss: 80.2:  49%|████████████████████                   |  ETA: 0:02:34\u001b[39m\u001b[K"
     ]
    },
    {
     "name": "stderr",
     "output_type": "stream",
     "text": [
      "\r\u001b[32mloss: 80.1:  50%|████████████████████                   |  ETA: 0:02:33\u001b[39m\u001b[K"
     ]
    },
    {
     "name": "stderr",
     "output_type": "stream",
     "text": [
      "\r\u001b[32mloss: 80:  50%|█████████████████████                    |  ETA: 0:02:31\u001b[39m\u001b[K"
     ]
    },
    {
     "name": "stderr",
     "output_type": "stream",
     "text": [
      "\r\u001b[32mloss: 79.9:  50%|████████████████████                   |  ETA: 0:02:30\u001b[39m\u001b[K"
     ]
    },
    {
     "name": "stderr",
     "output_type": "stream",
     "text": [
      "\r\u001b[32mloss: 79.8:  51%|████████████████████                   |  ETA: 0:02:28\u001b[39m\u001b[K"
     ]
    },
    {
     "name": "stderr",
     "output_type": "stream",
     "text": [
      "\r\u001b[32mloss: 79.7:  52%|█████████████████████                  |  ETA: 0:02:27\u001b[39m\u001b[K"
     ]
    },
    {
     "name": "stderr",
     "output_type": "stream",
     "text": [
      "\r\u001b[32mloss: 79.6:  52%|█████████████████████                  |  ETA: 0:02:25\u001b[39m\u001b[K"
     ]
    },
    {
     "name": "stderr",
     "output_type": "stream",
     "text": [
      "\r\u001b[32mloss: 79.5:  52%|█████████████████████                  |  ETA: 0:02:24\u001b[39m\u001b[K"
     ]
    },
    {
     "name": "stderr",
     "output_type": "stream",
     "text": [
      "\r\u001b[32mloss: 79.4:  53%|█████████████████████                  |  ETA: 0:02:22\u001b[39m\u001b[K"
     ]
    },
    {
     "name": "stderr",
     "output_type": "stream",
     "text": [
      "\r\u001b[32mloss: 79.3:  54%|█████████████████████                  |  ETA: 0:02:21\u001b[39m\u001b[K"
     ]
    },
    {
     "name": "stderr",
     "output_type": "stream",
     "text": [
      "\r\u001b[32mloss: 79.2:  54%|██████████████████████                 |  ETA: 0:02:20\u001b[39m\u001b[K"
     ]
    },
    {
     "name": "stderr",
     "output_type": "stream",
     "text": [
      "\r\u001b[32mloss: 79.1:  54%|██████████████████████                 |  ETA: 0:02:19\u001b[39m\u001b[K"
     ]
    },
    {
     "name": "stderr",
     "output_type": "stream",
     "text": [
      "\r\u001b[32mloss: 79:  55%|███████████████████████                  |  ETA: 0:02:17\u001b[39m\u001b[K"
     ]
    },
    {
     "name": "stderr",
     "output_type": "stream",
     "text": [
      "\r\u001b[32mloss: 78.9:  56%|██████████████████████                 |  ETA: 0:02:16\u001b[39m\u001b[K"
     ]
    },
    {
     "name": "stderr",
     "output_type": "stream",
     "text": [
      "\r\u001b[32mloss: 78.8:  56%|██████████████████████                 |  ETA: 0:02:15\u001b[39m\u001b[K"
     ]
    },
    {
     "name": "stderr",
     "output_type": "stream",
     "text": [
      "\r\u001b[32mloss: 78.7:  56%|███████████████████████                |  ETA: 0:02:13\u001b[39m\u001b[K"
     ]
    },
    {
     "name": "stderr",
     "output_type": "stream",
     "text": [
      "\r\u001b[32mloss: 78.6:  57%|███████████████████████                |  ETA: 0:02:12\u001b[39m\u001b[K"
     ]
    },
    {
     "name": "stderr",
     "output_type": "stream",
     "text": [
      "\r\u001b[32mloss: 78.6:  58%|███████████████████████                |  ETA: 0:02:10\u001b[39m\u001b[K"
     ]
    },
    {
     "name": "stderr",
     "output_type": "stream",
     "text": [
      "\r\u001b[32mloss: 78.5:  58%|███████████████████████                |  ETA: 0:02:08\u001b[39m\u001b[K"
     ]
    },
    {
     "name": "stderr",
     "output_type": "stream",
     "text": [
      "\r\u001b[32mloss: 78.4:  58%|███████████████████████                |  ETA: 0:02:07\u001b[39m\u001b[K"
     ]
    },
    {
     "name": "stderr",
     "output_type": "stream",
     "text": [
      "\r\u001b[32mloss: 78.3:  59%|████████████████████████               |  ETA: 0:02:06\u001b[39m\u001b[K"
     ]
    },
    {
     "name": "stderr",
     "output_type": "stream",
     "text": [
      "\r\u001b[32mloss: 78.2:  60%|████████████████████████               |  ETA: 0:02:04\u001b[39m\u001b[K"
     ]
    },
    {
     "name": "stderr",
     "output_type": "stream",
     "text": [
      "\r\u001b[32mloss: 78.1:  60%|████████████████████████               |  ETA: 0:02:02\u001b[39m\u001b[K"
     ]
    },
    {
     "name": "stderr",
     "output_type": "stream",
     "text": [
      "\r\u001b[32mloss: 78:  60%|█████████████████████████                |  ETA: 0:02:01\u001b[39m\u001b[K"
     ]
    },
    {
     "name": "stderr",
     "output_type": "stream",
     "text": [
      "\r\u001b[32mloss: 77.9:  61%|████████████████████████               |  ETA: 0:02:00\u001b[39m\u001b[K"
     ]
    },
    {
     "name": "stderr",
     "output_type": "stream",
     "text": [
      "\r\u001b[32mloss: 77.9:  62%|████████████████████████               |  ETA: 0:01:58\u001b[39m\u001b[K"
     ]
    },
    {
     "name": "stderr",
     "output_type": "stream",
     "text": [
      "\r\u001b[32mloss: 77.8:  62%|█████████████████████████              |  ETA: 0:01:57\u001b[39m\u001b[K"
     ]
    },
    {
     "name": "stderr",
     "output_type": "stream",
     "text": [
      "\r\u001b[32mloss: 77.7:  62%|█████████████████████████              |  ETA: 0:01:55\u001b[39m\u001b[K"
     ]
    },
    {
     "name": "stderr",
     "output_type": "stream",
     "text": [
      "\r\u001b[32mloss: 77.6:  63%|█████████████████████████              |  ETA: 0:01:54\u001b[39m\u001b[K"
     ]
    },
    {
     "name": "stderr",
     "output_type": "stream",
     "text": [
      "\r\u001b[32mloss: 77.5:  64%|█████████████████████████              |  ETA: 0:01:52\u001b[39m\u001b[K"
     ]
    },
    {
     "name": "stderr",
     "output_type": "stream",
     "text": [
      "\r\u001b[32mloss: 77.4:  64%|█████████████████████████              |  ETA: 0:01:51\u001b[39m\u001b[K"
     ]
    },
    {
     "name": "stderr",
     "output_type": "stream",
     "text": [
      "\r\u001b[32mloss: 77.3:  64%|██████████████████████████             |  ETA: 0:01:49\u001b[39m\u001b[K"
     ]
    },
    {
     "name": "stderr",
     "output_type": "stream",
     "text": [
      "\r\u001b[32mloss: 77.3:  65%|██████████████████████████             |  ETA: 0:01:47\u001b[39m\u001b[K"
     ]
    },
    {
     "name": "stderr",
     "output_type": "stream",
     "text": [
      "\r\u001b[32mloss: 77.2:  66%|██████████████████████████             |  ETA: 0:01:46\u001b[39m\u001b[K"
     ]
    },
    {
     "name": "stderr",
     "output_type": "stream",
     "text": [
      "\r\u001b[32mloss: 77.1:  66%|██████████████████████████             |  ETA: 0:01:45\u001b[39m\u001b[K"
     ]
    },
    {
     "name": "stderr",
     "output_type": "stream",
     "text": [
      "\r\u001b[32mloss: 77:  66%|████████████████████████████             |  ETA: 0:01:43\u001b[39m\u001b[K"
     ]
    },
    {
     "name": "stderr",
     "output_type": "stream",
     "text": [
      "\r\u001b[32mloss: 76.9:  67%|███████████████████████████            |  ETA: 0:01:41\u001b[39m\u001b[K"
     ]
    },
    {
     "name": "stderr",
     "output_type": "stream",
     "text": [
      "\r\u001b[32mloss: 76.9:  68%|███████████████████████████            |  ETA: 0:01:40\u001b[39m\u001b[K"
     ]
    },
    {
     "name": "stderr",
     "output_type": "stream",
     "text": [
      "\r\u001b[32mloss: 76.8:  68%|███████████████████████████            |  ETA: 0:01:38\u001b[39m\u001b[K"
     ]
    },
    {
     "name": "stderr",
     "output_type": "stream",
     "text": [
      "\r\u001b[32mloss: 76.7:  68%|███████████████████████████            |  ETA: 0:01:37\u001b[39m\u001b[K"
     ]
    },
    {
     "name": "stderr",
     "output_type": "stream",
     "text": [
      "\r\u001b[32mloss: 76.6:  69%|███████████████████████████            |  ETA: 0:01:35\u001b[39m\u001b[K"
     ]
    },
    {
     "name": "stderr",
     "output_type": "stream",
     "text": [
      "\r\u001b[32mloss: 76.6:  70%|████████████████████████████           |  ETA: 0:01:34\u001b[39m\u001b[K"
     ]
    },
    {
     "name": "stderr",
     "output_type": "stream",
     "text": [
      "\r\u001b[32mloss: 76.5:  70%|████████████████████████████           |  ETA: 0:01:32\u001b[39m\u001b[K"
     ]
    },
    {
     "name": "stderr",
     "output_type": "stream",
     "text": [
      "\r\u001b[32mloss: 76.4:  70%|████████████████████████████           |  ETA: 0:01:31\u001b[39m\u001b[K"
     ]
    },
    {
     "name": "stderr",
     "output_type": "stream",
     "text": [
      "\r\u001b[32mloss: 76.3:  71%|████████████████████████████           |  ETA: 0:01:29\u001b[39m\u001b[K"
     ]
    },
    {
     "name": "stderr",
     "output_type": "stream",
     "text": [
      "\r\u001b[32mloss: 76.3:  72%|████████████████████████████           |  ETA: 0:01:28\u001b[39m\u001b[K"
     ]
    },
    {
     "name": "stderr",
     "output_type": "stream",
     "text": [
      "\r\u001b[32mloss: 76.2:  72%|█████████████████████████████          |  ETA: 0:01:26\u001b[39m\u001b[K"
     ]
    },
    {
     "name": "stderr",
     "output_type": "stream",
     "text": [
      "\r\u001b[32mloss: 76.1:  72%|█████████████████████████████          |  ETA: 0:01:25\u001b[39m\u001b[K"
     ]
    },
    {
     "name": "stderr",
     "output_type": "stream",
     "text": [
      "\r\u001b[32mloss: 76:  73%|██████████████████████████████           |  ETA: 0:01:23\u001b[39m\u001b[K"
     ]
    },
    {
     "name": "stderr",
     "output_type": "stream",
     "text": [
      "\r\u001b[32mloss: 76:  74%|███████████████████████████████          |  ETA: 0:01:22\u001b[39m\u001b[K"
     ]
    },
    {
     "name": "stderr",
     "output_type": "stream",
     "text": [
      "\r\u001b[32mloss: 75.9:  74%|█████████████████████████████          |  ETA: 0:01:20\u001b[39m\u001b[K"
     ]
    },
    {
     "name": "stderr",
     "output_type": "stream",
     "text": [
      "\r\u001b[32mloss: 75.8:  74%|██████████████████████████████         |  ETA: 0:01:19\u001b[39m\u001b[K"
     ]
    },
    {
     "name": "stderr",
     "output_type": "stream",
     "text": [
      "\r\u001b[32mloss: 75.8:  75%|██████████████████████████████         |  ETA: 0:01:17\u001b[39m\u001b[K"
     ]
    },
    {
     "name": "stderr",
     "output_type": "stream",
     "text": [
      "\r\u001b[32mloss: 75.7:  76%|██████████████████████████████         |  ETA: 0:01:16\u001b[39m\u001b[K"
     ]
    },
    {
     "name": "stderr",
     "output_type": "stream",
     "text": [
      "\r\u001b[32mloss: 75.6:  76%|██████████████████████████████         |  ETA: 0:01:14\u001b[39m\u001b[K"
     ]
    },
    {
     "name": "stderr",
     "output_type": "stream",
     "text": [
      "\r\u001b[32mloss: 75.5:  76%|██████████████████████████████         |  ETA: 0:01:13\u001b[39m\u001b[K"
     ]
    },
    {
     "name": "stderr",
     "output_type": "stream",
     "text": [
      "\r\u001b[32mloss: 75.5:  77%|███████████████████████████████        |  ETA: 0:01:11\u001b[39m\u001b[K"
     ]
    },
    {
     "name": "stderr",
     "output_type": "stream",
     "text": [
      "\r\u001b[32mloss: 75.4:  78%|███████████████████████████████        |  ETA: 0:01:10\u001b[39m\u001b[K"
     ]
    },
    {
     "name": "stderr",
     "output_type": "stream",
     "text": [
      "\r\u001b[32mloss: 75.3:  78%|███████████████████████████████        |  ETA: 0:01:08\u001b[39m\u001b[K"
     ]
    },
    {
     "name": "stderr",
     "output_type": "stream",
     "text": [
      "\r\u001b[32mloss: 75.3:  78%|███████████████████████████████        |  ETA: 0:01:07\u001b[39m\u001b[K"
     ]
    },
    {
     "name": "stderr",
     "output_type": "stream",
     "text": [
      "\r\u001b[32mloss: 75.2:  79%|███████████████████████████████        |  ETA: 0:01:05\u001b[39m\u001b[K"
     ]
    },
    {
     "name": "stderr",
     "output_type": "stream",
     "text": [
      "\r\u001b[32mloss: 75.1:  80%|████████████████████████████████       |  ETA: 0:01:03\u001b[39m\u001b[K"
     ]
    },
    {
     "name": "stderr",
     "output_type": "stream",
     "text": [
      "\r\u001b[32mloss: 75.1:  80%|████████████████████████████████       |  ETA: 0:01:02\u001b[39m\u001b[K"
     ]
    },
    {
     "name": "stderr",
     "output_type": "stream",
     "text": [
      "\r\u001b[32mloss: 75:  80%|██████████████████████████████████       |  ETA: 0:01:00\u001b[39m\u001b[K"
     ]
    },
    {
     "name": "stderr",
     "output_type": "stream",
     "text": [
      "\r\u001b[32mloss: 74.9:  81%|████████████████████████████████       |  ETA: 0:00:59\u001b[39m\u001b[K"
     ]
    },
    {
     "name": "stderr",
     "output_type": "stream",
     "text": [
      "\r\u001b[32mloss: 74.9:  82%|████████████████████████████████       |  ETA: 0:00:57\u001b[39m\u001b[K"
     ]
    },
    {
     "name": "stderr",
     "output_type": "stream",
     "text": [
      "\r\u001b[32mloss: 74.8:  82%|████████████████████████████████       |  ETA: 0:00:56\u001b[39m\u001b[K"
     ]
    },
    {
     "name": "stderr",
     "output_type": "stream",
     "text": [
      "\r\u001b[32mloss: 74.8:  82%|█████████████████████████████████      |  ETA: 0:00:54\u001b[39m\u001b[K"
     ]
    },
    {
     "name": "stderr",
     "output_type": "stream",
     "text": [
      "\r\u001b[32mloss: 74.7:  83%|█████████████████████████████████      |  ETA: 0:00:53\u001b[39m\u001b[K"
     ]
    },
    {
     "name": "stderr",
     "output_type": "stream",
     "text": [
      "\r\u001b[32mloss: 74.6:  84%|█████████████████████████████████      |  ETA: 0:00:51\u001b[39m\u001b[K"
     ]
    },
    {
     "name": "stderr",
     "output_type": "stream",
     "text": [
      "\r\u001b[32mloss: 74.6:  84%|█████████████████████████████████      |  ETA: 0:00:50\u001b[39m\u001b[K"
     ]
    },
    {
     "name": "stderr",
     "output_type": "stream",
     "text": [
      "\r\u001b[32mloss: 74.5:  84%|█████████████████████████████████      |  ETA: 0:00:48\u001b[39m\u001b[K"
     ]
    },
    {
     "name": "stderr",
     "output_type": "stream",
     "text": [
      "\r\u001b[32mloss: 74.4:  85%|██████████████████████████████████     |  ETA: 0:00:46\u001b[39m\u001b[K"
     ]
    },
    {
     "name": "stderr",
     "output_type": "stream",
     "text": [
      "\r\u001b[32mloss: 74.4:  86%|██████████████████████████████████     |  ETA: 0:00:45\u001b[39m\u001b[K"
     ]
    },
    {
     "name": "stderr",
     "output_type": "stream",
     "text": [
      "\r\u001b[32mloss: 74.3:  86%|██████████████████████████████████     |  ETA: 0:00:43\u001b[39m\u001b[K"
     ]
    },
    {
     "name": "stderr",
     "output_type": "stream",
     "text": [
      "\r\u001b[32mloss: 74.3:  86%|██████████████████████████████████     |  ETA: 0:00:42\u001b[39m\u001b[K"
     ]
    },
    {
     "name": "stderr",
     "output_type": "stream",
     "text": [
      "\r\u001b[32mloss: 74.2:  87%|██████████████████████████████████     |  ETA: 0:00:40\u001b[39m\u001b[K"
     ]
    },
    {
     "name": "stderr",
     "output_type": "stream",
     "text": [
      "\r\u001b[32mloss: 74.1:  88%|███████████████████████████████████    |  ETA: 0:00:39\u001b[39m\u001b[K"
     ]
    },
    {
     "name": "stderr",
     "output_type": "stream",
     "text": [
      "\r\u001b[32mloss: 74.1:  88%|███████████████████████████████████    |  ETA: 0:00:37\u001b[39m\u001b[K"
     ]
    },
    {
     "name": "stderr",
     "output_type": "stream",
     "text": [
      "\r\u001b[32mloss: 74:  88%|█████████████████████████████████████    |  ETA: 0:00:36\u001b[39m\u001b[K"
     ]
    },
    {
     "name": "stderr",
     "output_type": "stream",
     "text": [
      "\r\u001b[32mloss: 74:  89%|█████████████████████████████████████    |  ETA: 0:00:34\u001b[39m\u001b[K"
     ]
    },
    {
     "name": "stderr",
     "output_type": "stream",
     "text": [
      "\r\u001b[32mloss: 73.9:  90%|███████████████████████████████████    |  ETA: 0:00:33\u001b[39m\u001b[K"
     ]
    },
    {
     "name": "stderr",
     "output_type": "stream",
     "text": [
      "\r\u001b[32mloss: 73.8:  90%|████████████████████████████████████   |  ETA: 0:00:31\u001b[39m\u001b[K"
     ]
    },
    {
     "name": "stderr",
     "output_type": "stream",
     "text": [
      "\r\u001b[32mloss: 73.8:  90%|████████████████████████████████████   |  ETA: 0:00:30\u001b[39m\u001b[K"
     ]
    },
    {
     "name": "stderr",
     "output_type": "stream",
     "text": [
      "\r\u001b[32mloss: 73.7:  91%|████████████████████████████████████   |  ETA: 0:00:28\u001b[39m\u001b[K"
     ]
    },
    {
     "name": "stderr",
     "output_type": "stream",
     "text": [
      "\r\u001b[32mloss: 73.7:  92%|████████████████████████████████████   |  ETA: 0:00:27\u001b[39m\u001b[K"
     ]
    },
    {
     "name": "stderr",
     "output_type": "stream",
     "text": [
      "\r\u001b[32mloss: 73.6:  92%|████████████████████████████████████   |  ETA: 0:00:25\u001b[39m\u001b[K"
     ]
    },
    {
     "name": "stderr",
     "output_type": "stream",
     "text": [
      "\r\u001b[32mloss: 73.6:  92%|█████████████████████████████████████  |  ETA: 0:00:24\u001b[39m\u001b[K"
     ]
    },
    {
     "name": "stderr",
     "output_type": "stream",
     "text": [
      "\r\u001b[32mloss: 73.5:  93%|█████████████████████████████████████  |  ETA: 0:00:22\u001b[39m\u001b[K"
     ]
    },
    {
     "name": "stderr",
     "output_type": "stream",
     "text": [
      "\r\u001b[32mloss: 73.5:  94%|█████████████████████████████████████  |  ETA: 0:00:20\u001b[39m\u001b[K"
     ]
    },
    {
     "name": "stderr",
     "output_type": "stream",
     "text": [
      "\r\u001b[32mloss: 73.4:  94%|█████████████████████████████████████  |  ETA: 0:00:19\u001b[39m\u001b[K"
     ]
    },
    {
     "name": "stderr",
     "output_type": "stream",
     "text": [
      "\r\u001b[32mloss: 73.3:  94%|█████████████████████████████████████  |  ETA: 0:00:17\u001b[39m\u001b[K"
     ]
    },
    {
     "name": "stderr",
     "output_type": "stream",
     "text": [
      "\r\u001b[32mloss: 73.3:  95%|██████████████████████████████████████ |  ETA: 0:00:16\u001b[39m\u001b[K"
     ]
    },
    {
     "name": "stderr",
     "output_type": "stream",
     "text": [
      "\r\u001b[32mloss: 73.2:  96%|██████████████████████████████████████ |  ETA: 0:00:14\u001b[39m\u001b[K"
     ]
    },
    {
     "name": "stderr",
     "output_type": "stream",
     "text": [
      "\r\u001b[32mloss: 73.2:  96%|██████████████████████████████████████ |  ETA: 0:00:13\u001b[39m\u001b[K"
     ]
    },
    {
     "name": "stderr",
     "output_type": "stream",
     "text": [
      "\r\u001b[32mloss: 73.1:  96%|██████████████████████████████████████ |  ETA: 0:00:11\u001b[39m\u001b[K"
     ]
    },
    {
     "name": "stderr",
     "output_type": "stream",
     "text": [
      "\r\u001b[32mloss: 73.1:  97%|██████████████████████████████████████ |  ETA: 0:00:09\u001b[39m\u001b[K"
     ]
    },
    {
     "name": "stderr",
     "output_type": "stream",
     "text": [
      "\r\u001b[32mloss: 73:  98%|████████████████████████████████████████ |  ETA: 0:00:08\u001b[39m\u001b[K"
     ]
    },
    {
     "name": "stderr",
     "output_type": "stream",
     "text": [
      "\r\u001b[32mloss: 73:  98%|█████████████████████████████████████████|  ETA: 0:00:06\u001b[39m\u001b[K"
     ]
    },
    {
     "name": "stderr",
     "output_type": "stream",
     "text": [
      "\r\u001b[32mloss: 72.9:  98%|███████████████████████████████████████|  ETA: 0:00:05\u001b[39m\u001b[K"
     ]
    },
    {
     "name": "stderr",
     "output_type": "stream",
     "text": [
      "\r\u001b[32mloss: 72.9:  99%|███████████████████████████████████████|  ETA: 0:00:03\u001b[39m\u001b[K"
     ]
    },
    {
     "name": "stderr",
     "output_type": "stream",
     "text": [
      "\r\u001b[32mloss: 72.8: 100%|███████████████████████████████████████|  ETA: 0:00:02\u001b[39m\u001b[K"
     ]
    },
    {
     "name": "stderr",
     "output_type": "stream",
     "text": [
      "\r\u001b[32mloss: 72.8: 100%|███████████████████████████████████████| Time: 0:05:16\u001b[39m\u001b[K\n"
     ]
    },
    {
     "name": "stderr",
     "output_type": "stream",
     "text": [
      "\r\u001b[32mloss: 72.7:   1%|█                                      |  ETA: 0:02:51\u001b[39m\u001b[K"
     ]
    },
    {
     "name": "stderr",
     "output_type": "stream",
     "text": [
      "\r\u001b[32mloss: 72.6:   2%|█                                      |  ETA: 0:04:16\u001b[39m\u001b[K"
     ]
    },
    {
     "name": "stderr",
     "output_type": "stream",
     "text": [
      "\r\u001b[32mloss: 72.5:   2%|█                                      |  ETA: 0:04:22\u001b[39m\u001b[K"
     ]
    },
    {
     "name": "stderr",
     "output_type": "stream",
     "text": [
      "\r\u001b[32mloss: 72.4:   2%|█                                      |  ETA: 0:04:31\u001b[39m\u001b[K"
     ]
    },
    {
     "name": "stderr",
     "output_type": "stream",
     "text": [
      "\r\u001b[32mloss: 72.4:   3%|██                                     |  ETA: 0:04:37\u001b[39m\u001b[K"
     ]
    },
    {
     "name": "stderr",
     "output_type": "stream",
     "text": [
      "\r\u001b[32mloss: 72.3:   4%|██                                     |  ETA: 0:04:37\u001b[39m\u001b[K"
     ]
    },
    {
     "name": "stderr",
     "output_type": "stream",
     "text": [
      "\r\u001b[32mloss: 72.2:   4%|██                                     |  ETA: 0:04:54\u001b[39m\u001b[K"
     ]
    },
    {
     "name": "stderr",
     "output_type": "stream",
     "text": [
      "\r\u001b[32mloss: 72.1:   4%|██                                     |  ETA: 0:05:09\u001b[39m\u001b[K"
     ]
    },
    {
     "name": "stderr",
     "output_type": "stream",
     "text": [
      "\r\u001b[32mloss: 72:   5%|███                                      |  ETA: 0:05:09\u001b[39m\u001b[K"
     ]
    },
    {
     "name": "stderr",
     "output_type": "stream",
     "text": [
      "\r\u001b[32mloss: 72:   6%|███                                      |  ETA: 0:05:08\u001b[39m\u001b[K"
     ]
    },
    {
     "name": "stderr",
     "output_type": "stream",
     "text": [
      "\r\u001b[32mloss: 71.9:   6%|███                                    |  ETA: 0:05:11\u001b[39m\u001b[K"
     ]
    },
    {
     "name": "stderr",
     "output_type": "stream",
     "text": [
      "\r\u001b[32mloss: 71.8:   6%|███                                    |  ETA: 0:05:09\u001b[39m\u001b[K"
     ]
    },
    {
     "name": "stderr",
     "output_type": "stream",
     "text": [
      "\r\u001b[32mloss: 71.7:   7%|███                                    |  ETA: 0:05:06\u001b[39m\u001b[K"
     ]
    },
    {
     "name": "stderr",
     "output_type": "stream",
     "text": [
      "\r\u001b[32mloss: 71.6:   8%|███                                    |  ETA: 0:05:03\u001b[39m\u001b[K"
     ]
    },
    {
     "name": "stderr",
     "output_type": "stream",
     "text": [
      "\r\u001b[32mloss: 71.6:   8%|████                                   |  ETA: 0:05:01\u001b[39m\u001b[K"
     ]
    },
    {
     "name": "stderr",
     "output_type": "stream",
     "text": [
      "\r\u001b[32mloss: 71.5:   8%|████                                   |  ETA: 0:05:01\u001b[39m\u001b[K"
     ]
    },
    {
     "name": "stderr",
     "output_type": "stream",
     "text": [
      "\r\u001b[32mloss: 71.4:   9%|████                                   |  ETA: 0:05:01\u001b[39m\u001b[K"
     ]
    },
    {
     "name": "stderr",
     "output_type": "stream",
     "text": [
      "\r\u001b[32mloss: 71.4:  10%|████                                   |  ETA: 0:05:05\u001b[39m\u001b[K"
     ]
    },
    {
     "name": "stderr",
     "output_type": "stream",
     "text": [
      "\r\u001b[32mloss: 71.3:  10%|████                                   |  ETA: 0:05:06\u001b[39m\u001b[K"
     ]
    },
    {
     "name": "stderr",
     "output_type": "stream",
     "text": [
      "\r\u001b[32mloss: 71.2:  10%|█████                                  |  ETA: 0:05:06\u001b[39m\u001b[K"
     ]
    },
    {
     "name": "stderr",
     "output_type": "stream",
     "text": [
      "\r\u001b[32mloss: 71.1:  11%|█████                                  |  ETA: 0:05:04\u001b[39m\u001b[K"
     ]
    },
    {
     "name": "stderr",
     "output_type": "stream",
     "text": [
      "\r\u001b[32mloss: 71.1:  12%|█████                                  |  ETA: 0:05:04\u001b[39m\u001b[K"
     ]
    },
    {
     "name": "stderr",
     "output_type": "stream",
     "text": [
      "\r\u001b[32mloss: 71:  12%|█████                                    |  ETA: 0:05:02\u001b[39m\u001b[K"
     ]
    },
    {
     "name": "stderr",
     "output_type": "stream",
     "text": [
      "\r\u001b[32mloss: 70.9:  12%|█████                                  |  ETA: 0:05:01\u001b[39m\u001b[K"
     ]
    },
    {
     "name": "stderr",
     "output_type": "stream",
     "text": [
      "\r\u001b[32mloss: 70.9:  13%|██████                                 |  ETA: 0:05:01\u001b[39m\u001b[K"
     ]
    },
    {
     "name": "stderr",
     "output_type": "stream",
     "text": [
      "\r\u001b[32mloss: 70.8:  14%|██████                                 |  ETA: 0:05:02\u001b[39m\u001b[K"
     ]
    },
    {
     "name": "stderr",
     "output_type": "stream",
     "text": [
      "\r\u001b[32mloss: 70.7:  14%|██████                                 |  ETA: 0:05:00\u001b[39m\u001b[K"
     ]
    },
    {
     "name": "stderr",
     "output_type": "stream",
     "text": [
      "\r\u001b[32mloss: 70.7:  14%|██████                                 |  ETA: 0:05:01\u001b[39m\u001b[K"
     ]
    },
    {
     "name": "stderr",
     "output_type": "stream",
     "text": [
      "\r\u001b[32mloss: 70.6:  15%|██████                                 |  ETA: 0:04:59\u001b[39m\u001b[K"
     ]
    },
    {
     "name": "stderr",
     "output_type": "stream",
     "text": [
      "\r\u001b[32mloss: 70.6:  16%|███████                                |  ETA: 0:04:58\u001b[39m\u001b[K"
     ]
    },
    {
     "name": "stderr",
     "output_type": "stream",
     "text": [
      "\r\u001b[32mloss: 70.5:  16%|███████                                |  ETA: 0:04:56\u001b[39m\u001b[K"
     ]
    },
    {
     "name": "stderr",
     "output_type": "stream",
     "text": [
      "\r\u001b[32mloss: 70.4:  16%|███████                                |  ETA: 0:04:55\u001b[39m\u001b[K"
     ]
    },
    {
     "name": "stderr",
     "output_type": "stream",
     "text": [
      "\r\u001b[32mloss: 70.4:  17%|███████                                |  ETA: 0:04:54\u001b[39m\u001b[K"
     ]
    },
    {
     "name": "stderr",
     "output_type": "stream",
     "text": [
      "\r\u001b[32mloss: 70.3:  18%|███████                                |  ETA: 0:04:52\u001b[39m\u001b[K"
     ]
    },
    {
     "name": "stderr",
     "output_type": "stream",
     "text": [
      "\r\u001b[32mloss: 70.3:  18%|████████                               |  ETA: 0:04:53\u001b[39m\u001b[K"
     ]
    },
    {
     "name": "stderr",
     "output_type": "stream",
     "text": [
      "\r\u001b[32mloss: 70.2:  18%|████████                               |  ETA: 0:04:51\u001b[39m\u001b[K"
     ]
    },
    {
     "name": "stderr",
     "output_type": "stream",
     "text": [
      "\r\u001b[32mloss: 70.1:  19%|████████                               |  ETA: 0:04:49\u001b[39m\u001b[K"
     ]
    },
    {
     "name": "stderr",
     "output_type": "stream",
     "text": [
      "\r\u001b[32mloss: 70.1:  20%|████████                               |  ETA: 0:04:47\u001b[39m\u001b[K"
     ]
    },
    {
     "name": "stderr",
     "output_type": "stream",
     "text": [
      "\r\u001b[32mloss: 70:  20%|█████████                                |  ETA: 0:04:49\u001b[39m\u001b[K"
     ]
    },
    {
     "name": "stderr",
     "output_type": "stream",
     "text": [
      "\r\u001b[32mloss: 70:  20%|█████████                                |  ETA: 0:04:48\u001b[39m\u001b[K"
     ]
    },
    {
     "name": "stderr",
     "output_type": "stream",
     "text": [
      "\r\u001b[32mloss: 69.9:  21%|█████████                              |  ETA: 0:04:46\u001b[39m\u001b[K"
     ]
    },
    {
     "name": "stderr",
     "output_type": "stream",
     "text": [
      "\r\u001b[32mloss: 69.9:  22%|█████████                              |  ETA: 0:04:44\u001b[39m\u001b[K"
     ]
    },
    {
     "name": "stderr",
     "output_type": "stream",
     "text": [
      "\r\u001b[32mloss: 69.8:  22%|█████████                              |  ETA: 0:04:42\u001b[39m\u001b[K"
     ]
    },
    {
     "name": "stderr",
     "output_type": "stream",
     "text": [
      "\r\u001b[32mloss: 69.8:  22%|█████████                              |  ETA: 0:04:40\u001b[39m\u001b[K"
     ]
    },
    {
     "name": "stderr",
     "output_type": "stream",
     "text": [
      "\r\u001b[32mloss: 69.7:  23%|█████████                              |  ETA: 0:04:38\u001b[39m\u001b[K"
     ]
    },
    {
     "name": "stderr",
     "output_type": "stream",
     "text": [
      "\r\u001b[32mloss: 69.7:  24%|██████████                             |  ETA: 0:04:35\u001b[39m\u001b[K"
     ]
    },
    {
     "name": "stderr",
     "output_type": "stream",
     "text": [
      "\r\u001b[32mloss: 69.6:  24%|██████████                             |  ETA: 0:04:35\u001b[39m\u001b[K"
     ]
    },
    {
     "name": "stderr",
     "output_type": "stream",
     "text": [
      "\r\u001b[32mloss: 69.6:  24%|██████████                             |  ETA: 0:04:33\u001b[39m\u001b[K"
     ]
    },
    {
     "name": "stderr",
     "output_type": "stream",
     "text": [
      "\r\u001b[32mloss: 69.5:  25%|██████████                             |  ETA: 0:04:30\u001b[39m\u001b[K"
     ]
    },
    {
     "name": "stderr",
     "output_type": "stream",
     "text": [
      "\r\u001b[32mloss: 69.5:  26%|██████████                             |  ETA: 0:04:28\u001b[39m\u001b[K"
     ]
    },
    {
     "name": "stderr",
     "output_type": "stream",
     "text": [
      "\r\u001b[32mloss: 69.4:  26%|███████████                            |  ETA: 0:04:26\u001b[39m\u001b[K"
     ]
    },
    {
     "name": "stderr",
     "output_type": "stream",
     "text": [
      "\r\u001b[32mloss: 69.4:  26%|███████████                            |  ETA: 0:04:23\u001b[39m\u001b[K"
     ]
    },
    {
     "name": "stderr",
     "output_type": "stream",
     "text": [
      "\r\u001b[32mloss: 69.3:  27%|███████████                            |  ETA: 0:04:21\u001b[39m\u001b[K"
     ]
    },
    {
     "name": "stderr",
     "output_type": "stream",
     "text": [
      "\r\u001b[32mloss: 69.3:  28%|███████████                            |  ETA: 0:04:18\u001b[39m\u001b[K"
     ]
    },
    {
     "name": "stderr",
     "output_type": "stream",
     "text": [
      "\r\u001b[32mloss: 69.3:  28%|███████████                            |  ETA: 0:04:17\u001b[39m\u001b[K"
     ]
    },
    {
     "name": "stderr",
     "output_type": "stream",
     "text": [
      "\r\u001b[32mloss: 69.2:  28%|████████████                           |  ETA: 0:04:14\u001b[39m\u001b[K"
     ]
    },
    {
     "name": "stderr",
     "output_type": "stream",
     "text": [
      "\r\u001b[32mloss: 69.2:  29%|████████████                           |  ETA: 0:04:12\u001b[39m\u001b[K"
     ]
    },
    {
     "name": "stderr",
     "output_type": "stream",
     "text": [
      "\r\u001b[32mloss: 69.1:  30%|████████████                           |  ETA: 0:04:10\u001b[39m\u001b[K"
     ]
    },
    {
     "name": "stderr",
     "output_type": "stream",
     "text": [
      "\r\u001b[32mloss: 69.1:  30%|████████████                           |  ETA: 0:04:08\u001b[39m\u001b[K"
     ]
    },
    {
     "name": "stderr",
     "output_type": "stream",
     "text": [
      "\r\u001b[32mloss: 69.1:  30%|████████████                           |  ETA: 0:04:06\u001b[39m\u001b[K"
     ]
    },
    {
     "name": "stderr",
     "output_type": "stream",
     "text": [
      "\r\u001b[32mloss: 69:  31%|█████████████                            |  ETA: 0:04:04\u001b[39m\u001b[K"
     ]
    },
    {
     "name": "stderr",
     "output_type": "stream",
     "text": [
      "\r\u001b[32mloss: 69:  32%|█████████████                            |  ETA: 0:04:03\u001b[39m\u001b[K"
     ]
    },
    {
     "name": "stderr",
     "output_type": "stream",
     "text": [
      "\r\u001b[32mloss: 68.9:  32%|█████████████                          |  ETA: 0:04:01\u001b[39m\u001b[K"
     ]
    },
    {
     "name": "stderr",
     "output_type": "stream",
     "text": [
      "\r\u001b[32mloss: 68.9:  32%|█████████████                          |  ETA: 0:03:59\u001b[39m\u001b[K"
     ]
    },
    {
     "name": "stderr",
     "output_type": "stream",
     "text": [
      "\r\u001b[32mloss: 68.9:  33%|█████████████                          |  ETA: 0:03:57\u001b[39m\u001b[K"
     ]
    },
    {
     "name": "stderr",
     "output_type": "stream",
     "text": [
      "\r\u001b[32mloss: 68.8:  34%|██████████████                         |  ETA: 0:03:56\u001b[39m\u001b[K"
     ]
    },
    {
     "name": "stderr",
     "output_type": "stream",
     "text": [
      "\r\u001b[32mloss: 68.8:  34%|██████████████                         |  ETA: 0:03:54\u001b[39m\u001b[K"
     ]
    },
    {
     "name": "stderr",
     "output_type": "stream",
     "text": [
      "\r\u001b[32mloss: 68.8:  34%|██████████████                         |  ETA: 0:03:53\u001b[39m\u001b[K"
     ]
    },
    {
     "name": "stderr",
     "output_type": "stream",
     "text": [
      "\r\u001b[32mloss: 68.7:  35%|██████████████                         |  ETA: 0:03:51\u001b[39m\u001b[K"
     ]
    },
    {
     "name": "stderr",
     "output_type": "stream",
     "text": [
      "\r\u001b[32mloss: 68.7:  36%|██████████████                         |  ETA: 0:03:50\u001b[39m\u001b[K"
     ]
    },
    {
     "name": "stderr",
     "output_type": "stream",
     "text": [
      "\r\u001b[32mloss: 68.7:  36%|███████████████                        |  ETA: 0:03:47\u001b[39m\u001b[K"
     ]
    },
    {
     "name": "stderr",
     "output_type": "stream",
     "text": [
      "\r\u001b[32mloss: 68.6:  36%|███████████████                        |  ETA: 0:03:46\u001b[39m\u001b[K"
     ]
    },
    {
     "name": "stderr",
     "output_type": "stream",
     "text": [
      "\r\u001b[32mloss: 68.6:  37%|███████████████                        |  ETA: 0:03:43\u001b[39m\u001b[K"
     ]
    },
    {
     "name": "stderr",
     "output_type": "stream",
     "text": [
      "\r\u001b[32mloss: 68.6:  38%|███████████████                        |  ETA: 0:03:41\u001b[39m\u001b[K"
     ]
    },
    {
     "name": "stderr",
     "output_type": "stream",
     "text": [
      "\r\u001b[32mloss: 68.5:  38%|███████████████                        |  ETA: 0:03:39\u001b[39m\u001b[K"
     ]
    },
    {
     "name": "stderr",
     "output_type": "stream",
     "text": [
      "\r\u001b[32mloss: 68.5:  38%|████████████████                       |  ETA: 0:03:37\u001b[39m\u001b[K"
     ]
    },
    {
     "name": "stderr",
     "output_type": "stream",
     "text": [
      "\r\u001b[32mloss: 68.5:  39%|████████████████                       |  ETA: 0:03:35\u001b[39m\u001b[K"
     ]
    },
    {
     "name": "stderr",
     "output_type": "stream",
     "text": [
      "\r\u001b[32mloss: 68.4:  40%|████████████████                       |  ETA: 0:03:34\u001b[39m\u001b[K"
     ]
    },
    {
     "name": "stderr",
     "output_type": "stream",
     "text": [
      "\r\u001b[32mloss: 68.4:  40%|████████████████                       |  ETA: 0:03:51\u001b[39m\u001b[K"
     ]
    },
    {
     "name": "stderr",
     "output_type": "stream",
     "text": [
      "\r\u001b[32mloss: 68.4:  40%|████████████████                       |  ETA: 0:03:48\u001b[39m\u001b[K"
     ]
    },
    {
     "name": "stderr",
     "output_type": "stream",
     "text": [
      "\r\u001b[32mloss: 68.3:  41%|████████████████                       |  ETA: 0:03:46\u001b[39m\u001b[K"
     ]
    },
    {
     "name": "stderr",
     "output_type": "stream",
     "text": [
      "\r\u001b[32mloss: 68.3:  42%|█████████████████                      |  ETA: 0:03:43\u001b[39m\u001b[K"
     ]
    },
    {
     "name": "stderr",
     "output_type": "stream",
     "text": [
      "\r\u001b[32mloss: 68.3:  42%|█████████████████                      |  ETA: 0:03:40\u001b[39m\u001b[K"
     ]
    },
    {
     "name": "stderr",
     "output_type": "stream",
     "text": [
      "\r\u001b[32mloss: 68.3:  42%|█████████████████                      |  ETA: 0:03:38\u001b[39m\u001b[K"
     ]
    },
    {
     "name": "stderr",
     "output_type": "stream",
     "text": [
      "\r\u001b[32mloss: 68.2:  43%|█████████████████                      |  ETA: 0:03:35\u001b[39m\u001b[K"
     ]
    },
    {
     "name": "stderr",
     "output_type": "stream",
     "text": [
      "\r\u001b[32mloss: 68.2:  44%|█████████████████                      |  ETA: 0:03:32\u001b[39m\u001b[K"
     ]
    },
    {
     "name": "stderr",
     "output_type": "stream",
     "text": [
      "\r\u001b[32mloss: 68.2:  44%|██████████████████                     |  ETA: 0:03:30\u001b[39m\u001b[K"
     ]
    },
    {
     "name": "stderr",
     "output_type": "stream",
     "text": [
      "\r\u001b[32mloss: 68.1:  44%|██████████████████                     |  ETA: 0:03:28\u001b[39m\u001b[K"
     ]
    },
    {
     "name": "stderr",
     "output_type": "stream",
     "text": [
      "\r\u001b[32mloss: 68.1:  45%|██████████████████                     |  ETA: 0:03:26\u001b[39m\u001b[K"
     ]
    },
    {
     "name": "stderr",
     "output_type": "stream",
     "text": [
      "\r\u001b[32mloss: 68.1:  46%|██████████████████                     |  ETA: 0:03:23\u001b[39m\u001b[K"
     ]
    },
    {
     "name": "stderr",
     "output_type": "stream",
     "text": [
      "\r\u001b[32mloss: 68.1:  46%|██████████████████                     |  ETA: 0:03:21\u001b[39m\u001b[K"
     ]
    },
    {
     "name": "stderr",
     "output_type": "stream",
     "text": [
      "\r\u001b[32mloss: 68:  46%|████████████████████                     |  ETA: 0:03:18\u001b[39m\u001b[K"
     ]
    },
    {
     "name": "stderr",
     "output_type": "stream",
     "text": [
      "\r\u001b[32mloss: 68:  47%|████████████████████                     |  ETA: 0:03:16\u001b[39m\u001b[K"
     ]
    },
    {
     "name": "stderr",
     "output_type": "stream",
     "text": [
      "\r\u001b[32mloss: 68:  48%|████████████████████                     |  ETA: 0:03:14\u001b[39m\u001b[K"
     ]
    },
    {
     "name": "stderr",
     "output_type": "stream",
     "text": [
      "\r\u001b[32mloss: 68:  48%|████████████████████                     |  ETA: 0:03:11\u001b[39m\u001b[K"
     ]
    },
    {
     "name": "stderr",
     "output_type": "stream",
     "text": [
      "\r\u001b[32mloss: 68:  48%|████████████████████                     |  ETA: 0:03:09\u001b[39m\u001b[K"
     ]
    },
    {
     "name": "stderr",
     "output_type": "stream",
     "text": [
      "\r\u001b[32mloss: 67.9:  49%|████████████████████                   |  ETA: 0:03:07\u001b[39m\u001b[K"
     ]
    },
    {
     "name": "stderr",
     "output_type": "stream",
     "text": [
      "\r\u001b[32mloss: 67.9:  50%|████████████████████                   |  ETA: 0:03:04\u001b[39m\u001b[K"
     ]
    },
    {
     "name": "stderr",
     "output_type": "stream",
     "text": [
      "\r\u001b[32mloss: 67.9:  50%|████████████████████                   |  ETA: 0:03:02\u001b[39m\u001b[K"
     ]
    },
    {
     "name": "stderr",
     "output_type": "stream",
     "text": [
      "\r\u001b[32mloss: 67.9:  50%|████████████████████                   |  ETA: 0:03:00\u001b[39m\u001b[K"
     ]
    },
    {
     "name": "stderr",
     "output_type": "stream",
     "text": [
      "\r\u001b[32mloss: 67.8:  51%|████████████████████                   |  ETA: 0:02:58\u001b[39m\u001b[K"
     ]
    },
    {
     "name": "stderr",
     "output_type": "stream",
     "text": [
      "\r\u001b[32mloss: 67.8:  52%|█████████████████████                  |  ETA: 0:02:56\u001b[39m\u001b[K"
     ]
    },
    {
     "name": "stderr",
     "output_type": "stream",
     "text": [
      "\r\u001b[32mloss: 67.8:  52%|█████████████████████                  |  ETA: 0:02:54\u001b[39m\u001b[K"
     ]
    },
    {
     "name": "stderr",
     "output_type": "stream",
     "text": [
      "\r\u001b[32mloss: 67.8:  52%|█████████████████████                  |  ETA: 0:02:52\u001b[39m\u001b[K"
     ]
    },
    {
     "name": "stderr",
     "output_type": "stream",
     "text": [
      "\r\u001b[32mloss: 67.8:  53%|█████████████████████                  |  ETA: 0:02:50\u001b[39m\u001b[K"
     ]
    },
    {
     "name": "stderr",
     "output_type": "stream",
     "text": [
      "\r\u001b[32mloss: 67.7:  54%|█████████████████████                  |  ETA: 0:02:48\u001b[39m\u001b[K"
     ]
    },
    {
     "name": "stderr",
     "output_type": "stream",
     "text": [
      "\r\u001b[32mloss: 67.7:  54%|██████████████████████                 |  ETA: 0:02:45\u001b[39m\u001b[K"
     ]
    },
    {
     "name": "stderr",
     "output_type": "stream",
     "text": [
      "\r\u001b[32mloss: 67.7:  54%|██████████████████████                 |  ETA: 0:02:43\u001b[39m\u001b[K"
     ]
    },
    {
     "name": "stderr",
     "output_type": "stream",
     "text": [
      "\r\u001b[32mloss: 67.7:  55%|██████████████████████                 |  ETA: 0:02:41\u001b[39m\u001b[K"
     ]
    },
    {
     "name": "stderr",
     "output_type": "stream",
     "text": [
      "\r\u001b[32mloss: 67.7:  56%|██████████████████████                 |  ETA: 0:02:39\u001b[39m\u001b[K"
     ]
    },
    {
     "name": "stderr",
     "output_type": "stream",
     "text": [
      "\r\u001b[32mloss: 67.6:  56%|██████████████████████                 |  ETA: 0:02:38\u001b[39m\u001b[K"
     ]
    },
    {
     "name": "stderr",
     "output_type": "stream",
     "text": [
      "\r\u001b[32mloss: 67.6:  56%|███████████████████████                |  ETA: 0:02:35\u001b[39m\u001b[K"
     ]
    },
    {
     "name": "stderr",
     "output_type": "stream",
     "text": [
      "\r\u001b[32mloss: 67.6:  57%|███████████████████████                |  ETA: 0:02:33\u001b[39m\u001b[K"
     ]
    },
    {
     "name": "stderr",
     "output_type": "stream",
     "text": [
      "\r\u001b[32mloss: 67.6:  58%|███████████████████████                |  ETA: 0:02:32\u001b[39m\u001b[K"
     ]
    },
    {
     "name": "stderr",
     "output_type": "stream",
     "text": [
      "\r\u001b[32mloss: 67.6:  58%|███████████████████████                |  ETA: 0:02:29\u001b[39m\u001b[K"
     ]
    },
    {
     "name": "stderr",
     "output_type": "stream",
     "text": [
      "\r\u001b[32mloss: 67.6:  58%|███████████████████████                |  ETA: 0:02:27\u001b[39m\u001b[K"
     ]
    },
    {
     "name": "stderr",
     "output_type": "stream",
     "text": [
      "\r\u001b[32mloss: 67.5:  59%|████████████████████████               |  ETA: 0:02:25\u001b[39m\u001b[K"
     ]
    },
    {
     "name": "stderr",
     "output_type": "stream",
     "text": [
      "\r\u001b[32mloss: 67.5:  60%|████████████████████████               |  ETA: 0:02:23\u001b[39m\u001b[K"
     ]
    },
    {
     "name": "stderr",
     "output_type": "stream",
     "text": [
      "\r\u001b[32mloss: 67.5:  60%|████████████████████████               |  ETA: 0:02:21\u001b[39m\u001b[K"
     ]
    },
    {
     "name": "stderr",
     "output_type": "stream",
     "text": [
      "\r\u001b[32mloss: 67.5:  60%|████████████████████████               |  ETA: 0:02:19\u001b[39m\u001b[K"
     ]
    },
    {
     "name": "stderr",
     "output_type": "stream",
     "text": [
      "\r\u001b[32mloss: 67.5:  61%|████████████████████████               |  ETA: 0:02:17\u001b[39m\u001b[K"
     ]
    },
    {
     "name": "stderr",
     "output_type": "stream",
     "text": [
      "\r\u001b[32mloss: 67.5:  62%|████████████████████████               |  ETA: 0:02:16\u001b[39m\u001b[K"
     ]
    },
    {
     "name": "stderr",
     "output_type": "stream",
     "text": [
      "\r\u001b[32mloss: 67.4:  62%|█████████████████████████              |  ETA: 0:02:14\u001b[39m\u001b[K"
     ]
    },
    {
     "name": "stderr",
     "output_type": "stream",
     "text": [
      "\r\u001b[32mloss: 67.4:  62%|█████████████████████████              |  ETA: 0:02:12\u001b[39m\u001b[K"
     ]
    },
    {
     "name": "stderr",
     "output_type": "stream",
     "text": [
      "\r\u001b[32mloss: 67.4:  63%|█████████████████████████              |  ETA: 0:02:10\u001b[39m\u001b[K"
     ]
    },
    {
     "name": "stderr",
     "output_type": "stream",
     "text": [
      "\r\u001b[32mloss: 67.4:  64%|█████████████████████████              |  ETA: 0:02:08\u001b[39m\u001b[K"
     ]
    },
    {
     "name": "stderr",
     "output_type": "stream",
     "text": [
      "\r\u001b[32mloss: 67.4:  64%|█████████████████████████              |  ETA: 0:02:06\u001b[39m\u001b[K"
     ]
    },
    {
     "name": "stderr",
     "output_type": "stream",
     "text": [
      "\r\u001b[32mloss: 67.4:  64%|██████████████████████████             |  ETA: 0:02:04\u001b[39m\u001b[K"
     ]
    },
    {
     "name": "stderr",
     "output_type": "stream",
     "text": [
      "\r\u001b[32mloss: 67.4:  65%|██████████████████████████             |  ETA: 0:02:02\u001b[39m\u001b[K"
     ]
    },
    {
     "name": "stderr",
     "output_type": "stream",
     "text": [
      "\r\u001b[32mloss: 67.4:  66%|██████████████████████████             |  ETA: 0:02:00\u001b[39m\u001b[K"
     ]
    },
    {
     "name": "stderr",
     "output_type": "stream",
     "text": [
      "\r\u001b[32mloss: 67.3:  66%|██████████████████████████             |  ETA: 0:01:58\u001b[39m\u001b[K"
     ]
    },
    {
     "name": "stderr",
     "output_type": "stream",
     "text": [
      "\r\u001b[32mloss: 67.3:  66%|██████████████████████████             |  ETA: 0:01:56\u001b[39m\u001b[K"
     ]
    },
    {
     "name": "stderr",
     "output_type": "stream",
     "text": [
      "\r\u001b[32mloss: 67.3:  67%|███████████████████████████            |  ETA: 0:01:55\u001b[39m\u001b[K"
     ]
    },
    {
     "name": "stderr",
     "output_type": "stream",
     "text": [
      "\r\u001b[32mloss: 67.3:  68%|███████████████████████████            |  ETA: 0:01:53\u001b[39m\u001b[K"
     ]
    },
    {
     "name": "stderr",
     "output_type": "stream",
     "text": [
      "\r\u001b[32mloss: 67.3:  68%|███████████████████████████            |  ETA: 0:01:51\u001b[39m\u001b[K"
     ]
    },
    {
     "name": "stderr",
     "output_type": "stream",
     "text": [
      "\r\u001b[32mloss: 67.3:  68%|███████████████████████████            |  ETA: 0:01:49\u001b[39m\u001b[K"
     ]
    },
    {
     "name": "stderr",
     "output_type": "stream",
     "text": [
      "\r\u001b[32mloss: 67.3:  69%|███████████████████████████            |  ETA: 0:01:47\u001b[39m\u001b[K"
     ]
    },
    {
     "name": "stderr",
     "output_type": "stream",
     "text": [
      "\r\u001b[32mloss: 67.2:  70%|████████████████████████████           |  ETA: 0:01:45\u001b[39m\u001b[K"
     ]
    },
    {
     "name": "stderr",
     "output_type": "stream",
     "text": [
      "\r\u001b[32mloss: 67.2:  70%|████████████████████████████           |  ETA: 0:01:43\u001b[39m\u001b[K"
     ]
    },
    {
     "name": "stderr",
     "output_type": "stream",
     "text": [
      "\r\u001b[32mloss: 67.2:  70%|████████████████████████████           |  ETA: 0:01:42\u001b[39m\u001b[K"
     ]
    },
    {
     "name": "stderr",
     "output_type": "stream",
     "text": [
      "\r\u001b[32mloss: 67.2:  71%|████████████████████████████           |  ETA: 0:01:40\u001b[39m\u001b[K"
     ]
    },
    {
     "name": "stderr",
     "output_type": "stream",
     "text": [
      "\r\u001b[32mloss: 67.2:  72%|████████████████████████████           |  ETA: 0:01:38\u001b[39m\u001b[K"
     ]
    },
    {
     "name": "stderr",
     "output_type": "stream",
     "text": [
      "\r\u001b[32mloss: 67.2:  72%|█████████████████████████████          |  ETA: 0:01:36\u001b[39m\u001b[K"
     ]
    },
    {
     "name": "stderr",
     "output_type": "stream",
     "text": [
      "\r\u001b[32mloss: 67.2:  72%|█████████████████████████████          |  ETA: 0:01:34\u001b[39m\u001b[K"
     ]
    },
    {
     "name": "stderr",
     "output_type": "stream",
     "text": [
      "\r\u001b[32mloss: 67.2:  73%|█████████████████████████████          |  ETA: 0:01:33\u001b[39m\u001b[K"
     ]
    },
    {
     "name": "stderr",
     "output_type": "stream",
     "text": [
      "\r\u001b[32mloss: 67.2:  74%|█████████████████████████████          |  ETA: 0:01:31\u001b[39m\u001b[K"
     ]
    },
    {
     "name": "stderr",
     "output_type": "stream",
     "text": [
      "\r\u001b[32mloss: 67.1:  74%|█████████████████████████████          |  ETA: 0:01:29\u001b[39m\u001b[K"
     ]
    },
    {
     "name": "stderr",
     "output_type": "stream",
     "text": [
      "\r\u001b[32mloss: 67.1:  74%|██████████████████████████████         |  ETA: 0:01:27\u001b[39m\u001b[K"
     ]
    },
    {
     "name": "stderr",
     "output_type": "stream",
     "text": [
      "\r\u001b[32mloss: 67.1:  75%|██████████████████████████████         |  ETA: 0:01:25\u001b[39m\u001b[K"
     ]
    },
    {
     "name": "stderr",
     "output_type": "stream",
     "text": [
      "\r\u001b[32mloss: 67.1:  76%|██████████████████████████████         |  ETA: 0:01:24\u001b[39m\u001b[K"
     ]
    },
    {
     "name": "stderr",
     "output_type": "stream",
     "text": [
      "\r\u001b[32mloss: 67.1:  76%|██████████████████████████████         |  ETA: 0:01:22\u001b[39m\u001b[K"
     ]
    },
    {
     "name": "stderr",
     "output_type": "stream",
     "text": [
      "\r\u001b[32mloss: 67.1:  76%|██████████████████████████████         |  ETA: 0:01:20\u001b[39m\u001b[K"
     ]
    },
    {
     "name": "stderr",
     "output_type": "stream",
     "text": [
      "\r\u001b[32mloss: 67.1:  77%|███████████████████████████████        |  ETA: 0:01:18\u001b[39m\u001b[K"
     ]
    },
    {
     "name": "stderr",
     "output_type": "stream",
     "text": [
      "\r\u001b[32mloss: 67.1:  78%|███████████████████████████████        |  ETA: 0:01:17\u001b[39m\u001b[K"
     ]
    },
    {
     "name": "stderr",
     "output_type": "stream",
     "text": [
      "\r\u001b[32mloss: 67.1:  78%|███████████████████████████████        |  ETA: 0:01:15\u001b[39m\u001b[K"
     ]
    },
    {
     "name": "stderr",
     "output_type": "stream",
     "text": [
      "\r\u001b[32mloss: 67.1:  78%|███████████████████████████████        |  ETA: 0:01:13\u001b[39m\u001b[K"
     ]
    },
    {
     "name": "stderr",
     "output_type": "stream",
     "text": [
      "\r\u001b[32mloss: 67.1:  79%|███████████████████████████████        |  ETA: 0:01:11\u001b[39m\u001b[K"
     ]
    },
    {
     "name": "stderr",
     "output_type": "stream",
     "text": [
      "\r\u001b[32mloss: 67:  80%|█████████████████████████████████        |  ETA: 0:01:10\u001b[39m\u001b[K"
     ]
    },
    {
     "name": "stderr",
     "output_type": "stream",
     "text": [
      "\r\u001b[32mloss: 67:  80%|█████████████████████████████████        |  ETA: 0:01:08\u001b[39m\u001b[K"
     ]
    },
    {
     "name": "stderr",
     "output_type": "stream",
     "text": [
      "\r\u001b[32mloss: 67:  80%|██████████████████████████████████       |  ETA: 0:01:06\u001b[39m\u001b[K"
     ]
    },
    {
     "name": "stderr",
     "output_type": "stream",
     "text": [
      "\r\u001b[32mloss: 67:  81%|██████████████████████████████████       |  ETA: 0:01:04\u001b[39m\u001b[K"
     ]
    },
    {
     "name": "stderr",
     "output_type": "stream",
     "text": [
      "\r\u001b[32mloss: 67:  82%|██████████████████████████████████       |  ETA: 0:01:02\u001b[39m\u001b[K"
     ]
    },
    {
     "name": "stderr",
     "output_type": "stream",
     "text": [
      "\r\u001b[32mloss: 67:  82%|██████████████████████████████████       |  ETA: 0:01:01\u001b[39m\u001b[K"
     ]
    },
    {
     "name": "stderr",
     "output_type": "stream",
     "text": [
      "\r\u001b[32mloss: 67:  82%|██████████████████████████████████       |  ETA: 0:00:59\u001b[39m\u001b[K"
     ]
    },
    {
     "name": "stderr",
     "output_type": "stream",
     "text": [
      "\r\u001b[32mloss: 67:  83%|███████████████████████████████████      |  ETA: 0:00:57\u001b[39m\u001b[K"
     ]
    },
    {
     "name": "stderr",
     "output_type": "stream",
     "text": [
      "\r\u001b[32mloss: 67:  84%|███████████████████████████████████      |  ETA: 0:00:56\u001b[39m\u001b[K"
     ]
    },
    {
     "name": "stderr",
     "output_type": "stream",
     "text": [
      "\r\u001b[32mloss: 67:  84%|███████████████████████████████████      |  ETA: 0:00:54\u001b[39m\u001b[K"
     ]
    },
    {
     "name": "stderr",
     "output_type": "stream",
     "text": [
      "\r\u001b[32mloss: 67:  84%|███████████████████████████████████      |  ETA: 0:00:52\u001b[39m\u001b[K"
     ]
    },
    {
     "name": "stderr",
     "output_type": "stream",
     "text": [
      "\r\u001b[32mloss: 67:  85%|███████████████████████████████████      |  ETA: 0:00:50\u001b[39m\u001b[K"
     ]
    },
    {
     "name": "stderr",
     "output_type": "stream",
     "text": [
      "\r\u001b[32mloss: 66.9:  86%|██████████████████████████████████     |  ETA: 0:00:49\u001b[39m\u001b[K"
     ]
    },
    {
     "name": "stderr",
     "output_type": "stream",
     "text": [
      "\r\u001b[32mloss: 66.9:  86%|██████████████████████████████████     |  ETA: 0:00:47\u001b[39m\u001b[K"
     ]
    },
    {
     "name": "stderr",
     "output_type": "stream",
     "text": [
      "\r\u001b[32mloss: 66.9:  86%|██████████████████████████████████     |  ETA: 0:00:45\u001b[39m\u001b[K"
     ]
    },
    {
     "name": "stderr",
     "output_type": "stream",
     "text": [
      "\r\u001b[32mloss: 66.9:  87%|██████████████████████████████████     |  ETA: 0:00:44\u001b[39m\u001b[K"
     ]
    },
    {
     "name": "stderr",
     "output_type": "stream",
     "text": [
      "\r\u001b[32mloss: 66.9:  88%|███████████████████████████████████    |  ETA: 0:00:42\u001b[39m\u001b[K"
     ]
    },
    {
     "name": "stderr",
     "output_type": "stream",
     "text": [
      "\r\u001b[32mloss: 66.9:  88%|███████████████████████████████████    |  ETA: 0:00:40\u001b[39m\u001b[K"
     ]
    },
    {
     "name": "stderr",
     "output_type": "stream",
     "text": [
      "\r\u001b[32mloss: 66.9:  88%|███████████████████████████████████    |  ETA: 0:00:39\u001b[39m\u001b[K"
     ]
    },
    {
     "name": "stderr",
     "output_type": "stream",
     "text": [
      "\r\u001b[32mloss: 66.9:  89%|███████████████████████████████████    |  ETA: 0:00:37\u001b[39m\u001b[K"
     ]
    },
    {
     "name": "stderr",
     "output_type": "stream",
     "text": [
      "\r\u001b[32mloss: 66.9:  90%|███████████████████████████████████    |  ETA: 0:00:35\u001b[39m\u001b[K"
     ]
    },
    {
     "name": "stderr",
     "output_type": "stream",
     "text": [
      "\r\u001b[32mloss: 66.9:  90%|████████████████████████████████████   |  ETA: 0:00:33\u001b[39m\u001b[K"
     ]
    },
    {
     "name": "stderr",
     "output_type": "stream",
     "text": [
      "\r\u001b[32mloss: 66.9:  90%|████████████████████████████████████   |  ETA: 0:00:32\u001b[39m\u001b[K"
     ]
    },
    {
     "name": "stderr",
     "output_type": "stream",
     "text": [
      "\r\u001b[32mloss: 66.9:  91%|████████████████████████████████████   |  ETA: 0:00:30\u001b[39m\u001b[K"
     ]
    },
    {
     "name": "stderr",
     "output_type": "stream",
     "text": [
      "\r\u001b[32mloss: 66.9:  92%|████████████████████████████████████   |  ETA: 0:00:28\u001b[39m\u001b[K"
     ]
    },
    {
     "name": "stderr",
     "output_type": "stream",
     "text": [
      "\r\u001b[32mloss: 66.9:  92%|████████████████████████████████████   |  ETA: 0:00:27\u001b[39m\u001b[K"
     ]
    },
    {
     "name": "stderr",
     "output_type": "stream",
     "text": [
      "\r\u001b[32mloss: 66.8:  92%|█████████████████████████████████████  |  ETA: 0:00:25\u001b[39m\u001b[K"
     ]
    },
    {
     "name": "stderr",
     "output_type": "stream",
     "text": [
      "\r\u001b[32mloss: 66.8:  93%|█████████████████████████████████████  |  ETA: 0:00:23\u001b[39m\u001b[K"
     ]
    },
    {
     "name": "stderr",
     "output_type": "stream",
     "text": [
      "\r\u001b[32mloss: 66.8:  94%|█████████████████████████████████████  |  ETA: 0:00:22\u001b[39m\u001b[K"
     ]
    },
    {
     "name": "stderr",
     "output_type": "stream",
     "text": [
      "\r\u001b[32mloss: 66.8:  94%|█████████████████████████████████████  |  ETA: 0:00:20\u001b[39m\u001b[K"
     ]
    },
    {
     "name": "stderr",
     "output_type": "stream",
     "text": [
      "\r\u001b[32mloss: 66.8:  94%|█████████████████████████████████████  |  ETA: 0:00:18\u001b[39m\u001b[K"
     ]
    },
    {
     "name": "stderr",
     "output_type": "stream",
     "text": [
      "\r\u001b[32mloss: 66.8:  95%|██████████████████████████████████████ |  ETA: 0:00:17\u001b[39m\u001b[K"
     ]
    },
    {
     "name": "stderr",
     "output_type": "stream",
     "text": [
      "\r\u001b[32mloss: 66.8:  96%|██████████████████████████████████████ |  ETA: 0:00:15\u001b[39m\u001b[K"
     ]
    },
    {
     "name": "stderr",
     "output_type": "stream",
     "text": [
      "\r\u001b[32mloss: 66.8:  96%|██████████████████████████████████████ |  ETA: 0:00:13\u001b[39m\u001b[K"
     ]
    },
    {
     "name": "stderr",
     "output_type": "stream",
     "text": [
      "\r\u001b[32mloss: 66.8:  96%|██████████████████████████████████████ |  ETA: 0:00:12\u001b[39m\u001b[K"
     ]
    },
    {
     "name": "stderr",
     "output_type": "stream",
     "text": [
      "\r\u001b[32mloss: 66.8:  97%|██████████████████████████████████████ |  ETA: 0:00:10\u001b[39m\u001b[K"
     ]
    },
    {
     "name": "stderr",
     "output_type": "stream",
     "text": [
      "\r\u001b[32mloss: 66.8:  98%|███████████████████████████████████████|  ETA: 0:00:08\u001b[39m\u001b[K"
     ]
    },
    {
     "name": "stderr",
     "output_type": "stream",
     "text": [
      "\r\u001b[32mloss: 66.8:  98%|███████████████████████████████████████|  ETA: 0:00:07\u001b[39m\u001b[K"
     ]
    },
    {
     "name": "stderr",
     "output_type": "stream",
     "text": [
      "\r\u001b[32mloss: 66.8:  98%|███████████████████████████████████████|  ETA: 0:00:05\u001b[39m\u001b[K"
     ]
    },
    {
     "name": "stderr",
     "output_type": "stream",
     "text": [
      "\r\u001b[32mloss: 66.8:  99%|███████████████████████████████████████|  ETA: 0:00:03\u001b[39m\u001b[K"
     ]
    },
    {
     "name": "stderr",
     "output_type": "stream",
     "text": [
      "\r\u001b[32mloss: 66.8: 100%|███████████████████████████████████████|  ETA: 0:00:02\u001b[39m\u001b[K"
     ]
    },
    {
     "name": "stderr",
     "output_type": "stream",
     "text": [
      "\r\u001b[32mloss: 66.8: 100%|███████████████████████████████████████| Time: 0:05:31\u001b[39m\u001b[K\n"
     ]
    },
    {
     "name": "stderr",
     "output_type": "stream",
     "text": [
      "\r\u001b[32mloss: 66.8:   1%|█                                      |  ETA: 0:02:35\u001b[39m\u001b[K"
     ]
    },
    {
     "name": "stderr",
     "output_type": "stream",
     "text": [
      "\r\u001b[32mloss: 66.7:   2%|█                                      |  ETA: 0:03:19\u001b[39m\u001b[K"
     ]
    },
    {
     "name": "stderr",
     "output_type": "stream",
     "text": [
      "\r\u001b[32mloss: 66.7:   2%|█                                      |  ETA: 0:03:53\u001b[39m\u001b[K"
     ]
    },
    {
     "name": "stderr",
     "output_type": "stream",
     "text": [
      "\r\u001b[32mloss: 66.7:   2%|█                                      |  ETA: 0:04:12\u001b[39m\u001b[K"
     ]
    },
    {
     "name": "stderr",
     "output_type": "stream",
     "text": [
      "\r\u001b[32mloss: 66.7:   3%|██                                     |  ETA: 0:04:32\u001b[39m\u001b[K"
     ]
    },
    {
     "name": "stderr",
     "output_type": "stream",
     "text": [
      "\r\u001b[32mloss: 66.7:   4%|██                                     |  ETA: 0:04:35\u001b[39m\u001b[K"
     ]
    },
    {
     "name": "stderr",
     "output_type": "stream",
     "text": [
      "\r\u001b[32mloss: 66.7:   4%|██                                     |  ETA: 0:04:45\u001b[39m\u001b[K"
     ]
    },
    {
     "name": "stderr",
     "output_type": "stream",
     "text": [
      "\r\u001b[32mloss: 66.7:   4%|██                                     |  ETA: 0:04:45\u001b[39m\u001b[K"
     ]
    },
    {
     "name": "stderr",
     "output_type": "stream",
     "text": [
      "\r\u001b[32mloss: 66.7:   5%|██                                     |  ETA: 0:04:46\u001b[39m\u001b[K"
     ]
    },
    {
     "name": "stderr",
     "output_type": "stream",
     "text": [
      "\r\u001b[32mloss: 66.7:   6%|███                                    |  ETA: 0:04:46\u001b[39m\u001b[K"
     ]
    },
    {
     "name": "stderr",
     "output_type": "stream",
     "text": [
      "\r\u001b[32mloss: 66.6:   6%|███                                    |  ETA: 0:04:47\u001b[39m\u001b[K"
     ]
    },
    {
     "name": "stderr",
     "output_type": "stream",
     "text": [
      "\r\u001b[32mloss: 66.6:   6%|███                                    |  ETA: 0:04:48\u001b[39m\u001b[K"
     ]
    },
    {
     "name": "stderr",
     "output_type": "stream",
     "text": [
      "\r\u001b[32mloss: 66.6:   7%|███                                    |  ETA: 0:04:51\u001b[39m\u001b[K"
     ]
    },
    {
     "name": "stderr",
     "output_type": "stream",
     "text": [
      "\r\u001b[32mloss: 66.6:   8%|███                                    |  ETA: 0:04:52\u001b[39m\u001b[K"
     ]
    },
    {
     "name": "stderr",
     "output_type": "stream",
     "text": [
      "\r\u001b[32mloss: 66.6:   8%|████                                   |  ETA: 0:04:53\u001b[39m\u001b[K"
     ]
    },
    {
     "name": "stderr",
     "output_type": "stream",
     "text": [
      "\r\u001b[32mloss: 66.6:   8%|████                                   |  ETA: 0:04:54\u001b[39m\u001b[K"
     ]
    },
    {
     "name": "stderr",
     "output_type": "stream",
     "text": [
      "\r\u001b[32mloss: 66.6:   9%|████                                   |  ETA: 0:04:56\u001b[39m\u001b[K"
     ]
    },
    {
     "name": "stderr",
     "output_type": "stream",
     "text": [
      "\r\u001b[32mloss: 66.6:  10%|████                                   |  ETA: 0:04:57\u001b[39m\u001b[K"
     ]
    },
    {
     "name": "stderr",
     "output_type": "stream",
     "text": [
      "\r\u001b[32mloss: 66.6:  10%|████                                   |  ETA: 0:04:55\u001b[39m\u001b[K"
     ]
    },
    {
     "name": "stderr",
     "output_type": "stream",
     "text": [
      "\r\u001b[32mloss: 66.6:  10%|█████                                  |  ETA: 0:04:52\u001b[39m\u001b[K"
     ]
    },
    {
     "name": "stderr",
     "output_type": "stream",
     "text": [
      "\r\u001b[32mloss: 66.6:  11%|█████                                  |  ETA: 0:04:53\u001b[39m\u001b[K"
     ]
    },
    {
     "name": "stderr",
     "output_type": "stream",
     "text": [
      "\r\u001b[32mloss: 66.6:  12%|█████                                  |  ETA: 0:04:51\u001b[39m\u001b[K"
     ]
    },
    {
     "name": "stderr",
     "output_type": "stream",
     "text": [
      "\r\u001b[32mloss: 66.6:  12%|█████                                  |  ETA: 0:04:50\u001b[39m\u001b[K"
     ]
    },
    {
     "name": "stderr",
     "output_type": "stream",
     "text": [
      "\r\u001b[32mloss: 66.6:  12%|█████                                  |  ETA: 0:04:49\u001b[39m\u001b[K"
     ]
    },
    {
     "name": "stderr",
     "output_type": "stream",
     "text": [
      "\r\u001b[32mloss: 66.5:  13%|██████                                 |  ETA: 0:04:50\u001b[39m\u001b[K"
     ]
    },
    {
     "name": "stderr",
     "output_type": "stream",
     "text": [
      "\r\u001b[32mloss: 66.5:  14%|██████                                 |  ETA: 0:04:47\u001b[39m\u001b[K"
     ]
    },
    {
     "name": "stderr",
     "output_type": "stream",
     "text": [
      "\r\u001b[32mloss: 66.5:  14%|██████                                 |  ETA: 0:04:47\u001b[39m\u001b[K"
     ]
    },
    {
     "name": "stderr",
     "output_type": "stream",
     "text": [
      "\r\u001b[32mloss: 66.5:  14%|██████                                 |  ETA: 0:04:44\u001b[39m\u001b[K"
     ]
    },
    {
     "name": "stderr",
     "output_type": "stream",
     "text": [
      "\r\u001b[32mloss: 66.5:  15%|██████                                 |  ETA: 0:04:43\u001b[39m\u001b[K"
     ]
    },
    {
     "name": "stderr",
     "output_type": "stream",
     "text": [
      "\r\u001b[32mloss: 66.5:  16%|███████                                |  ETA: 0:04:43\u001b[39m\u001b[K"
     ]
    },
    {
     "name": "stderr",
     "output_type": "stream",
     "text": [
      "\r\u001b[32mloss: 66.5:  16%|███████                                |  ETA: 0:04:43\u001b[39m\u001b[K"
     ]
    },
    {
     "name": "stderr",
     "output_type": "stream",
     "text": [
      "\r\u001b[32mloss: 66.5:  16%|███████                                |  ETA: 0:04:42\u001b[39m\u001b[K"
     ]
    },
    {
     "name": "stderr",
     "output_type": "stream",
     "text": [
      "\r\u001b[32mloss: 66.5:  17%|███████                                |  ETA: 0:04:40\u001b[39m\u001b[K"
     ]
    },
    {
     "name": "stderr",
     "output_type": "stream",
     "text": [
      "\r\u001b[32mloss: 66.5:  18%|███████                                |  ETA: 0:04:40\u001b[39m\u001b[K"
     ]
    },
    {
     "name": "stderr",
     "output_type": "stream",
     "text": [
      "\r\u001b[32mloss: 66.5:  18%|████████                               |  ETA: 0:04:38\u001b[39m\u001b[K"
     ]
    },
    {
     "name": "stderr",
     "output_type": "stream",
     "text": [
      "\r\u001b[32mloss: 66.5:  18%|████████                               |  ETA: 0:04:37\u001b[39m\u001b[K"
     ]
    },
    {
     "name": "stderr",
     "output_type": "stream",
     "text": [
      "\r\u001b[32mloss: 66.5:  19%|████████                               |  ETA: 0:04:36\u001b[39m\u001b[K"
     ]
    },
    {
     "name": "stderr",
     "output_type": "stream",
     "text": [
      "\r\u001b[32mloss: 66.5:  20%|████████                               |  ETA: 0:04:34\u001b[39m\u001b[K"
     ]
    },
    {
     "name": "stderr",
     "output_type": "stream",
     "text": [
      "\r\u001b[32mloss: 66.5:  20%|████████                               |  ETA: 0:04:33\u001b[39m\u001b[K"
     ]
    },
    {
     "name": "stderr",
     "output_type": "stream",
     "text": [
      "\r\u001b[32mloss: 66.5:  20%|████████                               |  ETA: 0:04:31\u001b[39m\u001b[K"
     ]
    },
    {
     "name": "stderr",
     "output_type": "stream",
     "text": [
      "\r\u001b[32mloss: 66.5:  21%|█████████                              |  ETA: 0:04:29\u001b[39m\u001b[K"
     ]
    },
    {
     "name": "stderr",
     "output_type": "stream",
     "text": [
      "\r\u001b[32mloss: 66.5:  22%|█████████                              |  ETA: 0:04:27\u001b[39m\u001b[K"
     ]
    },
    {
     "name": "stderr",
     "output_type": "stream",
     "text": [
      "\r\u001b[32mloss: 66.5:  22%|█████████                              |  ETA: 0:04:26\u001b[39m\u001b[K"
     ]
    },
    {
     "name": "stderr",
     "output_type": "stream",
     "text": [
      "\r\u001b[32mloss: 66.5:  22%|█████████                              |  ETA: 0:04:25\u001b[39m\u001b[K"
     ]
    },
    {
     "name": "stderr",
     "output_type": "stream",
     "text": [
      "\r\u001b[32mloss: 66.5:  23%|█████████                              |  ETA: 0:04:23\u001b[39m\u001b[K"
     ]
    },
    {
     "name": "stderr",
     "output_type": "stream",
     "text": [
      "\r\u001b[32mloss: 66.5:  24%|██████████                             |  ETA: 0:04:22\u001b[39m\u001b[K"
     ]
    },
    {
     "name": "stderr",
     "output_type": "stream",
     "text": [
      "\r\u001b[32mloss: 66.4:  24%|██████████                             |  ETA: 0:04:20\u001b[39m\u001b[K"
     ]
    },
    {
     "name": "stderr",
     "output_type": "stream",
     "text": [
      "\r\u001b[32mloss: 66.4:  24%|██████████                             |  ETA: 0:04:18\u001b[39m\u001b[K"
     ]
    },
    {
     "name": "stderr",
     "output_type": "stream",
     "text": [
      "\r\u001b[32mloss: 66.4:  25%|██████████                             |  ETA: 0:04:17\u001b[39m\u001b[K"
     ]
    },
    {
     "name": "stderr",
     "output_type": "stream",
     "text": [
      "\r\u001b[32mloss: 66.4:  26%|██████████                             |  ETA: 0:04:15\u001b[39m\u001b[K"
     ]
    },
    {
     "name": "stderr",
     "output_type": "stream",
     "text": [
      "\r\u001b[32mloss: 66.4:  26%|███████████                            |  ETA: 0:04:14\u001b[39m\u001b[K"
     ]
    },
    {
     "name": "stderr",
     "output_type": "stream",
     "text": [
      "\r\u001b[32mloss: 66.4:  26%|███████████                            |  ETA: 0:04:12\u001b[39m\u001b[K"
     ]
    },
    {
     "name": "stderr",
     "output_type": "stream",
     "text": [
      "\r\u001b[32mloss: 66.4:  27%|███████████                            |  ETA: 0:04:10\u001b[39m\u001b[K"
     ]
    },
    {
     "name": "stderr",
     "output_type": "stream",
     "text": [
      "\r\u001b[32mloss: 66.4:  28%|███████████                            |  ETA: 0:04:08\u001b[39m\u001b[K"
     ]
    },
    {
     "name": "stderr",
     "output_type": "stream",
     "text": [
      "\r\u001b[32mloss: 66.4:  28%|███████████                            |  ETA: 0:04:07\u001b[39m\u001b[K"
     ]
    },
    {
     "name": "stderr",
     "output_type": "stream",
     "text": [
      "\r\u001b[32mloss: 66.4:  28%|████████████                           |  ETA: 0:04:05\u001b[39m\u001b[K"
     ]
    },
    {
     "name": "stderr",
     "output_type": "stream",
     "text": [
      "\r\u001b[32mloss: 66.4:  29%|████████████                           |  ETA: 0:04:04\u001b[39m\u001b[K"
     ]
    },
    {
     "name": "stderr",
     "output_type": "stream",
     "text": [
      "\r\u001b[32mloss: 66.4:  30%|████████████                           |  ETA: 0:04:02\u001b[39m\u001b[K"
     ]
    },
    {
     "name": "stderr",
     "output_type": "stream",
     "text": [
      "\r\u001b[32mloss: 66.4:  30%|████████████                           |  ETA: 0:04:00\u001b[39m\u001b[K"
     ]
    },
    {
     "name": "stderr",
     "output_type": "stream",
     "text": [
      "\r\u001b[32mloss: 66.4:  30%|████████████                           |  ETA: 0:03:59\u001b[39m\u001b[K"
     ]
    },
    {
     "name": "stderr",
     "output_type": "stream",
     "text": [
      "\r\u001b[32mloss: 66.4:  31%|█████████████                          |  ETA: 0:03:57\u001b[39m\u001b[K"
     ]
    },
    {
     "name": "stderr",
     "output_type": "stream",
     "text": [
      "\r\u001b[32mloss: 66.4:  32%|█████████████                          |  ETA: 0:03:56\u001b[39m\u001b[K"
     ]
    },
    {
     "name": "stderr",
     "output_type": "stream",
     "text": [
      "\r\u001b[32mloss: 66.4:  32%|█████████████                          |  ETA: 0:03:54\u001b[39m\u001b[K"
     ]
    },
    {
     "name": "stderr",
     "output_type": "stream",
     "text": [
      "\r\u001b[32mloss: 66.4:  32%|█████████████                          |  ETA: 0:03:53\u001b[39m\u001b[K"
     ]
    },
    {
     "name": "stderr",
     "output_type": "stream",
     "text": [
      "\r\u001b[32mloss: 66.4:  33%|█████████████                          |  ETA: 0:03:51\u001b[39m\u001b[K"
     ]
    },
    {
     "name": "stderr",
     "output_type": "stream",
     "text": [
      "\r\u001b[32mloss: 66.4:  34%|██████████████                         |  ETA: 0:03:49\u001b[39m\u001b[K"
     ]
    },
    {
     "name": "stderr",
     "output_type": "stream",
     "text": [
      "\r\u001b[32mloss: 66.4:  34%|██████████████                         |  ETA: 0:03:48\u001b[39m\u001b[K"
     ]
    },
    {
     "name": "stderr",
     "output_type": "stream",
     "text": [
      "\r\u001b[32mloss: 66.4:  34%|██████████████                         |  ETA: 0:03:47\u001b[39m\u001b[K"
     ]
    },
    {
     "name": "stderr",
     "output_type": "stream",
     "text": [
      "\r\u001b[32mloss: 66.4:  35%|██████████████                         |  ETA: 0:03:46\u001b[39m\u001b[K"
     ]
    },
    {
     "name": "stderr",
     "output_type": "stream",
     "text": [
      "\r\u001b[32mloss: 66.4:  36%|██████████████                         |  ETA: 0:03:44\u001b[39m\u001b[K"
     ]
    },
    {
     "name": "stderr",
     "output_type": "stream",
     "text": [
      "\r\u001b[32mloss: 66.3:  36%|███████████████                        |  ETA: 0:03:43\u001b[39m\u001b[K"
     ]
    },
    {
     "name": "stderr",
     "output_type": "stream",
     "text": [
      "\r\u001b[32mloss: 66.3:  36%|███████████████                        |  ETA: 0:03:41\u001b[39m\u001b[K"
     ]
    },
    {
     "name": "stderr",
     "output_type": "stream",
     "text": [
      "\r\u001b[32mloss: 66.3:  37%|███████████████                        |  ETA: 0:03:39\u001b[39m\u001b[K"
     ]
    },
    {
     "name": "stderr",
     "output_type": "stream",
     "text": [
      "\r\u001b[32mloss: 66.3:  38%|███████████████                        |  ETA: 0:03:38\u001b[39m\u001b[K"
     ]
    },
    {
     "name": "stderr",
     "output_type": "stream",
     "text": [
      "\r\u001b[32mloss: 66.3:  38%|███████████████                        |  ETA: 0:03:37\u001b[39m\u001b[K"
     ]
    },
    {
     "name": "stderr",
     "output_type": "stream",
     "text": [
      "\r\u001b[32mloss: 66.3:  38%|████████████████                       |  ETA: 0:03:35\u001b[39m\u001b[K"
     ]
    },
    {
     "name": "stderr",
     "output_type": "stream",
     "text": [
      "\r\u001b[32mloss: 66.3:  39%|████████████████                       |  ETA: 0:03:34\u001b[39m\u001b[K"
     ]
    },
    {
     "name": "stderr",
     "output_type": "stream",
     "text": [
      "\r\u001b[32mloss: 66.3:  40%|████████████████                       |  ETA: 0:03:32\u001b[39m\u001b[K"
     ]
    },
    {
     "name": "stderr",
     "output_type": "stream",
     "text": [
      "\r\u001b[32mloss: 66.3:  40%|████████████████                       |  ETA: 0:03:30\u001b[39m\u001b[K"
     ]
    },
    {
     "name": "stderr",
     "output_type": "stream",
     "text": [
      "\r\u001b[32mloss: 66.3:  40%|████████████████                       |  ETA: 0:03:28\u001b[39m\u001b[K"
     ]
    },
    {
     "name": "stderr",
     "output_type": "stream",
     "text": [
      "\r\u001b[32mloss: 66.3:  41%|████████████████                       |  ETA: 0:03:27\u001b[39m\u001b[K"
     ]
    },
    {
     "name": "stderr",
     "output_type": "stream",
     "text": [
      "\r\u001b[32mloss: 66.3:  42%|█████████████████                      |  ETA: 0:03:25\u001b[39m\u001b[K"
     ]
    },
    {
     "name": "stderr",
     "output_type": "stream",
     "text": [
      "\r\u001b[32mloss: 66.3:  42%|█████████████████                      |  ETA: 0:03:23\u001b[39m\u001b[K"
     ]
    },
    {
     "name": "stderr",
     "output_type": "stream",
     "text": [
      "\r\u001b[32mloss: 66.3:  42%|█████████████████                      |  ETA: 0:03:22\u001b[39m\u001b[K"
     ]
    },
    {
     "name": "stderr",
     "output_type": "stream",
     "text": [
      "\r\u001b[32mloss: 66.3:  43%|█████████████████                      |  ETA: 0:03:20\u001b[39m\u001b[K"
     ]
    },
    {
     "name": "stderr",
     "output_type": "stream",
     "text": [
      "\r\u001b[32mloss: 66.3:  44%|█████████████████                      |  ETA: 0:03:18\u001b[39m\u001b[K"
     ]
    },
    {
     "name": "stderr",
     "output_type": "stream",
     "text": [
      "\r\u001b[32mloss: 66.3:  44%|██████████████████                     |  ETA: 0:03:17\u001b[39m\u001b[K"
     ]
    },
    {
     "name": "stderr",
     "output_type": "stream",
     "text": [
      "\r\u001b[32mloss: 66.3:  44%|██████████████████                     |  ETA: 0:03:15\u001b[39m\u001b[K"
     ]
    },
    {
     "name": "stderr",
     "output_type": "stream",
     "text": [
      "\r\u001b[32mloss: 66.3:  45%|██████████████████                     |  ETA: 0:03:13\u001b[39m\u001b[K"
     ]
    },
    {
     "name": "stderr",
     "output_type": "stream",
     "text": [
      "\r\u001b[32mloss: 66.3:  46%|██████████████████                     |  ETA: 0:03:12\u001b[39m\u001b[K"
     ]
    },
    {
     "name": "stderr",
     "output_type": "stream",
     "text": [
      "\r\u001b[32mloss: 66.3:  46%|██████████████████                     |  ETA: 0:03:10\u001b[39m\u001b[K"
     ]
    },
    {
     "name": "stderr",
     "output_type": "stream",
     "text": [
      "\r\u001b[32mloss: 66.3:  46%|███████████████████                    |  ETA: 0:03:08\u001b[39m\u001b[K"
     ]
    },
    {
     "name": "stderr",
     "output_type": "stream",
     "text": [
      "\r\u001b[32mloss: 66.3:  47%|███████████████████                    |  ETA: 0:03:06\u001b[39m\u001b[K"
     ]
    },
    {
     "name": "stderr",
     "output_type": "stream",
     "text": [
      "\r\u001b[32mloss: 66.2:  48%|███████████████████                    |  ETA: 0:03:05\u001b[39m\u001b[K"
     ]
    },
    {
     "name": "stderr",
     "output_type": "stream",
     "text": [
      "\r\u001b[32mloss: 66.2:  48%|███████████████████                    |  ETA: 0:03:03\u001b[39m\u001b[K"
     ]
    },
    {
     "name": "stderr",
     "output_type": "stream",
     "text": [
      "\r\u001b[32mloss: 66.2:  48%|███████████████████                    |  ETA: 0:03:01\u001b[39m\u001b[K"
     ]
    },
    {
     "name": "stderr",
     "output_type": "stream",
     "text": [
      "\r\u001b[32mloss: 66.2:  49%|████████████████████                   |  ETA: 0:03:00\u001b[39m\u001b[K"
     ]
    },
    {
     "name": "stderr",
     "output_type": "stream",
     "text": [
      "\r\u001b[32mloss: 66.2:  50%|████████████████████                   |  ETA: 0:02:58\u001b[39m\u001b[K"
     ]
    },
    {
     "name": "stderr",
     "output_type": "stream",
     "text": [
      "\r\u001b[32mloss: 66.2:  50%|████████████████████                   |  ETA: 0:02:57\u001b[39m\u001b[K"
     ]
    },
    {
     "name": "stderr",
     "output_type": "stream",
     "text": [
      "\r\u001b[32mloss: 66.2:  50%|████████████████████                   |  ETA: 0:02:55\u001b[39m\u001b[K"
     ]
    },
    {
     "name": "stderr",
     "output_type": "stream",
     "text": [
      "\r\u001b[32mloss: 66.2:  51%|████████████████████                   |  ETA: 0:02:53\u001b[39m\u001b[K"
     ]
    },
    {
     "name": "stderr",
     "output_type": "stream",
     "text": [
      "\r\u001b[32mloss: 66.2:  52%|█████████████████████                  |  ETA: 0:02:52\u001b[39m\u001b[K"
     ]
    },
    {
     "name": "stderr",
     "output_type": "stream",
     "text": [
      "\r\u001b[32mloss: 66.2:  52%|█████████████████████                  |  ETA: 0:02:50\u001b[39m\u001b[K"
     ]
    },
    {
     "name": "stderr",
     "output_type": "stream",
     "text": [
      "\r\u001b[32mloss: 66.2:  52%|█████████████████████                  |  ETA: 0:02:48\u001b[39m\u001b[K"
     ]
    },
    {
     "name": "stderr",
     "output_type": "stream",
     "text": [
      "\r\u001b[32mloss: 66.2:  53%|█████████████████████                  |  ETA: 0:02:46\u001b[39m\u001b[K"
     ]
    },
    {
     "name": "stderr",
     "output_type": "stream",
     "text": [
      "\r\u001b[32mloss: 66.2:  54%|█████████████████████                  |  ETA: 0:02:44\u001b[39m\u001b[K"
     ]
    },
    {
     "name": "stderr",
     "output_type": "stream",
     "text": [
      "\r\u001b[32mloss: 66.2:  54%|██████████████████████                 |  ETA: 0:02:43\u001b[39m\u001b[K"
     ]
    },
    {
     "name": "stderr",
     "output_type": "stream",
     "text": [
      "\r\u001b[32mloss: 66.2:  54%|██████████████████████                 |  ETA: 0:02:41\u001b[39m\u001b[K"
     ]
    },
    {
     "name": "stderr",
     "output_type": "stream",
     "text": [
      "\r\u001b[32mloss: 66.2:  55%|██████████████████████                 |  ETA: 0:02:39\u001b[39m\u001b[K"
     ]
    },
    {
     "name": "stderr",
     "output_type": "stream",
     "text": [
      "\r\u001b[32mloss: 66.2:  56%|██████████████████████                 |  ETA: 0:02:37\u001b[39m\u001b[K"
     ]
    },
    {
     "name": "stderr",
     "output_type": "stream",
     "text": [
      "\r\u001b[32mloss: 66.2:  56%|██████████████████████                 |  ETA: 0:02:35\u001b[39m\u001b[K"
     ]
    },
    {
     "name": "stderr",
     "output_type": "stream",
     "text": [
      "\r\u001b[32mloss: 66.2:  56%|███████████████████████                |  ETA: 0:02:33\u001b[39m\u001b[K"
     ]
    },
    {
     "name": "stderr",
     "output_type": "stream",
     "text": [
      "\r\u001b[32mloss: 66.2:  57%|███████████████████████                |  ETA: 0:02:40\u001b[39m\u001b[K"
     ]
    },
    {
     "name": "stderr",
     "output_type": "stream",
     "text": [
      "\r\u001b[32mloss: 66.2:  58%|███████████████████████                |  ETA: 0:02:38\u001b[39m\u001b[K"
     ]
    },
    {
     "name": "stderr",
     "output_type": "stream",
     "text": [
      "\r\u001b[32mloss: 66.2:  58%|███████████████████████                |  ETA: 0:02:36\u001b[39m\u001b[K"
     ]
    },
    {
     "name": "stderr",
     "output_type": "stream",
     "text": [
      "\r\u001b[32mloss: 66.1:  58%|███████████████████████                |  ETA: 0:02:33\u001b[39m\u001b[K"
     ]
    },
    {
     "name": "stderr",
     "output_type": "stream",
     "text": [
      "\r\u001b[32mloss: 66.1:  59%|████████████████████████               |  ETA: 0:02:31\u001b[39m\u001b[K"
     ]
    },
    {
     "name": "stderr",
     "output_type": "stream",
     "text": [
      "\r\u001b[32mloss: 66.1:  60%|████████████████████████               |  ETA: 0:02:30\u001b[39m\u001b[K"
     ]
    },
    {
     "name": "stderr",
     "output_type": "stream",
     "text": [
      "\r\u001b[32mloss: 66.1:  60%|████████████████████████               |  ETA: 0:02:28\u001b[39m\u001b[K"
     ]
    },
    {
     "name": "stderr",
     "output_type": "stream",
     "text": [
      "\r\u001b[32mloss: 66.1:  60%|████████████████████████               |  ETA: 0:02:26\u001b[39m\u001b[K"
     ]
    },
    {
     "name": "stderr",
     "output_type": "stream",
     "text": [
      "\r\u001b[32mloss: 66.1:  61%|████████████████████████               |  ETA: 0:02:24\u001b[39m\u001b[K"
     ]
    },
    {
     "name": "stderr",
     "output_type": "stream",
     "text": [
      "\r\u001b[32mloss: 66.1:  62%|████████████████████████               |  ETA: 0:02:22\u001b[39m\u001b[K"
     ]
    },
    {
     "name": "stderr",
     "output_type": "stream",
     "text": [
      "\r\u001b[32mloss: 66.1:  62%|█████████████████████████              |  ETA: 0:02:20\u001b[39m\u001b[K"
     ]
    },
    {
     "name": "stderr",
     "output_type": "stream",
     "text": [
      "\r\u001b[32mloss: 66.1:  62%|█████████████████████████              |  ETA: 0:02:18\u001b[39m\u001b[K"
     ]
    },
    {
     "name": "stderr",
     "output_type": "stream",
     "text": [
      "\r\u001b[32mloss: 66.1:  63%|█████████████████████████              |  ETA: 0:02:16\u001b[39m\u001b[K"
     ]
    },
    {
     "name": "stderr",
     "output_type": "stream",
     "text": [
      "\r\u001b[32mloss: 66.1:  64%|█████████████████████████              |  ETA: 0:02:14\u001b[39m\u001b[K"
     ]
    },
    {
     "name": "stderr",
     "output_type": "stream",
     "text": [
      "\r\u001b[32mloss: 66.1:  64%|█████████████████████████              |  ETA: 0:02:12\u001b[39m\u001b[K"
     ]
    },
    {
     "name": "stderr",
     "output_type": "stream",
     "text": [
      "\r\u001b[32mloss: 66.1:  64%|██████████████████████████             |  ETA: 0:02:11\u001b[39m\u001b[K"
     ]
    },
    {
     "name": "stderr",
     "output_type": "stream",
     "text": [
      "\r\u001b[32mloss: 66.1:  65%|██████████████████████████             |  ETA: 0:02:09\u001b[39m\u001b[K"
     ]
    },
    {
     "name": "stderr",
     "output_type": "stream",
     "text": [
      "\r\u001b[32mloss: 66.1:  66%|██████████████████████████             |  ETA: 0:02:07\u001b[39m\u001b[K"
     ]
    },
    {
     "name": "stderr",
     "output_type": "stream",
     "text": [
      "\r\u001b[32mloss: 66.1:  66%|██████████████████████████             |  ETA: 0:02:05\u001b[39m\u001b[K"
     ]
    },
    {
     "name": "stderr",
     "output_type": "stream",
     "text": [
      "\r\u001b[32mloss: 66.1:  66%|██████████████████████████             |  ETA: 0:02:03\u001b[39m\u001b[K"
     ]
    },
    {
     "name": "stderr",
     "output_type": "stream",
     "text": [
      "\r\u001b[32mloss: 66.1:  67%|███████████████████████████            |  ETA: 0:02:01\u001b[39m\u001b[K"
     ]
    },
    {
     "name": "stderr",
     "output_type": "stream",
     "text": [
      "\r\u001b[32mloss: 66.1:  68%|███████████████████████████            |  ETA: 0:01:59\u001b[39m\u001b[K"
     ]
    },
    {
     "name": "stderr",
     "output_type": "stream",
     "text": [
      "\r\u001b[32mloss: 66.1:  68%|███████████████████████████            |  ETA: 0:01:58\u001b[39m\u001b[K"
     ]
    },
    {
     "name": "stderr",
     "output_type": "stream",
     "text": [
      "\r\u001b[32mloss: 66.1:  68%|███████████████████████████            |  ETA: 0:01:56\u001b[39m\u001b[K"
     ]
    },
    {
     "name": "stderr",
     "output_type": "stream",
     "text": [
      "\r\u001b[32mloss: 66:  69%|█████████████████████████████            |  ETA: 0:01:54\u001b[39m\u001b[K"
     ]
    },
    {
     "name": "stderr",
     "output_type": "stream",
     "text": [
      "\r\u001b[32mloss: 66:  70%|█████████████████████████████            |  ETA: 0:01:52\u001b[39m\u001b[K"
     ]
    },
    {
     "name": "stderr",
     "output_type": "stream",
     "text": [
      "\r\u001b[32mloss: 66:  70%|█████████████████████████████            |  ETA: 0:01:50\u001b[39m\u001b[K"
     ]
    },
    {
     "name": "stderr",
     "output_type": "stream",
     "text": [
      "\r\u001b[32mloss: 66:  70%|█████████████████████████████            |  ETA: 0:01:48\u001b[39m\u001b[K"
     ]
    },
    {
     "name": "stderr",
     "output_type": "stream",
     "text": [
      "\r\u001b[32mloss: 66:  71%|██████████████████████████████           |  ETA: 0:01:46\u001b[39m\u001b[K"
     ]
    },
    {
     "name": "stderr",
     "output_type": "stream",
     "text": [
      "\r\u001b[32mloss: 66:  72%|██████████████████████████████           |  ETA: 0:01:45\u001b[39m\u001b[K"
     ]
    },
    {
     "name": "stderr",
     "output_type": "stream",
     "text": [
      "\r\u001b[32mloss: 66:  72%|██████████████████████████████           |  ETA: 0:01:43\u001b[39m\u001b[K"
     ]
    },
    {
     "name": "stderr",
     "output_type": "stream",
     "text": [
      "\r\u001b[32mloss: 66:  72%|██████████████████████████████           |  ETA: 0:01:41\u001b[39m\u001b[K"
     ]
    },
    {
     "name": "stderr",
     "output_type": "stream",
     "text": [
      "\r\u001b[32mloss: 66:  73%|██████████████████████████████           |  ETA: 0:01:39\u001b[39m\u001b[K"
     ]
    },
    {
     "name": "stderr",
     "output_type": "stream",
     "text": [
      "\r\u001b[32mloss: 66:  74%|███████████████████████████████          |  ETA: 0:01:37\u001b[39m\u001b[K"
     ]
    },
    {
     "name": "stderr",
     "output_type": "stream",
     "text": [
      "\r\u001b[32mloss: 66:  74%|███████████████████████████████          |  ETA: 0:01:35\u001b[39m\u001b[K"
     ]
    },
    {
     "name": "stderr",
     "output_type": "stream",
     "text": [
      "\r\u001b[32mloss: 66:  74%|███████████████████████████████          |  ETA: 0:01:33\u001b[39m\u001b[K"
     ]
    },
    {
     "name": "stderr",
     "output_type": "stream",
     "text": [
      "\r\u001b[32mloss: 66:  75%|███████████████████████████████          |  ETA: 0:01:32\u001b[39m\u001b[K"
     ]
    },
    {
     "name": "stderr",
     "output_type": "stream",
     "text": [
      "\r\u001b[32mloss: 66:  76%|███████████████████████████████          |  ETA: 0:01:30\u001b[39m\u001b[K"
     ]
    },
    {
     "name": "stderr",
     "output_type": "stream",
     "text": [
      "\r\u001b[32mloss: 66:  76%|████████████████████████████████         |  ETA: 0:01:28\u001b[39m\u001b[K"
     ]
    },
    {
     "name": "stderr",
     "output_type": "stream",
     "text": [
      "\r\u001b[32mloss: 66:  76%|████████████████████████████████         |  ETA: 0:01:26\u001b[39m\u001b[K"
     ]
    },
    {
     "name": "stderr",
     "output_type": "stream",
     "text": [
      "\r\u001b[32mloss: 66:  77%|████████████████████████████████         |  ETA: 0:01:24\u001b[39m\u001b[K"
     ]
    },
    {
     "name": "stderr",
     "output_type": "stream",
     "text": [
      "\r\u001b[32mloss: 66:  78%|████████████████████████████████         |  ETA: 0:01:22\u001b[39m\u001b[K"
     ]
    },
    {
     "name": "stderr",
     "output_type": "stream",
     "text": [
      "\r\u001b[32mloss: 66:  78%|████████████████████████████████         |  ETA: 0:01:21\u001b[39m\u001b[K"
     ]
    },
    {
     "name": "stderr",
     "output_type": "stream",
     "text": [
      "\r\u001b[32mloss: 66:  78%|█████████████████████████████████        |  ETA: 0:01:19\u001b[39m\u001b[K"
     ]
    },
    {
     "name": "stderr",
     "output_type": "stream",
     "text": [
      "\r\u001b[32mloss: 66:  79%|█████████████████████████████████        |  ETA: 0:01:17\u001b[39m\u001b[K"
     ]
    },
    {
     "name": "stderr",
     "output_type": "stream",
     "text": [
      "\r\u001b[32mloss: 65.9:  80%|████████████████████████████████       |  ETA: 0:01:15\u001b[39m\u001b[K"
     ]
    },
    {
     "name": "stderr",
     "output_type": "stream",
     "text": [
      "\r\u001b[32mloss: 65.9:  80%|████████████████████████████████       |  ETA: 0:01:13\u001b[39m\u001b[K"
     ]
    },
    {
     "name": "stderr",
     "output_type": "stream",
     "text": [
      "\r\u001b[32mloss: 65.9:  80%|████████████████████████████████       |  ETA: 0:01:11\u001b[39m\u001b[K"
     ]
    },
    {
     "name": "stderr",
     "output_type": "stream",
     "text": [
      "\r\u001b[32mloss: 65.9:  81%|████████████████████████████████       |  ETA: 0:01:10\u001b[39m\u001b[K"
     ]
    },
    {
     "name": "stderr",
     "output_type": "stream",
     "text": [
      "\r\u001b[32mloss: 65.9:  82%|████████████████████████████████       |  ETA: 0:01:08\u001b[39m\u001b[K"
     ]
    },
    {
     "name": "stderr",
     "output_type": "stream",
     "text": [
      "\r\u001b[32mloss: 65.9:  82%|████████████████████████████████       |  ETA: 0:01:06\u001b[39m\u001b[K"
     ]
    },
    {
     "name": "stderr",
     "output_type": "stream",
     "text": [
      "\r\u001b[32mloss: 65.9:  82%|█████████████████████████████████      |  ETA: 0:01:04\u001b[39m\u001b[K"
     ]
    },
    {
     "name": "stderr",
     "output_type": "stream",
     "text": [
      "\r\u001b[32mloss: 65.9:  83%|█████████████████████████████████      |  ETA: 0:01:02\u001b[39m\u001b[K"
     ]
    },
    {
     "name": "stderr",
     "output_type": "stream",
     "text": [
      "\r\u001b[32mloss: 65.9:  84%|█████████████████████████████████      |  ETA: 0:01:01\u001b[39m\u001b[K"
     ]
    },
    {
     "name": "stderr",
     "output_type": "stream",
     "text": [
      "\r\u001b[32mloss: 65.9:  84%|█████████████████████████████████      |  ETA: 0:00:59\u001b[39m\u001b[K"
     ]
    },
    {
     "name": "stderr",
     "output_type": "stream",
     "text": [
      "\r\u001b[32mloss: 65.9:  84%|█████████████████████████████████      |  ETA: 0:00:57\u001b[39m\u001b[K"
     ]
    },
    {
     "name": "stderr",
     "output_type": "stream",
     "text": [
      "\r\u001b[32mloss: 65.9:  85%|██████████████████████████████████     |  ETA: 0:00:55\u001b[39m\u001b[K"
     ]
    },
    {
     "name": "stderr",
     "output_type": "stream",
     "text": [
      "\r\u001b[32mloss: 65.9:  86%|██████████████████████████████████     |  ETA: 0:00:53\u001b[39m\u001b[K"
     ]
    },
    {
     "name": "stderr",
     "output_type": "stream",
     "text": [
      "\r\u001b[32mloss: 65.9:  86%|██████████████████████████████████     |  ETA: 0:00:51\u001b[39m\u001b[K"
     ]
    },
    {
     "name": "stderr",
     "output_type": "stream",
     "text": [
      "\r\u001b[32mloss: 65.9:  86%|██████████████████████████████████     |  ETA: 0:00:50\u001b[39m\u001b[K"
     ]
    },
    {
     "name": "stderr",
     "output_type": "stream",
     "text": [
      "\r\u001b[32mloss: 65.9:  87%|██████████████████████████████████     |  ETA: 0:00:48\u001b[39m\u001b[K"
     ]
    },
    {
     "name": "stderr",
     "output_type": "stream",
     "text": [
      "\r\u001b[32mloss: 65.9:  88%|███████████████████████████████████    |  ETA: 0:00:46\u001b[39m\u001b[K"
     ]
    },
    {
     "name": "stderr",
     "output_type": "stream",
     "text": [
      "\r\u001b[32mloss: 65.9:  88%|███████████████████████████████████    |  ETA: 0:00:44\u001b[39m\u001b[K"
     ]
    },
    {
     "name": "stderr",
     "output_type": "stream",
     "text": [
      "\r\u001b[32mloss: 65.9:  88%|███████████████████████████████████    |  ETA: 0:00:42\u001b[39m\u001b[K"
     ]
    },
    {
     "name": "stderr",
     "output_type": "stream",
     "text": [
      "\r\u001b[32mloss: 65.9:  89%|███████████████████████████████████    |  ETA: 0:00:40\u001b[39m\u001b[K"
     ]
    },
    {
     "name": "stderr",
     "output_type": "stream",
     "text": [
      "\r\u001b[32mloss: 65.8:  90%|███████████████████████████████████    |  ETA: 0:00:39\u001b[39m\u001b[K"
     ]
    },
    {
     "name": "stderr",
     "output_type": "stream",
     "text": [
      "\r\u001b[32mloss: 65.8:  90%|████████████████████████████████████   |  ETA: 0:00:37\u001b[39m\u001b[K"
     ]
    },
    {
     "name": "stderr",
     "output_type": "stream",
     "text": [
      "\r\u001b[32mloss: 65.8:  90%|████████████████████████████████████   |  ETA: 0:00:35\u001b[39m\u001b[K"
     ]
    },
    {
     "name": "stderr",
     "output_type": "stream",
     "text": [
      "\r\u001b[32mloss: 65.8:  91%|████████████████████████████████████   |  ETA: 0:00:33\u001b[39m\u001b[K"
     ]
    },
    {
     "name": "stderr",
     "output_type": "stream",
     "text": [
      "\r\u001b[32mloss: 65.8:  92%|████████████████████████████████████   |  ETA: 0:00:31\u001b[39m\u001b[K"
     ]
    },
    {
     "name": "stderr",
     "output_type": "stream",
     "text": [
      "\r\u001b[32mloss: 65.8:  92%|████████████████████████████████████   |  ETA: 0:00:29\u001b[39m\u001b[K"
     ]
    },
    {
     "name": "stderr",
     "output_type": "stream",
     "text": [
      "\r\u001b[32mloss: 65.8:  92%|█████████████████████████████████████  |  ETA: 0:00:28\u001b[39m\u001b[K"
     ]
    },
    {
     "name": "stderr",
     "output_type": "stream",
     "text": [
      "\r\u001b[32mloss: 65.8:  93%|█████████████████████████████████████  |  ETA: 0:00:26\u001b[39m\u001b[K"
     ]
    },
    {
     "name": "stderr",
     "output_type": "stream",
     "text": [
      "\r\u001b[32mloss: 65.8:  94%|█████████████████████████████████████  |  ETA: 0:00:24\u001b[39m\u001b[K"
     ]
    },
    {
     "name": "stderr",
     "output_type": "stream",
     "text": [
      "\r\u001b[32mloss: 65.8:  94%|█████████████████████████████████████  |  ETA: 0:00:22\u001b[39m\u001b[K"
     ]
    },
    {
     "name": "stderr",
     "output_type": "stream",
     "text": [
      "\r\u001b[32mloss: 65.8:  94%|█████████████████████████████████████  |  ETA: 0:00:20\u001b[39m\u001b[K"
     ]
    },
    {
     "name": "stderr",
     "output_type": "stream",
     "text": [
      "\r\u001b[32mloss: 65.8:  95%|██████████████████████████████████████ |  ETA: 0:00:18\u001b[39m\u001b[K"
     ]
    },
    {
     "name": "stderr",
     "output_type": "stream",
     "text": [
      "\r\u001b[32mloss: 65.8:  96%|██████████████████████████████████████ |  ETA: 0:00:17\u001b[39m\u001b[K"
     ]
    },
    {
     "name": "stderr",
     "output_type": "stream",
     "text": [
      "\r\u001b[32mloss: 65.8:  96%|██████████████████████████████████████ |  ETA: 0:00:15\u001b[39m\u001b[K"
     ]
    },
    {
     "name": "stderr",
     "output_type": "stream",
     "text": [
      "\r\u001b[32mloss: 65.8:  96%|██████████████████████████████████████ |  ETA: 0:00:13\u001b[39m\u001b[K"
     ]
    },
    {
     "name": "stderr",
     "output_type": "stream",
     "text": [
      "\r\u001b[32mloss: 65.8:  97%|██████████████████████████████████████ |  ETA: 0:00:11\u001b[39m\u001b[K"
     ]
    },
    {
     "name": "stderr",
     "output_type": "stream",
     "text": [
      "\r\u001b[32mloss: 65.8:  98%|███████████████████████████████████████|  ETA: 0:00:09\u001b[39m\u001b[K"
     ]
    },
    {
     "name": "stderr",
     "output_type": "stream",
     "text": [
      "\r\u001b[32mloss: 65.8:  98%|███████████████████████████████████████|  ETA: 0:00:07\u001b[39m\u001b[K"
     ]
    },
    {
     "name": "stderr",
     "output_type": "stream",
     "text": [
      "\r\u001b[32mloss: 65.8:  98%|███████████████████████████████████████|  ETA: 0:00:06\u001b[39m\u001b[K"
     ]
    },
    {
     "name": "stderr",
     "output_type": "stream",
     "text": [
      "\r\u001b[32mloss: 65.8:  99%|███████████████████████████████████████|  ETA: 0:00:04\u001b[39m\u001b[K"
     ]
    },
    {
     "name": "stderr",
     "output_type": "stream",
     "text": [
      "\r\u001b[32mloss: 65.8: 100%|███████████████████████████████████████|  ETA: 0:00:02\u001b[39m\u001b[K"
     ]
    },
    {
     "name": "stderr",
     "output_type": "stream",
     "text": [
      "\r\u001b[32mloss: 65.7: 100%|███████████████████████████████████████| Time: 0:06:09\u001b[39m\u001b[K\n"
     ]
    },
    {
     "name": "stderr",
     "output_type": "stream",
     "text": [
      "\r\u001b[32mloss: 65.7:   1%|█                                      |  ETA: 0:03:01\u001b[39m\u001b[K"
     ]
    },
    {
     "name": "stderr",
     "output_type": "stream",
     "text": [
      "\r\u001b[32mloss: 65.7:   2%|█                                      |  ETA: 0:04:01\u001b[39m\u001b[K"
     ]
    },
    {
     "name": "stderr",
     "output_type": "stream",
     "text": [
      "\r\u001b[32mloss: 65.7:   2%|█                                      |  ETA: 0:04:40\u001b[39m\u001b[K"
     ]
    },
    {
     "name": "stderr",
     "output_type": "stream",
     "text": [
      "\r\u001b[32mloss: 65.7:   2%|█                                      |  ETA: 0:05:03\u001b[39m\u001b[K"
     ]
    },
    {
     "name": "stderr",
     "output_type": "stream",
     "text": [
      "\r\u001b[32mloss: 65.7:   3%|██                                     |  ETA: 0:05:17\u001b[39m\u001b[K"
     ]
    },
    {
     "name": "stderr",
     "output_type": "stream",
     "text": [
      "\r\u001b[32mloss: 65.7:   4%|██                                     |  ETA: 0:05:24\u001b[39m\u001b[K"
     ]
    },
    {
     "name": "stderr",
     "output_type": "stream",
     "text": [
      "\r\u001b[32mloss: 65.7:   4%|██                                     |  ETA: 0:05:31\u001b[39m\u001b[K"
     ]
    },
    {
     "name": "stderr",
     "output_type": "stream",
     "text": [
      "\r\u001b[32mloss: 65.7:   4%|██                                     |  ETA: 0:05:33\u001b[39m\u001b[K"
     ]
    },
    {
     "name": "stderr",
     "output_type": "stream",
     "text": [
      "\r\u001b[32mloss: 65.7:   5%|██                                     |  ETA: 0:05:36\u001b[39m\u001b[K"
     ]
    },
    {
     "name": "stderr",
     "output_type": "stream",
     "text": [
      "\r\u001b[32mloss: 65.7:   6%|███                                    |  ETA: 0:05:38\u001b[39m\u001b[K"
     ]
    },
    {
     "name": "stderr",
     "output_type": "stream",
     "text": [
      "\r\u001b[32mloss: 65.7:   6%|███                                    |  ETA: 0:05:39\u001b[39m\u001b[K"
     ]
    },
    {
     "name": "stderr",
     "output_type": "stream",
     "text": [
      "\r\u001b[32mloss: 65.7:   6%|███                                    |  ETA: 0:05:41\u001b[39m\u001b[K"
     ]
    },
    {
     "name": "stderr",
     "output_type": "stream",
     "text": [
      "\r\u001b[32mloss: 65.7:   7%|███                                    |  ETA: 0:05:39\u001b[39m\u001b[K"
     ]
    },
    {
     "name": "stderr",
     "output_type": "stream",
     "text": [
      "\r\u001b[32mloss: 65.7:   8%|███                                    |  ETA: 0:05:38\u001b[39m\u001b[K"
     ]
    },
    {
     "name": "stderr",
     "output_type": "stream",
     "text": [
      "\r\u001b[32mloss: 65.7:   8%|████                                   |  ETA: 0:05:39\u001b[39m\u001b[K"
     ]
    },
    {
     "name": "stderr",
     "output_type": "stream",
     "text": [
      "\r\u001b[32mloss: 65.7:   8%|████                                   |  ETA: 0:05:41\u001b[39m\u001b[K"
     ]
    },
    {
     "name": "stderr",
     "output_type": "stream",
     "text": [
      "\r\u001b[32mloss: 65.7:   9%|████                                   |  ETA: 0:05:41\u001b[39m\u001b[K"
     ]
    },
    {
     "name": "stderr",
     "output_type": "stream",
     "text": [
      "\r\u001b[32mloss: 65.7:  10%|████                                   |  ETA: 0:05:42\u001b[39m\u001b[K"
     ]
    },
    {
     "name": "stderr",
     "output_type": "stream",
     "text": [
      "\r\u001b[32mloss: 65.6:  10%|████                                   |  ETA: 0:05:41\u001b[39m\u001b[K"
     ]
    },
    {
     "name": "stderr",
     "output_type": "stream",
     "text": [
      "\r\u001b[32mloss: 65.6:  10%|█████                                  |  ETA: 0:05:40\u001b[39m\u001b[K"
     ]
    },
    {
     "name": "stderr",
     "output_type": "stream",
     "text": [
      "\r\u001b[32mloss: 65.6:  11%|█████                                  |  ETA: 0:05:38\u001b[39m\u001b[K"
     ]
    },
    {
     "name": "stderr",
     "output_type": "stream",
     "text": [
      "\r\u001b[32mloss: 65.6:  12%|█████                                  |  ETA: 0:05:37\u001b[39m\u001b[K"
     ]
    },
    {
     "name": "stderr",
     "output_type": "stream",
     "text": [
      "\r\u001b[32mloss: 65.6:  12%|█████                                  |  ETA: 0:05:38\u001b[39m\u001b[K"
     ]
    },
    {
     "name": "stderr",
     "output_type": "stream",
     "text": [
      "\r\u001b[32mloss: 65.6:  12%|█████                                  |  ETA: 0:05:38\u001b[39m\u001b[K"
     ]
    },
    {
     "name": "stderr",
     "output_type": "stream",
     "text": [
      "\r\u001b[32mloss: 65.6:  13%|██████                                 |  ETA: 0:05:37\u001b[39m\u001b[K"
     ]
    },
    {
     "name": "stderr",
     "output_type": "stream",
     "text": [
      "\r\u001b[32mloss: 65.6:  14%|██████                                 |  ETA: 0:05:36\u001b[39m\u001b[K"
     ]
    },
    {
     "name": "stderr",
     "output_type": "stream",
     "text": [
      "\r\u001b[32mloss: 65.6:  14%|██████                                 |  ETA: 0:05:36\u001b[39m\u001b[K"
     ]
    },
    {
     "name": "stderr",
     "output_type": "stream",
     "text": [
      "\r\u001b[32mloss: 65.6:  14%|██████                                 |  ETA: 0:05:35\u001b[39m\u001b[K"
     ]
    },
    {
     "name": "stderr",
     "output_type": "stream",
     "text": [
      "\r\u001b[32mloss: 65.6:  15%|██████                                 |  ETA: 0:05:35\u001b[39m\u001b[K"
     ]
    },
    {
     "name": "stderr",
     "output_type": "stream",
     "text": [
      "\r\u001b[32mloss: 65.6:  16%|███████                                |  ETA: 0:05:34\u001b[39m\u001b[K"
     ]
    },
    {
     "name": "stderr",
     "output_type": "stream",
     "text": [
      "\r\u001b[32mloss: 65.6:  16%|███████                                |  ETA: 0:05:33\u001b[39m\u001b[K"
     ]
    },
    {
     "name": "stderr",
     "output_type": "stream",
     "text": [
      "\r\u001b[32mloss: 65.6:  16%|███████                                |  ETA: 0:05:32\u001b[39m\u001b[K"
     ]
    },
    {
     "name": "stderr",
     "output_type": "stream",
     "text": [
      "\r\u001b[32mloss: 65.6:  17%|███████                                |  ETA: 0:05:30\u001b[39m\u001b[K"
     ]
    },
    {
     "name": "stderr",
     "output_type": "stream",
     "text": [
      "\r\u001b[32mloss: 65.6:  18%|███████                                |  ETA: 0:05:30\u001b[39m\u001b[K"
     ]
    },
    {
     "name": "stderr",
     "output_type": "stream",
     "text": [
      "\r\u001b[32mloss: 65.6:  18%|████████                               |  ETA: 0:05:29\u001b[39m\u001b[K"
     ]
    },
    {
     "name": "stderr",
     "output_type": "stream",
     "text": [
      "\r\u001b[32mloss: 65.6:  18%|████████                               |  ETA: 0:05:28\u001b[39m\u001b[K"
     ]
    },
    {
     "name": "stderr",
     "output_type": "stream",
     "text": [
      "\r\u001b[32mloss: 65.6:  19%|████████                               |  ETA: 0:05:27\u001b[39m\u001b[K"
     ]
    },
    {
     "name": "stderr",
     "output_type": "stream",
     "text": [
      "\r\u001b[32mloss: 65.5:  20%|████████                               |  ETA: 0:05:26\u001b[39m\u001b[K"
     ]
    },
    {
     "name": "stderr",
     "output_type": "stream",
     "text": [
      "\r\u001b[32mloss: 65.5:  20%|████████                               |  ETA: 0:05:24\u001b[39m\u001b[K"
     ]
    },
    {
     "name": "stderr",
     "output_type": "stream",
     "text": [
      "\r\u001b[32mloss: 65.5:  20%|████████                               |  ETA: 0:05:22\u001b[39m\u001b[K"
     ]
    },
    {
     "name": "stderr",
     "output_type": "stream",
     "text": [
      "\r\u001b[32mloss: 65.5:  21%|█████████                              |  ETA: 0:05:22\u001b[39m\u001b[K"
     ]
    },
    {
     "name": "stderr",
     "output_type": "stream",
     "text": [
      "\r\u001b[32mloss: 65.5:  22%|█████████                              |  ETA: 0:05:22\u001b[39m\u001b[K"
     ]
    },
    {
     "name": "stderr",
     "output_type": "stream",
     "text": [
      "\r\u001b[32mloss: 65.5:  22%|█████████                              |  ETA: 0:05:21\u001b[39m\u001b[K"
     ]
    },
    {
     "name": "stderr",
     "output_type": "stream",
     "text": [
      "\r\u001b[32mloss: 65.5:  22%|█████████                              |  ETA: 0:05:19\u001b[39m\u001b[K"
     ]
    },
    {
     "name": "stderr",
     "output_type": "stream",
     "text": [
      "\r\u001b[32mloss: 65.5:  23%|█████████                              |  ETA: 0:05:17\u001b[39m\u001b[K"
     ]
    },
    {
     "name": "stderr",
     "output_type": "stream",
     "text": [
      "\r\u001b[32mloss: 65.5:  24%|██████████                             |  ETA: 0:05:15\u001b[39m\u001b[K"
     ]
    },
    {
     "name": "stderr",
     "output_type": "stream",
     "text": [
      "\r\u001b[32mloss: 65.5:  24%|██████████                             |  ETA: 0:05:13\u001b[39m\u001b[K"
     ]
    },
    {
     "name": "stderr",
     "output_type": "stream",
     "text": [
      "\r\u001b[32mloss: 65.5:  24%|██████████                             |  ETA: 0:05:11\u001b[39m\u001b[K"
     ]
    },
    {
     "name": "stderr",
     "output_type": "stream",
     "text": [
      "\r\u001b[32mloss: 65.5:  25%|██████████                             |  ETA: 0:05:09\u001b[39m\u001b[K"
     ]
    },
    {
     "name": "stderr",
     "output_type": "stream",
     "text": [
      "\r\u001b[32mloss: 65.5:  26%|██████████                             |  ETA: 0:05:07\u001b[39m\u001b[K"
     ]
    },
    {
     "name": "stderr",
     "output_type": "stream",
     "text": [
      "\r\u001b[32mloss: 65.5:  26%|███████████                            |  ETA: 0:05:06\u001b[39m\u001b[K"
     ]
    },
    {
     "name": "stderr",
     "output_type": "stream",
     "text": [
      "\r\u001b[32mloss: 65.5:  26%|███████████                            |  ETA: 0:05:04\u001b[39m\u001b[K"
     ]
    },
    {
     "name": "stderr",
     "output_type": "stream",
     "text": [
      "\r\u001b[32mloss: 65.5:  27%|███████████                            |  ETA: 0:05:02\u001b[39m\u001b[K"
     ]
    },
    {
     "name": "stderr",
     "output_type": "stream",
     "text": [
      "\r\u001b[32mloss: 65.5:  28%|███████████                            |  ETA: 0:05:00\u001b[39m\u001b[K"
     ]
    },
    {
     "name": "stderr",
     "output_type": "stream",
     "text": [
      "\r\u001b[32mloss: 65.5:  28%|███████████                            |  ETA: 0:04:58\u001b[39m\u001b[K"
     ]
    },
    {
     "name": "stderr",
     "output_type": "stream",
     "text": [
      "\r\u001b[32mloss: 65.5:  28%|████████████                           |  ETA: 0:04:57\u001b[39m\u001b[K"
     ]
    },
    {
     "name": "stderr",
     "output_type": "stream",
     "text": [
      "\r\u001b[32mloss: 65.5:  29%|████████████                           |  ETA: 0:04:56\u001b[39m\u001b[K"
     ]
    },
    {
     "name": "stderr",
     "output_type": "stream",
     "text": [
      "\r\u001b[32mloss: 65.4:  30%|████████████                           |  ETA: 0:04:54\u001b[39m\u001b[K"
     ]
    },
    {
     "name": "stderr",
     "output_type": "stream",
     "text": [
      "\r\u001b[32mloss: 65.4:  30%|████████████                           |  ETA: 0:04:53\u001b[39m\u001b[K"
     ]
    },
    {
     "name": "stderr",
     "output_type": "stream",
     "text": [
      "\r\u001b[32mloss: 65.4:  30%|████████████                           |  ETA: 0:04:51\u001b[39m\u001b[K"
     ]
    },
    {
     "name": "stderr",
     "output_type": "stream",
     "text": [
      "\r\u001b[32mloss: 65.4:  31%|█████████████                          |  ETA: 0:04:49\u001b[39m\u001b[K"
     ]
    },
    {
     "name": "stderr",
     "output_type": "stream",
     "text": [
      "\r\u001b[32mloss: 65.4:  32%|█████████████                          |  ETA: 0:04:47\u001b[39m\u001b[K"
     ]
    },
    {
     "name": "stderr",
     "output_type": "stream",
     "text": [
      "\r\u001b[32mloss: 65.4:  32%|█████████████                          |  ETA: 0:04:46\u001b[39m\u001b[K"
     ]
    },
    {
     "name": "stderr",
     "output_type": "stream",
     "text": [
      "\r\u001b[32mloss: 65.4:  32%|█████████████                          |  ETA: 0:04:43\u001b[39m\u001b[K"
     ]
    },
    {
     "name": "stderr",
     "output_type": "stream",
     "text": [
      "\r\u001b[32mloss: 65.4:  33%|█████████████                          |  ETA: 0:04:41\u001b[39m\u001b[K"
     ]
    },
    {
     "name": "stderr",
     "output_type": "stream",
     "text": [
      "\r\u001b[32mloss: 65.4:  34%|██████████████                         |  ETA: 0:04:39\u001b[39m\u001b[K"
     ]
    },
    {
     "name": "stderr",
     "output_type": "stream",
     "text": [
      "\r\u001b[32mloss: 65.4:  34%|██████████████                         |  ETA: 0:04:37\u001b[39m\u001b[K"
     ]
    },
    {
     "name": "stderr",
     "output_type": "stream",
     "text": [
      "\r\u001b[32mloss: 65.4:  34%|██████████████                         |  ETA: 0:04:35\u001b[39m\u001b[K"
     ]
    },
    {
     "name": "stderr",
     "output_type": "stream",
     "text": [
      "\r\u001b[32mloss: 65.4:  35%|██████████████                         |  ETA: 0:04:33\u001b[39m\u001b[K"
     ]
    },
    {
     "name": "stderr",
     "output_type": "stream",
     "text": [
      "\r\u001b[32mloss: 65.4:  36%|██████████████                         |  ETA: 0:04:31\u001b[39m\u001b[K"
     ]
    },
    {
     "name": "stderr",
     "output_type": "stream",
     "text": [
      "\r\u001b[32mloss: 65.4:  36%|███████████████                        |  ETA: 0:04:29\u001b[39m\u001b[K"
     ]
    },
    {
     "name": "stderr",
     "output_type": "stream",
     "text": [
      "\r\u001b[32mloss: 65.4:  36%|███████████████                        |  ETA: 0:04:28\u001b[39m\u001b[K"
     ]
    },
    {
     "name": "stderr",
     "output_type": "stream",
     "text": [
      "\r\u001b[32mloss: 65.4:  37%|███████████████                        |  ETA: 0:04:26\u001b[39m\u001b[K"
     ]
    },
    {
     "name": "stderr",
     "output_type": "stream",
     "text": [
      "\r\u001b[32mloss: 65.4:  38%|███████████████                        |  ETA: 0:04:25\u001b[39m\u001b[K"
     ]
    },
    {
     "name": "stderr",
     "output_type": "stream",
     "text": [
      "\r\u001b[32mloss: 65.4:  38%|███████████████                        |  ETA: 0:04:23\u001b[39m\u001b[K"
     ]
    },
    {
     "name": "stderr",
     "output_type": "stream",
     "text": [
      "\r\u001b[32mloss: 65.4:  38%|████████████████                       |  ETA: 0:04:21\u001b[39m\u001b[K"
     ]
    },
    {
     "name": "stderr",
     "output_type": "stream",
     "text": [
      "\r\u001b[32mloss: 65.4:  39%|████████████████                       |  ETA: 0:04:20\u001b[39m\u001b[K"
     ]
    },
    {
     "name": "stderr",
     "output_type": "stream",
     "text": [
      "\r\u001b[32mloss: 65.3:  40%|████████████████                       |  ETA: 0:04:18\u001b[39m\u001b[K"
     ]
    },
    {
     "name": "stderr",
     "output_type": "stream",
     "text": [
      "\r\u001b[32mloss: 65.3:  40%|████████████████                       |  ETA: 0:04:16\u001b[39m\u001b[K"
     ]
    },
    {
     "name": "stderr",
     "output_type": "stream",
     "text": [
      "\r\u001b[32mloss: 65.3:  40%|████████████████                       |  ETA: 0:04:13\u001b[39m\u001b[K"
     ]
    },
    {
     "name": "stderr",
     "output_type": "stream",
     "text": [
      "\r\u001b[32mloss: 65.3:  41%|████████████████                       |  ETA: 0:04:11\u001b[39m\u001b[K"
     ]
    },
    {
     "name": "stderr",
     "output_type": "stream",
     "text": [
      "\r\u001b[32mloss: 65.3:  42%|█████████████████                      |  ETA: 0:04:09\u001b[39m\u001b[K"
     ]
    },
    {
     "name": "stderr",
     "output_type": "stream",
     "text": [
      "\r\u001b[32mloss: 65.3:  42%|█████████████████                      |  ETA: 0:04:08\u001b[39m\u001b[K"
     ]
    },
    {
     "name": "stderr",
     "output_type": "stream",
     "text": [
      "\r\u001b[32mloss: 65.3:  42%|█████████████████                      |  ETA: 0:04:05\u001b[39m\u001b[K"
     ]
    },
    {
     "name": "stderr",
     "output_type": "stream",
     "text": [
      "\r\u001b[32mloss: 65.3:  43%|█████████████████                      |  ETA: 0:04:03\u001b[39m\u001b[K"
     ]
    },
    {
     "name": "stderr",
     "output_type": "stream",
     "text": [
      "\r\u001b[32mloss: 65.3:  44%|█████████████████                      |  ETA: 0:04:01\u001b[39m\u001b[K"
     ]
    },
    {
     "name": "stderr",
     "output_type": "stream",
     "text": [
      "\r\u001b[32mloss: 65.3:  44%|██████████████████                     |  ETA: 0:03:59\u001b[39m\u001b[K"
     ]
    },
    {
     "name": "stderr",
     "output_type": "stream",
     "text": [
      "\r\u001b[32mloss: 65.3:  44%|██████████████████                     |  ETA: 0:03:57\u001b[39m\u001b[K"
     ]
    },
    {
     "name": "stderr",
     "output_type": "stream",
     "text": [
      "\r\u001b[32mloss: 65.3:  45%|██████████████████                     |  ETA: 0:03:55\u001b[39m\u001b[K"
     ]
    },
    {
     "name": "stderr",
     "output_type": "stream",
     "text": [
      "\r\u001b[32mloss: 65.3:  46%|██████████████████                     |  ETA: 0:03:53\u001b[39m\u001b[K"
     ]
    },
    {
     "name": "stderr",
     "output_type": "stream",
     "text": [
      "\r\u001b[32mloss: 65.3:  46%|██████████████████                     |  ETA: 0:03:51\u001b[39m\u001b[K"
     ]
    },
    {
     "name": "stderr",
     "output_type": "stream",
     "text": [
      "\r\u001b[32mloss: 65.3:  46%|███████████████████                    |  ETA: 0:03:49\u001b[39m\u001b[K"
     ]
    },
    {
     "name": "stderr",
     "output_type": "stream",
     "text": [
      "\r\u001b[32mloss: 65.3:  47%|███████████████████                    |  ETA: 0:03:47\u001b[39m\u001b[K"
     ]
    },
    {
     "name": "stderr",
     "output_type": "stream",
     "text": [
      "\r\u001b[32mloss: 65.3:  48%|███████████████████                    |  ETA: 0:03:45\u001b[39m\u001b[K"
     ]
    },
    {
     "name": "stderr",
     "output_type": "stream",
     "text": [
      "\r\u001b[32mloss: 65.3:  48%|███████████████████                    |  ETA: 0:03:43\u001b[39m\u001b[K"
     ]
    },
    {
     "name": "stderr",
     "output_type": "stream",
     "text": [
      "\r\u001b[32mloss: 65.3:  48%|███████████████████                    |  ETA: 0:03:42\u001b[39m\u001b[K"
     ]
    },
    {
     "name": "stderr",
     "output_type": "stream",
     "text": [
      "\r\u001b[32mloss: 65.3:  49%|████████████████████                   |  ETA: 0:03:39\u001b[39m\u001b[K"
     ]
    },
    {
     "name": "stderr",
     "output_type": "stream",
     "text": [
      "\r\u001b[32mloss: 65.3:  50%|████████████████████                   |  ETA: 0:03:38\u001b[39m\u001b[K"
     ]
    },
    {
     "name": "stderr",
     "output_type": "stream",
     "text": [
      "\r\u001b[32mloss: 65.2:  50%|████████████████████                   |  ETA: 0:03:36\u001b[39m\u001b[K"
     ]
    },
    {
     "name": "stderr",
     "output_type": "stream",
     "text": [
      "\r\u001b[32mloss: 65.2:  50%|████████████████████                   |  ETA: 0:03:33\u001b[39m\u001b[K"
     ]
    },
    {
     "name": "stderr",
     "output_type": "stream",
     "text": [
      "\r\u001b[32mloss: 65.2:  51%|████████████████████                   |  ETA: 0:03:31\u001b[39m\u001b[K"
     ]
    },
    {
     "name": "stderr",
     "output_type": "stream",
     "text": [
      "\r\u001b[32mloss: 65.2:  52%|█████████████████████                  |  ETA: 0:03:29\u001b[39m\u001b[K"
     ]
    },
    {
     "name": "stderr",
     "output_type": "stream",
     "text": [
      "\r\u001b[32mloss: 65.2:  52%|█████████████████████                  |  ETA: 0:03:28\u001b[39m\u001b[K"
     ]
    },
    {
     "name": "stderr",
     "output_type": "stream",
     "text": [
      "\r\u001b[32mloss: 65.2:  52%|█████████████████████                  |  ETA: 0:03:26\u001b[39m\u001b[K"
     ]
    },
    {
     "name": "stderr",
     "output_type": "stream",
     "text": [
      "\r\u001b[32mloss: 65.2:  53%|█████████████████████                  |  ETA: 0:03:24\u001b[39m\u001b[K"
     ]
    },
    {
     "name": "stderr",
     "output_type": "stream",
     "text": [
      "\r\u001b[32mloss: 65.2:  54%|█████████████████████                  |  ETA: 0:03:22\u001b[39m\u001b[K"
     ]
    },
    {
     "name": "stderr",
     "output_type": "stream",
     "text": [
      "\r\u001b[32mloss: 65.2:  54%|██████████████████████                 |  ETA: 0:03:20\u001b[39m\u001b[K"
     ]
    },
    {
     "name": "stderr",
     "output_type": "stream",
     "text": [
      "\r\u001b[32mloss: 65.2:  54%|██████████████████████                 |  ETA: 0:03:19\u001b[39m\u001b[K"
     ]
    },
    {
     "name": "stderr",
     "output_type": "stream",
     "text": [
      "\r\u001b[32mloss: 65.2:  55%|██████████████████████                 |  ETA: 0:03:17\u001b[39m\u001b[K"
     ]
    },
    {
     "name": "stderr",
     "output_type": "stream",
     "text": [
      "\r\u001b[32mloss: 65.2:  56%|██████████████████████                 |  ETA: 0:03:15\u001b[39m\u001b[K"
     ]
    },
    {
     "name": "stderr",
     "output_type": "stream",
     "text": [
      "\r\u001b[32mloss: 65.2:  56%|██████████████████████                 |  ETA: 0:03:13\u001b[39m\u001b[K"
     ]
    },
    {
     "name": "stderr",
     "output_type": "stream",
     "text": [
      "\r\u001b[32mloss: 65.2:  56%|███████████████████████                |  ETA: 0:03:11\u001b[39m\u001b[K"
     ]
    },
    {
     "name": "stderr",
     "output_type": "stream",
     "text": [
      "\r\u001b[32mloss: 65.2:  57%|███████████████████████                |  ETA: 0:03:09\u001b[39m\u001b[K"
     ]
    },
    {
     "name": "stderr",
     "output_type": "stream",
     "text": [
      "\r\u001b[32mloss: 65.2:  58%|███████████████████████                |  ETA: 0:03:07\u001b[39m\u001b[K"
     ]
    },
    {
     "name": "stderr",
     "output_type": "stream",
     "text": [
      "\r\u001b[32mloss: 65.2:  58%|███████████████████████                |  ETA: 0:03:05\u001b[39m\u001b[K"
     ]
    },
    {
     "name": "stderr",
     "output_type": "stream",
     "text": [
      "\r\u001b[32mloss: 65.2:  58%|███████████████████████                |  ETA: 0:03:03\u001b[39m\u001b[K"
     ]
    },
    {
     "name": "stderr",
     "output_type": "stream",
     "text": [
      "\r\u001b[32mloss: 65.2:  59%|████████████████████████               |  ETA: 0:03:01\u001b[39m\u001b[K"
     ]
    },
    {
     "name": "stderr",
     "output_type": "stream",
     "text": [
      "\r\u001b[32mloss: 65.1:  60%|████████████████████████               |  ETA: 0:02:59\u001b[39m\u001b[K"
     ]
    },
    {
     "name": "stderr",
     "output_type": "stream",
     "text": [
      "\r\u001b[32mloss: 65.1:  60%|████████████████████████               |  ETA: 0:02:57\u001b[39m\u001b[K"
     ]
    },
    {
     "name": "stderr",
     "output_type": "stream",
     "text": [
      "\r\u001b[32mloss: 65.1:  60%|████████████████████████               |  ETA: 0:02:55\u001b[39m\u001b[K"
     ]
    },
    {
     "name": "stderr",
     "output_type": "stream",
     "text": [
      "\r\u001b[32mloss: 65.1:  61%|████████████████████████               |  ETA: 0:02:53\u001b[39m\u001b[K"
     ]
    },
    {
     "name": "stderr",
     "output_type": "stream",
     "text": [
      "\r\u001b[32mloss: 65.1:  62%|████████████████████████               |  ETA: 0:02:51\u001b[39m\u001b[K"
     ]
    },
    {
     "name": "stderr",
     "output_type": "stream",
     "text": [
      "\r\u001b[32mloss: 65.1:  62%|█████████████████████████              |  ETA: 0:02:48\u001b[39m\u001b[K"
     ]
    },
    {
     "name": "stderr",
     "output_type": "stream",
     "text": [
      "\r\u001b[32mloss: 65.1:  62%|█████████████████████████              |  ETA: 0:02:46\u001b[39m\u001b[K"
     ]
    },
    {
     "name": "stderr",
     "output_type": "stream",
     "text": [
      "\r\u001b[32mloss: 65.1:  63%|█████████████████████████              |  ETA: 0:02:44\u001b[39m\u001b[K"
     ]
    },
    {
     "name": "stderr",
     "output_type": "stream",
     "text": [
      "\r\u001b[32mloss: 65.1:  64%|█████████████████████████              |  ETA: 0:02:42\u001b[39m\u001b[K"
     ]
    },
    {
     "name": "stderr",
     "output_type": "stream",
     "text": [
      "\r\u001b[32mloss: 65.1:  64%|█████████████████████████              |  ETA: 0:02:40\u001b[39m\u001b[K"
     ]
    },
    {
     "name": "stderr",
     "output_type": "stream",
     "text": [
      "\r\u001b[32mloss: 65.1:  64%|██████████████████████████             |  ETA: 0:02:38\u001b[39m\u001b[K"
     ]
    },
    {
     "name": "stderr",
     "output_type": "stream",
     "text": [
      "\r\u001b[32mloss: 65.1:  65%|██████████████████████████             |  ETA: 0:02:36\u001b[39m\u001b[K"
     ]
    },
    {
     "name": "stderr",
     "output_type": "stream",
     "text": [
      "\r\u001b[32mloss: 65.1:  66%|██████████████████████████             |  ETA: 0:02:34\u001b[39m\u001b[K"
     ]
    },
    {
     "name": "stderr",
     "output_type": "stream",
     "text": [
      "\r\u001b[32mloss: 65.1:  66%|██████████████████████████             |  ETA: 0:02:32\u001b[39m\u001b[K"
     ]
    },
    {
     "name": "stderr",
     "output_type": "stream",
     "text": [
      "\r\u001b[32mloss: 65.1:  66%|██████████████████████████             |  ETA: 0:02:30\u001b[39m\u001b[K"
     ]
    },
    {
     "name": "stderr",
     "output_type": "stream",
     "text": [
      "\r\u001b[32mloss: 65.1:  67%|███████████████████████████            |  ETA: 0:02:28\u001b[39m\u001b[K"
     ]
    },
    {
     "name": "stderr",
     "output_type": "stream",
     "text": [
      "\r\u001b[32mloss: 65.1:  68%|███████████████████████████            |  ETA: 0:02:26\u001b[39m\u001b[K"
     ]
    },
    {
     "name": "stderr",
     "output_type": "stream",
     "text": [
      "\r\u001b[32mloss: 65.1:  68%|███████████████████████████            |  ETA: 0:02:24\u001b[39m\u001b[K"
     ]
    },
    {
     "name": "stderr",
     "output_type": "stream",
     "text": [
      "\r\u001b[32mloss: 65.1:  68%|███████████████████████████            |  ETA: 0:02:22\u001b[39m\u001b[K"
     ]
    },
    {
     "name": "stderr",
     "output_type": "stream",
     "text": [
      "\r\u001b[32mloss: 65:  69%|█████████████████████████████            |  ETA: 0:02:25\u001b[39m\u001b[K"
     ]
    },
    {
     "name": "stderr",
     "output_type": "stream",
     "text": [
      "\r\u001b[32mloss: 65:  70%|█████████████████████████████            |  ETA: 0:02:23\u001b[39m\u001b[K"
     ]
    },
    {
     "name": "stderr",
     "output_type": "stream",
     "text": [
      "\r\u001b[32mloss: 65:  70%|█████████████████████████████            |  ETA: 0:02:20\u001b[39m\u001b[K"
     ]
    },
    {
     "name": "stderr",
     "output_type": "stream",
     "text": [
      "\r\u001b[32mloss: 65:  70%|█████████████████████████████            |  ETA: 0:02:18\u001b[39m\u001b[K"
     ]
    },
    {
     "name": "stderr",
     "output_type": "stream",
     "text": [
      "\r\u001b[32mloss: 65:  71%|██████████████████████████████           |  ETA: 0:02:15\u001b[39m\u001b[K"
     ]
    },
    {
     "name": "stderr",
     "output_type": "stream",
     "text": [
      "\r\u001b[32mloss: 65:  72%|██████████████████████████████           |  ETA: 0:02:13\u001b[39m\u001b[K"
     ]
    },
    {
     "name": "stderr",
     "output_type": "stream",
     "text": [
      "\r\u001b[32mloss: 65:  72%|██████████████████████████████           |  ETA: 0:02:10\u001b[39m\u001b[K"
     ]
    },
    {
     "name": "stderr",
     "output_type": "stream",
     "text": [
      "\r\u001b[32mloss: 65:  72%|██████████████████████████████           |  ETA: 0:02:08\u001b[39m\u001b[K"
     ]
    },
    {
     "name": "stderr",
     "output_type": "stream",
     "text": [
      "\r\u001b[32mloss: 65:  73%|██████████████████████████████           |  ETA: 0:02:05\u001b[39m\u001b[K"
     ]
    },
    {
     "name": "stderr",
     "output_type": "stream",
     "text": [
      "\r\u001b[32mloss: 65:  74%|███████████████████████████████          |  ETA: 0:02:03\u001b[39m\u001b[K"
     ]
    },
    {
     "name": "stderr",
     "output_type": "stream",
     "text": [
      "\r\u001b[32mloss: 65:  74%|███████████████████████████████          |  ETA: 0:02:01\u001b[39m\u001b[K"
     ]
    },
    {
     "name": "stderr",
     "output_type": "stream",
     "text": [
      "\r\u001b[32mloss: 65:  74%|███████████████████████████████          |  ETA: 0:01:58\u001b[39m\u001b[K"
     ]
    },
    {
     "name": "stderr",
     "output_type": "stream",
     "text": [
      "\r\u001b[32mloss: 65:  75%|███████████████████████████████          |  ETA: 0:01:56\u001b[39m\u001b[K"
     ]
    },
    {
     "name": "stderr",
     "output_type": "stream",
     "text": [
      "\r\u001b[32mloss: 65:  76%|███████████████████████████████          |  ETA: 0:01:53\u001b[39m\u001b[K"
     ]
    },
    {
     "name": "stderr",
     "output_type": "stream",
     "text": [
      "\r\u001b[32mloss: 65:  76%|████████████████████████████████         |  ETA: 0:01:51\u001b[39m\u001b[K"
     ]
    },
    {
     "name": "stderr",
     "output_type": "stream",
     "text": [
      "\r\u001b[32mloss: 65:  76%|████████████████████████████████         |  ETA: 0:01:49\u001b[39m\u001b[K"
     ]
    },
    {
     "name": "stderr",
     "output_type": "stream",
     "text": [
      "\r\u001b[32mloss: 65:  77%|████████████████████████████████         |  ETA: 0:01:46\u001b[39m\u001b[K"
     ]
    },
    {
     "name": "stderr",
     "output_type": "stream",
     "text": [
      "\r\u001b[32mloss: 64.9:  78%|███████████████████████████████        |  ETA: 0:01:44\u001b[39m\u001b[K"
     ]
    },
    {
     "name": "stderr",
     "output_type": "stream",
     "text": [
      "\r\u001b[32mloss: 64.9:  78%|███████████████████████████████        |  ETA: 0:01:41\u001b[39m\u001b[K"
     ]
    },
    {
     "name": "stderr",
     "output_type": "stream",
     "text": [
      "\r\u001b[32mloss: 64.9:  78%|███████████████████████████████        |  ETA: 0:01:39\u001b[39m\u001b[K"
     ]
    },
    {
     "name": "stderr",
     "output_type": "stream",
     "text": [
      "\r\u001b[32mloss: 64.9:  79%|███████████████████████████████        |  ETA: 0:01:37\u001b[39m\u001b[K"
     ]
    },
    {
     "name": "stderr",
     "output_type": "stream",
     "text": [
      "\r\u001b[32mloss: 64.9:  80%|████████████████████████████████       |  ETA: 0:01:34\u001b[39m\u001b[K"
     ]
    },
    {
     "name": "stderr",
     "output_type": "stream",
     "text": [
      "\r\u001b[32mloss: 64.9:  80%|████████████████████████████████       |  ETA: 0:01:32\u001b[39m\u001b[K"
     ]
    },
    {
     "name": "stderr",
     "output_type": "stream",
     "text": [
      "\r\u001b[32mloss: 64.9:  80%|████████████████████████████████       |  ETA: 0:01:30\u001b[39m\u001b[K"
     ]
    },
    {
     "name": "stderr",
     "output_type": "stream",
     "text": [
      "\r\u001b[32mloss: 64.9:  81%|████████████████████████████████       |  ETA: 0:01:27\u001b[39m\u001b[K"
     ]
    },
    {
     "name": "stderr",
     "output_type": "stream",
     "text": [
      "\r\u001b[32mloss: 64.9:  82%|████████████████████████████████       |  ETA: 0:01:25\u001b[39m\u001b[K"
     ]
    },
    {
     "name": "stderr",
     "output_type": "stream",
     "text": [
      "\r\u001b[32mloss: 64.9:  82%|████████████████████████████████       |  ETA: 0:01:23\u001b[39m\u001b[K"
     ]
    },
    {
     "name": "stderr",
     "output_type": "stream",
     "text": [
      "\r\u001b[32mloss: 64.9:  82%|█████████████████████████████████      |  ETA: 0:01:20\u001b[39m\u001b[K"
     ]
    },
    {
     "name": "stderr",
     "output_type": "stream",
     "text": [
      "\r\u001b[32mloss: 64.9:  83%|█████████████████████████████████      |  ETA: 0:01:18\u001b[39m\u001b[K"
     ]
    },
    {
     "name": "stderr",
     "output_type": "stream",
     "text": [
      "\r\u001b[32mloss: 64.9:  84%|█████████████████████████████████      |  ETA: 0:01:16\u001b[39m\u001b[K"
     ]
    },
    {
     "name": "stderr",
     "output_type": "stream",
     "text": [
      "\r\u001b[32mloss: 64.9:  84%|█████████████████████████████████      |  ETA: 0:01:13\u001b[39m\u001b[K"
     ]
    },
    {
     "name": "stderr",
     "output_type": "stream",
     "text": [
      "\r\u001b[32mloss: 64.9:  84%|█████████████████████████████████      |  ETA: 0:01:11\u001b[39m\u001b[K"
     ]
    },
    {
     "name": "stderr",
     "output_type": "stream",
     "text": [
      "\r\u001b[32mloss: 64.9:  85%|██████████████████████████████████     |  ETA: 0:01:09\u001b[39m\u001b[K"
     ]
    },
    {
     "name": "stderr",
     "output_type": "stream",
     "text": [
      "\r\u001b[32mloss: 64.8:  86%|██████████████████████████████████     |  ETA: 0:01:07\u001b[39m\u001b[K"
     ]
    },
    {
     "name": "stderr",
     "output_type": "stream",
     "text": [
      "\r\u001b[32mloss: 64.8:  86%|██████████████████████████████████     |  ETA: 0:01:04\u001b[39m\u001b[K"
     ]
    },
    {
     "name": "stderr",
     "output_type": "stream",
     "text": [
      "\r\u001b[32mloss: 64.8:  86%|██████████████████████████████████     |  ETA: 0:01:02\u001b[39m\u001b[K"
     ]
    },
    {
     "name": "stderr",
     "output_type": "stream",
     "text": [
      "\r\u001b[32mloss: 64.8:  87%|██████████████████████████████████     |  ETA: 0:01:00\u001b[39m\u001b[K"
     ]
    },
    {
     "name": "stderr",
     "output_type": "stream",
     "text": [
      "\r\u001b[32mloss: 64.8:  88%|███████████████████████████████████    |  ETA: 0:00:57\u001b[39m\u001b[K"
     ]
    },
    {
     "name": "stderr",
     "output_type": "stream",
     "text": [
      "\r\u001b[32mloss: 64.8:  88%|███████████████████████████████████    |  ETA: 0:00:55\u001b[39m\u001b[K"
     ]
    },
    {
     "name": "stderr",
     "output_type": "stream",
     "text": [
      "\r\u001b[32mloss: 64.8:  88%|███████████████████████████████████    |  ETA: 0:00:53\u001b[39m\u001b[K"
     ]
    },
    {
     "name": "stderr",
     "output_type": "stream",
     "text": [
      "\r\u001b[32mloss: 64.8:  89%|███████████████████████████████████    |  ETA: 0:00:50\u001b[39m\u001b[K"
     ]
    },
    {
     "name": "stderr",
     "output_type": "stream",
     "text": [
      "\r\u001b[32mloss: 64.8:  90%|███████████████████████████████████    |  ETA: 0:00:48\u001b[39m\u001b[K"
     ]
    },
    {
     "name": "stderr",
     "output_type": "stream",
     "text": [
      "\r\u001b[32mloss: 64.8:  90%|████████████████████████████████████   |  ETA: 0:00:46\u001b[39m\u001b[K"
     ]
    },
    {
     "name": "stderr",
     "output_type": "stream",
     "text": [
      "\r\u001b[32mloss: 64.8:  90%|████████████████████████████████████   |  ETA: 0:00:44\u001b[39m\u001b[K"
     ]
    },
    {
     "name": "stderr",
     "output_type": "stream",
     "text": [
      "\r\u001b[32mloss: 64.8:  91%|████████████████████████████████████   |  ETA: 0:00:41\u001b[39m\u001b[K"
     ]
    },
    {
     "name": "stderr",
     "output_type": "stream",
     "text": [
      "\r\u001b[32mloss: 64.8:  92%|████████████████████████████████████   |  ETA: 0:00:39\u001b[39m\u001b[K"
     ]
    },
    {
     "name": "stderr",
     "output_type": "stream",
     "text": [
      "\r\u001b[32mloss: 64.7:  92%|████████████████████████████████████   |  ETA: 0:00:37\u001b[39m\u001b[K"
     ]
    },
    {
     "name": "stderr",
     "output_type": "stream",
     "text": [
      "\r\u001b[32mloss: 64.7:  92%|█████████████████████████████████████  |  ETA: 0:00:34\u001b[39m\u001b[K"
     ]
    },
    {
     "name": "stderr",
     "output_type": "stream",
     "text": [
      "\r\u001b[32mloss: 64.7:  93%|█████████████████████████████████████  |  ETA: 0:00:32\u001b[39m\u001b[K"
     ]
    },
    {
     "name": "stderr",
     "output_type": "stream",
     "text": [
      "\r\u001b[32mloss: 64.7:  94%|█████████████████████████████████████  |  ETA: 0:00:30\u001b[39m\u001b[K"
     ]
    },
    {
     "name": "stderr",
     "output_type": "stream",
     "text": [
      "\r\u001b[32mloss: 64.7:  94%|█████████████████████████████████████  |  ETA: 0:00:28\u001b[39m\u001b[K"
     ]
    },
    {
     "name": "stderr",
     "output_type": "stream",
     "text": [
      "\r\u001b[32mloss: 64.7:  94%|█████████████████████████████████████  |  ETA: 0:00:25\u001b[39m\u001b[K"
     ]
    },
    {
     "name": "stderr",
     "output_type": "stream",
     "text": [
      "\r\u001b[32mloss: 64.7:  95%|██████████████████████████████████████ |  ETA: 0:00:23\u001b[39m\u001b[K"
     ]
    },
    {
     "name": "stderr",
     "output_type": "stream",
     "text": [
      "\r\u001b[32mloss: 64.7:  96%|██████████████████████████████████████ |  ETA: 0:00:21\u001b[39m\u001b[K"
     ]
    },
    {
     "name": "stderr",
     "output_type": "stream",
     "text": [
      "\r\u001b[32mloss: 64.7:  96%|██████████████████████████████████████ |  ETA: 0:00:18\u001b[39m\u001b[K"
     ]
    },
    {
     "name": "stderr",
     "output_type": "stream",
     "text": [
      "\r\u001b[32mloss: 64.7:  96%|██████████████████████████████████████ |  ETA: 0:00:16\u001b[39m\u001b[K"
     ]
    },
    {
     "name": "stderr",
     "output_type": "stream",
     "text": [
      "\r\u001b[32mloss: 64.7:  97%|██████████████████████████████████████ |  ETA: 0:00:14\u001b[39m\u001b[K"
     ]
    },
    {
     "name": "stderr",
     "output_type": "stream",
     "text": [
      "\r\u001b[32mloss: 64.6:  98%|███████████████████████████████████████|  ETA: 0:00:11\u001b[39m\u001b[K"
     ]
    },
    {
     "name": "stderr",
     "output_type": "stream",
     "text": [
      "\r\u001b[32mloss: 64.6:  98%|███████████████████████████████████████|  ETA: 0:00:09\u001b[39m\u001b[K"
     ]
    },
    {
     "name": "stderr",
     "output_type": "stream",
     "text": [
      "\r\u001b[32mloss: 64.6:  98%|███████████████████████████████████████|  ETA: 0:00:07\u001b[39m\u001b[K"
     ]
    },
    {
     "name": "stderr",
     "output_type": "stream",
     "text": [
      "\r\u001b[32mloss: 64.6:  99%|███████████████████████████████████████|  ETA: 0:00:05\u001b[39m\u001b[K"
     ]
    },
    {
     "name": "stderr",
     "output_type": "stream",
     "text": [
      "\r\u001b[32mloss: 64.6: 100%|███████████████████████████████████████|  ETA: 0:00:02\u001b[39m\u001b[K"
     ]
    },
    {
     "name": "stderr",
     "output_type": "stream",
     "text": [
      "\r\u001b[32mloss: 64.6: 100%|███████████████████████████████████████| Time: 0:07:40\u001b[39m\u001b[K\n"
     ]
    },
    {
     "data": {
      "text/plain": [
       "predict (generic function with 1 method)"
      ]
     },
     "metadata": {},
     "output_type": "display_data"
    }
   ],
   "source": [
    "obs_grid = 4:4:length(t_train) # we train on an increasing amount of the first k obs\n",
    "maxiters = 200\n",
    "lr = 5e-5\n",
    "θs, state, losses, final_loss = train(t_train, y_train, obs_grid, maxiters, lr, rng, progress=true);\n",
    "@save \"artefacts/training_output.bson\" θs losses\n",
    "\n",
    "predict(y0, t, θ, state) = begin\n",
    "    node, _, _ = neural_ode(t, length(y0))\n",
    "    ŷ = Array(node(y0, θ, state)[1])\n",
    "end\n"
   ]
  },
  {
   "cell_type": "code",
   "execution_count": 10,
   "id": "a34568d3",
   "metadata": {},
   "outputs": [
    {
     "name": "stderr",
     "output_type": "stream",
     "text": [
      "┌ Info: Generating training animation...\n",
      "└ @ Main c:\\Users\\SpOoKyJaRvIs\\Desktop\\CSO211 project\\neural-ode-weather-forecast\\scripts\\heavy2 - Copy.ipynb:16\n"
     ]
    },
    {
     "name": "stderr",
     "output_type": "stream",
     "text": [
      "┌ Info: Saved animation to c:\\Users\\SpOoKyJaRvIs\\Desktop\\CSO211 project\\neural-ode-weather-forecast\\scripts\\plots\\training.gif\n",
      "└ @ Plots C:\\Users\\SpOoKyJaRvIs\\.julia\\packages\\Plots\\QZRtR\\src\\animation.jl:156\n",
      "┌ Info: Generating extrapolation plot...\n",
      "└ @ Main c:\\Users\\SpOoKyJaRvIs\\Desktop\\CSO211 project\\neural-ode-weather-forecast\\scripts\\heavy2 - Copy.ipynb:27\n"
     ]
    },
    {
     "name": "stderr",
     "output_type": "stream",
     "text": [
      "┌ Info: Done!\n",
      "└ @ Main c:\\Users\\SpOoKyJaRvIs\\Desktop\\CSO211 project\\neural-ode-weather-forecast\\scripts\\heavy2 - Copy.ipynb:40\n"
     ]
    }
   ],
   "source": [
    "function plot_pred(\n",
    "    t_train, y_train, t_grid,\n",
    "    rescale_t, rescale_y, num_iters, θ, state, loss, y0=y_train[:, 1]\n",
    ")\n",
    "    ŷ = predict(y0, t_grid, θ, state)\n",
    "    plt = plot_result(\n",
    "        rescale_t(t_train),\n",
    "        rescale_y(y_train),\n",
    "        rescale_t(t_grid),\n",
    "        rescale_y(ŷ),\n",
    "        loss,\n",
    "        num_iters\n",
    "    )\n",
    "end\n",
    "\n",
    "@info \"Generating training animation...\"\n",
    "num_iters = length(losses)\n",
    "t_train_grid = collect(range(extrema(t_train)..., length=500))\n",
    "rescale_t(x) = t_scale .* x .+ t_mean\n",
    "rescale_y(x) = y_scale .* x .+ y_mean\n",
    "plot_frame(t, y, θ, loss) = plot_pred(\n",
    "    t, y, t_train_grid, rescale_t, rescale_y, num_iters, θ, state, loss\n",
    ")\n",
    "anim = animate_training(plot_frame, t_train, y_train, θs, losses, obs_grid);\n",
    "gif(anim, \"plots/training.gif\")\n",
    "\n",
    "@info \"Generating extrapolation plot...\"\n",
    "t_grid = collect(range(minimum(t_train), maximum(t_test), length=500))\n",
    "ŷ = predict(y_train[:,1], t_grid, θs[end], state)\n",
    "plt_ext = plot_extrapolation(\n",
    "    rescale_t(t_train),\n",
    "    rescale_y(y_train),\n",
    "    rescale_t(t_test),\n",
    "    rescale_y(y_test),\n",
    "    rescale_t(t_grid),\n",
    "    rescale_y(ŷ)\n",
    ");\n",
    "savefig(plt_ext, \"plots/extrapolation.svg\")\n",
    "\n",
    "@info \"Done!\""
   ]
  },
  {
   "cell_type": "code",
   "execution_count": 11,
   "id": "aecc358a",
   "metadata": {
    "scrolled": true
   },
   "outputs": [
    {
     "data": {
      "text/plain": [
       "4×32 Matrix{Float64}:\n",
       " -1.76393   -1.01728   -0.332506   …   0.170147    0.165537    0.16076\n",
       "  0.742803   0.184449  -0.0922492      0.0523399   0.0538947   0.0552091\n",
       " -1.25499   -0.061376   0.270782      -0.101343   -0.104119   -0.106602\n",
       "  1.35756    0.808868   0.279136      -0.303868   -0.31226    -0.320654"
      ]
     },
     "metadata": {},
     "output_type": "display_data"
    }
   ],
   "source": [
    "ŷ = predict(y_train[:,1], t_test, θs[end], state)"
   ]
  },
  {
   "cell_type": "code",
   "execution_count": 12,
   "id": "481827fd",
   "metadata": {},
   "outputs": [
    {
     "data": {
      "text/plain": [
       "mean_squared_error (generic function with 1 method)"
      ]
     },
     "metadata": {},
     "output_type": "display_data"
    }
   ],
   "source": [
    "function mean_squared_error(ŷ, y_test)\n",
    "    diff = ŷ - y_test\n",
    "    mse = sum(diff .^ 2) / length(diff)\n",
    "    return mse\n",
    "end"
   ]
  },
  {
   "cell_type": "code",
   "execution_count": 13,
   "id": "7bca90c8",
   "metadata": {},
   "outputs": [
    {
     "data": {
      "text/plain": [
       "8.07682245402914"
      ]
     },
     "metadata": {},
     "output_type": "display_data"
    }
   ],
   "source": [
    "mean_squared_error(ŷ, y_test)"
   ]
  },
  {
   "cell_type": "code",
   "execution_count": 14,
   "id": "885c4ba5",
   "metadata": {},
   "outputs": [],
   "source": []
  },
  {
   "cell_type": "code",
   "execution_count": 15,
   "metadata": {},
   "outputs": [],
   "source": []
  },
  {
   "cell_type": "code",
   "execution_count": null,
   "metadata": {},
   "outputs": [],
   "source": []
  }
 ],
 "metadata": {
  "kernelspec": {
   "display_name": "Julia 1.9.3",
   "language": "julia",
   "name": "julia-1.9"
  },
  "language_info": {
   "file_extension": ".jl",
   "mimetype": "application/julia",
   "name": "julia",
   "version": "1.9.3"
  }
 },
 "nbformat": 4,
 "nbformat_minor": 5
}
