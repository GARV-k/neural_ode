{
 "cells": [
  {
   "cell_type": "code",
   "execution_count": 2,
   "id": "5b20c5b2",
   "metadata": {},
   "outputs": [
    {
     "name": "stderr",
     "output_type": "stream",
     "text": [
      "WARNING: replacing module Delhi.\n",
      "WARNING: replacing module Delhi.\n"
     ]
    },
    {
     "data": {
      "text/plain": [
       "plot_extrapolation (generic function with 1 method)"
      ]
     },
     "metadata": {},
     "output_type": "display_data"
    }
   ],
   "source": [
    "using Random\n",
    "using Dates\n",
    "using Optimization\n",
    "using Lux\n",
    "using DiffEqFlux: NeuralODE, ADAMW, swish\n",
    "using DifferentialEquations\n",
    "using ComponentArrays\n",
    "using BSON: @save, @load\n",
    "using Flux\n",
    "\n",
    "include(joinpath(\"..\", \"src\", \"delhi.jl\"))\n",
    "include(joinpath(\"..\", \"src\", \"figures.jl\"))\n"
   ]
  },
  {
   "cell_type": "code",
   "execution_count": 10,
   "id": "f54245c1",
   "metadata": {},
   "outputs": [
    {
     "data": {
      "text/plain": [
       "\u001b[38;2;86;182;194mODEProblem\u001b[0m with uType \u001b[38;2;86;182;194mVector{Float64}\u001b[0m and tType \u001b[38;2;86;182;194mFloat64\u001b[0m. In-place: \u001b[38;2;86;182;194mtrue\u001b[0m\n",
       "timespan: (0.0, 10.0)\n",
       "u0: 2-element Vector{Float64}:\n",
       " 1.0\n",
       " 1.0"
      ]
     },
     "metadata": {},
     "output_type": "display_data"
    }
   ],
   "source": [
    "function lotka_volterra(du,u,para,t)\n",
    "    x, y = u\n",
    "    α, β, δ, γ = para\n",
    "    du[1] = dx = α*x - β*x*y\n",
    "    du[2] = dy = -δ*y + γ*x*y\n",
    "  end\n",
    "  u0 = [1.0,1.0]\n",
    "  tspan = (0.0,10.0)\n",
    "  para = [1.5,1.0,3.0,1.0]\n",
    "  prob = ODEProblem(lotka_volterra,u0,tspan,para)"
   ]
  },
  {
   "cell_type": "code",
   "execution_count": 11,
   "id": "d495e272",
   "metadata": {},
   "outputs": [
    {
     "data": {
      "text/plain": [
       "neural_ode (generic function with 1 method)"
      ]
     },
     "metadata": {},
     "output_type": "display_data"
    }
   ],
   "source": [
    "function neural_ode(t, data_dim)\n",
    "      f = Lux.Chain(\n",
    "  \n",
    "          Lux.Dense(data_dim, 32, swish),\n",
    "          Lux.Dense(32, 8, swish),\n",
    "          Lux.Dense(8, 4, swish),\n",
    "          p -> solve(prob,Tsit5(),p=p,saveat=0.1)[1,:],\n",
    "          Lux.Dense(101, 64, swish),\n",
    "          Lux.Dense(64, 32, swish),\n",
    "          Lux.Dense(32, data_dim)\n",
    "      )\n",
    "  \n",
    "      node = NeuralODE(\n",
    "          f, extrema(t), Tsit5(),\n",
    "          saveat=t,\n",
    "          abstol=1e-9, reltol=1e-9\n",
    "      )\n",
    "      \n",
    "      rng = Random.default_rng()\n",
    "      p, state = Lux.setup(rng, f)\n",
    "  \n",
    "      return node, ComponentArray(p), state\n",
    "end"
   ]
  },
  {
   "cell_type": "code",
   "execution_count": 12,
   "id": "a80c6f85",
   "metadata": {},
   "outputs": [
    {
     "data": {
      "text/plain": [
       "train_one_round (generic function with 2 methods)"
      ]
     },
     "metadata": {},
     "output_type": "display_data"
    }
   ],
   "source": [
    "function train_one_round(node, θ, state, y, opt, maxiters, rng, y0=y[:, 1]; kwargs...)\n",
    "    predict(θ) = Array(node(y0, θ, state)[1])\n",
    "    loss(θ) = sum(abs2, predict(θ) .- y)\n",
    "    \n",
    "    adtype = Optimization.AutoZygote()\n",
    "    optf = OptimizationFunction((θ, p) -> loss(θ), adtype)\n",
    "    optprob = OptimizationProblem(optf, θ)\n",
    "    res = solve(optprob, opt, maxiters=maxiters; kwargs...)\n",
    "    res.minimizer, state\n",
    "end\n"
   ]
  },
  {
   "cell_type": "code",
   "execution_count": 13,
   "id": "fba37566",
   "metadata": {},
   "outputs": [
    {
     "data": {
      "text/plain": [
       "train (generic function with 3 methods)"
      ]
     },
     "metadata": {},
     "output_type": "display_data"
    }
   ],
   "source": [
    "function train(t, y, obs_grid, maxiters, lr, rng, θ=nothing, state=nothing; kwargs...)\n",
    "    log_results(θs, losses) =\n",
    "        (θ, loss) -> begin\n",
    "        push!(θs, copy(θ))\n",
    "        push!(losses, loss)\n",
    "        false\n",
    "    end\n",
    "\n",
    "    θs, losses = ComponentArray[], Float32[]\n",
    "    for k in obs_grid\n",
    "        node, θ_new, state_new = neural_ode(t, size(y, 1))\n",
    "        if θ === nothing θ = θ_new end\n",
    "        if state === nothing state = state_new end\n",
    "\n",
    "        θ, state = train_one_round(\n",
    "            node, θ, state, y, ADAMW(lr), maxiters, rng;\n",
    "            callback=log_results(θs, losses),\n",
    "            kwargs...\n",
    "        )\n",
    "    end\n",
    "    final_loss=0\n",
    "    θs, state, losses, final_loss\n",
    " \n",
    "end\n",
    "\n"
   ]
  },
  {
   "cell_type": "code",
   "execution_count": 14,
   "id": "5e18d5d2",
   "metadata": {},
   "outputs": [
    {
     "name": "stderr",
     "output_type": "stream",
     "text": [
      "┌ Info: Fitting model...\n",
      "└ @ Main c:\\Users\\SpOoKyJaRvIs\\Desktop\\CSO211 project\\neural-ode-weather-forecast\\scripts\\Untitled(1).ipynb:1\n"
     ]
    },
    {
     "data": {
      "text/plain": [
       "\"c:\\\\Users\\\\SpOoKyJaRvIs\\\\Desktop\\\\CSO211 project\\\\neural-ode-weather-forecast\\\\scripts\\\\plots\\\\zoomed_pressure.svg\""
      ]
     },
     "metadata": {},
     "output_type": "display_data"
    }
   ],
   "source": [
    "@info \"Fitting model...\"\n",
    "rng = MersenneTwister(123)\n",
    "df = Delhi.load()\n",
    "plt_features = Delhi.plot_features(df)\n",
    "savefig(plt_features, joinpath(\"plots\", \"features.svg\"))\n",
    "\n",
    "df_2016 = filter(x -> x.date < Date(2016, 1, 1), df)\n",
    "plt_2016 = plot(\n",
    "    df_2016.date,\n",
    "    df_2016.meanpressure,\n",
    "    title = \"Mean pressure, before 2016\",\n",
    "    ylabel = Delhi.units[4],\n",
    "    xlabel = \"Time\",\n",
    "    color = 4,\n",
    "    size = (600, 300),\n",
    "    label = nothing,\n",
    "    right_margin=5Plots.mm\n",
    ")\n",
    "savefig(plt_2016, joinpath(\"plots\", \"zoomed_pressure.svg\"))\n"
   ]
  },
  {
   "cell_type": "code",
   "execution_count": 15,
   "id": "7595d719",
   "metadata": {},
   "outputs": [
    {
     "data": {
      "text/plain": [
       "([-1.60579308398432, -1.4367622330383107, -1.267731382092763, -1.0987005311472149, -0.9296696802012057, -0.7606388292556577, -0.5916079783101097, -0.4225771273641006, -0.2535462764185526, -0.08451542547300459, 0.08451542547300459, 0.2535462764185526, 0.4225771273641006, 0.5916079783101097, 0.7606388292556577, 0.9296696802012057, 1.0987005311472149, 1.267731382092763, 1.4367622330383107, 1.60579308398432], [-1.763925125632563 -1.1235556296843154 … 0.9028695693184288 0.8197374527372693; 0.7428026273433367 0.6737312549046214 … 0.09770117510549325 0.007224485672476749; -1.2549872329391258 0.1484330904176096 … 0.17740293507960775 0.2501049921257615; 1.3575622301481491 1.1122878498059419 … -1.1776132360481055 -0.8698951253162611], [1.774823934929868, 1.943854785875416, 2.1128856368214253, 2.2819164877669733, 2.450947338712521, 2.6199781896585304, 2.7890090406040784, 2.9580398915496264, 3.1270707424956354, 3.2961015934411835  …  5.493502655735152, 5.662533506681161, 5.831564357626709, 6.000595208572257, 6.169626059518266, 6.338656910463814, 6.507687761409362, 6.676718612355371, 6.845749463300919, 7.014780314246467], [0.5993503684676721 0.16298266490255592 … -0.20348342992971324 0.7317806567121532; 0.13187113236250197 -0.13998567041267365 … -0.8422665838983205 -1.9573986619710841; 0.4571916301460007 -1.7045417244468233 … 0.8980938434368024 1.0278275757923792; -0.3884420348396531 0.5432510751435583 … 0.4059779413164457 -0.35559069742876687], ([2013.875;;], [0.49300664859163934;;]), ([25.27671416254674; 61.30422906824019; 7.194851184048889; 1007.321897943855;;], [7.484413247165987; 15.784237081943546; 1.8812446147951691; 7.75348347013801;;]))"
      ]
     },
     "metadata": {},
     "output_type": "display_data"
    }
   ],
   "source": [
    "t_train, y_train, t_test, y_test, (t_mean, t_scale), (y_mean, y_scale) = Delhi.preprocess(df)"
   ]
  },
  {
   "cell_type": "code",
   "execution_count": 16,
   "id": "f9a37c57",
   "metadata": {},
   "outputs": [
    {
     "data": {
      "text/plain": [
       "\"c:\\\\Users\\\\SpOoKyJaRvIs\\\\Desktop\\\\CSO211 project\\\\neural-ode-weather-forecast\\\\scripts\\\\plots\\\\train_test_split.svg\""
      ]
     },
     "metadata": {},
     "output_type": "display_data"
    }
   ],
   "source": [
    "plt_split = plot(\n",
    "    reshape(t_train, :), y_train',\n",
    "    linewidth = 3, colors = 1:4,\n",
    "    xlabel = \"Normalized time\", ylabel = \"Normalized values\",\n",
    "    label = nothing, title = \"Pre-processed data\"\n",
    ")\n",
    "plot!(\n",
    "    plt_split, reshape(t_test, :), y_test',\n",
    "    linewidth = 3, linestyle = :dash,\n",
    "    color = [1 2 3 4], label = nothing\n",
    ")\n",
    "\n",
    "plot!(\n",
    "    plt_split, [0], [0], linewidth = 0,\n",
    "    label = \"Train\", color = 1\n",
    ")\n",
    "plot!(\n",
    "    plt_split, [0], [0], linewidth = 0,\n",
    "    linestyle = :dash, label = \"Test\",\n",
    "    color = 1\n",
    ")\n",
    "savefig(plt_split, joinpath(\"plots\", \"train_test_split.svg\"))\n"
   ]
  },
  {
   "cell_type": "code",
   "execution_count": 17,
   "id": "63ce4bd2",
   "metadata": {},
   "outputs": [
    {
     "name": "stderr",
     "output_type": "stream",
     "text": [
      "\r\u001b[32mloss: 706:   1%|█                                       |  ETA: 0:08:13\u001b[39m\u001b[K"
     ]
    },
    {
     "name": "stderr",
     "output_type": "stream",
     "text": [
      "\r\u001b[32mloss: 171:   2%|█                                       |  ETA: 0:08:17\u001b[39m\u001b[K"
     ]
    },
    {
     "name": "stderr",
     "output_type": "stream",
     "text": [
      "\r\u001b[32mloss: 275:   3%|██                                      |  ETA: 0:09:40\u001b[39m\u001b[K"
     ]
    },
    {
     "name": "stderr",
     "output_type": "stream",
     "text": [
      "\r\u001b[32mloss: 152:   3%|██                                      |  ETA: 0:08:57\u001b[39m\u001b[K"
     ]
    },
    {
     "name": "stderr",
     "output_type": "stream",
     "text": [
      "\r\u001b[32mloss: 150:   4%|██                                      |  ETA: 0:08:29\u001b[39m\u001b[K"
     ]
    },
    {
     "name": "stderr",
     "output_type": "stream",
     "text": [
      "\r\u001b[32mloss: 152:   5%|██                                      |  ETA: 0:08:15\u001b[39m\u001b[K"
     ]
    },
    {
     "name": "stderr",
     "output_type": "stream",
     "text": [
      "\r\u001b[32mloss: 149:   5%|███                                     |  ETA: 0:07:51\u001b[39m\u001b[K"
     ]
    },
    {
     "name": "stderr",
     "output_type": "stream",
     "text": [
      "\r\u001b[32mloss: 142:   6%|███                                     |  ETA: 0:07:32\u001b[39m\u001b[K"
     ]
    },
    {
     "name": "stderr",
     "output_type": "stream",
     "text": [
      "\r\u001b[32mloss: 132:   7%|███                                     |  ETA: 0:07:24\u001b[39m\u001b[K"
     ]
    },
    {
     "name": "stderr",
     "output_type": "stream",
     "text": [
      "\r\u001b[32mloss: 121:   7%|███                                     |  ETA: 0:07:06\u001b[39m\u001b[K"
     ]
    },
    {
     "name": "stderr",
     "output_type": "stream",
     "text": [
      "\r\u001b[32mloss: 111:   8%|████                                    |  ETA: 0:06:52\u001b[39m\u001b[K"
     ]
    },
    {
     "name": "stderr",
     "output_type": "stream",
     "text": [
      "\r\u001b[32mloss: 103:   9%|████                                    |  ETA: 0:06:45\u001b[39m\u001b[K"
     ]
    },
    {
     "name": "stderr",
     "output_type": "stream",
     "text": [
      "\r\u001b[32mloss: 98.7:   9%|████                                   |  ETA: 0:06:30\u001b[39m\u001b[K"
     ]
    },
    {
     "name": "stderr",
     "output_type": "stream",
     "text": [
      "\r\u001b[32mloss: 97.1:  10%|████                                   |  ETA: 0:06:17\u001b[39m\u001b[K"
     ]
    },
    {
     "name": "stderr",
     "output_type": "stream",
     "text": [
      "\r\u001b[32mloss: 97.7:  11%|█████                                  |  ETA: 0:06:09\u001b[39m\u001b[K"
     ]
    },
    {
     "name": "stderr",
     "output_type": "stream",
     "text": [
      "\r\u001b[32mloss: 99.2:  11%|█████                                  |  ETA: 0:06:00\u001b[39m\u001b[K"
     ]
    },
    {
     "name": "stderr",
     "output_type": "stream",
     "text": [
      "\r\u001b[32mloss: 100:  12%|█████                                   |  ETA: 0:05:52\u001b[39m\u001b[K"
     ]
    },
    {
     "name": "stderr",
     "output_type": "stream",
     "text": [
      "\r\u001b[32mloss: 99.3:  13%|█████                                  |  ETA: 0:05:49\u001b[39m\u001b[K"
     ]
    },
    {
     "name": "stderr",
     "output_type": "stream",
     "text": [
      "\r\u001b[32mloss: 97.2:  13%|██████                                 |  ETA: 0:05:43\u001b[39m\u001b[K"
     ]
    },
    {
     "name": "stderr",
     "output_type": "stream",
     "text": [
      "\r\u001b[32mloss: 94.4:  14%|██████                                 |  ETA: 0:05:34\u001b[39m\u001b[K"
     ]
    },
    {
     "name": "stderr",
     "output_type": "stream",
     "text": [
      "\r\u001b[32mloss: 92:  15%|██████                                   |  ETA: 0:05:29\u001b[39m\u001b[K"
     ]
    },
    {
     "name": "stderr",
     "output_type": "stream",
     "text": [
      "\r\u001b[32mloss: 90.4:  15%|██████                                 |  ETA: 0:05:21\u001b[39m\u001b[K"
     ]
    },
    {
     "name": "stderr",
     "output_type": "stream",
     "text": [
      "\r\u001b[32mloss: 89.7:  16%|███████                                |  ETA: 0:05:13\u001b[39m\u001b[K"
     ]
    },
    {
     "name": "stderr",
     "output_type": "stream",
     "text": [
      "\r\u001b[32mloss: 89.7:  17%|███████                                |  ETA: 0:05:09\u001b[39m\u001b[K"
     ]
    },
    {
     "name": "stderr",
     "output_type": "stream",
     "text": [
      "\r\u001b[32mloss: 90:  17%|████████                                 |  ETA: 0:05:01\u001b[39m\u001b[K"
     ]
    },
    {
     "name": "stderr",
     "output_type": "stream",
     "text": [
      "\r\u001b[32mloss: 90.3:  18%|████████                               |  ETA: 0:04:56\u001b[39m\u001b[K"
     ]
    },
    {
     "name": "stderr",
     "output_type": "stream",
     "text": [
      "\r\u001b[32mloss: 90.2:  19%|████████                               |  ETA: 0:04:52\u001b[39m\u001b[K"
     ]
    },
    {
     "name": "stderr",
     "output_type": "stream",
     "text": [
      "\r\u001b[32mloss: 89.8:  19%|████████                               |  ETA: 0:04:47\u001b[39m\u001b[K"
     ]
    },
    {
     "name": "stderr",
     "output_type": "stream",
     "text": [
      "\r\u001b[32mloss: 89:  20%|█████████                                |  ETA: 0:04:41\u001b[39m\u001b[K"
     ]
    },
    {
     "name": "stderr",
     "output_type": "stream",
     "text": [
      "\r\u001b[32mloss: 88.1:  21%|█████████                              |  ETA: 0:04:38\u001b[39m\u001b[K"
     ]
    },
    {
     "name": "stderr",
     "output_type": "stream",
     "text": [
      "\r\u001b[32mloss: 87.1:  21%|█████████                              |  ETA: 0:04:33\u001b[39m\u001b[K"
     ]
    },
    {
     "name": "stderr",
     "output_type": "stream",
     "text": [
      "\r\u001b[32mloss: 86.2:  22%|█████████                              |  ETA: 0:04:28\u001b[39m\u001b[K"
     ]
    },
    {
     "name": "stderr",
     "output_type": "stream",
     "text": [
      "\r\u001b[32mloss: 85.3:  23%|█████████                              |  ETA: 0:04:26\u001b[39m\u001b[K"
     ]
    },
    {
     "name": "stderr",
     "output_type": "stream",
     "text": [
      "\r\u001b[32mloss: 84.4:  23%|██████████                             |  ETA: 0:04:21\u001b[39m\u001b[K"
     ]
    },
    {
     "name": "stderr",
     "output_type": "stream",
     "text": [
      "\r\u001b[32mloss: 83.6:  24%|██████████                             |  ETA: 0:04:21\u001b[39m\u001b[K"
     ]
    },
    {
     "name": "stderr",
     "output_type": "stream",
     "text": [
      "\r\u001b[32mloss: 82.9:  25%|██████████                             |  ETA: 0:04:21\u001b[39m\u001b[K"
     ]
    },
    {
     "name": "stderr",
     "output_type": "stream",
     "text": [
      "\r\u001b[32mloss: 82.3:  25%|██████████                             |  ETA: 0:04:19\u001b[39m\u001b[K"
     ]
    },
    {
     "name": "stderr",
     "output_type": "stream",
     "text": [
      "\r\u001b[32mloss: 81.8:  26%|███████████                            |  ETA: 0:04:15\u001b[39m\u001b[K"
     ]
    },
    {
     "name": "stderr",
     "output_type": "stream",
     "text": [
      "\r\u001b[32mloss: 81.3:  27%|███████████                            |  ETA: 0:04:16\u001b[39m\u001b[K"
     ]
    },
    {
     "name": "stderr",
     "output_type": "stream",
     "text": [
      "\r\u001b[32mloss: 80.9:  27%|███████████                            |  ETA: 0:04:14\u001b[39m\u001b[K"
     ]
    },
    {
     "name": "stderr",
     "output_type": "stream",
     "text": [
      "\r\u001b[32mloss: 80.5:  28%|███████████                            |  ETA: 0:04:10\u001b[39m\u001b[K"
     ]
    },
    {
     "name": "stderr",
     "output_type": "stream",
     "text": [
      "\r\u001b[32mloss: 79.9:  29%|████████████                           |  ETA: 0:04:08\u001b[39m\u001b[K"
     ]
    },
    {
     "name": "stderr",
     "output_type": "stream",
     "text": [
      "\r\u001b[32mloss: 79.2:  29%|████████████                           |  ETA: 0:04:03\u001b[39m\u001b[K"
     ]
    },
    {
     "name": "stderr",
     "output_type": "stream",
     "text": [
      "\r\u001b[32mloss: 78.4:  30%|████████████                           |  ETA: 0:03:59\u001b[39m\u001b[K"
     ]
    },
    {
     "name": "stderr",
     "output_type": "stream",
     "text": [
      "\r\u001b[32mloss: 77.6:  31%|████████████                           |  ETA: 0:03:56\u001b[39m\u001b[K"
     ]
    },
    {
     "name": "stderr",
     "output_type": "stream",
     "text": [
      "\r\u001b[32mloss: 76.8:  31%|█████████████                          |  ETA: 0:03:52\u001b[39m\u001b[K"
     ]
    },
    {
     "name": "stderr",
     "output_type": "stream",
     "text": [
      "\r\u001b[32mloss: 76.1:  32%|█████████████                          |  ETA: 0:03:48\u001b[39m\u001b[K"
     ]
    },
    {
     "name": "stderr",
     "output_type": "stream",
     "text": [
      "\r\u001b[32mloss: 75.4:  33%|█████████████                          |  ETA: 0:03:46\u001b[39m\u001b[K"
     ]
    },
    {
     "name": "stderr",
     "output_type": "stream",
     "text": [
      "\r\u001b[32mloss: 74.8:  33%|█████████████                          |  ETA: 0:03:45\u001b[39m\u001b[K"
     ]
    },
    {
     "name": "stderr",
     "output_type": "stream",
     "text": [
      "\r\u001b[32mloss: 74.2:  34%|██████████████                         |  ETA: 0:03:42\u001b[39m\u001b[K"
     ]
    },
    {
     "name": "stderr",
     "output_type": "stream",
     "text": [
      "\r\u001b[32mloss: 73.7:  35%|██████████████                         |  ETA: 0:03:39\u001b[39m\u001b[K"
     ]
    },
    {
     "name": "stderr",
     "output_type": "stream",
     "text": [
      "\r\u001b[32mloss: 73.1:  35%|██████████████                         |  ETA: 0:03:36\u001b[39m\u001b[K"
     ]
    },
    {
     "name": "stderr",
     "output_type": "stream",
     "text": [
      "\r\u001b[32mloss: 72.6:  36%|███████████████                        |  ETA: 0:03:33\u001b[39m\u001b[K"
     ]
    },
    {
     "name": "stderr",
     "output_type": "stream",
     "text": [
      "\r\u001b[32mloss: 72.1:  37%|███████████████                        |  ETA: 0:03:31\u001b[39m\u001b[K"
     ]
    },
    {
     "name": "stderr",
     "output_type": "stream",
     "text": [
      "\r\u001b[32mloss: 71.5:  37%|███████████████                        |  ETA: 0:03:28\u001b[39m\u001b[K"
     ]
    },
    {
     "name": "stderr",
     "output_type": "stream",
     "text": [
      "\r\u001b[32mloss: 71:  38%|████████████████                         |  ETA: 0:03:24\u001b[39m\u001b[K"
     ]
    },
    {
     "name": "stderr",
     "output_type": "stream",
     "text": [
      "\r\u001b[32mloss: 70.5:  39%|████████████████                       |  ETA: 0:03:22\u001b[39m\u001b[K"
     ]
    },
    {
     "name": "stderr",
     "output_type": "stream",
     "text": [
      "\r\u001b[32mloss: 70:  39%|█████████████████                        |  ETA: 0:03:19\u001b[39m\u001b[K"
     ]
    },
    {
     "name": "stderr",
     "output_type": "stream",
     "text": [
      "\r\u001b[32mloss: 69.6:  40%|████████████████                       |  ETA: 0:03:16\u001b[39m\u001b[K"
     ]
    },
    {
     "name": "stderr",
     "output_type": "stream",
     "text": [
      "\r\u001b[32mloss: 69.1:  41%|████████████████                       |  ETA: 0:03:14\u001b[39m\u001b[K"
     ]
    },
    {
     "name": "stderr",
     "output_type": "stream",
     "text": [
      "\r\u001b[32mloss: 68.8:  41%|█████████████████                      |  ETA: 0:03:11\u001b[39m\u001b[K"
     ]
    },
    {
     "name": "stderr",
     "output_type": "stream",
     "text": [
      "\r\u001b[32mloss: 68.4:  42%|█████████████████                      |  ETA: 0:03:08\u001b[39m\u001b[K"
     ]
    },
    {
     "name": "stderr",
     "output_type": "stream",
     "text": [
      "\r\u001b[32mloss: 68.1:  43%|█████████████████                      |  ETA: 0:03:06\u001b[39m\u001b[K"
     ]
    },
    {
     "name": "stderr",
     "output_type": "stream",
     "text": [
      "\r\u001b[32mloss: 67.9:  43%|█████████████████                      |  ETA: 0:03:03\u001b[39m\u001b[K"
     ]
    },
    {
     "name": "stderr",
     "output_type": "stream",
     "text": [
      "\r\u001b[32mloss: 67.7:  44%|██████████████████                     |  ETA: 0:03:01\u001b[39m\u001b[K"
     ]
    },
    {
     "name": "stderr",
     "output_type": "stream",
     "text": [
      "\r\u001b[32mloss: 67.5:  45%|██████████████████                     |  ETA: 0:02:59\u001b[39m\u001b[K"
     ]
    },
    {
     "name": "stderr",
     "output_type": "stream",
     "text": [
      "\r\u001b[32mloss: 67.3:  45%|██████████████████                     |  ETA: 0:02:57\u001b[39m\u001b[K"
     ]
    },
    {
     "name": "stderr",
     "output_type": "stream",
     "text": [
      "\r\u001b[32mloss: 67.1:  46%|██████████████████                     |  ETA: 0:02:54\u001b[39m\u001b[K"
     ]
    },
    {
     "name": "stderr",
     "output_type": "stream",
     "text": [
      "\r\u001b[32mloss: 67:  47%|████████████████████                     |  ETA: 0:02:53\u001b[39m\u001b[K"
     ]
    },
    {
     "name": "stderr",
     "output_type": "stream",
     "text": [
      "\r\u001b[32mloss: 67:  47%|████████████████████                     |  ETA: 0:02:51\u001b[39m\u001b[K"
     ]
    },
    {
     "name": "stderr",
     "output_type": "stream",
     "text": [
      "\r\u001b[32mloss: 67:  48%|████████████████████                     |  ETA: 0:02:48\u001b[39m\u001b[K"
     ]
    },
    {
     "name": "stderr",
     "output_type": "stream",
     "text": [
      "\r\u001b[32mloss: 67:  49%|████████████████████                     |  ETA: 0:02:47\u001b[39m\u001b[K"
     ]
    },
    {
     "name": "stderr",
     "output_type": "stream",
     "text": [
      "\r\u001b[32mloss: 67:  49%|█████████████████████                    |  ETA: 0:02:45\u001b[39m\u001b[K"
     ]
    },
    {
     "name": "stderr",
     "output_type": "stream",
     "text": [
      "\r\u001b[32mloss: 67:  50%|█████████████████████                    |  ETA: 0:02:43\u001b[39m\u001b[K"
     ]
    },
    {
     "name": "stderr",
     "output_type": "stream",
     "text": [
      "\r\u001b[32mloss: 66.9:  51%|████████████████████                   |  ETA: 0:02:41\u001b[39m\u001b[K"
     ]
    },
    {
     "name": "stderr",
     "output_type": "stream",
     "text": [
      "\r\u001b[32mloss: 66.9:  51%|█████████████████████                  |  ETA: 0:02:39\u001b[39m\u001b[K"
     ]
    },
    {
     "name": "stderr",
     "output_type": "stream",
     "text": [
      "\r\u001b[32mloss: 66.9:  52%|█████████████████████                  |  ETA: 0:02:36\u001b[39m\u001b[K"
     ]
    },
    {
     "name": "stderr",
     "output_type": "stream",
     "text": [
      "\r\u001b[32mloss: 66.9:  53%|█████████████████████                  |  ETA: 0:02:34\u001b[39m\u001b[K"
     ]
    },
    {
     "name": "stderr",
     "output_type": "stream",
     "text": [
      "\r\u001b[32mloss: 66.9:  53%|█████████████████████                  |  ETA: 0:02:32\u001b[39m\u001b[K"
     ]
    },
    {
     "name": "stderr",
     "output_type": "stream",
     "text": [
      "\r\u001b[32mloss: 66.8:  54%|██████████████████████                 |  ETA: 0:02:30\u001b[39m\u001b[K"
     ]
    },
    {
     "name": "stderr",
     "output_type": "stream",
     "text": [
      "\r\u001b[32mloss: 66.8:  55%|██████████████████████                 |  ETA: 0:02:28\u001b[39m\u001b[K"
     ]
    },
    {
     "name": "stderr",
     "output_type": "stream",
     "text": [
      "\r\u001b[32mloss: 66.8:  55%|██████████████████████                 |  ETA: 0:02:26\u001b[39m\u001b[K"
     ]
    },
    {
     "name": "stderr",
     "output_type": "stream",
     "text": [
      "\r\u001b[32mloss: 66.7:  56%|██████████████████████                 |  ETA: 0:02:23\u001b[39m\u001b[K"
     ]
    },
    {
     "name": "stderr",
     "output_type": "stream",
     "text": [
      "\r\u001b[32mloss: 66.7:  57%|███████████████████████                |  ETA: 0:02:21\u001b[39m\u001b[K"
     ]
    },
    {
     "name": "stderr",
     "output_type": "stream",
     "text": [
      "\r\u001b[32mloss: 66.7:  57%|███████████████████████                |  ETA: 0:02:19\u001b[39m\u001b[K"
     ]
    },
    {
     "name": "stderr",
     "output_type": "stream",
     "text": [
      "\r\u001b[32mloss: 66.6:  58%|███████████████████████                |  ETA: 0:02:17\u001b[39m\u001b[K"
     ]
    },
    {
     "name": "stderr",
     "output_type": "stream",
     "text": [
      "\r\u001b[32mloss: 66.6:  59%|███████████████████████                |  ETA: 0:02:15\u001b[39m\u001b[K"
     ]
    },
    {
     "name": "stderr",
     "output_type": "stream",
     "text": [
      "\r\u001b[32mloss: 66.6:  59%|████████████████████████               |  ETA: 0:02:12\u001b[39m\u001b[K"
     ]
    },
    {
     "name": "stderr",
     "output_type": "stream",
     "text": [
      "\r\u001b[32mloss: 66.6:  60%|████████████████████████               |  ETA: 0:02:10\u001b[39m\u001b[K"
     ]
    },
    {
     "name": "stderr",
     "output_type": "stream",
     "text": [
      "\r\u001b[32mloss: 66.6:  61%|████████████████████████               |  ETA: 0:02:08\u001b[39m\u001b[K"
     ]
    },
    {
     "name": "stderr",
     "output_type": "stream",
     "text": [
      "\r\u001b[32mloss: 66.5:  61%|████████████████████████               |  ETA: 0:02:06\u001b[39m\u001b[K"
     ]
    },
    {
     "name": "stderr",
     "output_type": "stream",
     "text": [
      "\r\u001b[32mloss: 66.5:  62%|█████████████████████████              |  ETA: 0:02:03\u001b[39m\u001b[K"
     ]
    },
    {
     "name": "stderr",
     "output_type": "stream",
     "text": [
      "\r\u001b[32mloss: 66.5:  63%|█████████████████████████              |  ETA: 0:02:02\u001b[39m\u001b[K"
     ]
    },
    {
     "name": "stderr",
     "output_type": "stream",
     "text": [
      "\r\u001b[32mloss: 66.5:  63%|█████████████████████████              |  ETA: 0:01:59\u001b[39m\u001b[K"
     ]
    },
    {
     "name": "stderr",
     "output_type": "stream",
     "text": [
      "\r\u001b[32mloss: 66.5:  64%|█████████████████████████              |  ETA: 0:01:57\u001b[39m\u001b[K"
     ]
    },
    {
     "name": "stderr",
     "output_type": "stream",
     "text": [
      "\r\u001b[32mloss: 66.4:  65%|██████████████████████████             |  ETA: 0:01:55\u001b[39m\u001b[K"
     ]
    },
    {
     "name": "stderr",
     "output_type": "stream",
     "text": [
      "\r\u001b[32mloss: 66.4:  65%|██████████████████████████             |  ETA: 0:01:53\u001b[39m\u001b[K"
     ]
    },
    {
     "name": "stderr",
     "output_type": "stream",
     "text": [
      "\r\u001b[32mloss: 66.4:  66%|██████████████████████████             |  ETA: 0:01:51\u001b[39m\u001b[K"
     ]
    },
    {
     "name": "stderr",
     "output_type": "stream",
     "text": [
      "\r\u001b[32mloss: 66.4:  67%|██████████████████████████             |  ETA: 0:01:49\u001b[39m\u001b[K"
     ]
    },
    {
     "name": "stderr",
     "output_type": "stream",
     "text": [
      "\r\u001b[32mloss: 66.3:  67%|███████████████████████████            |  ETA: 0:01:47\u001b[39m\u001b[K"
     ]
    },
    {
     "name": "stderr",
     "output_type": "stream",
     "text": [
      "\r\u001b[32mloss: 66.3:  68%|███████████████████████████            |  ETA: 0:01:44\u001b[39m\u001b[K"
     ]
    },
    {
     "name": "stderr",
     "output_type": "stream",
     "text": [
      "\r\u001b[32mloss: 66.3:  69%|███████████████████████████            |  ETA: 0:01:42\u001b[39m\u001b[K"
     ]
    },
    {
     "name": "stderr",
     "output_type": "stream",
     "text": [
      "\r\u001b[32mloss: 66.3:  69%|████████████████████████████           |  ETA: 0:01:40\u001b[39m\u001b[K"
     ]
    },
    {
     "name": "stderr",
     "output_type": "stream",
     "text": [
      "\r\u001b[32mloss: 66.3:  70%|████████████████████████████           |  ETA: 0:01:38\u001b[39m\u001b[K"
     ]
    },
    {
     "name": "stderr",
     "output_type": "stream",
     "text": [
      "\r\u001b[32mloss: 66.2:  71%|████████████████████████████           |  ETA: 0:01:36\u001b[39m\u001b[K"
     ]
    },
    {
     "name": "stderr",
     "output_type": "stream",
     "text": [
      "\r\u001b[32mloss: 66.2:  71%|████████████████████████████           |  ETA: 0:01:33\u001b[39m\u001b[K"
     ]
    },
    {
     "name": "stderr",
     "output_type": "stream",
     "text": [
      "\r\u001b[32mloss: 66.2:  72%|█████████████████████████████          |  ETA: 0:01:31\u001b[39m\u001b[K"
     ]
    },
    {
     "name": "stderr",
     "output_type": "stream",
     "text": [
      "\r\u001b[32mloss: 66.2:  73%|█████████████████████████████          |  ETA: 0:01:29\u001b[39m\u001b[K"
     ]
    },
    {
     "name": "stderr",
     "output_type": "stream",
     "text": [
      "\r\u001b[32mloss: 66.2:  73%|█████████████████████████████          |  ETA: 0:01:27\u001b[39m\u001b[K"
     ]
    },
    {
     "name": "stderr",
     "output_type": "stream",
     "text": [
      "\r\u001b[32mloss: 66.2:  74%|█████████████████████████████          |  ETA: 0:01:25\u001b[39m\u001b[K"
     ]
    },
    {
     "name": "stderr",
     "output_type": "stream",
     "text": [
      "\r\u001b[32mloss: 66.2:  75%|██████████████████████████████         |  ETA: 0:01:23\u001b[39m\u001b[K"
     ]
    },
    {
     "name": "stderr",
     "output_type": "stream",
     "text": [
      "\r\u001b[32mloss: 66.2:  75%|██████████████████████████████         |  ETA: 0:01:20\u001b[39m\u001b[K"
     ]
    },
    {
     "name": "stderr",
     "output_type": "stream",
     "text": [
      "\r\u001b[32mloss: 66.1:  76%|██████████████████████████████         |  ETA: 0:01:18\u001b[39m\u001b[K"
     ]
    },
    {
     "name": "stderr",
     "output_type": "stream",
     "text": [
      "\r\u001b[32mloss: 66.1:  77%|██████████████████████████████         |  ETA: 0:01:16\u001b[39m\u001b[K"
     ]
    },
    {
     "name": "stderr",
     "output_type": "stream",
     "text": [
      "\r\u001b[32mloss: 66.1:  77%|███████████████████████████████        |  ETA: 0:01:14\u001b[39m\u001b[K"
     ]
    },
    {
     "name": "stderr",
     "output_type": "stream",
     "text": [
      "\r\u001b[32mloss: 66.1:  78%|███████████████████████████████        |  ETA: 0:01:12\u001b[39m\u001b[K"
     ]
    },
    {
     "name": "stderr",
     "output_type": "stream",
     "text": [
      "\r\u001b[32mloss: 66.1:  79%|███████████████████████████████        |  ETA: 0:01:10\u001b[39m\u001b[K"
     ]
    },
    {
     "name": "stderr",
     "output_type": "stream",
     "text": [
      "\r\u001b[32mloss: 66.1:  79%|███████████████████████████████        |  ETA: 0:01:07\u001b[39m\u001b[K"
     ]
    },
    {
     "name": "stderr",
     "output_type": "stream",
     "text": [
      "\r\u001b[32mloss: 66.1:  80%|████████████████████████████████       |  ETA: 0:01:05\u001b[39m\u001b[K"
     ]
    },
    {
     "name": "stderr",
     "output_type": "stream",
     "text": [
      "\r\u001b[32mloss: 66.1:  81%|████████████████████████████████       |  ETA: 0:01:03\u001b[39m\u001b[K"
     ]
    },
    {
     "name": "stderr",
     "output_type": "stream",
     "text": [
      "\r\u001b[32mloss: 66.1:  81%|████████████████████████████████       |  ETA: 0:01:01\u001b[39m\u001b[K"
     ]
    },
    {
     "name": "stderr",
     "output_type": "stream",
     "text": [
      "\r\u001b[32mloss: 66.1:  82%|████████████████████████████████       |  ETA: 0:00:59\u001b[39m\u001b[K"
     ]
    },
    {
     "name": "stderr",
     "output_type": "stream",
     "text": [
      "\r\u001b[32mloss: 66:  83%|██████████████████████████████████       |  ETA: 0:00:57\u001b[39m\u001b[K"
     ]
    },
    {
     "name": "stderr",
     "output_type": "stream",
     "text": [
      "\r\u001b[32mloss: 66:  83%|███████████████████████████████████      |  ETA: 0:00:54\u001b[39m\u001b[K"
     ]
    },
    {
     "name": "stderr",
     "output_type": "stream",
     "text": [
      "\r\u001b[32mloss: 66:  84%|███████████████████████████████████      |  ETA: 0:00:52\u001b[39m\u001b[K"
     ]
    },
    {
     "name": "stderr",
     "output_type": "stream",
     "text": [
      "\r\u001b[32mloss: 66:  85%|███████████████████████████████████      |  ETA: 0:00:50\u001b[39m\u001b[K"
     ]
    },
    {
     "name": "stderr",
     "output_type": "stream",
     "text": [
      "\r\u001b[32mloss: 66:  85%|███████████████████████████████████      |  ETA: 0:00:48\u001b[39m\u001b[K"
     ]
    },
    {
     "name": "stderr",
     "output_type": "stream",
     "text": [
      "\r\u001b[32mloss: 66:  86%|████████████████████████████████████     |  ETA: 0:00:46\u001b[39m\u001b[K"
     ]
    },
    {
     "name": "stderr",
     "output_type": "stream",
     "text": [
      "\r\u001b[32mloss: 66:  87%|████████████████████████████████████     |  ETA: 0:00:44\u001b[39m\u001b[K"
     ]
    },
    {
     "name": "stderr",
     "output_type": "stream",
     "text": [
      "\r\u001b[32mloss: 66:  87%|████████████████████████████████████     |  ETA: 0:00:42\u001b[39m\u001b[K"
     ]
    },
    {
     "name": "stderr",
     "output_type": "stream",
     "text": [
      "\r\u001b[32mloss: 66:  88%|█████████████████████████████████████    |  ETA: 0:00:39\u001b[39m\u001b[K"
     ]
    },
    {
     "name": "stderr",
     "output_type": "stream",
     "text": [
      "\r\u001b[32mloss: 66:  89%|█████████████████████████████████████    |  ETA: 0:00:37\u001b[39m\u001b[K"
     ]
    },
    {
     "name": "stderr",
     "output_type": "stream",
     "text": [
      "\r\u001b[32mloss: 66:  89%|█████████████████████████████████████    |  ETA: 0:00:35\u001b[39m\u001b[K"
     ]
    },
    {
     "name": "stderr",
     "output_type": "stream",
     "text": [
      "\r\u001b[32mloss: 65.9:  90%|████████████████████████████████████   |  ETA: 0:00:33\u001b[39m\u001b[K"
     ]
    },
    {
     "name": "stderr",
     "output_type": "stream",
     "text": [
      "\r\u001b[32mloss: 65.9:  91%|████████████████████████████████████   |  ETA: 0:00:31\u001b[39m\u001b[K"
     ]
    },
    {
     "name": "stderr",
     "output_type": "stream",
     "text": [
      "\r\u001b[32mloss: 65.9:  91%|████████████████████████████████████   |  ETA: 0:00:28\u001b[39m\u001b[K"
     ]
    },
    {
     "name": "stderr",
     "output_type": "stream",
     "text": [
      "\r\u001b[32mloss: 65.9:  92%|████████████████████████████████████   |  ETA: 0:00:26\u001b[39m\u001b[K"
     ]
    },
    {
     "name": "stderr",
     "output_type": "stream",
     "text": [
      "\r\u001b[32mloss: 65.9:  93%|█████████████████████████████████████  |  ETA: 0:00:24\u001b[39m\u001b[K"
     ]
    },
    {
     "name": "stderr",
     "output_type": "stream",
     "text": [
      "\r\u001b[32mloss: 65.9:  93%|█████████████████████████████████████  |  ETA: 0:00:22\u001b[39m\u001b[K"
     ]
    },
    {
     "name": "stderr",
     "output_type": "stream",
     "text": [
      "\r\u001b[32mloss: 65.9:  94%|█████████████████████████████████████  |  ETA: 0:00:20\u001b[39m\u001b[K"
     ]
    },
    {
     "name": "stderr",
     "output_type": "stream",
     "text": [
      "\r\u001b[32mloss: 65.9:  95%|█████████████████████████████████████  |  ETA: 0:00:18\u001b[39m\u001b[K"
     ]
    },
    {
     "name": "stderr",
     "output_type": "stream",
     "text": [
      "\r\u001b[32mloss: 65.9:  95%|██████████████████████████████████████ |  ETA: 0:00:15\u001b[39m\u001b[K"
     ]
    },
    {
     "name": "stderr",
     "output_type": "stream",
     "text": [
      "\r\u001b[32mloss: 65.9:  96%|██████████████████████████████████████ |  ETA: 0:00:13\u001b[39m\u001b[K"
     ]
    },
    {
     "name": "stderr",
     "output_type": "stream",
     "text": [
      "\r\u001b[32mloss: 65.9:  97%|██████████████████████████████████████ |  ETA: 0:00:11\u001b[39m\u001b[K"
     ]
    },
    {
     "name": "stderr",
     "output_type": "stream",
     "text": [
      "\r\u001b[32mloss: 65.9:  97%|██████████████████████████████████████ |  ETA: 0:00:09\u001b[39m\u001b[K"
     ]
    },
    {
     "name": "stderr",
     "output_type": "stream",
     "text": [
      "\r\u001b[32mloss: 65.9:  98%|███████████████████████████████████████|  ETA: 0:00:07\u001b[39m\u001b[K"
     ]
    },
    {
     "name": "stderr",
     "output_type": "stream",
     "text": [
      "\r\u001b[32mloss: 65.9:  99%|███████████████████████████████████████|  ETA: 0:00:05\u001b[39m\u001b[K"
     ]
    },
    {
     "name": "stderr",
     "output_type": "stream",
     "text": [
      "\r\u001b[32mloss: 65.9:  99%|███████████████████████████████████████|  ETA: 0:00:02\u001b[39m\u001b[K"
     ]
    },
    {
     "name": "stderr",
     "output_type": "stream",
     "text": [
      "\r\u001b[32mloss: 65.8: 100%|███████████████████████████████████████| Time: 0:05:28\u001b[39m\u001b[K\n"
     ]
    },
    {
     "name": "stderr",
     "output_type": "stream",
     "text": [
      "\r\u001b[32mloss: 76.8:   1%|█                                      |  ETA: 0:03:37\u001b[39m\u001b[K"
     ]
    },
    {
     "name": "stderr",
     "output_type": "stream",
     "text": [
      "\r\u001b[32mloss: 104:   2%|█                                       |  ETA: 0:05:12\u001b[39m\u001b[K"
     ]
    },
    {
     "name": "stderr",
     "output_type": "stream",
     "text": [
      "\r\u001b[32mloss: 75.8:   3%|██                                     |  ETA: 0:05:48\u001b[39m\u001b[K"
     ]
    },
    {
     "name": "stderr",
     "output_type": "stream",
     "text": [
      "\r\u001b[32mloss: 76:   3%|██                                       |  ETA: 0:05:43\u001b[39m\u001b[K"
     ]
    },
    {
     "name": "stderr",
     "output_type": "stream",
     "text": [
      "\r\u001b[32mloss: 77.7:   4%|██                                     |  ETA: 0:05:48\u001b[39m\u001b[K"
     ]
    },
    {
     "name": "stderr",
     "output_type": "stream",
     "text": [
      "\r\u001b[32mloss: 76.8:   5%|██                                     |  ETA: 0:05:55\u001b[39m\u001b[K"
     ]
    },
    {
     "name": "stderr",
     "output_type": "stream",
     "text": [
      "\r\u001b[32mloss: 73.7:   5%|███                                    |  ETA: 0:05:58\u001b[39m\u001b[K"
     ]
    },
    {
     "name": "stderr",
     "output_type": "stream",
     "text": [
      "\r\u001b[32mloss: 70.8:   6%|███                                    |  ETA: 0:05:56\u001b[39m\u001b[K"
     ]
    },
    {
     "name": "stderr",
     "output_type": "stream",
     "text": [
      "\r\u001b[32mloss: 70.2:   7%|███                                    |  ETA: 0:06:00\u001b[39m\u001b[K"
     ]
    },
    {
     "name": "stderr",
     "output_type": "stream",
     "text": [
      "\r\u001b[32mloss: 71.2:   7%|███                                    |  ETA: 0:05:50\u001b[39m\u001b[K"
     ]
    },
    {
     "name": "stderr",
     "output_type": "stream",
     "text": [
      "\r\u001b[32mloss: 71.3:   8%|████                                   |  ETA: 0:05:45\u001b[39m\u001b[K"
     ]
    },
    {
     "name": "stderr",
     "output_type": "stream",
     "text": [
      "\r\u001b[32mloss: 70.2:   9%|████                                   |  ETA: 0:05:43\u001b[39m\u001b[K"
     ]
    },
    {
     "name": "stderr",
     "output_type": "stream",
     "text": [
      "\r\u001b[32mloss: 69.1:   9%|████                                   |  ETA: 0:05:35\u001b[39m\u001b[K"
     ]
    },
    {
     "name": "stderr",
     "output_type": "stream",
     "text": [
      "\r\u001b[32mloss: 68.8:  10%|████                                   |  ETA: 0:05:27\u001b[39m\u001b[K"
     ]
    },
    {
     "name": "stderr",
     "output_type": "stream",
     "text": [
      "\r\u001b[32mloss: 69:  11%|█████                                    |  ETA: 0:05:26\u001b[39m\u001b[K"
     ]
    },
    {
     "name": "stderr",
     "output_type": "stream",
     "text": [
      "\r\u001b[32mloss: 68.7:  11%|█████                                  |  ETA: 0:05:22\u001b[39m\u001b[K"
     ]
    },
    {
     "name": "stderr",
     "output_type": "stream",
     "text": [
      "\r\u001b[32mloss: 67.9:  12%|█████                                  |  ETA: 0:05:20\u001b[39m\u001b[K"
     ]
    },
    {
     "name": "stderr",
     "output_type": "stream",
     "text": [
      "\r\u001b[32mloss: 67:  13%|██████                                   |  ETA: 0:05:20\u001b[39m\u001b[K"
     ]
    },
    {
     "name": "stderr",
     "output_type": "stream",
     "text": [
      "\r\u001b[32mloss: 66.7:  13%|██████                                 |  ETA: 0:05:15\u001b[39m\u001b[K"
     ]
    },
    {
     "name": "stderr",
     "output_type": "stream",
     "text": [
      "\r\u001b[32mloss: 66.9:  14%|██████                                 |  ETA: 0:05:09\u001b[39m\u001b[K"
     ]
    },
    {
     "name": "stderr",
     "output_type": "stream",
     "text": [
      "\r\u001b[32mloss: 67.2:  15%|██████                                 |  ETA: 0:05:08\u001b[39m\u001b[K"
     ]
    },
    {
     "name": "stderr",
     "output_type": "stream",
     "text": [
      "\r\u001b[32mloss: 67.3:  15%|██████                                 |  ETA: 0:05:04\u001b[39m\u001b[K"
     ]
    },
    {
     "name": "stderr",
     "output_type": "stream",
     "text": [
      "\r\u001b[32mloss: 67.2:  16%|███████                                |  ETA: 0:05:00\u001b[39m\u001b[K"
     ]
    },
    {
     "name": "stderr",
     "output_type": "stream",
     "text": [
      "\r\u001b[32mloss: 66.9:  17%|███████                                |  ETA: 0:04:58\u001b[39m\u001b[K"
     ]
    },
    {
     "name": "stderr",
     "output_type": "stream",
     "text": [
      "\r\u001b[32mloss: 66.5:  17%|███████                                |  ETA: 0:04:54\u001b[39m\u001b[K"
     ]
    },
    {
     "name": "stderr",
     "output_type": "stream",
     "text": [
      "\r\u001b[32mloss: 66.2:  18%|████████                               |  ETA: 0:04:50\u001b[39m\u001b[K"
     ]
    },
    {
     "name": "stderr",
     "output_type": "stream",
     "text": [
      "\r\u001b[32mloss: 66:  19%|████████                                 |  ETA: 0:04:49\u001b[39m\u001b[K"
     ]
    },
    {
     "name": "stderr",
     "output_type": "stream",
     "text": [
      "\r\u001b[32mloss: 66:  19%|████████                                 |  ETA: 0:04:46\u001b[39m\u001b[K"
     ]
    },
    {
     "name": "stderr",
     "output_type": "stream",
     "text": [
      "\r\u001b[32mloss: 66.2:  20%|████████                               |  ETA: 0:04:41\u001b[39m\u001b[K"
     ]
    },
    {
     "name": "stderr",
     "output_type": "stream",
     "text": [
      "\r\u001b[32mloss: 66.4:  21%|█████████                              |  ETA: 0:04:40\u001b[39m\u001b[K"
     ]
    },
    {
     "name": "stderr",
     "output_type": "stream",
     "text": [
      "\r\u001b[32mloss: 66.4:  21%|█████████                              |  ETA: 0:04:37\u001b[39m\u001b[K"
     ]
    },
    {
     "name": "stderr",
     "output_type": "stream",
     "text": [
      "\r\u001b[32mloss: 66.3:  22%|█████████                              |  ETA: 0:04:33\u001b[39m\u001b[K"
     ]
    },
    {
     "name": "stderr",
     "output_type": "stream",
     "text": [
      "\r\u001b[32mloss: 66.1:  23%|█████████                              |  ETA: 0:04:30\u001b[39m\u001b[K"
     ]
    },
    {
     "name": "stderr",
     "output_type": "stream",
     "text": [
      "\r\u001b[32mloss: 65.9:  23%|██████████                             |  ETA: 0:04:27\u001b[39m\u001b[K"
     ]
    },
    {
     "name": "stderr",
     "output_type": "stream",
     "text": [
      "\r\u001b[32mloss: 65.8:  24%|██████████                             |  ETA: 0:04:23\u001b[39m\u001b[K"
     ]
    },
    {
     "name": "stderr",
     "output_type": "stream",
     "text": [
      "\r\u001b[32mloss: 65.8:  25%|██████████                             |  ETA: 0:04:20\u001b[39m\u001b[K"
     ]
    },
    {
     "name": "stderr",
     "output_type": "stream",
     "text": [
      "\r\u001b[32mloss: 65.9:  25%|██████████                             |  ETA: 0:04:17\u001b[39m\u001b[K"
     ]
    },
    {
     "name": "stderr",
     "output_type": "stream",
     "text": [
      "\r\u001b[32mloss: 66:  26%|███████████                              |  ETA: 0:04:14\u001b[39m\u001b[K"
     ]
    },
    {
     "name": "stderr",
     "output_type": "stream",
     "text": [
      "\r\u001b[32mloss: 66:  27%|███████████                              |  ETA: 0:04:12\u001b[39m\u001b[K"
     ]
    },
    {
     "name": "stderr",
     "output_type": "stream",
     "text": [
      "\r\u001b[32mloss: 65.9:  27%|███████████                            |  ETA: 0:04:09\u001b[39m\u001b[K"
     ]
    },
    {
     "name": "stderr",
     "output_type": "stream",
     "text": [
      "\r\u001b[32mloss: 65.9:  28%|███████████                            |  ETA: 0:04:06\u001b[39m\u001b[K\r\u001b[32mloss: 65.8:  29%|████████████                           |  ETA: 0:04:03\u001b[39m\u001b[K"
     ]
    },
    {
     "name": "stderr",
     "output_type": "stream",
     "text": [
      "\r\u001b[32mloss: 65.7:  29%|████████████                           |  ETA: 0:04:00\u001b[39m\u001b[K"
     ]
    },
    {
     "name": "stderr",
     "output_type": "stream",
     "text": [
      "\r\u001b[32mloss: 65.7:  30%|████████████                           |  ETA: 0:03:57\u001b[39m\u001b[K"
     ]
    },
    {
     "name": "stderr",
     "output_type": "stream",
     "text": [
      "\r\u001b[32mloss: 65.8:  31%|████████████                           |  ETA: 0:03:55\u001b[39m\u001b[K"
     ]
    },
    {
     "name": "stderr",
     "output_type": "stream",
     "text": [
      "\r\u001b[32mloss: 65.8:  31%|█████████████                          |  ETA: 0:03:52\u001b[39m\u001b[K"
     ]
    },
    {
     "name": "stderr",
     "output_type": "stream",
     "text": [
      "\r\u001b[32mloss: 65.8:  32%|█████████████                          |  ETA: 0:03:50\u001b[39m\u001b[K"
     ]
    },
    {
     "name": "stderr",
     "output_type": "stream",
     "text": [
      "\r\u001b[32mloss: 65.8:  33%|█████████████                          |  ETA: 0:03:48\u001b[39m\u001b[K"
     ]
    },
    {
     "name": "stderr",
     "output_type": "stream",
     "text": [
      "\r\u001b[32mloss: 65.8:  33%|█████████████                          |  ETA: 0:03:45\u001b[39m\u001b[K"
     ]
    },
    {
     "name": "stderr",
     "output_type": "stream",
     "text": [
      "\r\u001b[32mloss: 65.7:  34%|██████████████                         |  ETA: 0:03:42\u001b[39m\u001b[K"
     ]
    },
    {
     "name": "stderr",
     "output_type": "stream",
     "text": [
      "\r\u001b[32mloss: 65.7:  35%|██████████████                         |  ETA: 0:03:40\u001b[39m\u001b[K"
     ]
    },
    {
     "name": "stderr",
     "output_type": "stream",
     "text": [
      "\r\u001b[32mloss: 65.7:  35%|██████████████                         |  ETA: 0:03:38\u001b[39m\u001b[K"
     ]
    },
    {
     "name": "stderr",
     "output_type": "stream",
     "text": [
      "\r\u001b[32mloss: 65.7:  36%|███████████████                        |  ETA: 0:03:35\u001b[39m\u001b[K"
     ]
    },
    {
     "name": "stderr",
     "output_type": "stream",
     "text": [
      "\r\u001b[32mloss: 65.7:  37%|███████████████                        |  ETA: 0:03:34\u001b[39m\u001b[K"
     ]
    },
    {
     "name": "stderr",
     "output_type": "stream",
     "text": [
      "\r\u001b[32mloss: 65.7:  37%|███████████████                        |  ETA: 0:03:31\u001b[39m\u001b[K"
     ]
    },
    {
     "name": "stderr",
     "output_type": "stream",
     "text": [
      "\r\u001b[32mloss: 65.7:  38%|███████████████                        |  ETA: 0:03:29\u001b[39m\u001b[K"
     ]
    },
    {
     "name": "stderr",
     "output_type": "stream",
     "text": [
      "\r\u001b[32mloss: 65.7:  39%|████████████████                       |  ETA: 0:03:27\u001b[39m\u001b[K"
     ]
    },
    {
     "name": "stderr",
     "output_type": "stream",
     "text": [
      "\r\u001b[32mloss: 65.7:  39%|████████████████                       |  ETA: 0:03:25\u001b[39m\u001b[K"
     ]
    },
    {
     "name": "stderr",
     "output_type": "stream",
     "text": [
      "\r\u001b[32mloss: 65.7:  40%|████████████████                       |  ETA: 0:03:22\u001b[39m\u001b[K"
     ]
    },
    {
     "name": "stderr",
     "output_type": "stream",
     "text": [
      "\r\u001b[32mloss: 65.7:  41%|████████████████                       |  ETA: 0:03:21\u001b[39m\u001b[K"
     ]
    },
    {
     "name": "stderr",
     "output_type": "stream",
     "text": [
      "\r\u001b[32mloss: 65.7:  41%|█████████████████                      |  ETA: 0:03:18\u001b[39m\u001b[K"
     ]
    },
    {
     "name": "stderr",
     "output_type": "stream",
     "text": [
      "\r\u001b[32mloss: 65.7:  42%|█████████████████                      |  ETA: 0:03:16\u001b[39m\u001b[K"
     ]
    },
    {
     "name": "stderr",
     "output_type": "stream",
     "text": [
      "\r\u001b[32mloss: 65.7:  43%|█████████████████                      |  ETA: 0:03:14\u001b[39m\u001b[K"
     ]
    },
    {
     "name": "stderr",
     "output_type": "stream",
     "text": [
      "\r\u001b[32mloss: 65.7:  43%|█████████████████                      |  ETA: 0:03:12\u001b[39m\u001b[K"
     ]
    },
    {
     "name": "stderr",
     "output_type": "stream",
     "text": [
      "\r\u001b[32mloss: 65.7:  44%|██████████████████                     |  ETA: 0:03:09\u001b[39m\u001b[K"
     ]
    },
    {
     "name": "stderr",
     "output_type": "stream",
     "text": [
      "\r\u001b[32mloss: 65.6:  45%|██████████████████                     |  ETA: 0:03:08\u001b[39m\u001b[K"
     ]
    },
    {
     "name": "stderr",
     "output_type": "stream",
     "text": [
      "\r\u001b[32mloss: 65.6:  45%|██████████████████                     |  ETA: 0:03:05\u001b[39m\u001b[K"
     ]
    },
    {
     "name": "stderr",
     "output_type": "stream",
     "text": [
      "\r\u001b[32mloss: 65.6:  46%|██████████████████                     |  ETA: 0:03:03\u001b[39m\u001b[K"
     ]
    },
    {
     "name": "stderr",
     "output_type": "stream",
     "text": [
      "\r\u001b[32mloss: 65.6:  47%|███████████████████                    |  ETA: 0:03:01\u001b[39m\u001b[K"
     ]
    },
    {
     "name": "stderr",
     "output_type": "stream",
     "text": [
      "\r\u001b[32mloss: 65.6:  47%|███████████████████                    |  ETA: 0:02:58\u001b[39m\u001b[K"
     ]
    },
    {
     "name": "stderr",
     "output_type": "stream",
     "text": [
      "\r\u001b[32mloss: 65.6:  48%|███████████████████                    |  ETA: 0:02:56\u001b[39m\u001b[K"
     ]
    },
    {
     "name": "stderr",
     "output_type": "stream",
     "text": [
      "\r\u001b[32mloss: 65.6:  49%|███████████████████                    |  ETA: 0:02:54\u001b[39m\u001b[K"
     ]
    },
    {
     "name": "stderr",
     "output_type": "stream",
     "text": [
      "\r\u001b[32mloss: 65.6:  49%|████████████████████                   |  ETA: 0:02:52\u001b[39m\u001b[K"
     ]
    },
    {
     "name": "stderr",
     "output_type": "stream",
     "text": [
      "\r\u001b[32mloss: 65.6:  50%|████████████████████                   |  ETA: 0:02:50\u001b[39m\u001b[K"
     ]
    },
    {
     "name": "stderr",
     "output_type": "stream",
     "text": [
      "\r\u001b[32mloss: 65.6:  51%|████████████████████                   |  ETA: 0:02:48\u001b[39m\u001b[K"
     ]
    },
    {
     "name": "stderr",
     "output_type": "stream",
     "text": [
      "\r\u001b[32mloss: 65.6:  51%|█████████████████████                  |  ETA: 0:02:46\u001b[39m\u001b[K"
     ]
    },
    {
     "name": "stderr",
     "output_type": "stream",
     "text": [
      "\r\u001b[32mloss: 65.6:  52%|█████████████████████                  |  ETA: 0:02:43\u001b[39m\u001b[K"
     ]
    },
    {
     "name": "stderr",
     "output_type": "stream",
     "text": [
      "\r\u001b[32mloss: 65.6:  53%|█████████████████████                  |  ETA: 0:02:41\u001b[39m\u001b[K"
     ]
    },
    {
     "name": "stderr",
     "output_type": "stream",
     "text": [
      "\r\u001b[32mloss: 65.6:  53%|█████████████████████                  |  ETA: 0:02:39\u001b[39m\u001b[K"
     ]
    },
    {
     "name": "stderr",
     "output_type": "stream",
     "text": [
      "\r\u001b[32mloss: 65.6:  54%|██████████████████████                 |  ETA: 0:02:37\u001b[39m\u001b[K"
     ]
    },
    {
     "name": "stderr",
     "output_type": "stream",
     "text": [
      "\r\u001b[32mloss: 65.6:  55%|██████████████████████                 |  ETA: 0:02:35\u001b[39m\u001b[K"
     ]
    },
    {
     "name": "stderr",
     "output_type": "stream",
     "text": [
      "\r\u001b[32mloss: 65.6:  55%|██████████████████████                 |  ETA: 0:02:33\u001b[39m\u001b[K"
     ]
    },
    {
     "name": "stderr",
     "output_type": "stream",
     "text": [
      "\r\u001b[32mloss: 65.6:  56%|██████████████████████                 |  ETA: 0:02:30\u001b[39m\u001b[K"
     ]
    },
    {
     "name": "stderr",
     "output_type": "stream",
     "text": [
      "\r\u001b[32mloss: 65.6:  57%|███████████████████████                |  ETA: 0:02:28\u001b[39m\u001b[K"
     ]
    },
    {
     "name": "stderr",
     "output_type": "stream",
     "text": [
      "\r\u001b[32mloss: 65.6:  57%|███████████████████████                |  ETA: 0:02:26\u001b[39m\u001b[K"
     ]
    },
    {
     "name": "stderr",
     "output_type": "stream",
     "text": [
      "\r\u001b[32mloss: 65.6:  58%|███████████████████████                |  ETA: 0:02:24\u001b[39m\u001b[K"
     ]
    },
    {
     "name": "stderr",
     "output_type": "stream",
     "text": [
      "\r\u001b[32mloss: 65.6:  59%|███████████████████████                |  ETA: 0:02:22\u001b[39m\u001b[K"
     ]
    },
    {
     "name": "stderr",
     "output_type": "stream",
     "text": [
      "\r\u001b[32mloss: 65.6:  59%|████████████████████████               |  ETA: 0:02:20\u001b[39m\u001b[K"
     ]
    },
    {
     "name": "stderr",
     "output_type": "stream",
     "text": [
      "\r\u001b[32mloss: 65.6:  60%|████████████████████████               |  ETA: 0:02:17\u001b[39m\u001b[K"
     ]
    },
    {
     "name": "stderr",
     "output_type": "stream",
     "text": [
      "\r\u001b[32mloss: 65.6:  61%|████████████████████████               |  ETA: 0:02:15\u001b[39m\u001b[K"
     ]
    },
    {
     "name": "stderr",
     "output_type": "stream",
     "text": [
      "\r\u001b[32mloss: 65.6:  61%|████████████████████████               |  ETA: 0:02:13\u001b[39m\u001b[K"
     ]
    },
    {
     "name": "stderr",
     "output_type": "stream",
     "text": [
      "\r\u001b[32mloss: 65.6:  62%|█████████████████████████              |  ETA: 0:02:11\u001b[39m\u001b[K"
     ]
    },
    {
     "name": "stderr",
     "output_type": "stream",
     "text": [
      "\r\u001b[32mloss: 65.6:  63%|█████████████████████████              |  ETA: 0:02:09\u001b[39m\u001b[K"
     ]
    },
    {
     "name": "stderr",
     "output_type": "stream",
     "text": [
      "\r\u001b[32mloss: 65.6:  63%|█████████████████████████              |  ETA: 0:02:06\u001b[39m\u001b[K"
     ]
    },
    {
     "name": "stderr",
     "output_type": "stream",
     "text": [
      "\r\u001b[32mloss: 65.6:  64%|█████████████████████████              |  ETA: 0:02:04\u001b[39m\u001b[K"
     ]
    },
    {
     "name": "stderr",
     "output_type": "stream",
     "text": [
      "\r\u001b[32mloss: 65.6:  65%|██████████████████████████             |  ETA: 0:02:02\u001b[39m\u001b[K"
     ]
    },
    {
     "name": "stderr",
     "output_type": "stream",
     "text": [
      "\r\u001b[32mloss: 65.6:  65%|██████████████████████████             |  ETA: 0:02:00\u001b[39m\u001b[K"
     ]
    },
    {
     "name": "stderr",
     "output_type": "stream",
     "text": [
      "\r\u001b[32mloss: 65.5:  66%|██████████████████████████             |  ETA: 0:01:57\u001b[39m\u001b[K"
     ]
    },
    {
     "name": "stderr",
     "output_type": "stream",
     "text": [
      "\r\u001b[32mloss: 65.5:  67%|██████████████████████████             |  ETA: 0:01:56\u001b[39m\u001b[K"
     ]
    },
    {
     "name": "stderr",
     "output_type": "stream",
     "text": [
      "\r\u001b[32mloss: 65.5:  67%|███████████████████████████            |  ETA: 0:01:53\u001b[39m\u001b[K"
     ]
    },
    {
     "name": "stderr",
     "output_type": "stream",
     "text": [
      "\r\u001b[32mloss: 65.5:  68%|███████████████████████████            |  ETA: 0:01:51\u001b[39m\u001b[K"
     ]
    },
    {
     "name": "stderr",
     "output_type": "stream",
     "text": [
      "\r\u001b[32mloss: 65.5:  69%|███████████████████████████            |  ETA: 0:01:49\u001b[39m\u001b[K"
     ]
    },
    {
     "name": "stderr",
     "output_type": "stream",
     "text": [
      "\r\u001b[32mloss: 65.5:  69%|████████████████████████████           |  ETA: 0:01:47\u001b[39m\u001b[K"
     ]
    },
    {
     "name": "stderr",
     "output_type": "stream",
     "text": [
      "\r\u001b[32mloss: 65.5:  70%|████████████████████████████           |  ETA: 0:01:44\u001b[39m\u001b[K"
     ]
    },
    {
     "name": "stderr",
     "output_type": "stream",
     "text": [
      "\r\u001b[32mloss: 65.5:  71%|████████████████████████████           |  ETA: 0:01:42\u001b[39m\u001b[K"
     ]
    },
    {
     "name": "stderr",
     "output_type": "stream",
     "text": [
      "\r\u001b[32mloss: 65.5:  71%|████████████████████████████           |  ETA: 0:01:40\u001b[39m\u001b[K"
     ]
    },
    {
     "name": "stderr",
     "output_type": "stream",
     "text": [
      "\r\u001b[32mloss: 65.5:  72%|█████████████████████████████          |  ETA: 0:01:37\u001b[39m\u001b[K"
     ]
    },
    {
     "name": "stderr",
     "output_type": "stream",
     "text": [
      "\r\u001b[32mloss: 65.5:  73%|█████████████████████████████          |  ETA: 0:01:36\u001b[39m\u001b[K"
     ]
    },
    {
     "name": "stderr",
     "output_type": "stream",
     "text": [
      "\r\u001b[32mloss: 65.5:  73%|█████████████████████████████          |  ETA: 0:01:33\u001b[39m\u001b[K"
     ]
    },
    {
     "name": "stderr",
     "output_type": "stream",
     "text": [
      "\r\u001b[32mloss: 65.5:  74%|█████████████████████████████          |  ETA: 0:01:31\u001b[39m\u001b[K"
     ]
    },
    {
     "name": "stderr",
     "output_type": "stream",
     "text": [
      "\r\u001b[32mloss: 65.5:  75%|██████████████████████████████         |  ETA: 0:01:29\u001b[39m\u001b[K"
     ]
    },
    {
     "name": "stderr",
     "output_type": "stream",
     "text": [
      "\r\u001b[32mloss: 65.5:  75%|██████████████████████████████         |  ETA: 0:01:26\u001b[39m\u001b[K"
     ]
    },
    {
     "name": "stderr",
     "output_type": "stream",
     "text": [
      "\r\u001b[32mloss: 65.5:  76%|██████████████████████████████         |  ETA: 0:01:24\u001b[39m\u001b[K"
     ]
    },
    {
     "name": "stderr",
     "output_type": "stream",
     "text": [
      "\r\u001b[32mloss: 65.5:  77%|██████████████████████████████         |  ETA: 0:01:22\u001b[39m\u001b[K"
     ]
    },
    {
     "name": "stderr",
     "output_type": "stream",
     "text": [
      "\r\u001b[32mloss: 65.5:  77%|███████████████████████████████        |  ETA: 0:01:20\u001b[39m\u001b[K"
     ]
    },
    {
     "name": "stderr",
     "output_type": "stream",
     "text": [
      "\r\u001b[32mloss: 65.5:  78%|███████████████████████████████        |  ETA: 0:01:17\u001b[39m\u001b[K"
     ]
    },
    {
     "name": "stderr",
     "output_type": "stream",
     "text": [
      "\r\u001b[32mloss: 65.5:  79%|███████████████████████████████        |  ETA: 0:01:15\u001b[39m\u001b[K"
     ]
    },
    {
     "name": "stderr",
     "output_type": "stream",
     "text": [
      "\r\u001b[32mloss: 65.5:  79%|███████████████████████████████        |  ETA: 0:01:13\u001b[39m\u001b[K"
     ]
    },
    {
     "name": "stderr",
     "output_type": "stream",
     "text": [
      "\r\u001b[32mloss: 65.4:  80%|████████████████████████████████       |  ETA: 0:01:10\u001b[39m\u001b[K"
     ]
    },
    {
     "name": "stderr",
     "output_type": "stream",
     "text": [
      "\r\u001b[32mloss: 65.4:  81%|████████████████████████████████       |  ETA: 0:01:08\u001b[39m\u001b[K"
     ]
    },
    {
     "name": "stderr",
     "output_type": "stream",
     "text": [
      "\r\u001b[32mloss: 65.4:  81%|████████████████████████████████       |  ETA: 0:01:06\u001b[39m\u001b[K"
     ]
    },
    {
     "name": "stderr",
     "output_type": "stream",
     "text": [
      "\r\u001b[32mloss: 65.4:  82%|████████████████████████████████       |  ETA: 0:01:03\u001b[39m\u001b[K"
     ]
    },
    {
     "name": "stderr",
     "output_type": "stream",
     "text": [
      "\r\u001b[32mloss: 65.4:  83%|█████████████████████████████████      |  ETA: 0:01:01\u001b[39m\u001b[K"
     ]
    },
    {
     "name": "stderr",
     "output_type": "stream",
     "text": [
      "\r\u001b[32mloss: 65.4:  83%|█████████████████████████████████      |  ETA: 0:00:59\u001b[39m\u001b[K"
     ]
    },
    {
     "name": "stderr",
     "output_type": "stream",
     "text": [
      "\r\u001b[32mloss: 65.4:  84%|█████████████████████████████████      |  ETA: 0:00:56\u001b[39m\u001b[K"
     ]
    },
    {
     "name": "stderr",
     "output_type": "stream",
     "text": [
      "\r\u001b[32mloss: 65.4:  85%|█████████████████████████████████      |  ETA: 0:00:54\u001b[39m\u001b[K"
     ]
    },
    {
     "name": "stderr",
     "output_type": "stream",
     "text": [
      "\r\u001b[32mloss: 65.4:  85%|██████████████████████████████████     |  ETA: 0:00:52\u001b[39m\u001b[K"
     ]
    },
    {
     "name": "stderr",
     "output_type": "stream",
     "text": [
      "\r\u001b[32mloss: 65.3:  86%|██████████████████████████████████     |  ETA: 0:00:49\u001b[39m\u001b[K"
     ]
    },
    {
     "name": "stderr",
     "output_type": "stream",
     "text": [
      "\r\u001b[32mloss: 65.3:  87%|██████████████████████████████████     |  ETA: 0:00:47\u001b[39m\u001b[K"
     ]
    },
    {
     "name": "stderr",
     "output_type": "stream",
     "text": [
      "\r\u001b[32mloss: 65.3:  87%|███████████████████████████████████    |  ETA: 0:00:45\u001b[39m\u001b[K"
     ]
    },
    {
     "name": "stderr",
     "output_type": "stream",
     "text": [
      "\r\u001b[32mloss: 65.3:  88%|███████████████████████████████████    |  ETA: 0:00:42\u001b[39m\u001b[K"
     ]
    },
    {
     "name": "stderr",
     "output_type": "stream",
     "text": [
      "\r\u001b[32mloss: 65.3:  89%|███████████████████████████████████    |  ETA: 0:00:40\u001b[39m\u001b[K"
     ]
    },
    {
     "name": "stderr",
     "output_type": "stream",
     "text": [
      "\r\u001b[32mloss: 65.2:  89%|███████████████████████████████████    |  ETA: 0:00:38\u001b[39m\u001b[K"
     ]
    },
    {
     "name": "stderr",
     "output_type": "stream",
     "text": [
      "\r\u001b[32mloss: 65.2:  90%|████████████████████████████████████   |  ETA: 0:00:35\u001b[39m\u001b[K"
     ]
    },
    {
     "name": "stderr",
     "output_type": "stream",
     "text": [
      "\r\u001b[32mloss: 65.2:  91%|████████████████████████████████████   |  ETA: 0:00:33\u001b[39m\u001b[K"
     ]
    },
    {
     "name": "stderr",
     "output_type": "stream",
     "text": [
      "\r\u001b[32mloss: 65.1:  91%|████████████████████████████████████   |  ETA: 0:00:31\u001b[39m\u001b[K"
     ]
    },
    {
     "name": "stderr",
     "output_type": "stream",
     "text": [
      "\r\u001b[32mloss: 65:  92%|██████████████████████████████████████   |  ETA: 0:00:28\u001b[39m\u001b[K"
     ]
    },
    {
     "name": "stderr",
     "output_type": "stream",
     "text": [
      "\r\u001b[32mloss: 65:  93%|██████████████████████████████████████   |  ETA: 0:00:26\u001b[39m\u001b[K"
     ]
    },
    {
     "name": "stderr",
     "output_type": "stream",
     "text": [
      "\r\u001b[32mloss: 64.9:  93%|█████████████████████████████████████  |  ETA: 0:00:24\u001b[39m\u001b[K"
     ]
    },
    {
     "name": "stderr",
     "output_type": "stream",
     "text": [
      "\r\u001b[32mloss: 64.7:  94%|█████████████████████████████████████  |  ETA: 0:00:21\u001b[39m\u001b[K"
     ]
    },
    {
     "name": "stderr",
     "output_type": "stream",
     "text": [
      "\r\u001b[32mloss: 64.5:  95%|█████████████████████████████████████  |  ETA: 0:00:19\u001b[39m\u001b[K"
     ]
    },
    {
     "name": "stderr",
     "output_type": "stream",
     "text": [
      "\r\u001b[32mloss: 64.3:  95%|██████████████████████████████████████ |  ETA: 0:00:17\u001b[39m\u001b[K"
     ]
    },
    {
     "name": "stderr",
     "output_type": "stream",
     "text": [
      "┌ Warning: dt(1.7763568394002505e-15) <= dtmin(1.7763568394002505e-15) at t=9.999907593402723, and step error estimate = 42.16289157227926. Aborting. There is either an error in your model specification or the true solution is unstable.\n",
      "└ @ SciMLBase C:\\Users\\SpOoKyJaRvIs\\.julia\\packages\\SciMLBase\\l4PVV\\src\\integrator_interface.jl:599\n",
      "\r\u001b[32mloss: 64.3: 100%|███████████████████████████████████████| Time: 0:05:43\u001b[39m\u001b[K\n"
     ]
    },
    {
     "ename": "DimensionMismatch",
     "evalue": "DimensionMismatch: matrix A has dimensions (64,101), vector B has length 100",
     "output_type": "error",
     "traceback": [
      "DimensionMismatch: matrix A has dimensions (64,101), vector B has length 100\n",
      "\n",
      "Stacktrace:\n",
      "  [1] generic_matvecmul!(C::Vector{Float64}, tA::Char, A::Base.ReshapedArray{Float32, 2, SubArray{Float32, 1, Vector{Float32}, Tuple{UnitRange{Int64}}, true}, Tuple{}}, B::Vector{Float64}, _add::LinearAlgebra.MulAddMul{true, true, Bool, Bool})\n",
      "    @ LinearAlgebra C:\\Users\\SpOoKyJaRvIs\\AppData\\Local\\Programs\\Julia-1.9.3\\share\\julia\\stdlib\\v1.9\\LinearAlgebra\\src\\matmul.jl:759\n",
      "  [2] mul!\n",
      "    @ C:\\Users\\SpOoKyJaRvIs\\AppData\\Local\\Programs\\Julia-1.9.3\\share\\julia\\stdlib\\v1.9\\LinearAlgebra\\src\\matmul.jl:81 [inlined]\n",
      "  [3] mul!\n",
      "    @ C:\\Users\\SpOoKyJaRvIs\\AppData\\Local\\Programs\\Julia-1.9.3\\share\\julia\\stdlib\\v1.9\\LinearAlgebra\\src\\matmul.jl:276 [inlined]\n",
      "  [4] *\n",
      "    @ C:\\Users\\SpOoKyJaRvIs\\AppData\\Local\\Programs\\Julia-1.9.3\\share\\julia\\stdlib\\v1.9\\LinearAlgebra\\src\\matmul.jl:52 [inlined]\n",
      "  [5] Dense\n",
      "    @ C:\\Users\\SpOoKyJaRvIs\\.julia\\packages\\Lux\\6vByk\\src\\layers\\basic.jl:239 [inlined]\n",
      "  [6] apply(model::Lux.Dense{true, typeof(swish), typeof(Lux.glorot_uniform), typeof(Lux.zeros32)}, x::Vector{Float64}, ps::ComponentVector{Float32, SubArray{Float32, 1, Vector{Float32}, Tuple{UnitRange{Int64}}, true}, Tuple{Axis{(weight = ViewAxis(1:6464, ShapedAxis((64, 101), NamedTuple())), bias = ViewAxis(6465:6528, ShapedAxis((64, 1), NamedTuple())))}}}, st::NamedTuple{(), Tuple{}})\n",
      "    @ LuxCore C:\\Users\\SpOoKyJaRvIs\\.julia\\packages\\LuxCore\\aumFq\\src\\LuxCore.jl:115\n",
      "  [7] macro expansion\n",
      "    @ .\\abstractarray.jl:0 [inlined]\n",
      "  [8] applychain(layers::NamedTuple{(:layer_1, :layer_2, :layer_3, :layer_4, :layer_5, :layer_6, :layer_7, :layer_8), Tuple{Lux.Dense{true, typeof(swish), typeof(Lux.glorot_uniform), typeof(Lux.zeros32)}, Lux.Dense{true, typeof(swish), typeof(Lux.glorot_uniform), typeof(Lux.zeros32)}, Lux.Dense{true, typeof(swish), typeof(Lux.glorot_uniform), typeof(Lux.zeros32)}, Lux.Dense{true, typeof(swish), typeof(Lux.glorot_uniform), typeof(Lux.zeros32)}, WrappedFunction{var\"#36#37\"}, Lux.Dense{true, typeof(swish), typeof(Lux.glorot_uniform), typeof(Lux.zeros32)}, Lux.Dense{true, typeof(swish), typeof(Lux.glorot_uniform), typeof(Lux.zeros32)}, Lux.Dense{true, typeof(identity), typeof(Lux.glorot_uniform), typeof(Lux.zeros32)}}}, x::Vector{Float64}, ps::ComponentVector{Float32, Vector{Float32}, Tuple{Axis{(layer_1 = ViewAxis(1:320, Axis(weight = ViewAxis(1:256, ShapedAxis((64, 4), NamedTuple())), bias = ViewAxis(257:320, ShapedAxis((64, 1), NamedTuple())))), layer_2 = ViewAxis(321:2400, Axis(weight = ViewAxis(1:2048, ShapedAxis((32, 64), NamedTuple())), bias = ViewAxis(2049:2080, ShapedAxis((32, 1), NamedTuple())))), layer_3 = ViewAxis(2401:2664, Axis(weight = ViewAxis(1:256, ShapedAxis((8, 32), NamedTuple())), bias = ViewAxis(257:264, ShapedAxis((8, 1), NamedTuple())))), layer_4 = ViewAxis(2665:2700, Axis(weight = ViewAxis(1:32, ShapedAxis((4, 8), NamedTuple())), bias = ViewAxis(33:36, ShapedAxis((4, 1), NamedTuple())))), layer_5 = 2701:2700, layer_6 = ViewAxis(2701:9228, Axis(weight = ViewAxis(1:6464, ShapedAxis((64, 101), NamedTuple())), bias = ViewAxis(6465:6528, ShapedAxis((64, 1), NamedTuple())))), layer_7 = ViewAxis(9229:11308, Axis(weight = ViewAxis(1:2048, ShapedAxis((32, 64), NamedTuple())), bias = ViewAxis(2049:2080, ShapedAxis((32, 1), NamedTuple())))), layer_8 = ViewAxis(11309:11440, Axis(weight = ViewAxis(1:128, ShapedAxis((4, 32), NamedTuple())), bias = ViewAxis(129:132, ShapedAxis((4, 1), NamedTuple())))))}}}, st::NamedTuple{(:layer_1, :layer_2, :layer_3, :layer_4, :layer_5, :layer_6, :layer_7, :layer_8), NTuple{8, NamedTuple{(), Tuple{}}}})\n",
      "    @ Lux C:\\Users\\SpOoKyJaRvIs\\.julia\\packages\\Lux\\6vByk\\src\\layers\\containers.jl:460\n",
      "  [9] Chain\n",
      "    @ C:\\Users\\SpOoKyJaRvIs\\.julia\\packages\\Lux\\6vByk\\src\\layers\\containers.jl:457 [inlined]\n",
      " [10] dudt\n",
      "    @ C:\\Users\\SpOoKyJaRvIs\\.julia\\packages\\DiffEqFlux\\jHIee\\src\\neural_de.jl:92 [inlined]\n",
      " [11] (::DiffEqFlux.var\"#dudt#178\"{NamedTuple{(:layer_1, :layer_2, :layer_3, :layer_4, :layer_5, :layer_6, :layer_7, :layer_8), NTuple{8, NamedTuple{(), Tuple{}}}}, DiffEqFlux.var\"#dudt#177#179\"{NeuralODE{Lux.Chain{NamedTuple{(:layer_1, :layer_2, :layer_3, :layer_4, :layer_5, :layer_6, :layer_7, :layer_8), Tuple{Lux.Dense{true, typeof(swish), typeof(Lux.glorot_uniform), typeof(Lux.zeros32)}, Lux.Dense{true, typeof(swish), typeof(Lux.glorot_uniform), typeof(Lux.zeros32)}, Lux.Dense{true, typeof(swish), typeof(Lux.glorot_uniform), typeof(Lux.zeros32)}, Lux.Dense{true, typeof(swish), typeof(Lux.glorot_uniform), typeof(Lux.zeros32)}, WrappedFunction{var\"#36#37\"}, Lux.Dense{true, typeof(swish), typeof(Lux.glorot_uniform), typeof(Lux.zeros32)}, Lux.Dense{true, typeof(swish), typeof(Lux.glorot_uniform), typeof(Lux.zeros32)}, Lux.Dense{true, typeof(identity), typeof(Lux.glorot_uniform), typeof(Lux.zeros32)}}}}, Nothing, Nothing, Tuple{Float64, Float64}, Tuple{Tsit5{typeof(OrdinaryDiffEq.trivial_limiter!), typeof(OrdinaryDiffEq.trivial_limiter!), Static.False}}, Base.Pairs{Symbol, Any, Tuple{Symbol, Symbol, Symbol}, NamedTuple{(:saveat, :abstol, :reltol), Tuple{Vector{Float64}, Float64, Float64}}}}}})(u::Vector{Float64}, p::ComponentVector{Float32, Vector{Float32}, Tuple{Axis{(layer_1 = ViewAxis(1:320, Axis(weight = ViewAxis(1:256, ShapedAxis((64, 4), NamedTuple())), bias = ViewAxis(257:320, ShapedAxis((64, 1), NamedTuple())))), layer_2 = ViewAxis(321:2400, Axis(weight = ViewAxis(1:2048, ShapedAxis((32, 64), NamedTuple())), bias = ViewAxis(2049:2080, ShapedAxis((32, 1), NamedTuple())))), layer_3 = ViewAxis(2401:2664, Axis(weight = ViewAxis(1:256, ShapedAxis((8, 32), NamedTuple())), bias = ViewAxis(257:264, ShapedAxis((8, 1), NamedTuple())))), layer_4 = ViewAxis(2665:2700, Axis(weight = ViewAxis(1:32, ShapedAxis((4, 8), NamedTuple())), bias = ViewAxis(33:36, ShapedAxis((4, 1), NamedTuple())))), layer_5 = 2701:2700, layer_6 = ViewAxis(2701:9228, Axis(weight = ViewAxis(1:6464, ShapedAxis((64, 101), NamedTuple())), bias = ViewAxis(6465:6528, ShapedAxis((64, 1), NamedTuple())))), layer_7 = ViewAxis(9229:11308, Axis(weight = ViewAxis(1:2048, ShapedAxis((32, 64), NamedTuple())), bias = ViewAxis(2049:2080, ShapedAxis((32, 1), NamedTuple())))), layer_8 = ViewAxis(11309:11440, Axis(weight = ViewAxis(1:128, ShapedAxis((4, 32), NamedTuple())), bias = ViewAxis(129:132, ShapedAxis((4, 1), NamedTuple())))))}}}, t::Float64)\n",
      "    @ DiffEqFlux C:\\Users\\SpOoKyJaRvIs\\.julia\\packages\\DiffEqFlux\\jHIee\\src\\neural_de.jl:91\n",
      " [12] (::ODEFunction{false, SciMLBase.FullSpecialize, DiffEqFlux.var\"#dudt#178\"{NamedTuple{(:layer_1, :layer_2, :layer_3, :layer_4, :layer_5, :layer_6, :layer_7, :layer_8), NTuple{8, NamedTuple{(), Tuple{}}}}, DiffEqFlux.var\"#dudt#177#179\"{NeuralODE{Lux.Chain{NamedTuple{(:layer_1, :layer_2, :layer_3, :layer_4, :layer_5, :layer_6, :layer_7, :layer_8), Tuple{Lux.Dense{true, typeof(swish), typeof(Lux.glorot_uniform), typeof(Lux.zeros32)}, Lux.Dense{true, typeof(swish), typeof(Lux.glorot_uniform), typeof(Lux.zeros32)}, Lux.Dense{true, typeof(swish), typeof(Lux.glorot_uniform), typeof(Lux.zeros32)}, Lux.Dense{true, typeof(swish), typeof(Lux.glorot_uniform), typeof(Lux.zeros32)}, WrappedFunction{var\"#36#37\"}, Lux.Dense{true, typeof(swish), typeof(Lux.glorot_uniform), typeof(Lux.zeros32)}, Lux.Dense{true, typeof(swish), typeof(Lux.glorot_uniform), typeof(Lux.zeros32)}, Lux.Dense{true, typeof(identity), typeof(Lux.glorot_uniform), typeof(Lux.zeros32)}}}}, Nothing, Nothing, Tuple{Float64, Float64}, Tuple{Tsit5{typeof(OrdinaryDiffEq.trivial_limiter!), typeof(OrdinaryDiffEq.trivial_limiter!), Static.False}}, Base.Pairs{Symbol, Any, Tuple{Symbol, Symbol, Symbol}, NamedTuple{(:saveat, :abstol, :reltol), Tuple{Vector{Float64}, Float64, Float64}}}}}}, LinearAlgebra.UniformScaling{Bool}, Nothing, typeof(DiffEqFlux.basic_tgrad), Nothing, Nothing, Nothing, Nothing, Nothing, Nothing, Nothing, Nothing, Nothing, Nothing, Nothing, Nothing, typeof(SciMLBase.DEFAULT_OBSERVED), Nothing, Nothing})(::Vector{Float64}, ::Vararg{Any})\n",
      "    @ SciMLBase C:\\Users\\SpOoKyJaRvIs\\.julia\\packages\\SciMLBase\\l4PVV\\src\\scimlfunctions.jl:2266\n",
      " [13] perform_step!(integrator::OrdinaryDiffEq.ODEIntegrator{Tsit5{typeof(OrdinaryDiffEq.trivial_limiter!), typeof(OrdinaryDiffEq.trivial_limiter!), Static.False}, false, Vector{Float64}, Nothing, Float64, ComponentVector{Float32, Vector{Float32}, Tuple{Axis{(layer_1 = ViewAxis(1:320, Axis(weight = ViewAxis(1:256, ShapedAxis((64, 4), NamedTuple())), bias = ViewAxis(257:320, ShapedAxis((64, 1), NamedTuple())))), layer_2 = ViewAxis(321:2400, Axis(weight = ViewAxis(1:2048, ShapedAxis((32, 64), NamedTuple())), bias = ViewAxis(2049:2080, ShapedAxis((32, 1), NamedTuple())))), layer_3 = ViewAxis(2401:2664, Axis(weight = ViewAxis(1:256, ShapedAxis((8, 32), NamedTuple())), bias = ViewAxis(257:264, ShapedAxis((8, 1), NamedTuple())))), layer_4 = ViewAxis(2665:2700, Axis(weight = ViewAxis(1:32, ShapedAxis((4, 8), NamedTuple())), bias = ViewAxis(33:36, ShapedAxis((4, 1), NamedTuple())))), layer_5 = 2701:2700, layer_6 = ViewAxis(2701:9228, Axis(weight = ViewAxis(1:6464, ShapedAxis((64, 101), NamedTuple())), bias = ViewAxis(6465:6528, ShapedAxis((64, 1), NamedTuple())))), layer_7 = ViewAxis(9229:11308, Axis(weight = ViewAxis(1:2048, ShapedAxis((32, 64), NamedTuple())), bias = ViewAxis(2049:2080, ShapedAxis((32, 1), NamedTuple())))), layer_8 = ViewAxis(11309:11440, Axis(weight = ViewAxis(1:128, ShapedAxis((4, 32), NamedTuple())), bias = ViewAxis(129:132, ShapedAxis((4, 1), NamedTuple())))))}}}, Float64, Float64, Float64, Float64, Vector{Vector{Float64}}, ODESolution{Float64, 2, Vector{Vector{Float64}}, Nothing, Nothing, Vector{Float64}, Vector{Vector{Vector{Float64}}}, ODEProblem{Vector{Float64}, Tuple{Float64, Float64}, false, ComponentVector{Float32, Vector{Float32}, Tuple{Axis{(layer_1 = ViewAxis(1:320, Axis(weight = ViewAxis(1:256, ShapedAxis((64, 4), NamedTuple())), bias = ViewAxis(257:320, ShapedAxis((64, 1), NamedTuple())))), layer_2 = ViewAxis(321:2400, Axis(weight = ViewAxis(1:2048, ShapedAxis((32, 64), NamedTuple())), bias = ViewAxis(2049:2080, ShapedAxis((32, 1), NamedTuple())))), layer_3 = ViewAxis(2401:2664, Axis(weight = ViewAxis(1:256, ShapedAxis((8, 32), NamedTuple())), bias = ViewAxis(257:264, ShapedAxis((8, 1), NamedTuple())))), layer_4 = ViewAxis(2665:2700, Axis(weight = ViewAxis(1:32, ShapedAxis((4, 8), NamedTuple())), bias = ViewAxis(33:36, ShapedAxis((4, 1), NamedTuple())))), layer_5 = 2701:2700, layer_6 = ViewAxis(2701:9228, Axis(weight = ViewAxis(1:6464, ShapedAxis((64, 101), NamedTuple())), bias = ViewAxis(6465:6528, ShapedAxis((64, 1), NamedTuple())))), layer_7 = ViewAxis(9229:11308, Axis(weight = ViewAxis(1:2048, ShapedAxis((32, 64), NamedTuple())), bias = ViewAxis(2049:2080, ShapedAxis((32, 1), NamedTuple())))), layer_8 = ViewAxis(11309:11440, Axis(weight = ViewAxis(1:128, ShapedAxis((4, 32), NamedTuple())), bias = ViewAxis(129:132, ShapedAxis((4, 1), NamedTuple())))))}}}, ODEFunction{false, SciMLBase.FullSpecialize, DiffEqFlux.var\"#dudt#178\"{NamedTuple{(:layer_1, :layer_2, :layer_3, :layer_4, :layer_5, :layer_6, :layer_7, :layer_8), NTuple{8, NamedTuple{(), Tuple{}}}}, DiffEqFlux.var\"#dudt#177#179\"{NeuralODE{Lux.Chain{NamedTuple{(:layer_1, :layer_2, :layer_3, :layer_4, :layer_5, :layer_6, :layer_7, :layer_8), Tuple{Lux.Dense{true, typeof(swish), typeof(Lux.glorot_uniform), typeof(Lux.zeros32)}, Lux.Dense{true, typeof(swish), typeof(Lux.glorot_uniform), typeof(Lux.zeros32)}, Lux.Dense{true, typeof(swish), typeof(Lux.glorot_uniform), typeof(Lux.zeros32)}, Lux.Dense{true, typeof(swish), typeof(Lux.glorot_uniform), typeof(Lux.zeros32)}, WrappedFunction{var\"#36#37\"}, Lux.Dense{true, typeof(swish), typeof(Lux.glorot_uniform), typeof(Lux.zeros32)}, Lux.Dense{true, typeof(swish), typeof(Lux.glorot_uniform), typeof(Lux.zeros32)}, Lux.Dense{true, typeof(identity), typeof(Lux.glorot_uniform), typeof(Lux.zeros32)}}}}, Nothing, Nothing, Tuple{Float64, Float64}, Tuple{Tsit5{typeof(OrdinaryDiffEq.trivial_limiter!), typeof(OrdinaryDiffEq.trivial_limiter!), Static.False}}, Base.Pairs{Symbol, Any, Tuple{Symbol, Symbol, Symbol}, NamedTuple{(:saveat, :abstol, :reltol), Tuple{Vector{Float64}, Float64, Float64}}}}}}, LinearAlgebra.UniformScaling{Bool}, Nothing, typeof(DiffEqFlux.basic_tgrad), Nothing, Nothing, Nothing, Nothing, Nothing, Nothing, Nothing, Nothing, Nothing, Nothing, Nothing, Nothing, typeof(SciMLBase.DEFAULT_OBSERVED), Nothing, Nothing}, Base.Pairs{Symbol, Union{}, Tuple{}, NamedTuple{(), Tuple{}}}, SciMLBase.StandardODEProblem}, Tsit5{typeof(OrdinaryDiffEq.trivial_limiter!), typeof(OrdinaryDiffEq.trivial_limiter!), Static.False}, OrdinaryDiffEq.InterpolationData{ODEFunction{false, SciMLBase.FullSpecialize, DiffEqFlux.var\"#dudt#178\"{NamedTuple{(:layer_1, :layer_2, :layer_3, :layer_4, :layer_5, :layer_6, :layer_7, :layer_8), NTuple{8, NamedTuple{(), Tuple{}}}}, DiffEqFlux.var\"#dudt#177#179\"{NeuralODE{Lux.Chain{NamedTuple{(:layer_1, :layer_2, :layer_3, :layer_4, :layer_5, :layer_6, :layer_7, :layer_8), Tuple{Lux.Dense{true, typeof(swish), typeof(Lux.glorot_uniform), typeof(Lux.zeros32)}, Lux.Dense{true, typeof(swish), typeof(Lux.glorot_uniform), typeof(Lux.zeros32)}, Lux.Dense{true, typeof(swish), typeof(Lux.glorot_uniform), typeof(Lux.zeros32)}, Lux.Dense{true, typeof(swish), typeof(Lux.glorot_uniform), typeof(Lux.zeros32)}, WrappedFunction{var\"#36#37\"}, Lux.Dense{true, typeof(swish), typeof(Lux.glorot_uniform), typeof(Lux.zeros32)}, Lux.Dense{true, typeof(swish), typeof(Lux.glorot_uniform), typeof(Lux.zeros32)}, Lux.Dense{true, typeof(identity), typeof(Lux.glorot_uniform), typeof(Lux.zeros32)}}}}, Nothing, Nothing, Tuple{Float64, Float64}, Tuple{Tsit5{typeof(OrdinaryDiffEq.trivial_limiter!), typeof(OrdinaryDiffEq.trivial_limiter!), Static.False}}, Base.Pairs{Symbol, Any, Tuple{Symbol, Symbol, Symbol}, NamedTuple{(:saveat, :abstol, :reltol), Tuple{Vector{Float64}, Float64, Float64}}}}}}, LinearAlgebra.UniformScaling{Bool}, Nothing, typeof(DiffEqFlux.basic_tgrad), Nothing, Nothing, Nothing, Nothing, Nothing, Nothing, Nothing, Nothing, Nothing, Nothing, Nothing, Nothing, typeof(SciMLBase.DEFAULT_OBSERVED), Nothing, Nothing}, Vector{Vector{Float64}}, Vector{Float64}, Vector{Vector{Vector{Float64}}}, OrdinaryDiffEq.Tsit5ConstantCache}, DiffEqBase.DEStats, Nothing}, ODEFunction{false, SciMLBase.FullSpecialize, DiffEqFlux.var\"#dudt#178\"{NamedTuple{(:layer_1, :layer_2, :layer_3, :layer_4, :layer_5, :layer_6, :layer_7, :layer_8), NTuple{8, NamedTuple{(), Tuple{}}}}, DiffEqFlux.var\"#dudt#177#179\"{NeuralODE{Lux.Chain{NamedTuple{(:layer_1, :layer_2, :layer_3, :layer_4, :layer_5, :layer_6, :layer_7, :layer_8), Tuple{Lux.Dense{true, typeof(swish), typeof(Lux.glorot_uniform), typeof(Lux.zeros32)}, Lux.Dense{true, typeof(swish), typeof(Lux.glorot_uniform), typeof(Lux.zeros32)}, Lux.Dense{true, typeof(swish), typeof(Lux.glorot_uniform), typeof(Lux.zeros32)}, Lux.Dense{true, typeof(swish), typeof(Lux.glorot_uniform), typeof(Lux.zeros32)}, WrappedFunction{var\"#36#37\"}, Lux.Dense{true, typeof(swish), typeof(Lux.glorot_uniform), typeof(Lux.zeros32)}, Lux.Dense{true, typeof(swish), typeof(Lux.glorot_uniform), typeof(Lux.zeros32)}, Lux.Dense{true, typeof(identity), typeof(Lux.glorot_uniform), typeof(Lux.zeros32)}}}}, Nothing, Nothing, Tuple{Float64, Float64}, Tuple{Tsit5{typeof(OrdinaryDiffEq.trivial_limiter!), typeof(OrdinaryDiffEq.trivial_limiter!), Static.False}}, Base.Pairs{Symbol, Any, Tuple{Symbol, Symbol, Symbol}, NamedTuple{(:saveat, :abstol, :reltol), Tuple{Vector{Float64}, Float64, Float64}}}}}}, LinearAlgebra.UniformScaling{Bool}, Nothing, typeof(DiffEqFlux.basic_tgrad), Nothing, Nothing, Nothing, Nothing, Nothing, Nothing, Nothing, Nothing, Nothing, Nothing, Nothing, Nothing, typeof(SciMLBase.DEFAULT_OBSERVED), Nothing, Nothing}, OrdinaryDiffEq.Tsit5ConstantCache, OrdinaryDiffEq.DEOptions{Float64, Float64, Float64, Float64, PIController{Rational{Int64}}, typeof(DiffEqBase.ODE_DEFAULT_NORM), typeof(LinearAlgebra.opnorm), Bool, CallbackSet{Tuple{}, Tuple{}}, typeof(DiffEqBase.ODE_DEFAULT_ISOUTOFDOMAIN), typeof(DiffEqBase.ODE_DEFAULT_PROG_MESSAGE), typeof(DiffEqBase.ODE_DEFAULT_UNSTABLE_CHECK), DataStructures.BinaryHeap{Float64, DataStructures.FasterForward}, DataStructures.BinaryHeap{Float64, DataStructures.FasterForward}, Nothing, Nothing, Int64, Tuple{}, Tuple{}, Tuple{}}, Vector{Float64}, Float64, Nothing, OrdinaryDiffEq.DefaultInit}, cache::OrdinaryDiffEq.Tsit5ConstantCache, repeat_step::Bool)\n",
      "    @ OrdinaryDiffEq C:\\Users\\SpOoKyJaRvIs\\.julia\\packages\\OrdinaryDiffEq\\vIqLB\\src\\perform_step\\low_order_rk_perform_step.jl:726\n",
      " [14] perform_step!\n",
      "    @ C:\\Users\\SpOoKyJaRvIs\\.julia\\packages\\OrdinaryDiffEq\\vIqLB\\src\\perform_step\\low_order_rk_perform_step.jl:713 [inlined]\n",
      " [15] solve!(integrator::OrdinaryDiffEq.ODEIntegrator{Tsit5{typeof(OrdinaryDiffEq.trivial_limiter!), typeof(OrdinaryDiffEq.trivial_limiter!), Static.False}, false, Vector{Float64}, Nothing, Float64, ComponentVector{Float32, Vector{Float32}, Tuple{Axis{(layer_1 = ViewAxis(1:320, Axis(weight = ViewAxis(1:256, ShapedAxis((64, 4), NamedTuple())), bias = ViewAxis(257:320, ShapedAxis((64, 1), NamedTuple())))), layer_2 = ViewAxis(321:2400, Axis(weight = ViewAxis(1:2048, ShapedAxis((32, 64), NamedTuple())), bias = ViewAxis(2049:2080, ShapedAxis((32, 1), NamedTuple())))), layer_3 = ViewAxis(2401:2664, Axis(weight = ViewAxis(1:256, ShapedAxis((8, 32), NamedTuple())), bias = ViewAxis(257:264, ShapedAxis((8, 1), NamedTuple())))), layer_4 = ViewAxis(2665:2700, Axis(weight = ViewAxis(1:32, ShapedAxis((4, 8), NamedTuple())), bias = ViewAxis(33:36, ShapedAxis((4, 1), NamedTuple())))), layer_5 = 2701:2700, layer_6 = ViewAxis(2701:9228, Axis(weight = ViewAxis(1:6464, ShapedAxis((64, 101), NamedTuple())), bias = ViewAxis(6465:6528, ShapedAxis((64, 1), NamedTuple())))), layer_7 = ViewAxis(9229:11308, Axis(weight = ViewAxis(1:2048, ShapedAxis((32, 64), NamedTuple())), bias = ViewAxis(2049:2080, ShapedAxis((32, 1), NamedTuple())))), layer_8 = ViewAxis(11309:11440, Axis(weight = ViewAxis(1:128, ShapedAxis((4, 32), NamedTuple())), bias = ViewAxis(129:132, ShapedAxis((4, 1), NamedTuple())))))}}}, Float64, Float64, Float64, Float64, Vector{Vector{Float64}}, ODESolution{Float64, 2, Vector{Vector{Float64}}, Nothing, Nothing, Vector{Float64}, Vector{Vector{Vector{Float64}}}, ODEProblem{Vector{Float64}, Tuple{Float64, Float64}, false, ComponentVector{Float32, Vector{Float32}, Tuple{Axis{(layer_1 = ViewAxis(1:320, Axis(weight = ViewAxis(1:256, ShapedAxis((64, 4), NamedTuple())), bias = ViewAxis(257:320, ShapedAxis((64, 1), NamedTuple())))), layer_2 = ViewAxis(321:2400, Axis(weight = ViewAxis(1:2048, ShapedAxis((32, 64), NamedTuple())), bias = ViewAxis(2049:2080, ShapedAxis((32, 1), NamedTuple())))), layer_3 = ViewAxis(2401:2664, Axis(weight = ViewAxis(1:256, ShapedAxis((8, 32), NamedTuple())), bias = ViewAxis(257:264, ShapedAxis((8, 1), NamedTuple())))), layer_4 = ViewAxis(2665:2700, Axis(weight = ViewAxis(1:32, ShapedAxis((4, 8), NamedTuple())), bias = ViewAxis(33:36, ShapedAxis((4, 1), NamedTuple())))), layer_5 = 2701:2700, layer_6 = ViewAxis(2701:9228, Axis(weight = ViewAxis(1:6464, ShapedAxis((64, 101), NamedTuple())), bias = ViewAxis(6465:6528, ShapedAxis((64, 1), NamedTuple())))), layer_7 = ViewAxis(9229:11308, Axis(weight = ViewAxis(1:2048, ShapedAxis((32, 64), NamedTuple())), bias = ViewAxis(2049:2080, ShapedAxis((32, 1), NamedTuple())))), layer_8 = ViewAxis(11309:11440, Axis(weight = ViewAxis(1:128, ShapedAxis((4, 32), NamedTuple())), bias = ViewAxis(129:132, ShapedAxis((4, 1), NamedTuple())))))}}}, ODEFunction{false, SciMLBase.FullSpecialize, DiffEqFlux.var\"#dudt#178\"{NamedTuple{(:layer_1, :layer_2, :layer_3, :layer_4, :layer_5, :layer_6, :layer_7, :layer_8), NTuple{8, NamedTuple{(), Tuple{}}}}, DiffEqFlux.var\"#dudt#177#179\"{NeuralODE{Lux.Chain{NamedTuple{(:layer_1, :layer_2, :layer_3, :layer_4, :layer_5, :layer_6, :layer_7, :layer_8), Tuple{Lux.Dense{true, typeof(swish), typeof(Lux.glorot_uniform), typeof(Lux.zeros32)}, Lux.Dense{true, typeof(swish), typeof(Lux.glorot_uniform), typeof(Lux.zeros32)}, Lux.Dense{true, typeof(swish), typeof(Lux.glorot_uniform), typeof(Lux.zeros32)}, Lux.Dense{true, typeof(swish), typeof(Lux.glorot_uniform), typeof(Lux.zeros32)}, WrappedFunction{var\"#36#37\"}, Lux.Dense{true, typeof(swish), typeof(Lux.glorot_uniform), typeof(Lux.zeros32)}, Lux.Dense{true, typeof(swish), typeof(Lux.glorot_uniform), typeof(Lux.zeros32)}, Lux.Dense{true, typeof(identity), typeof(Lux.glorot_uniform), typeof(Lux.zeros32)}}}}, Nothing, Nothing, Tuple{Float64, Float64}, Tuple{Tsit5{typeof(OrdinaryDiffEq.trivial_limiter!), typeof(OrdinaryDiffEq.trivial_limiter!), Static.False}}, Base.Pairs{Symbol, Any, Tuple{Symbol, Symbol, Symbol}, NamedTuple{(:saveat, :abstol, :reltol), Tuple{Vector{Float64}, Float64, Float64}}}}}}, LinearAlgebra.UniformScaling{Bool}, Nothing, typeof(DiffEqFlux.basic_tgrad), Nothing, Nothing, Nothing, Nothing, Nothing, Nothing, Nothing, Nothing, Nothing, Nothing, Nothing, Nothing, typeof(SciMLBase.DEFAULT_OBSERVED), Nothing, Nothing}, Base.Pairs{Symbol, Union{}, Tuple{}, NamedTuple{(), Tuple{}}}, SciMLBase.StandardODEProblem}, Tsit5{typeof(OrdinaryDiffEq.trivial_limiter!), typeof(OrdinaryDiffEq.trivial_limiter!), Static.False}, OrdinaryDiffEq.InterpolationData{ODEFunction{false, SciMLBase.FullSpecialize, DiffEqFlux.var\"#dudt#178\"{NamedTuple{(:layer_1, :layer_2, :layer_3, :layer_4, :layer_5, :layer_6, :layer_7, :layer_8), NTuple{8, NamedTuple{(), Tuple{}}}}, DiffEqFlux.var\"#dudt#177#179\"{NeuralODE{Lux.Chain{NamedTuple{(:layer_1, :layer_2, :layer_3, :layer_4, :layer_5, :layer_6, :layer_7, :layer_8), Tuple{Lux.Dense{true, typeof(swish), typeof(Lux.glorot_uniform), typeof(Lux.zeros32)}, Lux.Dense{true, typeof(swish), typeof(Lux.glorot_uniform), typeof(Lux.zeros32)}, Lux.Dense{true, typeof(swish), typeof(Lux.glorot_uniform), typeof(Lux.zeros32)}, Lux.Dense{true, typeof(swish), typeof(Lux.glorot_uniform), typeof(Lux.zeros32)}, WrappedFunction{var\"#36#37\"}, Lux.Dense{true, typeof(swish), typeof(Lux.glorot_uniform), typeof(Lux.zeros32)}, Lux.Dense{true, typeof(swish), typeof(Lux.glorot_uniform), typeof(Lux.zeros32)}, Lux.Dense{true, typeof(identity), typeof(Lux.glorot_uniform), typeof(Lux.zeros32)}}}}, Nothing, Nothing, Tuple{Float64, Float64}, Tuple{Tsit5{typeof(OrdinaryDiffEq.trivial_limiter!), typeof(OrdinaryDiffEq.trivial_limiter!), Static.False}}, Base.Pairs{Symbol, Any, Tuple{Symbol, Symbol, Symbol}, NamedTuple{(:saveat, :abstol, :reltol), Tuple{Vector{Float64}, Float64, Float64}}}}}}, LinearAlgebra.UniformScaling{Bool}, Nothing, typeof(DiffEqFlux.basic_tgrad), Nothing, Nothing, Nothing, Nothing, Nothing, Nothing, Nothing, Nothing, Nothing, Nothing, Nothing, Nothing, typeof(SciMLBase.DEFAULT_OBSERVED), Nothing, Nothing}, Vector{Vector{Float64}}, Vector{Float64}, Vector{Vector{Vector{Float64}}}, OrdinaryDiffEq.Tsit5ConstantCache}, DiffEqBase.DEStats, Nothing}, ODEFunction{false, SciMLBase.FullSpecialize, DiffEqFlux.var\"#dudt#178\"{NamedTuple{(:layer_1, :layer_2, :layer_3, :layer_4, :layer_5, :layer_6, :layer_7, :layer_8), NTuple{8, NamedTuple{(), Tuple{}}}}, DiffEqFlux.var\"#dudt#177#179\"{NeuralODE{Lux.Chain{NamedTuple{(:layer_1, :layer_2, :layer_3, :layer_4, :layer_5, :layer_6, :layer_7, :layer_8), Tuple{Lux.Dense{true, typeof(swish), typeof(Lux.glorot_uniform), typeof(Lux.zeros32)}, Lux.Dense{true, typeof(swish), typeof(Lux.glorot_uniform), typeof(Lux.zeros32)}, Lux.Dense{true, typeof(swish), typeof(Lux.glorot_uniform), typeof(Lux.zeros32)}, Lux.Dense{true, typeof(swish), typeof(Lux.glorot_uniform), typeof(Lux.zeros32)}, WrappedFunction{var\"#36#37\"}, Lux.Dense{true, typeof(swish), typeof(Lux.glorot_uniform), typeof(Lux.zeros32)}, Lux.Dense{true, typeof(swish), typeof(Lux.glorot_uniform), typeof(Lux.zeros32)}, Lux.Dense{true, typeof(identity), typeof(Lux.glorot_uniform), typeof(Lux.zeros32)}}}}, Nothing, Nothing, Tuple{Float64, Float64}, Tuple{Tsit5{typeof(OrdinaryDiffEq.trivial_limiter!), typeof(OrdinaryDiffEq.trivial_limiter!), Static.False}}, Base.Pairs{Symbol, Any, Tuple{Symbol, Symbol, Symbol}, NamedTuple{(:saveat, :abstol, :reltol), Tuple{Vector{Float64}, Float64, Float64}}}}}}, LinearAlgebra.UniformScaling{Bool}, Nothing, typeof(DiffEqFlux.basic_tgrad), Nothing, Nothing, Nothing, Nothing, Nothing, Nothing, Nothing, Nothing, Nothing, Nothing, Nothing, Nothing, typeof(SciMLBase.DEFAULT_OBSERVED), Nothing, Nothing}, OrdinaryDiffEq.Tsit5ConstantCache, OrdinaryDiffEq.DEOptions{Float64, Float64, Float64, Float64, PIController{Rational{Int64}}, typeof(DiffEqBase.ODE_DEFAULT_NORM), typeof(LinearAlgebra.opnorm), Bool, CallbackSet{Tuple{}, Tuple{}}, typeof(DiffEqBase.ODE_DEFAULT_ISOUTOFDOMAIN), typeof(DiffEqBase.ODE_DEFAULT_PROG_MESSAGE), typeof(DiffEqBase.ODE_DEFAULT_UNSTABLE_CHECK), DataStructures.BinaryHeap{Float64, DataStructures.FasterForward}, DataStructures.BinaryHeap{Float64, DataStructures.FasterForward}, Nothing, Nothing, Int64, Tuple{}, Tuple{}, Tuple{}}, Vector{Float64}, Float64, Nothing, OrdinaryDiffEq.DefaultInit})\n",
      "    @ OrdinaryDiffEq C:\\Users\\SpOoKyJaRvIs\\.julia\\packages\\OrdinaryDiffEq\\vIqLB\\src\\solve.jl:520\n",
      " [16] #__solve#623\n",
      "    @ C:\\Users\\SpOoKyJaRvIs\\.julia\\packages\\OrdinaryDiffEq\\vIqLB\\src\\solve.jl:6 [inlined]\n",
      " [17] __solve\n",
      "    @ C:\\Users\\SpOoKyJaRvIs\\.julia\\packages\\OrdinaryDiffEq\\vIqLB\\src\\solve.jl:1 [inlined]\n",
      " [18] #solve_call#22\n",
      "    @ C:\\Users\\SpOoKyJaRvIs\\.julia\\packages\\DiffEqBase\\wtukj\\src\\solve.jl:496 [inlined]\n",
      " [19] solve_call\n",
      "    @ C:\\Users\\SpOoKyJaRvIs\\.julia\\packages\\DiffEqBase\\wtukj\\src\\solve.jl:466 [inlined]\n",
      " [20] solve_up(prob::ODEProblem{Vector{Float64}, Tuple{Float64, Float64}, false, ComponentVector{Float32, Vector{Float32}, Tuple{Axis{(layer_1 = ViewAxis(1:320, Axis(weight = ViewAxis(1:256, ShapedAxis((64, 4), NamedTuple())), bias = ViewAxis(257:320, ShapedAxis((64, 1), NamedTuple())))), layer_2 = ViewAxis(321:2400, Axis(weight = ViewAxis(1:2048, ShapedAxis((32, 64), NamedTuple())), bias = ViewAxis(2049:2080, ShapedAxis((32, 1), NamedTuple())))), layer_3 = ViewAxis(2401:2664, Axis(weight = ViewAxis(1:256, ShapedAxis((8, 32), NamedTuple())), bias = ViewAxis(257:264, ShapedAxis((8, 1), NamedTuple())))), layer_4 = ViewAxis(2665:2700, Axis(weight = ViewAxis(1:32, ShapedAxis((4, 8), NamedTuple())), bias = ViewAxis(33:36, ShapedAxis((4, 1), NamedTuple())))), layer_5 = 2701:2700, layer_6 = ViewAxis(2701:9228, Axis(weight = ViewAxis(1:6464, ShapedAxis((64, 101), NamedTuple())), bias = ViewAxis(6465:6528, ShapedAxis((64, 1), NamedTuple())))), layer_7 = ViewAxis(9229:11308, Axis(weight = ViewAxis(1:2048, ShapedAxis((32, 64), NamedTuple())), bias = ViewAxis(2049:2080, ShapedAxis((32, 1), NamedTuple())))), layer_8 = ViewAxis(11309:11440, Axis(weight = ViewAxis(1:128, ShapedAxis((4, 32), NamedTuple())), bias = ViewAxis(129:132, ShapedAxis((4, 1), NamedTuple())))))}}}, ODEFunction{false, SciMLBase.FullSpecialize, DiffEqFlux.var\"#dudt#178\"{NamedTuple{(:layer_1, :layer_2, :layer_3, :layer_4, :layer_5, :layer_6, :layer_7, :layer_8), NTuple{8, NamedTuple{(), Tuple{}}}}, DiffEqFlux.var\"#dudt#177#179\"{NeuralODE{Lux.Chain{NamedTuple{(:layer_1, :layer_2, :layer_3, :layer_4, :layer_5, :layer_6, :layer_7, :layer_8), Tuple{Lux.Dense{true, typeof(swish), typeof(Lux.glorot_uniform), typeof(Lux.zeros32)}, Lux.Dense{true, typeof(swish), typeof(Lux.glorot_uniform), typeof(Lux.zeros32)}, Lux.Dense{true, typeof(swish), typeof(Lux.glorot_uniform), typeof(Lux.zeros32)}, Lux.Dense{true, typeof(swish), typeof(Lux.glorot_uniform), typeof(Lux.zeros32)}, WrappedFunction{var\"#36#37\"}, Lux.Dense{true, typeof(swish), typeof(Lux.glorot_uniform), typeof(Lux.zeros32)}, Lux.Dense{true, typeof(swish), typeof(Lux.glorot_uniform), typeof(Lux.zeros32)}, Lux.Dense{true, typeof(identity), typeof(Lux.glorot_uniform), typeof(Lux.zeros32)}}}}, Nothing, Nothing, Tuple{Float64, Float64}, Tuple{Tsit5{typeof(OrdinaryDiffEq.trivial_limiter!), typeof(OrdinaryDiffEq.trivial_limiter!), Static.False}}, Base.Pairs{Symbol, Any, Tuple{Symbol, Symbol, Symbol}, NamedTuple{(:saveat, :abstol, :reltol), Tuple{Vector{Float64}, Float64, Float64}}}}}}, LinearAlgebra.UniformScaling{Bool}, Nothing, typeof(DiffEqFlux.basic_tgrad), Nothing, Nothing, Nothing, Nothing, Nothing, Nothing, Nothing, Nothing, Nothing, Nothing, Nothing, Nothing, typeof(SciMLBase.DEFAULT_OBSERVED), Nothing, Nothing}, Base.Pairs{Symbol, Union{}, Tuple{}, NamedTuple{(), Tuple{}}}, SciMLBase.StandardODEProblem}, sensealg::Nothing, u0::Vector{Float64}, p::ComponentVector{Float32, Vector{Float32}, Tuple{Axis{(layer_1 = ViewAxis(1:320, Axis(weight = ViewAxis(1:256, ShapedAxis((64, 4), NamedTuple())), bias = ViewAxis(257:320, ShapedAxis((64, 1), NamedTuple())))), layer_2 = ViewAxis(321:2400, Axis(weight = ViewAxis(1:2048, ShapedAxis((32, 64), NamedTuple())), bias = ViewAxis(2049:2080, ShapedAxis((32, 1), NamedTuple())))), layer_3 = ViewAxis(2401:2664, Axis(weight = ViewAxis(1:256, ShapedAxis((8, 32), NamedTuple())), bias = ViewAxis(257:264, ShapedAxis((8, 1), NamedTuple())))), layer_4 = ViewAxis(2665:2700, Axis(weight = ViewAxis(1:32, ShapedAxis((4, 8), NamedTuple())), bias = ViewAxis(33:36, ShapedAxis((4, 1), NamedTuple())))), layer_5 = 2701:2700, layer_6 = ViewAxis(2701:9228, Axis(weight = ViewAxis(1:6464, ShapedAxis((64, 101), NamedTuple())), bias = ViewAxis(6465:6528, ShapedAxis((64, 1), NamedTuple())))), layer_7 = ViewAxis(9229:11308, Axis(weight = ViewAxis(1:2048, ShapedAxis((32, 64), NamedTuple())), bias = ViewAxis(2049:2080, ShapedAxis((32, 1), NamedTuple())))), layer_8 = ViewAxis(11309:11440, Axis(weight = ViewAxis(1:128, ShapedAxis((4, 32), NamedTuple())), bias = ViewAxis(129:132, ShapedAxis((4, 1), NamedTuple())))))}}}, args::Tsit5{typeof(OrdinaryDiffEq.trivial_limiter!), typeof(OrdinaryDiffEq.trivial_limiter!), Static.False}; kwargs::Base.Pairs{Symbol, Real, NTuple{5, Symbol}, NamedTuple{(:save_noise, :save_start, :save_end, :abstol, :reltol), Tuple{Bool, Bool, Bool, Float64, Float64}}})\n",
      "    @ DiffEqBase C:\\Users\\SpOoKyJaRvIs\\.julia\\packages\\DiffEqBase\\wtukj\\src\\solve.jl:919\n",
      " [21] solve_up\n",
      "    @ C:\\Users\\SpOoKyJaRvIs\\.julia\\packages\\DiffEqBase\\wtukj\\src\\solve.jl:892 [inlined]\n",
      " [22] #solve#27\n",
      "    @ C:\\Users\\SpOoKyJaRvIs\\.julia\\packages\\DiffEqBase\\wtukj\\src\\solve.jl:829 [inlined]\n",
      " [23] _concrete_solve_adjoint(::ODEProblem{Vector{Float64}, Tuple{Float64, Float64}, false, ComponentVector{Float32, Vector{Float32}, Tuple{Axis{(layer_1 = ViewAxis(1:320, Axis(weight = ViewAxis(1:256, ShapedAxis((64, 4), NamedTuple())), bias = ViewAxis(257:320, ShapedAxis((64, 1), NamedTuple())))), layer_2 = ViewAxis(321:2400, Axis(weight = ViewAxis(1:2048, ShapedAxis((32, 64), NamedTuple())), bias = ViewAxis(2049:2080, ShapedAxis((32, 1), NamedTuple())))), layer_3 = ViewAxis(2401:2664, Axis(weight = ViewAxis(1:256, ShapedAxis((8, 32), NamedTuple())), bias = ViewAxis(257:264, ShapedAxis((8, 1), NamedTuple())))), layer_4 = ViewAxis(2665:2700, Axis(weight = ViewAxis(1:32, ShapedAxis((4, 8), NamedTuple())), bias = ViewAxis(33:36, ShapedAxis((4, 1), NamedTuple())))), layer_5 = 2701:2700, layer_6 = ViewAxis(2701:9228, Axis(weight = ViewAxis(1:6464, ShapedAxis((64, 101), NamedTuple())), bias = ViewAxis(6465:6528, ShapedAxis((64, 1), NamedTuple())))), layer_7 = ViewAxis(9229:11308, Axis(weight = ViewAxis(1:2048, ShapedAxis((32, 64), NamedTuple())), bias = ViewAxis(2049:2080, ShapedAxis((32, 1), NamedTuple())))), layer_8 = ViewAxis(11309:11440, Axis(weight = ViewAxis(1:128, ShapedAxis((4, 32), NamedTuple())), bias = ViewAxis(129:132, ShapedAxis((4, 1), NamedTuple())))))}}}, ODEFunction{false, SciMLBase.FullSpecialize, DiffEqFlux.var\"#dudt#178\"{NamedTuple{(:layer_1, :layer_2, :layer_3, :layer_4, :layer_5, :layer_6, :layer_7, :layer_8), NTuple{8, NamedTuple{(), Tuple{}}}}, DiffEqFlux.var\"#dudt#177#179\"{NeuralODE{Lux.Chain{NamedTuple{(:layer_1, :layer_2, :layer_3, :layer_4, :layer_5, :layer_6, :layer_7, :layer_8), Tuple{Lux.Dense{true, typeof(swish), typeof(Lux.glorot_uniform), typeof(Lux.zeros32)}, Lux.Dense{true, typeof(swish), typeof(Lux.glorot_uniform), typeof(Lux.zeros32)}, Lux.Dense{true, typeof(swish), typeof(Lux.glorot_uniform), typeof(Lux.zeros32)}, Lux.Dense{true, typeof(swish), typeof(Lux.glorot_uniform), typeof(Lux.zeros32)}, WrappedFunction{var\"#36#37\"}, Lux.Dense{true, typeof(swish), typeof(Lux.glorot_uniform), typeof(Lux.zeros32)}, Lux.Dense{true, typeof(swish), typeof(Lux.glorot_uniform), typeof(Lux.zeros32)}, Lux.Dense{true, typeof(identity), typeof(Lux.glorot_uniform), typeof(Lux.zeros32)}}}}, Nothing, Nothing, Tuple{Float64, Float64}, Tuple{Tsit5{typeof(OrdinaryDiffEq.trivial_limiter!), typeof(OrdinaryDiffEq.trivial_limiter!), Static.False}}, Base.Pairs{Symbol, Any, Tuple{Symbol, Symbol, Symbol}, NamedTuple{(:saveat, :abstol, :reltol), Tuple{Vector{Float64}, Float64, Float64}}}}}}, LinearAlgebra.UniformScaling{Bool}, Nothing, typeof(DiffEqFlux.basic_tgrad), Nothing, Nothing, Nothing, Nothing, Nothing, Nothing, Nothing, Nothing, Nothing, Nothing, Nothing, Nothing, typeof(SciMLBase.DEFAULT_OBSERVED), Nothing, Nothing}, Base.Pairs{Symbol, Union{}, Tuple{}, NamedTuple{(), Tuple{}}}, SciMLBase.StandardODEProblem}, ::Tsit5{typeof(OrdinaryDiffEq.trivial_limiter!), typeof(OrdinaryDiffEq.trivial_limiter!), Static.False}, ::SciMLSensitivity.InterpolatingAdjoint{0, true, Val{:central}, SciMLSensitivity.ZygoteVJP}, ::Vector{Float64}, ::ComponentVector{Float32, Vector{Float32}, Tuple{Axis{(layer_1 = ViewAxis(1:320, Axis(weight = ViewAxis(1:256, ShapedAxis((64, 4), NamedTuple())), bias = ViewAxis(257:320, ShapedAxis((64, 1), NamedTuple())))), layer_2 = ViewAxis(321:2400, Axis(weight = ViewAxis(1:2048, ShapedAxis((32, 64), NamedTuple())), bias = ViewAxis(2049:2080, ShapedAxis((32, 1), NamedTuple())))), layer_3 = ViewAxis(2401:2664, Axis(weight = ViewAxis(1:256, ShapedAxis((8, 32), NamedTuple())), bias = ViewAxis(257:264, ShapedAxis((8, 1), NamedTuple())))), layer_4 = ViewAxis(2665:2700, Axis(weight = ViewAxis(1:32, ShapedAxis((4, 8), NamedTuple())), bias = ViewAxis(33:36, ShapedAxis((4, 1), NamedTuple())))), layer_5 = 2701:2700, layer_6 = ViewAxis(2701:9228, Axis(weight = ViewAxis(1:6464, ShapedAxis((64, 101), NamedTuple())), bias = ViewAxis(6465:6528, ShapedAxis((64, 1), NamedTuple())))), layer_7 = ViewAxis(9229:11308, Axis(weight = ViewAxis(1:2048, ShapedAxis((32, 64), NamedTuple())), bias = ViewAxis(2049:2080, ShapedAxis((32, 1), NamedTuple())))), layer_8 = ViewAxis(11309:11440, Axis(weight = ViewAxis(1:128, ShapedAxis((4, 32), NamedTuple())), bias = ViewAxis(129:132, ShapedAxis((4, 1), NamedTuple())))))}}}, ::SciMLBase.ChainRulesOriginator; save_start::Bool, save_end::Bool, saveat::Vector{Float64}, save_idxs::Nothing, kwargs::Base.Pairs{Symbol, Float64, Tuple{Symbol, Symbol}, NamedTuple{(:abstol, :reltol), Tuple{Float64, Float64}}})\n",
      "    @ SciMLSensitivity C:\\Users\\SpOoKyJaRvIs\\.julia\\packages\\SciMLSensitivity\\6YVpi\\src\\concrete_solve.jl:279\n",
      " [24] _concrete_solve_adjoint\n",
      "    @ C:\\Users\\SpOoKyJaRvIs\\.julia\\packages\\SciMLSensitivity\\6YVpi\\src\\concrete_solve.jl:231 [inlined]\n",
      " [25] #_solve_adjoint#53\n",
      "    @ C:\\Users\\SpOoKyJaRvIs\\.julia\\packages\\DiffEqBase\\wtukj\\src\\solve.jl:1335 [inlined]\n",
      " [26] _solve_adjoint\n",
      "    @ C:\\Users\\SpOoKyJaRvIs\\.julia\\packages\\DiffEqBase\\wtukj\\src\\solve.jl:1304 [inlined]\n",
      " [27] #rrule#51\n",
      "    @ C:\\Users\\SpOoKyJaRvIs\\.julia\\packages\\DiffEqBase\\wtukj\\src\\solve.jl:1288 [inlined]\n",
      " [28] rrule\n",
      "    @ C:\\Users\\SpOoKyJaRvIs\\.julia\\packages\\DiffEqBase\\wtukj\\src\\solve.jl:1284 [inlined]\n",
      " [29] rrule\n",
      "    @ C:\\Users\\SpOoKyJaRvIs\\.julia\\packages\\ChainRulesCore\\7MWx2\\src\\rules.jl:140 [inlined]\n",
      " [30] chain_rrule_kw\n",
      "    @ C:\\Users\\SpOoKyJaRvIs\\.julia\\packages\\Zygote\\YYT6v\\src\\compiler\\chainrules.jl:235 [inlined]\n",
      " [31] macro expansion\n",
      "    @ C:\\Users\\SpOoKyJaRvIs\\.julia\\packages\\Zygote\\YYT6v\\src\\compiler\\interface2.jl:101 [inlined]\n",
      " [32] _pullback\n",
      "    @ C:\\Users\\SpOoKyJaRvIs\\.julia\\packages\\Zygote\\YYT6v\\src\\compiler\\interface2.jl:101 [inlined]\n",
      " [33] _apply\n",
      "    @ .\\boot.jl:838 [inlined]\n",
      " [34] adjoint\n",
      "    @ C:\\Users\\SpOoKyJaRvIs\\.julia\\packages\\Zygote\\YYT6v\\src\\lib\\lib.jl:203 [inlined]\n",
      " [35] _pullback\n",
      "    @ C:\\Users\\SpOoKyJaRvIs\\.julia\\packages\\ZygoteRules\\4nXuu\\src\\adjoint.jl:66 [inlined]\n",
      " [36] _pullback\n",
      "    @ C:\\Users\\SpOoKyJaRvIs\\.julia\\packages\\DiffEqBase\\wtukj\\src\\solve.jl:829 [inlined]\n",
      " [37] _pullback(::Zygote.Context{false}, ::DiffEqBase.var\"##solve#27\", ::SciMLSensitivity.InterpolatingAdjoint{0, true, Val{:central}, SciMLSensitivity.ZygoteVJP}, ::Nothing, ::Nothing, ::Val{true}, ::Base.Pairs{Symbol, Any, Tuple{Symbol, Symbol, Symbol}, NamedTuple{(:saveat, :abstol, :reltol), Tuple{Vector{Float64}, Float64, Float64}}}, ::typeof(solve), ::ODEProblem{Vector{Float64}, Tuple{Float64, Float64}, false, ComponentVector{Float32, Vector{Float32}, Tuple{Axis{(layer_1 = ViewAxis(1:320, Axis(weight = ViewAxis(1:256, ShapedAxis((64, 4), NamedTuple())), bias = ViewAxis(257:320, ShapedAxis((64, 1), NamedTuple())))), layer_2 = ViewAxis(321:2400, Axis(weight = ViewAxis(1:2048, ShapedAxis((32, 64), NamedTuple())), bias = ViewAxis(2049:2080, ShapedAxis((32, 1), NamedTuple())))), layer_3 = ViewAxis(2401:2664, Axis(weight = ViewAxis(1:256, ShapedAxis((8, 32), NamedTuple())), bias = ViewAxis(257:264, ShapedAxis((8, 1), NamedTuple())))), layer_4 = ViewAxis(2665:2700, Axis(weight = ViewAxis(1:32, ShapedAxis((4, 8), NamedTuple())), bias = ViewAxis(33:36, ShapedAxis((4, 1), NamedTuple())))), layer_5 = 2701:2700, layer_6 = ViewAxis(2701:9228, Axis(weight = ViewAxis(1:6464, ShapedAxis((64, 101), NamedTuple())), bias = ViewAxis(6465:6528, ShapedAxis((64, 1), NamedTuple())))), layer_7 = ViewAxis(9229:11308, Axis(weight = ViewAxis(1:2048, ShapedAxis((32, 64), NamedTuple())), bias = ViewAxis(2049:2080, ShapedAxis((32, 1), NamedTuple())))), layer_8 = ViewAxis(11309:11440, Axis(weight = ViewAxis(1:128, ShapedAxis((4, 32), NamedTuple())), bias = ViewAxis(129:132, ShapedAxis((4, 1), NamedTuple())))))}}}, ODEFunction{false, SciMLBase.FullSpecialize, DiffEqFlux.var\"#dudt#178\"{NamedTuple{(:layer_1, :layer_2, :layer_3, :layer_4, :layer_5, :layer_6, :layer_7, :layer_8), NTuple{8, NamedTuple{(), Tuple{}}}}, DiffEqFlux.var\"#dudt#177#179\"{NeuralODE{Lux.Chain{NamedTuple{(:layer_1, :layer_2, :layer_3, :layer_4, :layer_5, :layer_6, :layer_7, :layer_8), Tuple{Lux.Dense{true, typeof(swish), typeof(Lux.glorot_uniform), typeof(Lux.zeros32)}, Lux.Dense{true, typeof(swish), typeof(Lux.glorot_uniform), typeof(Lux.zeros32)}, Lux.Dense{true, typeof(swish), typeof(Lux.glorot_uniform), typeof(Lux.zeros32)}, Lux.Dense{true, typeof(swish), typeof(Lux.glorot_uniform), typeof(Lux.zeros32)}, WrappedFunction{var\"#36#37\"}, Lux.Dense{true, typeof(swish), typeof(Lux.glorot_uniform), typeof(Lux.zeros32)}, Lux.Dense{true, typeof(swish), typeof(Lux.glorot_uniform), typeof(Lux.zeros32)}, Lux.Dense{true, typeof(identity), typeof(Lux.glorot_uniform), typeof(Lux.zeros32)}}}}, Nothing, Nothing, Tuple{Float64, Float64}, Tuple{Tsit5{typeof(OrdinaryDiffEq.trivial_limiter!), typeof(OrdinaryDiffEq.trivial_limiter!), Static.False}}, Base.Pairs{Symbol, Any, Tuple{Symbol, Symbol, Symbol}, NamedTuple{(:saveat, :abstol, :reltol), Tuple{Vector{Float64}, Float64, Float64}}}}}}, LinearAlgebra.UniformScaling{Bool}, Nothing, typeof(DiffEqFlux.basic_tgrad), Nothing, Nothing, Nothing, Nothing, Nothing, Nothing, Nothing, Nothing, Nothing, Nothing, Nothing, Nothing, typeof(SciMLBase.DEFAULT_OBSERVED), Nothing, Nothing}, Base.Pairs{Symbol, Union{}, Tuple{}, NamedTuple{(), Tuple{}}}, SciMLBase.StandardODEProblem}, ::Tsit5{typeof(OrdinaryDiffEq.trivial_limiter!), typeof(OrdinaryDiffEq.trivial_limiter!), Static.False})\n",
      "    @ Zygote C:\\Users\\SpOoKyJaRvIs\\.julia\\packages\\Zygote\\YYT6v\\src\\compiler\\interface2.jl:0\n",
      " [38] _apply(::Function, ::Vararg{Any})\n",
      "    @ Core .\\boot.jl:838\n",
      " [39] adjoint\n",
      "    @ C:\\Users\\SpOoKyJaRvIs\\.julia\\packages\\Zygote\\YYT6v\\src\\lib\\lib.jl:203 [inlined]\n",
      " [40] _pullback\n",
      "    @ C:\\Users\\SpOoKyJaRvIs\\.julia\\packages\\ZygoteRules\\4nXuu\\src\\adjoint.jl:66 [inlined]\n",
      " [41] _pullback\n",
      "    @ C:\\Users\\SpOoKyJaRvIs\\.julia\\packages\\DiffEqBase\\wtukj\\src\\solve.jl:819 [inlined]\n",
      " [42] _pullback(::Zygote.Context{false}, ::typeof(Core.kwcall), ::NamedTuple{(:sensealg, :saveat, :abstol, :reltol), Tuple{SciMLSensitivity.InterpolatingAdjoint{0, true, Val{:central}, SciMLSensitivity.ZygoteVJP}, Vector{Float64}, Float64, Float64}}, ::typeof(solve), ::ODEProblem{Vector{Float64}, Tuple{Float64, Float64}, false, ComponentVector{Float32, Vector{Float32}, Tuple{Axis{(layer_1 = ViewAxis(1:320, Axis(weight = ViewAxis(1:256, ShapedAxis((64, 4), NamedTuple())), bias = ViewAxis(257:320, ShapedAxis((64, 1), NamedTuple())))), layer_2 = ViewAxis(321:2400, Axis(weight = ViewAxis(1:2048, ShapedAxis((32, 64), NamedTuple())), bias = ViewAxis(2049:2080, ShapedAxis((32, 1), NamedTuple())))), layer_3 = ViewAxis(2401:2664, Axis(weight = ViewAxis(1:256, ShapedAxis((8, 32), NamedTuple())), bias = ViewAxis(257:264, ShapedAxis((8, 1), NamedTuple())))), layer_4 = ViewAxis(2665:2700, Axis(weight = ViewAxis(1:32, ShapedAxis((4, 8), NamedTuple())), bias = ViewAxis(33:36, ShapedAxis((4, 1), NamedTuple())))), layer_5 = 2701:2700, layer_6 = ViewAxis(2701:9228, Axis(weight = ViewAxis(1:6464, ShapedAxis((64, 101), NamedTuple())), bias = ViewAxis(6465:6528, ShapedAxis((64, 1), NamedTuple())))), layer_7 = ViewAxis(9229:11308, Axis(weight = ViewAxis(1:2048, ShapedAxis((32, 64), NamedTuple())), bias = ViewAxis(2049:2080, ShapedAxis((32, 1), NamedTuple())))), layer_8 = ViewAxis(11309:11440, Axis(weight = ViewAxis(1:128, ShapedAxis((4, 32), NamedTuple())), bias = ViewAxis(129:132, ShapedAxis((4, 1), NamedTuple())))))}}}, ODEFunction{false, SciMLBase.FullSpecialize, DiffEqFlux.var\"#dudt#178\"{NamedTuple{(:layer_1, :layer_2, :layer_3, :layer_4, :layer_5, :layer_6, :layer_7, :layer_8), NTuple{8, NamedTuple{(), Tuple{}}}}, DiffEqFlux.var\"#dudt#177#179\"{NeuralODE{Lux.Chain{NamedTuple{(:layer_1, :layer_2, :layer_3, :layer_4, :layer_5, :layer_6, :layer_7, :layer_8), Tuple{Lux.Dense{true, typeof(swish), typeof(Lux.glorot_uniform), typeof(Lux.zeros32)}, Lux.Dense{true, typeof(swish), typeof(Lux.glorot_uniform), typeof(Lux.zeros32)}, Lux.Dense{true, typeof(swish), typeof(Lux.glorot_uniform), typeof(Lux.zeros32)}, Lux.Dense{true, typeof(swish), typeof(Lux.glorot_uniform), typeof(Lux.zeros32)}, WrappedFunction{var\"#36#37\"}, Lux.Dense{true, typeof(swish), typeof(Lux.glorot_uniform), typeof(Lux.zeros32)}, Lux.Dense{true, typeof(swish), typeof(Lux.glorot_uniform), typeof(Lux.zeros32)}, Lux.Dense{true, typeof(identity), typeof(Lux.glorot_uniform), typeof(Lux.zeros32)}}}}, Nothing, Nothing, Tuple{Float64, Float64}, Tuple{Tsit5{typeof(OrdinaryDiffEq.trivial_limiter!), typeof(OrdinaryDiffEq.trivial_limiter!), Static.False}}, Base.Pairs{Symbol, Any, Tuple{Symbol, Symbol, Symbol}, NamedTuple{(:saveat, :abstol, :reltol), Tuple{Vector{Float64}, Float64, Float64}}}}}}, LinearAlgebra.UniformScaling{Bool}, Nothing, typeof(DiffEqFlux.basic_tgrad), Nothing, Nothing, Nothing, Nothing, Nothing, Nothing, Nothing, Nothing, Nothing, Nothing, Nothing, Nothing, typeof(SciMLBase.DEFAULT_OBSERVED), Nothing, Nothing}, Base.Pairs{Symbol, Union{}, Tuple{}, NamedTuple{(), Tuple{}}}, SciMLBase.StandardODEProblem}, ::Tsit5{typeof(OrdinaryDiffEq.trivial_limiter!), typeof(OrdinaryDiffEq.trivial_limiter!), Static.False})\n",
      "    @ Zygote C:\\Users\\SpOoKyJaRvIs\\.julia\\packages\\Zygote\\YYT6v\\src\\compiler\\interface2.jl:0\n",
      " [43] _apply(::Function, ::Vararg{Any})\n",
      "    @ Core .\\boot.jl:838\n",
      " [44] adjoint\n",
      "    @ C:\\Users\\SpOoKyJaRvIs\\.julia\\packages\\Zygote\\YYT6v\\src\\lib\\lib.jl:203 [inlined]\n",
      " [45] _pullback\n",
      "    @ C:\\Users\\SpOoKyJaRvIs\\.julia\\packages\\ZygoteRules\\4nXuu\\src\\adjoint.jl:66 [inlined]\n",
      " [46] _pullback\n",
      "    @ C:\\Users\\SpOoKyJaRvIs\\.julia\\packages\\DiffEqFlux\\jHIee\\src\\neural_de.jl:99 [inlined]\n",
      " [47] _pullback(::Zygote.Context{false}, ::NeuralODE{Lux.Chain{NamedTuple{(:layer_1, :layer_2, :layer_3, :layer_4, :layer_5, :layer_6, :layer_7, :layer_8), Tuple{Lux.Dense{true, typeof(swish), typeof(Lux.glorot_uniform), typeof(Lux.zeros32)}, Lux.Dense{true, typeof(swish), typeof(Lux.glorot_uniform), typeof(Lux.zeros32)}, Lux.Dense{true, typeof(swish), typeof(Lux.glorot_uniform), typeof(Lux.zeros32)}, Lux.Dense{true, typeof(swish), typeof(Lux.glorot_uniform), typeof(Lux.zeros32)}, WrappedFunction{var\"#36#37\"}, Lux.Dense{true, typeof(swish), typeof(Lux.glorot_uniform), typeof(Lux.zeros32)}, Lux.Dense{true, typeof(swish), typeof(Lux.glorot_uniform), typeof(Lux.zeros32)}, Lux.Dense{true, typeof(identity), typeof(Lux.glorot_uniform), typeof(Lux.zeros32)}}}}, Nothing, Nothing, Tuple{Float64, Float64}, Tuple{Tsit5{typeof(OrdinaryDiffEq.trivial_limiter!), typeof(OrdinaryDiffEq.trivial_limiter!), Static.False}}, Base.Pairs{Symbol, Any, Tuple{Symbol, Symbol, Symbol}, NamedTuple{(:saveat, :abstol, :reltol), Tuple{Vector{Float64}, Float64, Float64}}}}, ::Vector{Float64}, ::ComponentVector{Float32, Vector{Float32}, Tuple{Axis{(layer_1 = ViewAxis(1:320, Axis(weight = ViewAxis(1:256, ShapedAxis((64, 4), NamedTuple())), bias = ViewAxis(257:320, ShapedAxis((64, 1), NamedTuple())))), layer_2 = ViewAxis(321:2400, Axis(weight = ViewAxis(1:2048, ShapedAxis((32, 64), NamedTuple())), bias = ViewAxis(2049:2080, ShapedAxis((32, 1), NamedTuple())))), layer_3 = ViewAxis(2401:2664, Axis(weight = ViewAxis(1:256, ShapedAxis((8, 32), NamedTuple())), bias = ViewAxis(257:264, ShapedAxis((8, 1), NamedTuple())))), layer_4 = ViewAxis(2665:2700, Axis(weight = ViewAxis(1:32, ShapedAxis((4, 8), NamedTuple())), bias = ViewAxis(33:36, ShapedAxis((4, 1), NamedTuple())))), layer_5 = 2701:2700, layer_6 = ViewAxis(2701:9228, Axis(weight = ViewAxis(1:6464, ShapedAxis((64, 101), NamedTuple())), bias = ViewAxis(6465:6528, ShapedAxis((64, 1), NamedTuple())))), layer_7 = ViewAxis(9229:11308, Axis(weight = ViewAxis(1:2048, ShapedAxis((32, 64), NamedTuple())), bias = ViewAxis(2049:2080, ShapedAxis((32, 1), NamedTuple())))), layer_8 = ViewAxis(11309:11440, Axis(weight = ViewAxis(1:128, ShapedAxis((4, 32), NamedTuple())), bias = ViewAxis(129:132, ShapedAxis((4, 1), NamedTuple())))))}}}, ::NamedTuple{(:layer_1, :layer_2, :layer_3, :layer_4, :layer_5, :layer_6, :layer_7, :layer_8), NTuple{8, NamedTuple{(), Tuple{}}}})\n",
      "    @ Zygote C:\\Users\\SpOoKyJaRvIs\\.julia\\packages\\Zygote\\YYT6v\\src\\compiler\\interface2.jl:0\n",
      " [48] _pullback\n",
      "    @ c:\\Users\\SpOoKyJaRvIs\\Desktop\\CSO211 project\\neural-ode-weather-forecast\\scripts\\Untitled(1).ipynb:2 [inlined]\n",
      " [49] _pullback(ctx::Zygote.Context{false}, f::var\"#predict#40\"{NeuralODE{Lux.Chain{NamedTuple{(:layer_1, :layer_2, :layer_3, :layer_4, :layer_5, :layer_6, :layer_7, :layer_8), Tuple{Lux.Dense{true, typeof(swish), typeof(Lux.glorot_uniform), typeof(Lux.zeros32)}, Lux.Dense{true, typeof(swish), typeof(Lux.glorot_uniform), typeof(Lux.zeros32)}, Lux.Dense{true, typeof(swish), typeof(Lux.glorot_uniform), typeof(Lux.zeros32)}, Lux.Dense{true, typeof(swish), typeof(Lux.glorot_uniform), typeof(Lux.zeros32)}, WrappedFunction{var\"#36#37\"}, Lux.Dense{true, typeof(swish), typeof(Lux.glorot_uniform), typeof(Lux.zeros32)}, Lux.Dense{true, typeof(swish), typeof(Lux.glorot_uniform), typeof(Lux.zeros32)}, Lux.Dense{true, typeof(identity), typeof(Lux.glorot_uniform), typeof(Lux.zeros32)}}}}, Nothing, Nothing, Tuple{Float64, Float64}, Tuple{Tsit5{typeof(OrdinaryDiffEq.trivial_limiter!), typeof(OrdinaryDiffEq.trivial_limiter!), Static.False}}, Base.Pairs{Symbol, Any, Tuple{Symbol, Symbol, Symbol}, NamedTuple{(:saveat, :abstol, :reltol), Tuple{Vector{Float64}, Float64, Float64}}}}, NamedTuple{(:layer_1, :layer_2, :layer_3, :layer_4, :layer_5, :layer_6, :layer_7, :layer_8), NTuple{8, NamedTuple{(), Tuple{}}}}, Vector{Float64}}, args::ComponentVector{Float32, Vector{Float32}, Tuple{Axis{(layer_1 = ViewAxis(1:320, Axis(weight = ViewAxis(1:256, ShapedAxis((64, 4), NamedTuple())), bias = ViewAxis(257:320, ShapedAxis((64, 1), NamedTuple())))), layer_2 = ViewAxis(321:2400, Axis(weight = ViewAxis(1:2048, ShapedAxis((32, 64), NamedTuple())), bias = ViewAxis(2049:2080, ShapedAxis((32, 1), NamedTuple())))), layer_3 = ViewAxis(2401:2664, Axis(weight = ViewAxis(1:256, ShapedAxis((8, 32), NamedTuple())), bias = ViewAxis(257:264, ShapedAxis((8, 1), NamedTuple())))), layer_4 = ViewAxis(2665:2700, Axis(weight = ViewAxis(1:32, ShapedAxis((4, 8), NamedTuple())), bias = ViewAxis(33:36, ShapedAxis((4, 1), NamedTuple())))), layer_5 = 2701:2700, layer_6 = ViewAxis(2701:9228, Axis(weight = ViewAxis(1:6464, ShapedAxis((64, 101), NamedTuple())), bias = ViewAxis(6465:6528, ShapedAxis((64, 1), NamedTuple())))), layer_7 = ViewAxis(9229:11308, Axis(weight = ViewAxis(1:2048, ShapedAxis((32, 64), NamedTuple())), bias = ViewAxis(2049:2080, ShapedAxis((32, 1), NamedTuple())))), layer_8 = ViewAxis(11309:11440, Axis(weight = ViewAxis(1:128, ShapedAxis((4, 32), NamedTuple())), bias = ViewAxis(129:132, ShapedAxis((4, 1), NamedTuple())))))}}})\n",
      "    @ Zygote C:\\Users\\SpOoKyJaRvIs\\.julia\\packages\\Zygote\\YYT6v\\src\\compiler\\interface2.jl:0\n",
      " [50] _pullback\n",
      "    @ c:\\Users\\SpOoKyJaRvIs\\Desktop\\CSO211 project\\neural-ode-weather-forecast\\scripts\\Untitled(1).ipynb:3 [inlined]\n",
      " [51] _pullback(ctx::Zygote.Context{false}, f::var\"#loss#41\"{Matrix{Float64}, var\"#predict#40\"{NeuralODE{Lux.Chain{NamedTuple{(:layer_1, :layer_2, :layer_3, :layer_4, :layer_5, :layer_6, :layer_7, :layer_8), Tuple{Lux.Dense{true, typeof(swish), typeof(Lux.glorot_uniform), typeof(Lux.zeros32)}, Lux.Dense{true, typeof(swish), typeof(Lux.glorot_uniform), typeof(Lux.zeros32)}, Lux.Dense{true, typeof(swish), typeof(Lux.glorot_uniform), typeof(Lux.zeros32)}, Lux.Dense{true, typeof(swish), typeof(Lux.glorot_uniform), typeof(Lux.zeros32)}, WrappedFunction{var\"#36#37\"}, Lux.Dense{true, typeof(swish), typeof(Lux.glorot_uniform), typeof(Lux.zeros32)}, Lux.Dense{true, typeof(swish), typeof(Lux.glorot_uniform), typeof(Lux.zeros32)}, Lux.Dense{true, typeof(identity), typeof(Lux.glorot_uniform), typeof(Lux.zeros32)}}}}, Nothing, Nothing, Tuple{Float64, Float64}, Tuple{Tsit5{typeof(OrdinaryDiffEq.trivial_limiter!), typeof(OrdinaryDiffEq.trivial_limiter!), Static.False}}, Base.Pairs{Symbol, Any, Tuple{Symbol, Symbol, Symbol}, NamedTuple{(:saveat, :abstol, :reltol), Tuple{Vector{Float64}, Float64, Float64}}}}, NamedTuple{(:layer_1, :layer_2, :layer_3, :layer_4, :layer_5, :layer_6, :layer_7, :layer_8), NTuple{8, NamedTuple{(), Tuple{}}}}, Vector{Float64}}}, args::ComponentVector{Float32, Vector{Float32}, Tuple{Axis{(layer_1 = ViewAxis(1:320, Axis(weight = ViewAxis(1:256, ShapedAxis((64, 4), NamedTuple())), bias = ViewAxis(257:320, ShapedAxis((64, 1), NamedTuple())))), layer_2 = ViewAxis(321:2400, Axis(weight = ViewAxis(1:2048, ShapedAxis((32, 64), NamedTuple())), bias = ViewAxis(2049:2080, ShapedAxis((32, 1), NamedTuple())))), layer_3 = ViewAxis(2401:2664, Axis(weight = ViewAxis(1:256, ShapedAxis((8, 32), NamedTuple())), bias = ViewAxis(257:264, ShapedAxis((8, 1), NamedTuple())))), layer_4 = ViewAxis(2665:2700, Axis(weight = ViewAxis(1:32, ShapedAxis((4, 8), NamedTuple())), bias = ViewAxis(33:36, ShapedAxis((4, 1), NamedTuple())))), layer_5 = 2701:2700, layer_6 = ViewAxis(2701:9228, Axis(weight = ViewAxis(1:6464, ShapedAxis((64, 101), NamedTuple())), bias = ViewAxis(6465:6528, ShapedAxis((64, 1), NamedTuple())))), layer_7 = ViewAxis(9229:11308, Axis(weight = ViewAxis(1:2048, ShapedAxis((32, 64), NamedTuple())), bias = ViewAxis(2049:2080, ShapedAxis((32, 1), NamedTuple())))), layer_8 = ViewAxis(11309:11440, Axis(weight = ViewAxis(1:128, ShapedAxis((4, 32), NamedTuple())), bias = ViewAxis(129:132, ShapedAxis((4, 1), NamedTuple())))))}}})\n",
      "    @ Zygote C:\\Users\\SpOoKyJaRvIs\\.julia\\packages\\Zygote\\YYT6v\\src\\compiler\\interface2.jl:0\n",
      " [52] _pullback\n",
      "    @ c:\\Users\\SpOoKyJaRvIs\\Desktop\\CSO211 project\\neural-ode-weather-forecast\\scripts\\Untitled(1).ipynb:6 [inlined]\n",
      " [53] _pullback(::Zygote.Context{false}, ::var\"#39#42\"{var\"#loss#41\"{Matrix{Float64}, var\"#predict#40\"{NeuralODE{Lux.Chain{NamedTuple{(:layer_1, :layer_2, :layer_3, :layer_4, :layer_5, :layer_6, :layer_7, :layer_8), Tuple{Lux.Dense{true, typeof(swish), typeof(Lux.glorot_uniform), typeof(Lux.zeros32)}, Lux.Dense{true, typeof(swish), typeof(Lux.glorot_uniform), typeof(Lux.zeros32)}, Lux.Dense{true, typeof(swish), typeof(Lux.glorot_uniform), typeof(Lux.zeros32)}, Lux.Dense{true, typeof(swish), typeof(Lux.glorot_uniform), typeof(Lux.zeros32)}, WrappedFunction{var\"#36#37\"}, Lux.Dense{true, typeof(swish), typeof(Lux.glorot_uniform), typeof(Lux.zeros32)}, Lux.Dense{true, typeof(swish), typeof(Lux.glorot_uniform), typeof(Lux.zeros32)}, Lux.Dense{true, typeof(identity), typeof(Lux.glorot_uniform), typeof(Lux.zeros32)}}}}, Nothing, Nothing, Tuple{Float64, Float64}, Tuple{Tsit5{typeof(OrdinaryDiffEq.trivial_limiter!), typeof(OrdinaryDiffEq.trivial_limiter!), Static.False}}, Base.Pairs{Symbol, Any, Tuple{Symbol, Symbol, Symbol}, NamedTuple{(:saveat, :abstol, :reltol), Tuple{Vector{Float64}, Float64, Float64}}}}, NamedTuple{(:layer_1, :layer_2, :layer_3, :layer_4, :layer_5, :layer_6, :layer_7, :layer_8), NTuple{8, NamedTuple{(), Tuple{}}}}, Vector{Float64}}}}, ::ComponentVector{Float32, Vector{Float32}, Tuple{Axis{(layer_1 = ViewAxis(1:320, Axis(weight = ViewAxis(1:256, ShapedAxis((64, 4), NamedTuple())), bias = ViewAxis(257:320, ShapedAxis((64, 1), NamedTuple())))), layer_2 = ViewAxis(321:2400, Axis(weight = ViewAxis(1:2048, ShapedAxis((32, 64), NamedTuple())), bias = ViewAxis(2049:2080, ShapedAxis((32, 1), NamedTuple())))), layer_3 = ViewAxis(2401:2664, Axis(weight = ViewAxis(1:256, ShapedAxis((8, 32), NamedTuple())), bias = ViewAxis(257:264, ShapedAxis((8, 1), NamedTuple())))), layer_4 = ViewAxis(2665:2700, Axis(weight = ViewAxis(1:32, ShapedAxis((4, 8), NamedTuple())), bias = ViewAxis(33:36, ShapedAxis((4, 1), NamedTuple())))), layer_5 = 2701:2700, layer_6 = ViewAxis(2701:9228, Axis(weight = ViewAxis(1:6464, ShapedAxis((64, 101), NamedTuple())), bias = ViewAxis(6465:6528, ShapedAxis((64, 1), NamedTuple())))), layer_7 = ViewAxis(9229:11308, Axis(weight = ViewAxis(1:2048, ShapedAxis((32, 64), NamedTuple())), bias = ViewAxis(2049:2080, ShapedAxis((32, 1), NamedTuple())))), layer_8 = ViewAxis(11309:11440, Axis(weight = ViewAxis(1:128, ShapedAxis((4, 32), NamedTuple())), bias = ViewAxis(129:132, ShapedAxis((4, 1), NamedTuple())))))}}}, ::SciMLBase.NullParameters)\n",
      "    @ Zygote C:\\Users\\SpOoKyJaRvIs\\.julia\\packages\\Zygote\\YYT6v\\src\\compiler\\interface2.jl:0\n",
      " [54] _apply(::Function, ::Vararg{Any})\n",
      "    @ Core .\\boot.jl:838\n",
      " [55] adjoint\n",
      "    @ C:\\Users\\SpOoKyJaRvIs\\.julia\\packages\\Zygote\\YYT6v\\src\\lib\\lib.jl:203 [inlined]\n",
      " [56] _pullback\n",
      "    @ C:\\Users\\SpOoKyJaRvIs\\.julia\\packages\\ZygoteRules\\4nXuu\\src\\adjoint.jl:66 [inlined]\n",
      " [57] _pullback\n",
      "    @ C:\\Users\\SpOoKyJaRvIs\\.julia\\packages\\SciMLBase\\l4PVV\\src\\scimlfunctions.jl:3772 [inlined]\n",
      " [58] _pullback(::Zygote.Context{false}, ::OptimizationFunction{true, Optimization.AutoZygote, var\"#39#42\"{var\"#loss#41\"{Matrix{Float64}, var\"#predict#40\"{NeuralODE{Lux.Chain{NamedTuple{(:layer_1, :layer_2, :layer_3, :layer_4, :layer_5, :layer_6, :layer_7, :layer_8), Tuple{Lux.Dense{true, typeof(swish), typeof(Lux.glorot_uniform), typeof(Lux.zeros32)}, Lux.Dense{true, typeof(swish), typeof(Lux.glorot_uniform), typeof(Lux.zeros32)}, Lux.Dense{true, typeof(swish), typeof(Lux.glorot_uniform), typeof(Lux.zeros32)}, Lux.Dense{true, typeof(swish), typeof(Lux.glorot_uniform), typeof(Lux.zeros32)}, WrappedFunction{var\"#36#37\"}, Lux.Dense{true, typeof(swish), typeof(Lux.glorot_uniform), typeof(Lux.zeros32)}, Lux.Dense{true, typeof(swish), typeof(Lux.glorot_uniform), typeof(Lux.zeros32)}, Lux.Dense{true, typeof(identity), typeof(Lux.glorot_uniform), typeof(Lux.zeros32)}}}}, Nothing, Nothing, Tuple{Float64, Float64}, Tuple{Tsit5{typeof(OrdinaryDiffEq.trivial_limiter!), typeof(OrdinaryDiffEq.trivial_limiter!), Static.False}}, Base.Pairs{Symbol, Any, Tuple{Symbol, Symbol, Symbol}, NamedTuple{(:saveat, :abstol, :reltol), Tuple{Vector{Float64}, Float64, Float64}}}}, NamedTuple{(:layer_1, :layer_2, :layer_3, :layer_4, :layer_5, :layer_6, :layer_7, :layer_8), NTuple{8, NamedTuple{(), Tuple{}}}}, Vector{Float64}}}}, Nothing, Nothing, Nothing, Nothing, Nothing, Nothing, Nothing, Nothing, Nothing, Nothing, Nothing, Nothing, Nothing, typeof(SciMLBase.DEFAULT_OBSERVED_NO_TIME), Nothing, Nothing, Nothing, Nothing, Nothing, Nothing, Nothing}, ::ComponentVector{Float32, Vector{Float32}, Tuple{Axis{(layer_1 = ViewAxis(1:320, Axis(weight = ViewAxis(1:256, ShapedAxis((64, 4), NamedTuple())), bias = ViewAxis(257:320, ShapedAxis((64, 1), NamedTuple())))), layer_2 = ViewAxis(321:2400, Axis(weight = ViewAxis(1:2048, ShapedAxis((32, 64), NamedTuple())), bias = ViewAxis(2049:2080, ShapedAxis((32, 1), NamedTuple())))), layer_3 = ViewAxis(2401:2664, Axis(weight = ViewAxis(1:256, ShapedAxis((8, 32), NamedTuple())), bias = ViewAxis(257:264, ShapedAxis((8, 1), NamedTuple())))), layer_4 = ViewAxis(2665:2700, Axis(weight = ViewAxis(1:32, ShapedAxis((4, 8), NamedTuple())), bias = ViewAxis(33:36, ShapedAxis((4, 1), NamedTuple())))), layer_5 = 2701:2700, layer_6 = ViewAxis(2701:9228, Axis(weight = ViewAxis(1:6464, ShapedAxis((64, 101), NamedTuple())), bias = ViewAxis(6465:6528, ShapedAxis((64, 1), NamedTuple())))), layer_7 = ViewAxis(9229:11308, Axis(weight = ViewAxis(1:2048, ShapedAxis((32, 64), NamedTuple())), bias = ViewAxis(2049:2080, ShapedAxis((32, 1), NamedTuple())))), layer_8 = ViewAxis(11309:11440, Axis(weight = ViewAxis(1:128, ShapedAxis((4, 32), NamedTuple())), bias = ViewAxis(129:132, ShapedAxis((4, 1), NamedTuple())))))}}}, ::SciMLBase.NullParameters)\n",
      "    @ Zygote C:\\Users\\SpOoKyJaRvIs\\.julia\\packages\\Zygote\\YYT6v\\src\\compiler\\interface2.jl:0\n",
      " [59] _apply(::Function, ::Vararg{Any})\n",
      "    @ Core .\\boot.jl:838\n",
      " [60] adjoint\n",
      "    @ C:\\Users\\SpOoKyJaRvIs\\.julia\\packages\\Zygote\\YYT6v\\src\\lib\\lib.jl:203 [inlined]\n",
      " [61] _pullback\n",
      "    @ C:\\Users\\SpOoKyJaRvIs\\.julia\\packages\\ZygoteRules\\4nXuu\\src\\adjoint.jl:66 [inlined]\n",
      " [62] _pullback\n",
      "    @ C:\\Users\\SpOoKyJaRvIs\\.julia\\packages\\Optimization\\aPPOg\\src\\function\\zygote.jl:30 [inlined]\n",
      " [63] _pullback(ctx::Zygote.Context{false}, f::Optimization.var\"#90#99\"{OptimizationFunction{true, Optimization.AutoZygote, var\"#39#42\"{var\"#loss#41\"{Matrix{Float64}, var\"#predict#40\"{NeuralODE{Lux.Chain{NamedTuple{(:layer_1, :layer_2, :layer_3, :layer_4, :layer_5, :layer_6, :layer_7, :layer_8), Tuple{Lux.Dense{true, typeof(swish), typeof(Lux.glorot_uniform), typeof(Lux.zeros32)}, Lux.Dense{true, typeof(swish), typeof(Lux.glorot_uniform), typeof(Lux.zeros32)}, Lux.Dense{true, typeof(swish), typeof(Lux.glorot_uniform), typeof(Lux.zeros32)}, Lux.Dense{true, typeof(swish), typeof(Lux.glorot_uniform), typeof(Lux.zeros32)}, WrappedFunction{var\"#36#37\"}, Lux.Dense{true, typeof(swish), typeof(Lux.glorot_uniform), typeof(Lux.zeros32)}, Lux.Dense{true, typeof(swish), typeof(Lux.glorot_uniform), typeof(Lux.zeros32)}, Lux.Dense{true, typeof(identity), typeof(Lux.glorot_uniform), typeof(Lux.zeros32)}}}}, Nothing, Nothing, Tuple{Float64, Float64}, Tuple{Tsit5{typeof(OrdinaryDiffEq.trivial_limiter!), typeof(OrdinaryDiffEq.trivial_limiter!), Static.False}}, Base.Pairs{Symbol, Any, Tuple{Symbol, Symbol, Symbol}, NamedTuple{(:saveat, :abstol, :reltol), Tuple{Vector{Float64}, Float64, Float64}}}}, NamedTuple{(:layer_1, :layer_2, :layer_3, :layer_4, :layer_5, :layer_6, :layer_7, :layer_8), NTuple{8, NamedTuple{(), Tuple{}}}}, Vector{Float64}}}}, Nothing, Nothing, Nothing, Nothing, Nothing, Nothing, Nothing, Nothing, Nothing, Nothing, Nothing, Nothing, Nothing, typeof(SciMLBase.DEFAULT_OBSERVED_NO_TIME), Nothing, Nothing, Nothing, Nothing, Nothing, Nothing, Nothing}, SciMLBase.NullParameters}, args::ComponentVector{Float32, Vector{Float32}, Tuple{Axis{(layer_1 = ViewAxis(1:320, Axis(weight = ViewAxis(1:256, ShapedAxis((64, 4), NamedTuple())), bias = ViewAxis(257:320, ShapedAxis((64, 1), NamedTuple())))), layer_2 = ViewAxis(321:2400, Axis(weight = ViewAxis(1:2048, ShapedAxis((32, 64), NamedTuple())), bias = ViewAxis(2049:2080, ShapedAxis((32, 1), NamedTuple())))), layer_3 = ViewAxis(2401:2664, Axis(weight = ViewAxis(1:256, ShapedAxis((8, 32), NamedTuple())), bias = ViewAxis(257:264, ShapedAxis((8, 1), NamedTuple())))), layer_4 = ViewAxis(2665:2700, Axis(weight = ViewAxis(1:32, ShapedAxis((4, 8), NamedTuple())), bias = ViewAxis(33:36, ShapedAxis((4, 1), NamedTuple())))), layer_5 = 2701:2700, layer_6 = ViewAxis(2701:9228, Axis(weight = ViewAxis(1:6464, ShapedAxis((64, 101), NamedTuple())), bias = ViewAxis(6465:6528, ShapedAxis((64, 1), NamedTuple())))), layer_7 = ViewAxis(9229:11308, Axis(weight = ViewAxis(1:2048, ShapedAxis((32, 64), NamedTuple())), bias = ViewAxis(2049:2080, ShapedAxis((32, 1), NamedTuple())))), layer_8 = ViewAxis(11309:11440, Axis(weight = ViewAxis(1:128, ShapedAxis((4, 32), NamedTuple())), bias = ViewAxis(129:132, ShapedAxis((4, 1), NamedTuple())))))}}})\n",
      "    @ Zygote C:\\Users\\SpOoKyJaRvIs\\.julia\\packages\\Zygote\\YYT6v\\src\\compiler\\interface2.jl:0\n",
      " [64] _apply(::Function, ::Vararg{Any})\n",
      "    @ Core .\\boot.jl:838\n",
      " [65] adjoint\n",
      "    @ C:\\Users\\SpOoKyJaRvIs\\.julia\\packages\\Zygote\\YYT6v\\src\\lib\\lib.jl:203 [inlined]\n",
      " [66] _pullback\n",
      "    @ C:\\Users\\SpOoKyJaRvIs\\.julia\\packages\\ZygoteRules\\4nXuu\\src\\adjoint.jl:66 [inlined]\n",
      " [67] _pullback\n",
      "    @ C:\\Users\\SpOoKyJaRvIs\\.julia\\packages\\Optimization\\aPPOg\\src\\function\\zygote.jl:34 [inlined]\n",
      " [68] _pullback(ctx::Zygote.Context{false}, f::Optimization.var\"#92#101\"{Tuple{}, Optimization.var\"#90#99\"{OptimizationFunction{true, Optimization.AutoZygote, var\"#39#42\"{var\"#loss#41\"{Matrix{Float64}, var\"#predict#40\"{NeuralODE{Lux.Chain{NamedTuple{(:layer_1, :layer_2, :layer_3, :layer_4, :layer_5, :layer_6, :layer_7, :layer_8), Tuple{Lux.Dense{true, typeof(swish), typeof(Lux.glorot_uniform), typeof(Lux.zeros32)}, Lux.Dense{true, typeof(swish), typeof(Lux.glorot_uniform), typeof(Lux.zeros32)}, Lux.Dense{true, typeof(swish), typeof(Lux.glorot_uniform), typeof(Lux.zeros32)}, Lux.Dense{true, typeof(swish), typeof(Lux.glorot_uniform), typeof(Lux.zeros32)}, WrappedFunction{var\"#36#37\"}, Lux.Dense{true, typeof(swish), typeof(Lux.glorot_uniform), typeof(Lux.zeros32)}, Lux.Dense{true, typeof(swish), typeof(Lux.glorot_uniform), typeof(Lux.zeros32)}, Lux.Dense{true, typeof(identity), typeof(Lux.glorot_uniform), typeof(Lux.zeros32)}}}}, Nothing, Nothing, Tuple{Float64, Float64}, Tuple{Tsit5{typeof(OrdinaryDiffEq.trivial_limiter!), typeof(OrdinaryDiffEq.trivial_limiter!), Static.False}}, Base.Pairs{Symbol, Any, Tuple{Symbol, Symbol, Symbol}, NamedTuple{(:saveat, :abstol, :reltol), Tuple{Vector{Float64}, Float64, Float64}}}}, NamedTuple{(:layer_1, :layer_2, :layer_3, :layer_4, :layer_5, :layer_6, :layer_7, :layer_8), NTuple{8, NamedTuple{(), Tuple{}}}}, Vector{Float64}}}}, Nothing, Nothing, Nothing, Nothing, Nothing, Nothing, Nothing, Nothing, Nothing, Nothing, Nothing, Nothing, Nothing, typeof(SciMLBase.DEFAULT_OBSERVED_NO_TIME), Nothing, Nothing, Nothing, Nothing, Nothing, Nothing, Nothing}, SciMLBase.NullParameters}}, args::ComponentVector{Float32, Vector{Float32}, Tuple{Axis{(layer_1 = ViewAxis(1:320, Axis(weight = ViewAxis(1:256, ShapedAxis((64, 4), NamedTuple())), bias = ViewAxis(257:320, ShapedAxis((64, 1), NamedTuple())))), layer_2 = ViewAxis(321:2400, Axis(weight = ViewAxis(1:2048, ShapedAxis((32, 64), NamedTuple())), bias = ViewAxis(2049:2080, ShapedAxis((32, 1), NamedTuple())))), layer_3 = ViewAxis(2401:2664, Axis(weight = ViewAxis(1:256, ShapedAxis((8, 32), NamedTuple())), bias = ViewAxis(257:264, ShapedAxis((8, 1), NamedTuple())))), layer_4 = ViewAxis(2665:2700, Axis(weight = ViewAxis(1:32, ShapedAxis((4, 8), NamedTuple())), bias = ViewAxis(33:36, ShapedAxis((4, 1), NamedTuple())))), layer_5 = 2701:2700, layer_6 = ViewAxis(2701:9228, Axis(weight = ViewAxis(1:6464, ShapedAxis((64, 101), NamedTuple())), bias = ViewAxis(6465:6528, ShapedAxis((64, 1), NamedTuple())))), layer_7 = ViewAxis(9229:11308, Axis(weight = ViewAxis(1:2048, ShapedAxis((32, 64), NamedTuple())), bias = ViewAxis(2049:2080, ShapedAxis((32, 1), NamedTuple())))), layer_8 = ViewAxis(11309:11440, Axis(weight = ViewAxis(1:128, ShapedAxis((4, 32), NamedTuple())), bias = ViewAxis(129:132, ShapedAxis((4, 1), NamedTuple())))))}}})\n",
      "    @ Zygote C:\\Users\\SpOoKyJaRvIs\\.julia\\packages\\Zygote\\YYT6v\\src\\compiler\\interface2.jl:0\n",
      " [69] pullback(f::Function, cx::Zygote.Context{false}, args::ComponentVector{Float32, Vector{Float32}, Tuple{Axis{(layer_1 = ViewAxis(1:320, Axis(weight = ViewAxis(1:256, ShapedAxis((64, 4), NamedTuple())), bias = ViewAxis(257:320, ShapedAxis((64, 1), NamedTuple())))), layer_2 = ViewAxis(321:2400, Axis(weight = ViewAxis(1:2048, ShapedAxis((32, 64), NamedTuple())), bias = ViewAxis(2049:2080, ShapedAxis((32, 1), NamedTuple())))), layer_3 = ViewAxis(2401:2664, Axis(weight = ViewAxis(1:256, ShapedAxis((8, 32), NamedTuple())), bias = ViewAxis(257:264, ShapedAxis((8, 1), NamedTuple())))), layer_4 = ViewAxis(2665:2700, Axis(weight = ViewAxis(1:32, ShapedAxis((4, 8), NamedTuple())), bias = ViewAxis(33:36, ShapedAxis((4, 1), NamedTuple())))), layer_5 = 2701:2700, layer_6 = ViewAxis(2701:9228, Axis(weight = ViewAxis(1:6464, ShapedAxis((64, 101), NamedTuple())), bias = ViewAxis(6465:6528, ShapedAxis((64, 1), NamedTuple())))), layer_7 = ViewAxis(9229:11308, Axis(weight = ViewAxis(1:2048, ShapedAxis((32, 64), NamedTuple())), bias = ViewAxis(2049:2080, ShapedAxis((32, 1), NamedTuple())))), layer_8 = ViewAxis(11309:11440, Axis(weight = ViewAxis(1:128, ShapedAxis((4, 32), NamedTuple())), bias = ViewAxis(129:132, ShapedAxis((4, 1), NamedTuple())))))}}})\n",
      "    @ Zygote C:\\Users\\SpOoKyJaRvIs\\.julia\\packages\\Zygote\\YYT6v\\src\\compiler\\interface.jl:44\n",
      " [70] pullback\n",
      "    @ C:\\Users\\SpOoKyJaRvIs\\.julia\\packages\\Zygote\\YYT6v\\src\\compiler\\interface.jl:42 [inlined]\n",
      " [71] gradient(f::Function, args::ComponentVector{Float32, Vector{Float32}, Tuple{Axis{(layer_1 = ViewAxis(1:320, Axis(weight = ViewAxis(1:256, ShapedAxis((64, 4), NamedTuple())), bias = ViewAxis(257:320, ShapedAxis((64, 1), NamedTuple())))), layer_2 = ViewAxis(321:2400, Axis(weight = ViewAxis(1:2048, ShapedAxis((32, 64), NamedTuple())), bias = ViewAxis(2049:2080, ShapedAxis((32, 1), NamedTuple())))), layer_3 = ViewAxis(2401:2664, Axis(weight = ViewAxis(1:256, ShapedAxis((8, 32), NamedTuple())), bias = ViewAxis(257:264, ShapedAxis((8, 1), NamedTuple())))), layer_4 = ViewAxis(2665:2700, Axis(weight = ViewAxis(1:32, ShapedAxis((4, 8), NamedTuple())), bias = ViewAxis(33:36, ShapedAxis((4, 1), NamedTuple())))), layer_5 = 2701:2700, layer_6 = ViewAxis(2701:9228, Axis(weight = ViewAxis(1:6464, ShapedAxis((64, 101), NamedTuple())), bias = ViewAxis(6465:6528, ShapedAxis((64, 1), NamedTuple())))), layer_7 = ViewAxis(9229:11308, Axis(weight = ViewAxis(1:2048, ShapedAxis((32, 64), NamedTuple())), bias = ViewAxis(2049:2080, ShapedAxis((32, 1), NamedTuple())))), layer_8 = ViewAxis(11309:11440, Axis(weight = ViewAxis(1:128, ShapedAxis((4, 32), NamedTuple())), bias = ViewAxis(129:132, ShapedAxis((4, 1), NamedTuple())))))}}})\n",
      "    @ Zygote C:\\Users\\SpOoKyJaRvIs\\.julia\\packages\\Zygote\\YYT6v\\src\\compiler\\interface.jl:96\n",
      " [72] (::Optimization.var\"#91#100\"{Optimization.var\"#90#99\"{OptimizationFunction{true, Optimization.AutoZygote, var\"#39#42\"{var\"#loss#41\"{Matrix{Float64}, var\"#predict#40\"{NeuralODE{Lux.Chain{NamedTuple{(:layer_1, :layer_2, :layer_3, :layer_4, :layer_5, :layer_6, :layer_7, :layer_8), Tuple{Lux.Dense{true, typeof(swish), typeof(Lux.glorot_uniform), typeof(Lux.zeros32)}, Lux.Dense{true, typeof(swish), typeof(Lux.glorot_uniform), typeof(Lux.zeros32)}, Lux.Dense{true, typeof(swish), typeof(Lux.glorot_uniform), typeof(Lux.zeros32)}, Lux.Dense{true, typeof(swish), typeof(Lux.glorot_uniform), typeof(Lux.zeros32)}, WrappedFunction{var\"#36#37\"}, Lux.Dense{true, typeof(swish), typeof(Lux.glorot_uniform), typeof(Lux.zeros32)}, Lux.Dense{true, typeof(swish), typeof(Lux.glorot_uniform), typeof(Lux.zeros32)}, Lux.Dense{true, typeof(identity), typeof(Lux.glorot_uniform), typeof(Lux.zeros32)}}}}, Nothing, Nothing, Tuple{Float64, Float64}, Tuple{Tsit5{typeof(OrdinaryDiffEq.trivial_limiter!), typeof(OrdinaryDiffEq.trivial_limiter!), Static.False}}, Base.Pairs{Symbol, Any, Tuple{Symbol, Symbol, Symbol}, NamedTuple{(:saveat, :abstol, :reltol), Tuple{Vector{Float64}, Float64, Float64}}}}, NamedTuple{(:layer_1, :layer_2, :layer_3, :layer_4, :layer_5, :layer_6, :layer_7, :layer_8), NTuple{8, NamedTuple{(), Tuple{}}}}, Vector{Float64}}}}, Nothing, Nothing, Nothing, Nothing, Nothing, Nothing, Nothing, Nothing, Nothing, Nothing, Nothing, Nothing, Nothing, typeof(SciMLBase.DEFAULT_OBSERVED_NO_TIME), Nothing, Nothing, Nothing, Nothing, Nothing, Nothing, Nothing}, SciMLBase.NullParameters}})(::ComponentVector{Float32, Vector{Float32}, Tuple{Axis{(layer_1 = ViewAxis(1:320, Axis(weight = ViewAxis(1:256, ShapedAxis((64, 4), NamedTuple())), bias = ViewAxis(257:320, ShapedAxis((64, 1), NamedTuple())))), layer_2 = ViewAxis(321:2400, Axis(weight = ViewAxis(1:2048, ShapedAxis((32, 64), NamedTuple())), bias = ViewAxis(2049:2080, ShapedAxis((32, 1), NamedTuple())))), layer_3 = ViewAxis(2401:2664, Axis(weight = ViewAxis(1:256, ShapedAxis((8, 32), NamedTuple())), bias = ViewAxis(257:264, ShapedAxis((8, 1), NamedTuple())))), layer_4 = ViewAxis(2665:2700, Axis(weight = ViewAxis(1:32, ShapedAxis((4, 8), NamedTuple())), bias = ViewAxis(33:36, ShapedAxis((4, 1), NamedTuple())))), layer_5 = 2701:2700, layer_6 = ViewAxis(2701:9228, Axis(weight = ViewAxis(1:6464, ShapedAxis((64, 101), NamedTuple())), bias = ViewAxis(6465:6528, ShapedAxis((64, 1), NamedTuple())))), layer_7 = ViewAxis(9229:11308, Axis(weight = ViewAxis(1:2048, ShapedAxis((32, 64), NamedTuple())), bias = ViewAxis(2049:2080, ShapedAxis((32, 1), NamedTuple())))), layer_8 = ViewAxis(11309:11440, Axis(weight = ViewAxis(1:128, ShapedAxis((4, 32), NamedTuple())), bias = ViewAxis(129:132, ShapedAxis((4, 1), NamedTuple())))))}}}, ::ComponentVector{Float32, Vector{Float32}, Tuple{Axis{(layer_1 = ViewAxis(1:320, Axis(weight = ViewAxis(1:256, ShapedAxis((64, 4), NamedTuple())), bias = ViewAxis(257:320, ShapedAxis((64, 1), NamedTuple())))), layer_2 = ViewAxis(321:2400, Axis(weight = ViewAxis(1:2048, ShapedAxis((32, 64), NamedTuple())), bias = ViewAxis(2049:2080, ShapedAxis((32, 1), NamedTuple())))), layer_3 = ViewAxis(2401:2664, Axis(weight = ViewAxis(1:256, ShapedAxis((8, 32), NamedTuple())), bias = ViewAxis(257:264, ShapedAxis((8, 1), NamedTuple())))), layer_4 = ViewAxis(2665:2700, Axis(weight = ViewAxis(1:32, ShapedAxis((4, 8), NamedTuple())), bias = ViewAxis(33:36, ShapedAxis((4, 1), NamedTuple())))), layer_5 = 2701:2700, layer_6 = ViewAxis(2701:9228, Axis(weight = ViewAxis(1:6464, ShapedAxis((64, 101), NamedTuple())), bias = ViewAxis(6465:6528, ShapedAxis((64, 1), NamedTuple())))), layer_7 = ViewAxis(9229:11308, Axis(weight = ViewAxis(1:2048, ShapedAxis((32, 64), NamedTuple())), bias = ViewAxis(2049:2080, ShapedAxis((32, 1), NamedTuple())))), layer_8 = ViewAxis(11309:11440, Axis(weight = ViewAxis(1:128, ShapedAxis((4, 32), NamedTuple())), bias = ViewAxis(129:132, ShapedAxis((4, 1), NamedTuple())))))}}})\n",
      "    @ Optimization C:\\Users\\SpOoKyJaRvIs\\.julia\\packages\\Optimization\\aPPOg\\src\\function\\zygote.jl:32\n",
      " [73] macro expansion\n",
      "    @ C:\\Users\\SpOoKyJaRvIs\\.julia\\packages\\OptimizationFlux\\zHcx5\\src\\OptimizationFlux.jl:32 [inlined]\n",
      " [74] macro expansion\n",
      "    @ C:\\Users\\SpOoKyJaRvIs\\.julia\\packages\\ProgressLogging\\6KXlp\\src\\ProgressLogging.jl:328 [inlined]\n",
      " [75] (::OptimizationFlux.var\"#2#5\"{var\"#44#46\"{Vector{ComponentArray}, Vector{Float32}}, Bool, Bool, OptimizationProblem{true, OptimizationFunction{true, Optimization.AutoZygote, var\"#39#42\"{var\"#loss#41\"{Matrix{Float64}, var\"#predict#40\"{NeuralODE{Lux.Chain{NamedTuple{(:layer_1, :layer_2, :layer_3, :layer_4, :layer_5, :layer_6, :layer_7, :layer_8), Tuple{Lux.Dense{true, typeof(swish), typeof(Lux.glorot_uniform), typeof(Lux.zeros32)}, Lux.Dense{true, typeof(swish), typeof(Lux.glorot_uniform), typeof(Lux.zeros32)}, Lux.Dense{true, typeof(swish), typeof(Lux.glorot_uniform), typeof(Lux.zeros32)}, Lux.Dense{true, typeof(swish), typeof(Lux.glorot_uniform), typeof(Lux.zeros32)}, WrappedFunction{var\"#36#37\"}, Lux.Dense{true, typeof(swish), typeof(Lux.glorot_uniform), typeof(Lux.zeros32)}, Lux.Dense{true, typeof(swish), typeof(Lux.glorot_uniform), typeof(Lux.zeros32)}, Lux.Dense{true, typeof(identity), typeof(Lux.glorot_uniform), typeof(Lux.zeros32)}}}}, Nothing, Nothing, Tuple{Float64, Float64}, Tuple{Tsit5{typeof(OrdinaryDiffEq.trivial_limiter!), typeof(OrdinaryDiffEq.trivial_limiter!), Static.False}}, Base.Pairs{Symbol, Any, Tuple{Symbol, Symbol, Symbol}, NamedTuple{(:saveat, :abstol, :reltol), Tuple{Vector{Float64}, Float64, Float64}}}}, NamedTuple{(:layer_1, :layer_2, :layer_3, :layer_4, :layer_5, :layer_6, :layer_7, :layer_8), NTuple{8, NamedTuple{(), Tuple{}}}}, Vector{Float64}}}}, Nothing, Nothing, Nothing, Nothing, Nothing, Nothing, Nothing, Nothing, Nothing, Nothing, Nothing, Nothing, Nothing, typeof(SciMLBase.DEFAULT_OBSERVED_NO_TIME), Nothing, Nothing, Nothing, Nothing, Nothing, Nothing, Nothing}, ComponentVector{Float32, Vector{Float32}, Tuple{Axis{(layer_1 = ViewAxis(1:320, Axis(weight = ViewAxis(1:256, ShapedAxis((64, 4), NamedTuple())), bias = ViewAxis(257:320, ShapedAxis((64, 1), NamedTuple())))), layer_2 = ViewAxis(321:2400, Axis(weight = ViewAxis(1:2048, ShapedAxis((32, 64), NamedTuple())), bias = ViewAxis(2049:2080, ShapedAxis((32, 1), NamedTuple())))), layer_3 = ViewAxis(2401:2664, Axis(weight = ViewAxis(1:256, ShapedAxis((8, 32), NamedTuple())), bias = ViewAxis(257:264, ShapedAxis((8, 1), NamedTuple())))), layer_4 = ViewAxis(2665:2700, Axis(weight = ViewAxis(1:32, ShapedAxis((4, 8), NamedTuple())), bias = ViewAxis(33:36, ShapedAxis((4, 1), NamedTuple())))), layer_5 = 2701:2700, layer_6 = ViewAxis(2701:9228, Axis(weight = ViewAxis(1:6464, ShapedAxis((64, 101), NamedTuple())), bias = ViewAxis(6465:6528, ShapedAxis((64, 1), NamedTuple())))), layer_7 = ViewAxis(9229:11308, Axis(weight = ViewAxis(1:2048, ShapedAxis((32, 64), NamedTuple())), bias = ViewAxis(2049:2080, ShapedAxis((32, 1), NamedTuple())))), layer_8 = ViewAxis(11309:11440, Axis(weight = ViewAxis(1:128, ShapedAxis((4, 32), NamedTuple())), bias = ViewAxis(129:132, ShapedAxis((4, 1), NamedTuple())))))}}}, SciMLBase.NullParameters, Nothing, Nothing, Nothing, Nothing, Nothing, Nothing, Base.Pairs{Symbol, Union{}, Tuple{}, NamedTuple{(), Tuple{}}}}, OptimizationFunction{false, Optimization.AutoZygote, OptimizationFunction{true, Optimization.AutoZygote, var\"#39#42\"{var\"#loss#41\"{Matrix{Float64}, var\"#predict#40\"{NeuralODE{Lux.Chain{NamedTuple{(:layer_1, :layer_2, :layer_3, :layer_4, :layer_5, :layer_6, :layer_7, :layer_8), Tuple{Lux.Dense{true, typeof(swish), typeof(Lux.glorot_uniform), typeof(Lux.zeros32)}, Lux.Dense{true, typeof(swish), typeof(Lux.glorot_uniform), typeof(Lux.zeros32)}, Lux.Dense{true, typeof(swish), typeof(Lux.glorot_uniform), typeof(Lux.zeros32)}, Lux.Dense{true, typeof(swish), typeof(Lux.glorot_uniform), typeof(Lux.zeros32)}, WrappedFunction{var\"#36#37\"}, Lux.Dense{true, typeof(swish), typeof(Lux.glorot_uniform), typeof(Lux.zeros32)}, Lux.Dense{true, typeof(swish), typeof(Lux.glorot_uniform), typeof(Lux.zeros32)}, Lux.Dense{true, typeof(identity), typeof(Lux.glorot_uniform), typeof(Lux.zeros32)}}}}, Nothing, Nothing, Tuple{Float64, Float64}, Tuple{Tsit5{typeof(OrdinaryDiffEq.trivial_limiter!), typeof(OrdinaryDiffEq.trivial_limiter!), Static.False}}, Base.Pairs{Symbol, Any, Tuple{Symbol, Symbol, Symbol}, NamedTuple{(:saveat, :abstol, :reltol), Tuple{Vector{Float64}, Float64, Float64}}}}, NamedTuple{(:layer_1, :layer_2, :layer_3, :layer_4, :layer_5, :layer_6, :layer_7, :layer_8), NTuple{8, NamedTuple{(), Tuple{}}}}, Vector{Float64}}}}, Nothing, Nothing, Nothing, Nothing, Nothing, Nothing, Nothing, Nothing, Nothing, Nothing, Nothing, Nothing, Nothing, typeof(SciMLBase.DEFAULT_OBSERVED_NO_TIME), Nothing, Nothing, Nothing, Nothing, Nothing, Nothing, Nothing}, Optimization.var\"#91#100\"{Optimization.var\"#90#99\"{OptimizationFunction{true, Optimization.AutoZygote, var\"#39#42\"{var\"#loss#41\"{Matrix{Float64}, var\"#predict#40\"{NeuralODE{Lux.Chain{NamedTuple{(:layer_1, :layer_2, :layer_3, :layer_4, :layer_5, :layer_6, :layer_7, :layer_8), Tuple{Lux.Dense{true, typeof(swish), typeof(Lux.glorot_uniform), typeof(Lux.zeros32)}, Lux.Dense{true, typeof(swish), typeof(Lux.glorot_uniform), typeof(Lux.zeros32)}, Lux.Dense{true, typeof(swish), typeof(Lux.glorot_uniform), typeof(Lux.zeros32)}, Lux.Dense{true, typeof(swish), typeof(Lux.glorot_uniform), typeof(Lux.zeros32)}, WrappedFunction{var\"#36#37\"}, Lux.Dense{true, typeof(swish), typeof(Lux.glorot_uniform), typeof(Lux.zeros32)}, Lux.Dense{true, typeof(swish), typeof(Lux.glorot_uniform), typeof(Lux.zeros32)}, Lux.Dense{true, typeof(identity), typeof(Lux.glorot_uniform), typeof(Lux.zeros32)}}}}, Nothing, Nothing, Tuple{Float64, Float64}, Tuple{Tsit5{typeof(OrdinaryDiffEq.trivial_limiter!), typeof(OrdinaryDiffEq.trivial_limiter!), Static.False}}, Base.Pairs{Symbol, Any, Tuple{Symbol, Symbol, Symbol}, NamedTuple{(:saveat, :abstol, :reltol), Tuple{Vector{Float64}, Float64, Float64}}}}, NamedTuple{(:layer_1, :layer_2, :layer_3, :layer_4, :layer_5, :layer_6, :layer_7, :layer_8), NTuple{8, NamedTuple{(), Tuple{}}}}, Vector{Float64}}}}, Nothing, Nothing, Nothing, Nothing, Nothing, Nothing, Nothing, Nothing, Nothing, Nothing, Nothing, Nothing, Nothing, typeof(SciMLBase.DEFAULT_OBSERVED_NO_TIME), Nothing, Nothing, Nothing, Nothing, Nothing, Nothing, Nothing}, SciMLBase.NullParameters}}, Optimization.var\"#94#103\"{Optimization.var\"#90#99\"{OptimizationFunction{true, Optimization.AutoZygote, var\"#39#42\"{var\"#loss#41\"{Matrix{Float64}, var\"#predict#40\"{NeuralODE{Lux.Chain{NamedTuple{(:layer_1, :layer_2, :layer_3, :layer_4, :layer_5, :layer_6, :layer_7, :layer_8), Tuple{Lux.Dense{true, typeof(swish), typeof(Lux.glorot_uniform), typeof(Lux.zeros32)}, Lux.Dense{true, typeof(swish), typeof(Lux.glorot_uniform), typeof(Lux.zeros32)}, Lux.Dense{true, typeof(swish), typeof(Lux.glorot_uniform), typeof(Lux.zeros32)}, Lux.Dense{true, typeof(swish), typeof(Lux.glorot_uniform), typeof(Lux.zeros32)}, WrappedFunction{var\"#36#37\"}, Lux.Dense{true, typeof(swish), typeof(Lux.glorot_uniform), typeof(Lux.zeros32)}, Lux.Dense{true, typeof(swish), typeof(Lux.glorot_uniform), typeof(Lux.zeros32)}, Lux.Dense{true, typeof(identity), typeof(Lux.glorot_uniform), typeof(Lux.zeros32)}}}}, Nothing, Nothing, Tuple{Float64, Float64}, Tuple{Tsit5{typeof(OrdinaryDiffEq.trivial_limiter!), typeof(OrdinaryDiffEq.trivial_limiter!), Static.False}}, Base.Pairs{Symbol, Any, Tuple{Symbol, Symbol, Symbol}, NamedTuple{(:saveat, :abstol, :reltol), Tuple{Vector{Float64}, Float64, Float64}}}}, NamedTuple{(:layer_1, :layer_2, :layer_3, :layer_4, :layer_5, :layer_6, :layer_7, :layer_8), NTuple{8, NamedTuple{(), Tuple{}}}}, Vector{Float64}}}}, Nothing, Nothing, Nothing, Nothing, Nothing, Nothing, Nothing, Nothing, Nothing, Nothing, Nothing, Nothing, Nothing, typeof(SciMLBase.DEFAULT_OBSERVED_NO_TIME), Nothing, Nothing, Nothing, Nothing, Nothing, Nothing, Nothing}, SciMLBase.NullParameters}}, Optimization.var\"#98#107\", Nothing, Nothing, Nothing, Nothing, Nothing, Nothing, Nothing, Nothing, Nothing, Nothing, typeof(SciMLBase.DEFAULT_OBSERVED_NO_TIME), Nothing, Nothing, Nothing, Nothing, Nothing, Nothing, Nothing}, ComponentVector{Float32, Vector{Float32}, Tuple{Axis{(layer_1 = ViewAxis(1:320, Axis(weight = ViewAxis(1:256, ShapedAxis((64, 4), NamedTuple())), bias = ViewAxis(257:320, ShapedAxis((64, 1), NamedTuple())))), layer_2 = ViewAxis(321:2400, Axis(weight = ViewAxis(1:2048, ShapedAxis((32, 64), NamedTuple())), bias = ViewAxis(2049:2080, ShapedAxis((32, 1), NamedTuple())))), layer_3 = ViewAxis(2401:2664, Axis(weight = ViewAxis(1:256, ShapedAxis((8, 32), NamedTuple())), bias = ViewAxis(257:264, ShapedAxis((8, 1), NamedTuple())))), layer_4 = ViewAxis(2665:2700, Axis(weight = ViewAxis(1:32, ShapedAxis((4, 8), NamedTuple())), bias = ViewAxis(33:36, ShapedAxis((4, 1), NamedTuple())))), layer_5 = 2701:2700, layer_6 = ViewAxis(2701:9228, Axis(weight = ViewAxis(1:6464, ShapedAxis((64, 101), NamedTuple())), bias = ViewAxis(6465:6528, ShapedAxis((64, 1), NamedTuple())))), layer_7 = ViewAxis(9229:11308, Axis(weight = ViewAxis(1:2048, ShapedAxis((32, 64), NamedTuple())), bias = ViewAxis(2049:2080, ShapedAxis((32, 1), NamedTuple())))), layer_8 = ViewAxis(11309:11440, Axis(weight = ViewAxis(1:128, ShapedAxis((4, 32), NamedTuple())), bias = ViewAxis(129:132, ShapedAxis((4, 1), NamedTuple())))))}}}})()\n",
      "    @ OptimizationFlux C:\\Users\\SpOoKyJaRvIs\\.julia\\packages\\Optimization\\aPPOg\\src\\utils.jl:34\n",
      " [76] with_logstate(f::Function, logstate::Any)\n",
      "    @ Base.CoreLogging .\\logging.jl:514\n",
      " [77] with_logger\n",
      "    @ .\\logging.jl:626 [inlined]\n",
      " [78] maybe_with_logger(f::OptimizationFlux.var\"#2#5\"{var\"#44#46\"{Vector{ComponentArray}, Vector{Float32}}, Bool, Bool, OptimizationProblem{true, OptimizationFunction{true, Optimization.AutoZygote, var\"#39#42\"{var\"#loss#41\"{Matrix{Float64}, var\"#predict#40\"{NeuralODE{Lux.Chain{NamedTuple{(:layer_1, :layer_2, :layer_3, :layer_4, :layer_5, :layer_6, :layer_7, :layer_8), Tuple{Lux.Dense{true, typeof(swish), typeof(Lux.glorot_uniform), typeof(Lux.zeros32)}, Lux.Dense{true, typeof(swish), typeof(Lux.glorot_uniform), typeof(Lux.zeros32)}, Lux.Dense{true, typeof(swish), typeof(Lux.glorot_uniform), typeof(Lux.zeros32)}, Lux.Dense{true, typeof(swish), typeof(Lux.glorot_uniform), typeof(Lux.zeros32)}, WrappedFunction{var\"#36#37\"}, Lux.Dense{true, typeof(swish), typeof(Lux.glorot_uniform), typeof(Lux.zeros32)}, Lux.Dense{true, typeof(swish), typeof(Lux.glorot_uniform), typeof(Lux.zeros32)}, Lux.Dense{true, typeof(identity), typeof(Lux.glorot_uniform), typeof(Lux.zeros32)}}}}, Nothing, Nothing, Tuple{Float64, Float64}, Tuple{Tsit5{typeof(OrdinaryDiffEq.trivial_limiter!), typeof(OrdinaryDiffEq.trivial_limiter!), Static.False}}, Base.Pairs{Symbol, Any, Tuple{Symbol, Symbol, Symbol}, NamedTuple{(:saveat, :abstol, :reltol), Tuple{Vector{Float64}, Float64, Float64}}}}, NamedTuple{(:layer_1, :layer_2, :layer_3, :layer_4, :layer_5, :layer_6, :layer_7, :layer_8), NTuple{8, NamedTuple{(), Tuple{}}}}, Vector{Float64}}}}, Nothing, Nothing, Nothing, Nothing, Nothing, Nothing, Nothing, Nothing, Nothing, Nothing, Nothing, Nothing, Nothing, typeof(SciMLBase.DEFAULT_OBSERVED_NO_TIME), Nothing, Nothing, Nothing, Nothing, Nothing, Nothing, Nothing}, ComponentVector{Float32, Vector{Float32}, Tuple{Axis{(layer_1 = ViewAxis(1:320, Axis(weight = ViewAxis(1:256, ShapedAxis((64, 4), NamedTuple())), bias = ViewAxis(257:320, ShapedAxis((64, 1), NamedTuple())))), layer_2 = ViewAxis(321:2400, Axis(weight = ViewAxis(1:2048, ShapedAxis((32, 64), NamedTuple())), bias = ViewAxis(2049:2080, ShapedAxis((32, 1), NamedTuple())))), layer_3 = ViewAxis(2401:2664, Axis(weight = ViewAxis(1:256, ShapedAxis((8, 32), NamedTuple())), bias = ViewAxis(257:264, ShapedAxis((8, 1), NamedTuple())))), layer_4 = ViewAxis(2665:2700, Axis(weight = ViewAxis(1:32, ShapedAxis((4, 8), NamedTuple())), bias = ViewAxis(33:36, ShapedAxis((4, 1), NamedTuple())))), layer_5 = 2701:2700, layer_6 = ViewAxis(2701:9228, Axis(weight = ViewAxis(1:6464, ShapedAxis((64, 101), NamedTuple())), bias = ViewAxis(6465:6528, ShapedAxis((64, 1), NamedTuple())))), layer_7 = ViewAxis(9229:11308, Axis(weight = ViewAxis(1:2048, ShapedAxis((32, 64), NamedTuple())), bias = ViewAxis(2049:2080, ShapedAxis((32, 1), NamedTuple())))), layer_8 = ViewAxis(11309:11440, Axis(weight = ViewAxis(1:128, ShapedAxis((4, 32), NamedTuple())), bias = ViewAxis(129:132, ShapedAxis((4, 1), NamedTuple())))))}}}, SciMLBase.NullParameters, Nothing, Nothing, Nothing, Nothing, Nothing, Nothing, Base.Pairs{Symbol, Union{}, Tuple{}, NamedTuple{(), Tuple{}}}}, OptimizationFunction{false, Optimization.AutoZygote, OptimizationFunction{true, Optimization.AutoZygote, var\"#39#42\"{var\"#loss#41\"{Matrix{Float64}, var\"#predict#40\"{NeuralODE{Lux.Chain{NamedTuple{(:layer_1, :layer_2, :layer_3, :layer_4, :layer_5, :layer_6, :layer_7, :layer_8), Tuple{Lux.Dense{true, typeof(swish), typeof(Lux.glorot_uniform), typeof(Lux.zeros32)}, Lux.Dense{true, typeof(swish), typeof(Lux.glorot_uniform), typeof(Lux.zeros32)}, Lux.Dense{true, typeof(swish), typeof(Lux.glorot_uniform), typeof(Lux.zeros32)}, Lux.Dense{true, typeof(swish), typeof(Lux.glorot_uniform), typeof(Lux.zeros32)}, WrappedFunction{var\"#36#37\"}, Lux.Dense{true, typeof(swish), typeof(Lux.glorot_uniform), typeof(Lux.zeros32)}, Lux.Dense{true, typeof(swish), typeof(Lux.glorot_uniform), typeof(Lux.zeros32)}, Lux.Dense{true, typeof(identity), typeof(Lux.glorot_uniform), typeof(Lux.zeros32)}}}}, Nothing, Nothing, Tuple{Float64, Float64}, Tuple{Tsit5{typeof(OrdinaryDiffEq.trivial_limiter!), typeof(OrdinaryDiffEq.trivial_limiter!), Static.False}}, Base.Pairs{Symbol, Any, Tuple{Symbol, Symbol, Symbol}, NamedTuple{(:saveat, :abstol, :reltol), Tuple{Vector{Float64}, Float64, Float64}}}}, NamedTuple{(:layer_1, :layer_2, :layer_3, :layer_4, :layer_5, :layer_6, :layer_7, :layer_8), NTuple{8, NamedTuple{(), Tuple{}}}}, Vector{Float64}}}}, Nothing, Nothing, Nothing, Nothing, Nothing, Nothing, Nothing, Nothing, Nothing, Nothing, Nothing, Nothing, Nothing, typeof(SciMLBase.DEFAULT_OBSERVED_NO_TIME), Nothing, Nothing, Nothing, Nothing, Nothing, Nothing, Nothing}, Optimization.var\"#91#100\"{Optimization.var\"#90#99\"{OptimizationFunction{true, Optimization.AutoZygote, var\"#39#42\"{var\"#loss#41\"{Matrix{Float64}, var\"#predict#40\"{NeuralODE{Lux.Chain{NamedTuple{(:layer_1, :layer_2, :layer_3, :layer_4, :layer_5, :layer_6, :layer_7, :layer_8), Tuple{Lux.Dense{true, typeof(swish), typeof(Lux.glorot_uniform), typeof(Lux.zeros32)}, Lux.Dense{true, typeof(swish), typeof(Lux.glorot_uniform), typeof(Lux.zeros32)}, Lux.Dense{true, typeof(swish), typeof(Lux.glorot_uniform), typeof(Lux.zeros32)}, Lux.Dense{true, typeof(swish), typeof(Lux.glorot_uniform), typeof(Lux.zeros32)}, WrappedFunction{var\"#36#37\"}, Lux.Dense{true, typeof(swish), typeof(Lux.glorot_uniform), typeof(Lux.zeros32)}, Lux.Dense{true, typeof(swish), typeof(Lux.glorot_uniform), typeof(Lux.zeros32)}, Lux.Dense{true, typeof(identity), typeof(Lux.glorot_uniform), typeof(Lux.zeros32)}}}}, Nothing, Nothing, Tuple{Float64, Float64}, Tuple{Tsit5{typeof(OrdinaryDiffEq.trivial_limiter!), typeof(OrdinaryDiffEq.trivial_limiter!), Static.False}}, Base.Pairs{Symbol, Any, Tuple{Symbol, Symbol, Symbol}, NamedTuple{(:saveat, :abstol, :reltol), Tuple{Vector{Float64}, Float64, Float64}}}}, NamedTuple{(:layer_1, :layer_2, :layer_3, :layer_4, :layer_5, :layer_6, :layer_7, :layer_8), NTuple{8, NamedTuple{(), Tuple{}}}}, Vector{Float64}}}}, Nothing, Nothing, Nothing, Nothing, Nothing, Nothing, Nothing, Nothing, Nothing, Nothing, Nothing, Nothing, Nothing, typeof(SciMLBase.DEFAULT_OBSERVED_NO_TIME), Nothing, Nothing, Nothing, Nothing, Nothing, Nothing, Nothing}, SciMLBase.NullParameters}}, Optimization.var\"#94#103\"{Optimization.var\"#90#99\"{OptimizationFunction{true, Optimization.AutoZygote, var\"#39#42\"{var\"#loss#41\"{Matrix{Float64}, var\"#predict#40\"{NeuralODE{Lux.Chain{NamedTuple{(:layer_1, :layer_2, :layer_3, :layer_4, :layer_5, :layer_6, :layer_7, :layer_8), Tuple{Lux.Dense{true, typeof(swish), typeof(Lux.glorot_uniform), typeof(Lux.zeros32)}, Lux.Dense{true, typeof(swish), typeof(Lux.glorot_uniform), typeof(Lux.zeros32)}, Lux.Dense{true, typeof(swish), typeof(Lux.glorot_uniform), typeof(Lux.zeros32)}, Lux.Dense{true, typeof(swish), typeof(Lux.glorot_uniform), typeof(Lux.zeros32)}, WrappedFunction{var\"#36#37\"}, Lux.Dense{true, typeof(swish), typeof(Lux.glorot_uniform), typeof(Lux.zeros32)}, Lux.Dense{true, typeof(swish), typeof(Lux.glorot_uniform), typeof(Lux.zeros32)}, Lux.Dense{true, typeof(identity), typeof(Lux.glorot_uniform), typeof(Lux.zeros32)}}}}, Nothing, Nothing, Tuple{Float64, Float64}, Tuple{Tsit5{typeof(OrdinaryDiffEq.trivial_limiter!), typeof(OrdinaryDiffEq.trivial_limiter!), Static.False}}, Base.Pairs{Symbol, Any, Tuple{Symbol, Symbol, Symbol}, NamedTuple{(:saveat, :abstol, :reltol), Tuple{Vector{Float64}, Float64, Float64}}}}, NamedTuple{(:layer_1, :layer_2, :layer_3, :layer_4, :layer_5, :layer_6, :layer_7, :layer_8), NTuple{8, NamedTuple{(), Tuple{}}}}, Vector{Float64}}}}, Nothing, Nothing, Nothing, Nothing, Nothing, Nothing, Nothing, Nothing, Nothing, Nothing, Nothing, Nothing, Nothing, typeof(SciMLBase.DEFAULT_OBSERVED_NO_TIME), Nothing, Nothing, Nothing, Nothing, Nothing, Nothing, Nothing}, SciMLBase.NullParameters}}, Optimization.var\"#98#107\", Nothing, Nothing, Nothing, Nothing, Nothing, Nothing, Nothing, Nothing, Nothing, Nothing, typeof(SciMLBase.DEFAULT_OBSERVED_NO_TIME), Nothing, Nothing, Nothing, Nothing, Nothing, Nothing, Nothing}, ComponentVector{Float32, Vector{Float32}, Tuple{Axis{(layer_1 = ViewAxis(1:320, Axis(weight = ViewAxis(1:256, ShapedAxis((64, 4), NamedTuple())), bias = ViewAxis(257:320, ShapedAxis((64, 1), NamedTuple())))), layer_2 = ViewAxis(321:2400, Axis(weight = ViewAxis(1:2048, ShapedAxis((32, 64), NamedTuple())), bias = ViewAxis(2049:2080, ShapedAxis((32, 1), NamedTuple())))), layer_3 = ViewAxis(2401:2664, Axis(weight = ViewAxis(1:256, ShapedAxis((8, 32), NamedTuple())), bias = ViewAxis(257:264, ShapedAxis((8, 1), NamedTuple())))), layer_4 = ViewAxis(2665:2700, Axis(weight = ViewAxis(1:32, ShapedAxis((4, 8), NamedTuple())), bias = ViewAxis(33:36, ShapedAxis((4, 1), NamedTuple())))), layer_5 = 2701:2700, layer_6 = ViewAxis(2701:9228, Axis(weight = ViewAxis(1:6464, ShapedAxis((64, 101), NamedTuple())), bias = ViewAxis(6465:6528, ShapedAxis((64, 1), NamedTuple())))), layer_7 = ViewAxis(9229:11308, Axis(weight = ViewAxis(1:2048, ShapedAxis((32, 64), NamedTuple())), bias = ViewAxis(2049:2080, ShapedAxis((32, 1), NamedTuple())))), layer_8 = ViewAxis(11309:11440, Axis(weight = ViewAxis(1:128, ShapedAxis((4, 32), NamedTuple())), bias = ViewAxis(129:132, ShapedAxis((4, 1), NamedTuple())))))}}}}, logger::LoggingExtras.TeeLogger{Tuple{LoggingExtras.EarlyFilteredLogger{ConsoleProgressMonitor.ProgressLogger, Optimization.var\"#1#3\"}, LoggingExtras.EarlyFilteredLogger{Base.CoreLogging.SimpleLogger, Optimization.var\"#2#4\"}}})\n",
      "    @ Optimization C:\\Users\\SpOoKyJaRvIs\\.julia\\packages\\Optimization\\aPPOg\\src\\utils.jl:12\n",
      " [79] macro expansion\n",
      "    @ C:\\Users\\SpOoKyJaRvIs\\.julia\\packages\\Optimization\\aPPOg\\src\\utils.jl:33 [inlined]\n",
      " [80] __solve(prob::OptimizationProblem{true, OptimizationFunction{true, Optimization.AutoZygote, var\"#39#42\"{var\"#loss#41\"{Matrix{Float64}, var\"#predict#40\"{NeuralODE{Lux.Chain{NamedTuple{(:layer_1, :layer_2, :layer_3, :layer_4, :layer_5, :layer_6, :layer_7, :layer_8), Tuple{Lux.Dense{true, typeof(swish), typeof(Lux.glorot_uniform), typeof(Lux.zeros32)}, Lux.Dense{true, typeof(swish), typeof(Lux.glorot_uniform), typeof(Lux.zeros32)}, Lux.Dense{true, typeof(swish), typeof(Lux.glorot_uniform), typeof(Lux.zeros32)}, Lux.Dense{true, typeof(swish), typeof(Lux.glorot_uniform), typeof(Lux.zeros32)}, WrappedFunction{var\"#36#37\"}, Lux.Dense{true, typeof(swish), typeof(Lux.glorot_uniform), typeof(Lux.zeros32)}, Lux.Dense{true, typeof(swish), typeof(Lux.glorot_uniform), typeof(Lux.zeros32)}, Lux.Dense{true, typeof(identity), typeof(Lux.glorot_uniform), typeof(Lux.zeros32)}}}}, Nothing, Nothing, Tuple{Float64, Float64}, Tuple{Tsit5{typeof(OrdinaryDiffEq.trivial_limiter!), typeof(OrdinaryDiffEq.trivial_limiter!), Static.False}}, Base.Pairs{Symbol, Any, Tuple{Symbol, Symbol, Symbol}, NamedTuple{(:saveat, :abstol, :reltol), Tuple{Vector{Float64}, Float64, Float64}}}}, NamedTuple{(:layer_1, :layer_2, :layer_3, :layer_4, :layer_5, :layer_6, :layer_7, :layer_8), NTuple{8, NamedTuple{(), Tuple{}}}}, Vector{Float64}}}}, Nothing, Nothing, Nothing, Nothing, Nothing, Nothing, Nothing, Nothing, Nothing, Nothing, Nothing, Nothing, Nothing, typeof(SciMLBase.DEFAULT_OBSERVED_NO_TIME), Nothing, Nothing, Nothing, Nothing, Nothing, Nothing, Nothing}, ComponentVector{Float32, Vector{Float32}, Tuple{Axis{(layer_1 = ViewAxis(1:320, Axis(weight = ViewAxis(1:256, ShapedAxis((64, 4), NamedTuple())), bias = ViewAxis(257:320, ShapedAxis((64, 1), NamedTuple())))), layer_2 = ViewAxis(321:2400, Axis(weight = ViewAxis(1:2048, ShapedAxis((32, 64), NamedTuple())), bias = ViewAxis(2049:2080, ShapedAxis((32, 1), NamedTuple())))), layer_3 = ViewAxis(2401:2664, Axis(weight = ViewAxis(1:256, ShapedAxis((8, 32), NamedTuple())), bias = ViewAxis(257:264, ShapedAxis((8, 1), NamedTuple())))), layer_4 = ViewAxis(2665:2700, Axis(weight = ViewAxis(1:32, ShapedAxis((4, 8), NamedTuple())), bias = ViewAxis(33:36, ShapedAxis((4, 1), NamedTuple())))), layer_5 = 2701:2700, layer_6 = ViewAxis(2701:9228, Axis(weight = ViewAxis(1:6464, ShapedAxis((64, 101), NamedTuple())), bias = ViewAxis(6465:6528, ShapedAxis((64, 1), NamedTuple())))), layer_7 = ViewAxis(9229:11308, Axis(weight = ViewAxis(1:2048, ShapedAxis((32, 64), NamedTuple())), bias = ViewAxis(2049:2080, ShapedAxis((32, 1), NamedTuple())))), layer_8 = ViewAxis(11309:11440, Axis(weight = ViewAxis(1:128, ShapedAxis((4, 32), NamedTuple())), bias = ViewAxis(129:132, ShapedAxis((4, 1), NamedTuple())))))}}}, SciMLBase.NullParameters, Nothing, Nothing, Nothing, Nothing, Nothing, Nothing, Base.Pairs{Symbol, Union{}, Tuple{}, NamedTuple{(), Tuple{}}}}, opt::Flux.Optimise.Optimiser, data::Base.Iterators.Cycle{Tuple{Optimization.NullData}}; maxiters::Int64, callback::Function, progress::Bool, save_best::Bool, kwargs::Base.Pairs{Symbol, Union{}, Tuple{}, NamedTuple{(), Tuple{}}})\n",
      "    @ OptimizationFlux C:\\Users\\SpOoKyJaRvIs\\.julia\\packages\\OptimizationFlux\\zHcx5\\src\\OptimizationFlux.jl:31\n",
      " [81] __solve (repeats 2 times)\n",
      "    @ C:\\Users\\SpOoKyJaRvIs\\.julia\\packages\\OptimizationFlux\\zHcx5\\src\\OptimizationFlux.jl:7 [inlined]\n",
      " [82] #solve#595\n",
      "    @ C:\\Users\\SpOoKyJaRvIs\\.julia\\packages\\SciMLBase\\l4PVV\\src\\solve.jl:86 [inlined]\n",
      " [83] solve\n",
      "    @ C:\\Users\\SpOoKyJaRvIs\\.julia\\packages\\SciMLBase\\l4PVV\\src\\solve.jl:80 [inlined]\n",
      " [84] #train_one_round#38\n",
      "    @ c:\\Users\\SpOoKyJaRvIs\\Desktop\\CSO211 project\\neural-ode-weather-forecast\\scripts\\Untitled(1).ipynb:8 [inlined]\n",
      " [85] train_one_round\n",
      "    @ c:\\Users\\SpOoKyJaRvIs\\Desktop\\CSO211 project\\neural-ode-weather-forecast\\scripts\\Untitled(1).ipynb:1 [inlined]\n",
      " [86] train(t::Vector{Float64}, y::Matrix{Float64}, obs_grid::StepRange{Int64, Int64}, maxiters::Int64, lr::Float64, rng::MersenneTwister, θ::Nothing, state::Nothing; kwargs::Base.Pairs{Symbol, Bool, Tuple{Symbol}, NamedTuple{(:progress,), Tuple{Bool}}})\n",
      "    @ Main c:\\Users\\SpOoKyJaRvIs\\Desktop\\CSO211 project\\neural-ode-weather-forecast\\scripts\\Untitled(1).ipynb:15\n",
      " [87] train\n",
      "    @ c:\\Users\\SpOoKyJaRvIs\\Desktop\\CSO211 project\\neural-ode-weather-forecast\\scripts\\Untitled(1).ipynb:1 [inlined]"
     ]
    }
   ],
   "source": [
    "obs_grid = 4:4:length(t_train) # we train on an increasing amount of the first k obs\n",
    "maxiters = 150\n",
    "lr = 5e-3\n",
    "θs, state, losses, final_loss = train(t_train, y_train, obs_grid, maxiters, lr, rng, progress=true);\n",
    "@save \"artefacts/training_output.bson\" θs losses\n",
    "\n",
    "predict(y0, t, θ, state) = begin\n",
    "    node, _, _ = neural_ode(t, length(y0))\n",
    "    ŷ = Array(node(y0, θ, state)[1])\n",
    "end\n"
   ]
  },
  {
   "cell_type": "code",
   "execution_count": null,
   "id": "a34568d3",
   "metadata": {},
   "outputs": [],
   "source": [
    "function plot_pred(\n",
    "    t_train, y_train, t_grid,\n",
    "    rescale_t, rescale_y, num_iters, θ, state, loss, y0=y_train[:, 1]\n",
    ")\n",
    "    ŷ = predict(y0, t_grid, θ, state)\n",
    "    plt = plot_result(\n",
    "        rescale_t(t_train),\n",
    "        rescale_y(y_train),\n",
    "        rescale_t(t_grid),\n",
    "        rescale_y(ŷ),\n",
    "        loss,\n",
    "        num_iters\n",
    "    )\n",
    "end\n",
    "\n",
    "@info \"Generating training animation...\"\n",
    "num_iters = length(losses)\n",
    "t_train_grid = collect(range(extrema(t_train)..., length=500))\n",
    "rescale_t(x) = t_scale .* x .+ t_mean\n",
    "rescale_y(x) = y_scale .* x .+ y_mean\n",
    "plot_frame(t, y, θ, loss) = plot_pred(\n",
    "    t, y, t_train_grid, rescale_t, rescale_y, num_iters, θ, state, loss\n",
    ")\n",
    "anim = animate_training(plot_frame, t_train, y_train, θs, losses, obs_grid);\n",
    "gif(anim, \"plots/training.gif\")\n",
    "\n",
    "@info \"Generating extrapolation plot...\"\n",
    "t_grid = collect(range(minimum(t_train), maximum(t_test), length=500))\n",
    "ŷ = predict(y_train[:,1], t_grid, θs[end], state)\n",
    "plt_ext = plot_extrapolation(\n",
    "    rescale_t(t_train),\n",
    "    rescale_y(y_train),\n",
    "    rescale_t(t_test),\n",
    "    rescale_y(y_test),\n",
    "    rescale_t(t_grid),\n",
    "    rescale_y(ŷ)\n",
    ");\n",
    "savefig(plt_ext, \"plots/extrapolation.svg\")\n",
    "\n",
    "@info \"Done!\""
   ]
  },
  {
   "cell_type": "code",
   "execution_count": 39,
   "id": "aecc358a",
   "metadata": {
    "scrolled": true
   },
   "outputs": [
    {
     "data": {
      "text/plain": [
       "4×32 Matrix{Float64}:\n",
       " -1.76393   -1.27949   -0.402438  …   1.04491    0.941615   0.771903\n",
       "  0.742803   0.684748  -0.402974     -1.19029   -0.208203   0.255818\n",
       " -1.25499   -0.128618   0.5276        0.756043   0.578286   0.167118\n",
       "  1.35756    1.09118    0.605143     -0.995991  -1.15124   -0.920002"
      ]
     },
     "execution_count": 39,
     "metadata": {},
     "output_type": "execute_result"
    }
   ],
   "source": [
    "ŷ = predict(y_train[:,1], t_test, θs[end], state)"
   ]
  },
  {
   "cell_type": "code",
   "execution_count": 47,
   "id": "481827fd",
   "metadata": {},
   "outputs": [
    {
     "data": {
      "text/plain": [
       "mean_squared_error (generic function with 1 method)"
      ]
     },
     "execution_count": 47,
     "metadata": {},
     "output_type": "execute_result"
    }
   ],
   "source": [
    "function mean_squared_error(ŷ, y_test)\n",
    "    diff = ŷ - y_test\n",
    "    mse = sum(diff .^ 2) / length(diff)\n",
    "    return mse\n",
    "end"
   ]
  },
  {
   "cell_type": "code",
   "execution_count": 48,
   "id": "7bca90c8",
   "metadata": {},
   "outputs": [
    {
     "data": {
      "text/plain": [
       "10.004079464243285"
      ]
     },
     "execution_count": 48,
     "metadata": {},
     "output_type": "execute_result"
    }
   ],
   "source": [
    "mean_squared_error(ŷ, y_test)"
   ]
  },
  {
   "cell_type": "code",
   "execution_count": null,
   "id": "cdadfa9b",
   "metadata": {},
   "outputs": [],
   "source": []
  }
 ],
 "metadata": {
  "kernelspec": {
   "display_name": "Julia 1.9.3",
   "language": "julia",
   "name": "julia-1.9"
  },
  "language_info": {
   "file_extension": ".jl",
   "mimetype": "application/julia",
   "name": "julia",
   "version": "1.9.3"
  }
 },
 "nbformat": 4,
 "nbformat_minor": 5
}
